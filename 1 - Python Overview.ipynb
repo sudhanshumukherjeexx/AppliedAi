{
 "cells": [
  {
   "cell_type": "markdown",
   "id": "760412e5",
   "metadata": {},
   "source": [
    "# Python Keywords"
   ]
  },
  {
   "cell_type": "markdown",
   "id": "9c243334",
   "metadata": {},
   "source": [
    "Keywords are the reserved words in python\n",
    "\n",
    "We can't use a keyword as variable name, function name or any other identifier\n",
    "\n",
    "Keywords are case sentive"
   ]
  },
  {
   "cell_type": "code",
   "execution_count": 5,
   "id": "ffdcdba9",
   "metadata": {},
   "outputs": [
    {
     "name": "stdout",
     "output_type": "stream",
     "text": [
      "['False', 'None', 'True', '__peg_parser__', 'and', 'as', 'assert', 'async', 'await', 'break', 'class', 'continue', 'def', 'del', 'elif', 'else', 'except', 'finally', 'for', 'from', 'global', 'if', 'import', 'in', 'is', 'lambda', 'nonlocal', 'not', 'or', 'pass', 'raise', 'return', 'try', 'while', 'with', 'yield']\n",
      "\n",
      "Total number of keyword : 36\n"
     ]
    }
   ],
   "source": [
    "#get all the keywords\n",
    "\n",
    "import keyword\n",
    "\n",
    "print(keyword.kwlist)\n",
    "\n",
    "print(\"\\nTotal number of keyword :\", len(keyword.kwlist))"
   ]
  },
  {
   "cell_type": "markdown",
   "id": "f8dd4cf6",
   "metadata": {},
   "source": [
    "# Identifiers"
   ]
  },
  {
   "cell_type": "markdown",
   "id": "826ac852",
   "metadata": {},
   "source": [
    "Identifier is the name given to entities like class, functions, variables etc. in Python. It helps differentiating one entity from another.\n",
    "\n",
    "Rules for Writing Identifiers:\n",
    "\n",
    "1. Identifiers can be a combination of letters in lowercase (a to z) or uppercase (A to Z) or digits (0 to 9) or an underscore (_).\n",
    "\n",
    "2. An identifier cannot start with a digit. 1variable is invalid, but variable1 is perfectly fine.\n",
    "\n",
    "3. Keywords cannot be used as identifiers."
   ]
  },
  {
   "cell_type": "code",
   "execution_count": 6,
   "id": "61e0aa8e",
   "metadata": {},
   "outputs": [
    {
     "ename": "SyntaxError",
     "evalue": "invalid syntax (Temp/ipykernel_19608/1908464387.py, line 1)",
     "output_type": "error",
     "traceback": [
      "\u001b[1;36m  File \u001b[1;32m\"C:\\Users\\Asus\\AppData\\Local\\Temp/ipykernel_19608/1908464387.py\"\u001b[1;36m, line \u001b[1;32m1\u001b[0m\n\u001b[1;33m    global = 1\u001b[0m\n\u001b[1;37m           ^\u001b[0m\n\u001b[1;31mSyntaxError\u001b[0m\u001b[1;31m:\u001b[0m invalid syntax\n"
     ]
    }
   ],
   "source": [
    "global = 1"
   ]
  },
  {
   "cell_type": "code",
   "execution_count": 10,
   "id": "e88d8308",
   "metadata": {},
   "outputs": [
    {
     "name": "stdout",
     "output_type": "stream",
     "text": [
      "2\n"
     ]
    }
   ],
   "source": [
    "abc10 = 2\n",
    "print(abc10)"
   ]
  },
  {
   "cell_type": "code",
   "execution_count": 11,
   "id": "b7482f53",
   "metadata": {},
   "outputs": [
    {
     "ename": "SyntaxError",
     "evalue": "invalid syntax (Temp/ipykernel_19608/1326364490.py, line 1)",
     "output_type": "error",
     "traceback": [
      "\u001b[1;36m  File \u001b[1;32m\"C:\\Users\\Asus\\AppData\\Local\\Temp/ipykernel_19608/1326364490.py\"\u001b[1;36m, line \u001b[1;32m1\u001b[0m\n\u001b[1;33m    10abc = 5\u001b[0m\n\u001b[1;37m      ^\u001b[0m\n\u001b[1;31mSyntaxError\u001b[0m\u001b[1;31m:\u001b[0m invalid syntax\n"
     ]
    }
   ],
   "source": [
    "10abc = 5\n",
    "print(10abc)"
   ]
  },
  {
   "cell_type": "markdown",
   "id": "ccd16739",
   "metadata": {},
   "source": [
    "# Python Comments"
   ]
  },
  {
   "cell_type": "markdown",
   "id": "88156c7e",
   "metadata": {},
   "source": [
    "Comments are lines that exist in computer programs that are ignored by compilers and interpreters.\n",
    "\n",
    "Including comments in programs makes code more readable for humans as it provides some information or explanation about what each part of a program is doing.\n",
    "\n",
    "In general, it is a good idea to write comments while you are writing or updating a program as it is easy to forget your thought process later on, and comments written later may be less useful in the long term."
   ]
  },
  {
   "cell_type": "code",
   "execution_count": 12,
   "id": "48301d53",
   "metadata": {},
   "outputs": [
    {
     "name": "stdout",
     "output_type": "stream",
     "text": [
      "Hello World\n"
     ]
    }
   ],
   "source": [
    "#print hello world to the console\n",
    "\n",
    "print(\"Hello World\")"
   ]
  },
  {
   "cell_type": "code",
   "execution_count": 13,
   "id": "a5a2b35c",
   "metadata": {},
   "outputs": [],
   "source": [
    "#Multi Line Comments\n",
    "\n",
    "#This is \n",
    "#an example of\n",
    "#Multi Line Comments"
   ]
  },
  {
   "cell_type": "code",
   "execution_count": 14,
   "id": "e8e50b2c",
   "metadata": {},
   "outputs": [
    {
     "data": {
      "text/plain": [
       "'This is a example of Triple quote comments but this is generally called\\ndocstring'"
      ]
     },
     "execution_count": 14,
     "metadata": {},
     "output_type": "execute_result"
    }
   ],
   "source": [
    "#Triple Quotes\n",
    "\n",
    "\"\"\"This is a example of Triple quote comments but this is generally called\n",
    "docstring\"\"\""
   ]
  },
  {
   "cell_type": "markdown",
   "id": "7e347e8b",
   "metadata": {},
   "source": [
    "# DocString in python"
   ]
  },
  {
   "cell_type": "markdown",
   "id": "ca006bf8",
   "metadata": {},
   "source": [
    "Docstring is short for documentation string.\n",
    "\n",
    "It is a string that occurs as the first statement in a module, function, class, or method definition."
   ]
  },
  {
   "cell_type": "code",
   "execution_count": 15,
   "id": "a5b191b2",
   "metadata": {},
   "outputs": [
    {
     "name": "stdout",
     "output_type": "stream",
     "text": [
      "8\n"
     ]
    }
   ],
   "source": [
    "def double(num):\n",
    "    \"\"\"Function to double the number\"\"\"\n",
    "    return 2 * num\n",
    "\n",
    "print(double(4))"
   ]
  },
  {
   "cell_type": "code",
   "execution_count": 17,
   "id": "09e038b0",
   "metadata": {},
   "outputs": [
    {
     "name": "stdout",
     "output_type": "stream",
     "text": [
      "Function to double the number\n"
     ]
    }
   ],
   "source": [
    "#You can access the docstring of a function by using an __doc__ attribute\n",
    "\n",
    "print(double.__doc__)"
   ]
  },
  {
   "cell_type": "markdown",
   "id": "ea82f805",
   "metadata": {},
   "source": [
    "# Python Indentation"
   ]
  },
  {
   "cell_type": "markdown",
   "id": "1a0e4be0",
   "metadata": {},
   "source": [
    "1. Most of the programming languages like C, C++, Java use braces { } to define a block of code. Python uses indentation.\n",
    "\n",
    "2. A code block (body of a function, loop etc.) starts with indentation and ends with the first unindented line. The amount of indentation is up to you, but it must be consistent throughout that block.\n",
    "\n",
    "3. Generally four whitespaces are used for indentation and is preferred over tabs."
   ]
  },
  {
   "cell_type": "code",
   "execution_count": 19,
   "id": "324d4aaa",
   "metadata": {},
   "outputs": [
    {
     "name": "stdout",
     "output_type": "stream",
     "text": [
      "0\n",
      "1\n",
      "2\n",
      "3\n",
      "4\n",
      "5\n",
      "6\n",
      "7\n",
      "8\n",
      "9\n"
     ]
    }
   ],
   "source": [
    "for i in range(10):\n",
    "    print(i)"
   ]
  },
  {
   "cell_type": "markdown",
   "id": "4d61ddf6",
   "metadata": {},
   "source": [
    "Indentation can be ignored in line continuation. But it's a good idea to always indent. It makes the code more readable."
   ]
  },
  {
   "cell_type": "code",
   "execution_count": 22,
   "id": "f258ddc1",
   "metadata": {},
   "outputs": [
    {
     "name": "stdout",
     "output_type": "stream",
     "text": [
      "Machine Learning\n"
     ]
    }
   ],
   "source": [
    "if True:\n",
    "    print(\"Machine Learning\")\n",
    "    c = \"AAIC\""
   ]
  },
  {
   "cell_type": "code",
   "execution_count": 23,
   "id": "e58f5a9e",
   "metadata": {},
   "outputs": [
    {
     "name": "stdout",
     "output_type": "stream",
     "text": [
      "Machine learning\n"
     ]
    }
   ],
   "source": [
    "if True: print(\"Machine learning\"); c = \"AAIC\""
   ]
  },
  {
   "cell_type": "markdown",
   "id": "89dac5bf",
   "metadata": {},
   "source": [
    "# Python Statement"
   ]
  },
  {
   "cell_type": "markdown",
   "id": "743130d8",
   "metadata": {},
   "source": [
    "Instructions that a python interpreter can execute are called statements.\n",
    "\n",
    "Examples:"
   ]
  },
  {
   "cell_type": "code",
   "execution_count": 24,
   "id": "3e70cb78",
   "metadata": {},
   "outputs": [],
   "source": [
    "a = 1 #Single Statement"
   ]
  },
  {
   "cell_type": "markdown",
   "id": "5d70179c",
   "metadata": {},
   "source": [
    "In Python, end of a statement is marked by a newline character. But we can make a statement extend over multiple lines with the line continuation character __\\__."
   ]
  },
  {
   "cell_type": "code",
   "execution_count": 25,
   "id": "dc272e12",
   "metadata": {},
   "outputs": [
    {
     "name": "stdout",
     "output_type": "stream",
     "text": [
      "21\n"
     ]
    }
   ],
   "source": [
    "a = 1 + 2 + 3 + \\\n",
    "    4 + 5 + \\\n",
    "    6\n",
    "\n",
    "print(a)"
   ]
  },
  {
   "cell_type": "code",
   "execution_count": 26,
   "id": "8d9198e1",
   "metadata": {},
   "outputs": [
    {
     "name": "stdout",
     "output_type": "stream",
     "text": [
      "28\n"
     ]
    }
   ],
   "source": [
    "#another way is\n",
    "\n",
    "a = ( 1 + 2 + 3 + 4\n",
    "     + 5 + 6 + 7)\n",
    "print(a)"
   ]
  },
  {
   "cell_type": "code",
   "execution_count": 27,
   "id": "3ea62b78",
   "metadata": {},
   "outputs": [],
   "source": [
    "# Put Multiple statements in a single line using ;\n",
    "a = 10; b = 20 ; c = 30"
   ]
  },
  {
   "cell_type": "markdown",
   "id": "a34452d9",
   "metadata": {},
   "source": [
    "# Variables"
   ]
  },
  {
   "cell_type": "markdown",
   "id": "170975f7",
   "metadata": {},
   "source": [
    "A variable is a location in memory used to store some data (value).\n",
    "\n",
    "They are given unique names to differentiate between different memory locations. The rules for writing a variable name is same as the rules for writing identifiers in Python.\n",
    "\n",
    "We don't need to declare a variable before using it. In Python, we simply assign a value to a variable and it will exist. We don't even have to declare the type of the variable. This is handled internally according to the type of value we assign to the variable."
   ]
  },
  {
   "cell_type": "code",
   "execution_count": 29,
   "id": "b165bca0",
   "metadata": {},
   "outputs": [
    {
     "name": "stdout",
     "output_type": "stream",
     "text": [
      "10 5.5 Machine Learning\n"
     ]
    }
   ],
   "source": [
    "# We use the assignment operator (=) to assign values to variable\n",
    "\n",
    "a = 10\n",
    "b = 5.5\n",
    "c = \"Machine Learning\"\n",
    "\n",
    "print(a,b,c)"
   ]
  },
  {
   "cell_type": "code",
   "execution_count": 30,
   "id": "c5cb0ab7",
   "metadata": {},
   "outputs": [
    {
     "name": "stdout",
     "output_type": "stream",
     "text": [
      "1718688704880\n"
     ]
    }
   ],
   "source": [
    "#Multiple Assignments\n",
    "\n",
    "x = 3\n",
    "print(id(x))\n"
   ]
  },
  {
   "cell_type": "code",
   "execution_count": 31,
   "id": "f6e98106",
   "metadata": {},
   "outputs": [
    {
     "name": "stdout",
     "output_type": "stream",
     "text": [
      "1718688704880\n"
     ]
    }
   ],
   "source": [
    "y = 3\n",
    "print(id(y))"
   ]
  },
  {
   "cell_type": "code",
   "execution_count": 32,
   "id": "73140068",
   "metadata": {},
   "outputs": [],
   "source": [
    "#Observation : x and y point same memory location"
   ]
  },
  {
   "cell_type": "code",
   "execution_count": 33,
   "id": "80423230",
   "metadata": {},
   "outputs": [
    {
     "name": "stdout",
     "output_type": "stream",
     "text": [
      "1718688704848\n"
     ]
    }
   ],
   "source": [
    "y = 2\n",
    "print(id(y))"
   ]
  },
  {
   "cell_type": "markdown",
   "id": "0873cabf",
   "metadata": {},
   "source": [
    "# Data Types"
   ]
  },
  {
   "cell_type": "markdown",
   "id": "29044da6",
   "metadata": {},
   "source": [
    "Every value in Python has a datatype. Since everything is an object in Python programming, data types are actually classes and variables are instance (object) of these classes."
   ]
  },
  {
   "cell_type": "markdown",
   "id": "4546928f",
   "metadata": {},
   "source": [
    "# Numbers"
   ]
  },
  {
   "cell_type": "markdown",
   "id": "93172b91",
   "metadata": {},
   "source": [
    "Integers, floating point numbers and complex numbers falls under Python numbers category. They are defined as int, float and complex class in Python.\n",
    "\n",
    "We can use the type() function to know which class a variable or a value belongs to and the isinstance() function to check if an object belongs to a particular class."
   ]
  },
  {
   "cell_type": "code",
   "execution_count": 34,
   "id": "5058c290",
   "metadata": {},
   "outputs": [
    {
     "name": "stdout",
     "output_type": "stream",
     "text": [
      "10  is of type :  <class 'int'>\n",
      "5.5  is of type :  <class 'float'>\n",
      "(1+2j)  is of type :  <class 'complex'>\n"
     ]
    }
   ],
   "source": [
    "a = 10\n",
    "print( a, \" is of type : \", type(a))\n",
    "\n",
    "b = 5.5\n",
    "print(b, \" is of type : \", type(b))\n",
    "\n",
    "c = 1 + 2j\n",
    "print(c, \" is of type : \", type(c))"
   ]
  },
  {
   "cell_type": "markdown",
   "id": "6c6c4498",
   "metadata": {},
   "source": [
    "# Boolean"
   ]
  },
  {
   "cell_type": "markdown",
   "id": "83697bf5",
   "metadata": {},
   "source": [
    "Boolean represents the truth values False and True"
   ]
  },
  {
   "cell_type": "code",
   "execution_count": 35,
   "id": "298974e4",
   "metadata": {},
   "outputs": [
    {
     "name": "stdout",
     "output_type": "stream",
     "text": [
      "<class 'bool'>\n"
     ]
    }
   ],
   "source": [
    "a = True\n",
    "print(type(a))"
   ]
  },
  {
   "cell_type": "markdown",
   "id": "16fa541f",
   "metadata": {},
   "source": [
    "# Python Strings"
   ]
  },
  {
   "cell_type": "markdown",
   "id": "d37acc28",
   "metadata": {},
   "source": [
    "String is sequence of Unicode characters. \n",
    "\n",
    "We can use single quotes or double quotes to represent strings. \n",
    "\n",
    "Multi-line strings can be denoted using triple quotes, ''' or \"\"\"."
   ]
  },
  {
   "cell_type": "markdown",
   "id": "c9cfd7a7",
   "metadata": {},
   "source": [
    "A string in Python consists of a series or sequence of characters - letters, numbers, and special characters.\n",
    "\n",
    "Strings can be indexed - often synonymously called subscripted as well.\n",
    "\n",
    "Similar to C, the first character of a string has the index 0."
   ]
  },
  {
   "cell_type": "code",
   "execution_count": 36,
   "id": "2182d254",
   "metadata": {},
   "outputs": [
    {
     "name": "stdout",
     "output_type": "stream",
     "text": [
      "This is an online course\n"
     ]
    }
   ],
   "source": [
    "s = \"This is an online course\"\n",
    "print(s)"
   ]
  },
  {
   "cell_type": "code",
   "execution_count": 40,
   "id": "f9589a4c",
   "metadata": {},
   "outputs": [
    {
     "name": "stdout",
     "output_type": "stream",
     "text": [
      "T\n",
      "e\n"
     ]
    }
   ],
   "source": [
    "#first character\n",
    "print(s[0])\n",
    "\n",
    "#last character\n",
    "print(s[len(s)-1])"
   ]
  },
  {
   "cell_type": "code",
   "execution_count": 41,
   "id": "f517a0d5",
   "metadata": {},
   "outputs": [
    {
     "name": "stdout",
     "output_type": "stream",
     "text": [
      "e\n"
     ]
    }
   ],
   "source": [
    "#last character\n",
    "print(s[-1])"
   ]
  },
  {
   "cell_type": "code",
   "execution_count": 43,
   "id": "00adaa3a",
   "metadata": {},
   "outputs": [
    {
     "name": "stdout",
     "output_type": "stream",
     "text": [
      "s is an online course\n"
     ]
    }
   ],
   "source": [
    "#Slicing\n",
    "\n",
    "print(s[3:])"
   ]
  },
  {
   "cell_type": "code",
   "execution_count": 45,
   "id": "00140606",
   "metadata": {},
   "outputs": [
    {
     "name": "stdout",
     "output_type": "stream",
     "text": [
      "Thi\n"
     ]
    }
   ],
   "source": [
    "print(s[0:3])"
   ]
  },
  {
   "cell_type": "markdown",
   "id": "82a99ed8",
   "metadata": {},
   "source": [
    "# Python List"
   ]
  },
  {
   "cell_type": "markdown",
   "id": "4bc91f52",
   "metadata": {},
   "source": [
    "List is an ordered sequence of items. It is one of the most used datatype in Python and is very flexible. All the items in a list do not need to be of the same type.\n",
    "\n",
    "Declaring a list is , Items separated by commas are enclosed within brackets [ ]."
   ]
  },
  {
   "cell_type": "code",
   "execution_count": 46,
   "id": "f0e20be8",
   "metadata": {},
   "outputs": [
    {
     "name": "stdout",
     "output_type": "stream",
     "text": [
      "20\n",
      "30\n"
     ]
    }
   ],
   "source": [
    "a = [10,20,30,\"Hello\"]\n",
    "\n",
    "print(a[1])\n",
    "print(a[2])"
   ]
  },
  {
   "cell_type": "markdown",
   "id": "537d9a93",
   "metadata": {},
   "source": [
    "Lists are mutable, meaning, value of elements of a list can be altered."
   ]
  },
  {
   "cell_type": "code",
   "execution_count": 47,
   "id": "6320a1cd",
   "metadata": {},
   "outputs": [
    {
     "name": "stdout",
     "output_type": "stream",
     "text": [
      "[10, 'HI', 30, 'Hello']\n"
     ]
    }
   ],
   "source": [
    "a[1] = \"HI\"\n",
    "print(a)"
   ]
  },
  {
   "cell_type": "markdown",
   "id": "21c1335c",
   "metadata": {},
   "source": [
    "# Python Tuple"
   ]
  },
  {
   "cell_type": "markdown",
   "id": "9db24156",
   "metadata": {},
   "source": [
    "Tuple is an ordered sequence of items same as list.The only difference is that tuples are immutable. Tuples once created cannot be modified."
   ]
  },
  {
   "cell_type": "code",
   "execution_count": 49,
   "id": "422e65f9",
   "metadata": {},
   "outputs": [
    {
     "name": "stdout",
     "output_type": "stream",
     "text": [
      "(1, 2, 3, 4)\n",
      "2\n"
     ]
    }
   ],
   "source": [
    "t = (1,2,3,4)\n",
    "print(t)\n",
    "print(t[1])"
   ]
  },
  {
   "cell_type": "code",
   "execution_count": 50,
   "id": "8576ffac",
   "metadata": {},
   "outputs": [
    {
     "ename": "TypeError",
     "evalue": "'tuple' object does not support item assignment",
     "output_type": "error",
     "traceback": [
      "\u001b[1;31m---------------------------------------------------------------------------\u001b[0m",
      "\u001b[1;31mTypeError\u001b[0m                                 Traceback (most recent call last)",
      "\u001b[1;32m~\\AppData\\Local\\Temp/ipykernel_19608/2061841727.py\u001b[0m in \u001b[0;36m<module>\u001b[1;34m\u001b[0m\n\u001b[1;32m----> 1\u001b[1;33m \u001b[0mt\u001b[0m\u001b[1;33m[\u001b[0m\u001b[1;36m1\u001b[0m\u001b[1;33m]\u001b[0m \u001b[1;33m=\u001b[0m \u001b[1;36m5\u001b[0m\u001b[1;33m\u001b[0m\u001b[1;33m\u001b[0m\u001b[0m\n\u001b[0m\u001b[0;32m      2\u001b[0m \u001b[0mprint\u001b[0m\u001b[1;33m(\u001b[0m\u001b[0mt\u001b[0m\u001b[1;33m)\u001b[0m\u001b[1;33m\u001b[0m\u001b[1;33m\u001b[0m\u001b[0m\n",
      "\u001b[1;31mTypeError\u001b[0m: 'tuple' object does not support item assignment"
     ]
    }
   ],
   "source": [
    "t[1] = 5\n",
    "print(t)"
   ]
  },
  {
   "cell_type": "markdown",
   "id": "00d40564",
   "metadata": {},
   "source": [
    "# Python Set"
   ]
  },
  {
   "cell_type": "markdown",
   "id": "e52e38ee",
   "metadata": {},
   "source": [
    "Set is an unordered collection of unique items. Set is defined by values separated by comma inside braces { }. Items in a set are not ordered."
   ]
  },
  {
   "cell_type": "code",
   "execution_count": 51,
   "id": "01a0bfda",
   "metadata": {},
   "outputs": [
    {
     "name": "stdout",
     "output_type": "stream",
     "text": [
      "{50, 20, 40, 10, 30}\n"
     ]
    }
   ],
   "source": [
    "a = {10,20,30,50,40}\n",
    "print(a)"
   ]
  },
  {
   "cell_type": "code",
   "execution_count": 52,
   "id": "a5fdcf4e",
   "metadata": {},
   "outputs": [
    {
     "name": "stdout",
     "output_type": "stream",
     "text": [
      "<class 'set'>\n"
     ]
    }
   ],
   "source": [
    "print(type(a))"
   ]
  },
  {
   "cell_type": "markdown",
   "id": "733c8f4d",
   "metadata": {},
   "source": [
    "We can perform set operations like union, intersection on two sets. Set have unique values."
   ]
  },
  {
   "cell_type": "code",
   "execution_count": 53,
   "id": "67242f57",
   "metadata": {},
   "outputs": [
    {
     "name": "stdout",
     "output_type": "stream",
     "text": [
      "{40, 10, 20, 30}\n"
     ]
    }
   ],
   "source": [
    "b = {10,10,20,20,30,40}\n",
    "print(b)"
   ]
  },
  {
   "cell_type": "markdown",
   "id": "a2a858d8",
   "metadata": {},
   "source": [
    "We cannot print particular element in a set as it is an unordered collection of elements.\n"
   ]
  },
  {
   "cell_type": "code",
   "execution_count": 54,
   "id": "73e8aaa3",
   "metadata": {},
   "outputs": [
    {
     "ename": "TypeError",
     "evalue": "'set' object is not subscriptable",
     "output_type": "error",
     "traceback": [
      "\u001b[1;31m---------------------------------------------------------------------------\u001b[0m",
      "\u001b[1;31mTypeError\u001b[0m                                 Traceback (most recent call last)",
      "\u001b[1;32m~\\AppData\\Local\\Temp/ipykernel_19608/2309727203.py\u001b[0m in \u001b[0;36m<module>\u001b[1;34m\u001b[0m\n\u001b[1;32m----> 1\u001b[1;33m \u001b[0mprint\u001b[0m\u001b[1;33m(\u001b[0m\u001b[0mb\u001b[0m\u001b[1;33m[\u001b[0m\u001b[1;36m1\u001b[0m\u001b[1;33m]\u001b[0m\u001b[1;33m)\u001b[0m\u001b[1;33m\u001b[0m\u001b[1;33m\u001b[0m\u001b[0m\n\u001b[0m",
      "\u001b[1;31mTypeError\u001b[0m: 'set' object is not subscriptable"
     ]
    }
   ],
   "source": [
    "print(b[1])"
   ]
  },
  {
   "cell_type": "markdown",
   "id": "a106acd2",
   "metadata": {},
   "source": [
    "# Python Dictionary\n"
   ]
  },
  {
   "cell_type": "markdown",
   "id": "d10d571d",
   "metadata": {},
   "source": [
    "Dictionary is an unordered collection of key-value pairs.\n",
    "\n",
    "In Python, dictionaries are defined within braces {} with each item being a pair in the form key:value. Key and value can be of any type."
   ]
  },
  {
   "cell_type": "code",
   "execution_count": 55,
   "id": "113ea543",
   "metadata": {},
   "outputs": [
    {
     "name": "stdout",
     "output_type": "stream",
     "text": [
      "apple\n"
     ]
    }
   ],
   "source": [
    "d = {'a' : \"apple\", 'b': \"bat\"}\n",
    "print(d['a'])"
   ]
  },
  {
   "cell_type": "markdown",
   "id": "31b23dff",
   "metadata": {},
   "source": [
    "# Conversion between Datatypes"
   ]
  },
  {
   "cell_type": "markdown",
   "id": "fd9eabb5",
   "metadata": {},
   "source": [
    "We can convert between different data types by using different type conversion functions like int() , float() , str() etc."
   ]
  },
  {
   "cell_type": "code",
   "execution_count": 56,
   "id": "f049e0c3",
   "metadata": {},
   "outputs": [
    {
     "data": {
      "text/plain": [
       "5.0"
      ]
     },
     "execution_count": 56,
     "metadata": {},
     "output_type": "execute_result"
    }
   ],
   "source": [
    "float(5)"
   ]
  },
  {
   "cell_type": "code",
   "execution_count": 57,
   "id": "e90f6c9b",
   "metadata": {},
   "outputs": [
    {
     "data": {
      "text/plain": [
       "15"
      ]
     },
     "execution_count": 57,
     "metadata": {},
     "output_type": "execute_result"
    }
   ],
   "source": [
    "int(15.5)"
   ]
  },
  {
   "cell_type": "code",
   "execution_count": 58,
   "id": "899f138e",
   "metadata": {},
   "outputs": [
    {
     "data": {
      "text/plain": [
       "'20'"
      ]
     },
     "execution_count": 58,
     "metadata": {},
     "output_type": "execute_result"
    }
   ],
   "source": [
    "str(20)"
   ]
  },
  {
   "cell_type": "markdown",
   "id": "dd20328d",
   "metadata": {},
   "source": [
    "Conversion to and from string must contain compatible values."
   ]
  },
  {
   "cell_type": "code",
   "execution_count": 59,
   "id": "727bf60a",
   "metadata": {},
   "outputs": [
    {
     "ename": "ValueError",
     "evalue": "invalid literal for int() with base 10: '10abc'",
     "output_type": "error",
     "traceback": [
      "\u001b[1;31m---------------------------------------------------------------------------\u001b[0m",
      "\u001b[1;31mValueError\u001b[0m                                Traceback (most recent call last)",
      "\u001b[1;32m~\\AppData\\Local\\Temp/ipykernel_19608/3232186154.py\u001b[0m in \u001b[0;36m<module>\u001b[1;34m\u001b[0m\n\u001b[0;32m      1\u001b[0m \u001b[0ma\u001b[0m \u001b[1;33m=\u001b[0m \u001b[1;34m\"10abc\"\u001b[0m\u001b[1;33m\u001b[0m\u001b[1;33m\u001b[0m\u001b[0m\n\u001b[1;32m----> 2\u001b[1;33m \u001b[0mint\u001b[0m\u001b[1;33m(\u001b[0m\u001b[0ma\u001b[0m\u001b[1;33m)\u001b[0m\u001b[1;33m\u001b[0m\u001b[1;33m\u001b[0m\u001b[0m\n\u001b[0m",
      "\u001b[1;31mValueError\u001b[0m: invalid literal for int() with base 10: '10abc'"
     ]
    }
   ],
   "source": [
    "a = \"10abc\"\n",
    "int(a)"
   ]
  },
  {
   "cell_type": "code",
   "execution_count": 64,
   "id": "ce5c0d39",
   "metadata": {},
   "outputs": [
    {
     "name": "stdout",
     "output_type": "stream",
     "text": [
      "Congratulations, Sudhanshu You just wrote 60 lines of code.\n"
     ]
    }
   ],
   "source": [
    "user = \"Sudhanshu\"\n",
    "lines = 60\n",
    "\n",
    "print(\"Congratulations, \" + user + \" You just wrote \" + str(lines) + \" lines of code.\")"
   ]
  },
  {
   "cell_type": "markdown",
   "id": "02093fca",
   "metadata": {},
   "source": [
    "We can convert one sequence to other"
   ]
  },
  {
   "cell_type": "code",
   "execution_count": 65,
   "id": "266a13f0",
   "metadata": {},
   "outputs": [
    {
     "name": "stdout",
     "output_type": "stream",
     "text": [
      "<class 'list'>\n"
     ]
    }
   ],
   "source": [
    "a = [1, 2, 3]\n",
    "print(type(a))"
   ]
  },
  {
   "cell_type": "code",
   "execution_count": 66,
   "id": "3d88f1cc",
   "metadata": {},
   "outputs": [
    {
     "name": "stdout",
     "output_type": "stream",
     "text": [
      "<class 'set'>\n"
     ]
    }
   ],
   "source": [
    "s = set(a)\n",
    "print(type(s))"
   ]
  },
  {
   "cell_type": "code",
   "execution_count": 67,
   "id": "a229c28c",
   "metadata": {},
   "outputs": [
    {
     "data": {
      "text/plain": [
       "['h', 'e', 'l', 'l', 'o']"
      ]
     },
     "execution_count": 67,
     "metadata": {},
     "output_type": "execute_result"
    }
   ],
   "source": [
    "list(\"hello\")"
   ]
  },
  {
   "cell_type": "markdown",
   "id": "82365aa3",
   "metadata": {},
   "source": [
    "# Python Input and Output"
   ]
  },
  {
   "cell_type": "markdown",
   "id": "b0917c77",
   "metadata": {},
   "source": [
    "We use the print() function to output data to the standard output device"
   ]
  },
  {
   "cell_type": "markdown",
   "id": "d32f925b",
   "metadata": {},
   "source": [
    "# Python Output"
   ]
  },
  {
   "cell_type": "code",
   "execution_count": 68,
   "id": "a474d732",
   "metadata": {},
   "outputs": [
    {
     "name": "stdout",
     "output_type": "stream",
     "text": [
      "Hello World\n"
     ]
    }
   ],
   "source": [
    "print(\"Hello World\")"
   ]
  },
  {
   "cell_type": "code",
   "execution_count": 69,
   "id": "b10ff4c5",
   "metadata": {},
   "outputs": [
    {
     "name": "stdout",
     "output_type": "stream",
     "text": [
      "The value of a is 10\n"
     ]
    }
   ],
   "source": [
    "a = 10\n",
    "print(\"The value of a is\", a)"
   ]
  },
  {
   "cell_type": "code",
   "execution_count": 70,
   "id": "e2bf6b52",
   "metadata": {},
   "outputs": [
    {
     "name": "stdout",
     "output_type": "stream",
     "text": [
      "The value of a is 10\n"
     ]
    }
   ],
   "source": [
    "print(\"The value of a is \" + str(a) )"
   ]
  },
  {
   "cell_type": "markdown",
   "id": "05804f60",
   "metadata": {},
   "source": [
    "# Output Formatting"
   ]
  },
  {
   "cell_type": "code",
   "execution_count": 71,
   "id": "f0b44a19",
   "metadata": {},
   "outputs": [
    {
     "name": "stdout",
     "output_type": "stream",
     "text": [
      "The value of a is 10 and the value of b is 20\n"
     ]
    }
   ],
   "source": [
    "a = 10\n",
    "b = 20\n",
    "\n",
    "print(\"The value of a is {} and the value of b is {}\".format(a,b))"
   ]
  },
  {
   "cell_type": "code",
   "execution_count": 72,
   "id": "e7910fd5",
   "metadata": {},
   "outputs": [
    {
     "name": "stdout",
     "output_type": "stream",
     "text": [
      "The value of b is 20 and the value of a is 10\n"
     ]
    }
   ],
   "source": [
    "print(\"The value of b is {1} and the value of a is {0}\".format(a,b))"
   ]
  },
  {
   "cell_type": "code",
   "execution_count": 73,
   "id": "d2945ba2",
   "metadata": {},
   "outputs": [
    {
     "name": "stdout",
     "output_type": "stream",
     "text": [
      "Hello Sudhanshu, your visa is approved. You are coming to USA\n"
     ]
    }
   ],
   "source": [
    "print(\"Hello {name}, your visa is approved. You are coming to {country}\".format(name=\"Sudhanshu\",country=\"USA\"))"
   ]
  },
  {
   "cell_type": "code",
   "execution_count": 74,
   "id": "4408df6c",
   "metadata": {},
   "outputs": [
    {
     "name": "stdout",
     "output_type": "stream",
     "text": [
      "Congratulations Sudhanshu, your Visa is approved. Welcome to USA\n"
     ]
    }
   ],
   "source": [
    "print(\"Congratulations {0}, your {1} is approved. Welcome to {other}\".format(\"Sudhanshu\",\"Visa\",other=\"USA\"))"
   ]
  },
  {
   "cell_type": "markdown",
   "id": "55926653",
   "metadata": {},
   "source": [
    "# Python Input"
   ]
  },
  {
   "cell_type": "markdown",
   "id": "36929250",
   "metadata": {},
   "source": [
    "want to take the input from the user. In Python, we have the input() function to allow this."
   ]
  },
  {
   "cell_type": "code",
   "execution_count": 77,
   "id": "d5f8e5f4",
   "metadata": {},
   "outputs": [
    {
     "name": "stdout",
     "output_type": "stream",
     "text": [
      "Enter your nameSudhanshu\n",
      "Welcome Sudhanshu\n"
     ]
    }
   ],
   "source": [
    "user = input(\"Enter your name\")\n",
    "\n",
    "print(\"Welcome\",user)"
   ]
  },
  {
   "cell_type": "markdown",
   "id": "b4735ad7",
   "metadata": {},
   "source": [
    "# Operators"
   ]
  },
  {
   "cell_type": "markdown",
   "id": "4f17e866",
   "metadata": {},
   "source": [
    "Operators are special symbols in Python that carry out arithmetic or logical computation. The value that the operator operates on is called the operand."
   ]
  },
  {
   "cell_type": "markdown",
   "id": "28cd98db",
   "metadata": {},
   "source": [
    "# Operator Types\n",
    "\n",
    "1. Arithmetic operators\n",
    "\n",
    "2. Comparison (Relational) operators\n",
    "\n",
    "3. Logical (Boolean) operators\n",
    "\n",
    "4. Bitwise operators\n",
    "\n",
    "5. Assignment operators\n",
    "\n",
    "6. Special operators"
   ]
  },
  {
   "cell_type": "markdown",
   "id": "1fd80057",
   "metadata": {},
   "source": [
    "1. Arithmetic Operators\n",
    "Arithmetic operators are used to perform mathematical operations like Addition, subtraction, multiplication, etc\n",
    "\n",
    "+ , - , * , / , % , // , ** are arithmetic operators "
   ]
  },
  {
   "cell_type": "markdown",
   "id": "a544800b",
   "metadata": {},
   "source": [
    "Example"
   ]
  },
  {
   "cell_type": "code",
   "execution_count": 78,
   "id": "3822b314",
   "metadata": {},
   "outputs": [
    {
     "name": "stdout",
     "output_type": "stream",
     "text": [
      "40\n",
      "-20\n",
      "300\n",
      "0.3333333333333333\n",
      "10\n",
      "0\n",
      "16\n"
     ]
    }
   ],
   "source": [
    "x , y = 10, 30\n",
    "\n",
    "#addition\n",
    "\n",
    "print(x + y)\n",
    "\n",
    "#subtractor (-)\n",
    "\n",
    "print(x - y)\n",
    "\n",
    "#Multiplication\n",
    "\n",
    "print(x * y)\n",
    "\n",
    "#Division \n",
    "\n",
    "print(x / y)\n",
    "\n",
    "#modulo division\n",
    "\n",
    "print(x % y)\n",
    "\n",
    "#floor Division\n",
    "\n",
    "print(x // y)\n",
    "\n",
    "#Exponent\n",
    "\n",
    "print(2 ** 4)"
   ]
  },
  {
   "cell_type": "markdown",
   "id": "d12f18c7",
   "metadata": {},
   "source": [
    "# Comparision Operators\n",
    "Comparison operators are used to compare values. It either returns True or False according to the condition."
   ]
  },
  {
   "cell_type": "markdown",
   "id": "874d7dba",
   "metadata": {},
   "source": [
    ", >, <, ==, !=, >=, <= are comparision operators"
   ]
  },
  {
   "cell_type": "code",
   "execution_count": 79,
   "id": "f79ab667",
   "metadata": {},
   "outputs": [
    {
     "name": "stdout",
     "output_type": "stream",
     "text": [
      "True\n",
      "False\n",
      "False\n"
     ]
    }
   ],
   "source": [
    "a ,b = 10, 30\n",
    "\n",
    "print(a < b) #check a is less than b\n",
    "\n",
    "print(a > b)\n",
    "\n",
    "print(a == b)\n"
   ]
  },
  {
   "cell_type": "markdown",
   "id": "953f4e75",
   "metadata": {},
   "source": [
    "# Logical Operators\n",
    "\n",
    "Logical operators are and, or, not operators."
   ]
  },
  {
   "cell_type": "code",
   "execution_count": 81,
   "id": "72efa3e7",
   "metadata": {},
   "outputs": [
    {
     "name": "stdout",
     "output_type": "stream",
     "text": [
      "False\n",
      "True\n",
      "True\n"
     ]
    }
   ],
   "source": [
    "a , b = True, False\n",
    "\n",
    "#print a and b\n",
    "print(a and b)\n",
    "\n",
    "#print a or b\n",
    "print(a or b)\n",
    "\n",
    "#print not b\n",
    "print(not b)"
   ]
  },
  {
   "cell_type": "markdown",
   "id": "e094e984",
   "metadata": {},
   "source": [
    "# Bitwise Operator\n",
    "\n",
    "Bitwise Operator act on operands as if they were string of binary digits. It Operates bit by bit.\n",
    "\n",
    "\n",
    "& , | , ~ , ^ , >> , << are Bitwise Operators "
   ]
  },
  {
   "cell_type": "code",
   "execution_count": 84,
   "id": "cbea5d96",
   "metadata": {},
   "outputs": [
    {
     "name": "stdout",
     "output_type": "stream",
     "text": [
      "0\n",
      "14\n"
     ]
    }
   ],
   "source": [
    "a, b = 10, 4\n",
    "\n",
    "print(a & b)\n",
    "\n",
    "#Bitwise OR\n",
    "\n",
    "print(a | b)"
   ]
  },
  {
   "cell_type": "markdown",
   "id": "7313e33c",
   "metadata": {},
   "source": [
    "# Assignment Operators"
   ]
  },
  {
   "cell_type": "markdown",
   "id": "bd241fcb",
   "metadata": {},
   "source": [
    "Assignment operators are used in Python to assign values to variables.\n",
    "\n",
    "a = 5 is a simple assignment operator that assigns the value 5 on the right to the variable a on the left."
   ]
  },
  {
   "cell_type": "markdown",
   "id": "b8d68df9",
   "metadata": {},
   "source": [
    "= , += , -= , *= , /= , %= , //= , **= , &= , |= , ^= , >>= , <<= are assignment operators"
   ]
  },
  {
   "cell_type": "code",
   "execution_count": 85,
   "id": "c3278623",
   "metadata": {},
   "outputs": [
    {
     "name": "stdout",
     "output_type": "stream",
     "text": [
      "20\n"
     ]
    }
   ],
   "source": [
    "a = 10\n",
    "a += 10\n",
    "print(a)"
   ]
  },
  {
   "cell_type": "code",
   "execution_count": 87,
   "id": "9351e6d2",
   "metadata": {},
   "outputs": [
    {
     "name": "stdout",
     "output_type": "stream",
     "text": [
      "40\n"
     ]
    }
   ],
   "source": [
    "a*=2\n",
    "print(a)"
   ]
  },
  {
   "cell_type": "code",
   "execution_count": 88,
   "id": "9e27a155",
   "metadata": {},
   "outputs": [
    {
     "name": "stdout",
     "output_type": "stream",
     "text": [
      "30\n"
     ]
    }
   ],
   "source": [
    "a -= 10\n",
    "print(a)"
   ]
  },
  {
   "cell_type": "code",
   "execution_count": 89,
   "id": "5eb6e2f4",
   "metadata": {},
   "outputs": [
    {
     "name": "stdout",
     "output_type": "stream",
     "text": [
      "0\n"
     ]
    }
   ],
   "source": [
    "a %= 10\n",
    "print(a)"
   ]
  },
  {
   "cell_type": "code",
   "execution_count": 90,
   "id": "b488d06b",
   "metadata": {},
   "outputs": [
    {
     "name": "stdout",
     "output_type": "stream",
     "text": [
      "0\n"
     ]
    }
   ],
   "source": [
    "a //= 2\n",
    "print(a)"
   ]
  },
  {
   "cell_type": "code",
   "execution_count": 92,
   "id": "50522e96",
   "metadata": {},
   "outputs": [
    {
     "name": "stdout",
     "output_type": "stream",
     "text": [
      "20\n"
     ]
    }
   ],
   "source": [
    "a += 20\n",
    "print(a)"
   ]
  },
  {
   "cell_type": "code",
   "execution_count": 93,
   "id": "7e7e625b",
   "metadata": {},
   "outputs": [
    {
     "name": "stdout",
     "output_type": "stream",
     "text": [
      "400\n"
     ]
    }
   ],
   "source": [
    "a **= 2\n",
    "print(a)"
   ]
  },
  {
   "cell_type": "markdown",
   "id": "d3052635",
   "metadata": {},
   "source": [
    "# Special Operator\n",
    "\n",
    "# Identity Operator"
   ]
  },
  {
   "cell_type": "markdown",
   "id": "db813bff",
   "metadata": {},
   "source": [
    "**is and is not** are the identity operators in python.\n",
    "They are used to check if two values (or variables) are located on the same part of the memory."
   ]
  },
  {
   "cell_type": "code",
   "execution_count": 95,
   "id": "83b80a75",
   "metadata": {},
   "outputs": [
    {
     "name": "stdout",
     "output_type": "stream",
     "text": [
      "True\n",
      "False\n"
     ]
    }
   ],
   "source": [
    "a = 5\n",
    "b = 5\n",
    "print(a is b)\n",
    "\n",
    "print(a is not b)"
   ]
  },
  {
   "cell_type": "code",
   "execution_count": 96,
   "id": "a33dc735",
   "metadata": {},
   "outputs": [
    {
     "name": "stdout",
     "output_type": "stream",
     "text": [
      "False\n"
     ]
    }
   ],
   "source": [
    "l1 = [1, 2, 3]\n",
    "l2 = [1, 2, 3]\n",
    "\n",
    "print(l1 is l2)"
   ]
  },
  {
   "cell_type": "code",
   "execution_count": 98,
   "id": "d489e9ac",
   "metadata": {},
   "outputs": [
    {
     "name": "stdout",
     "output_type": "stream",
     "text": [
      "False\n"
     ]
    }
   ],
   "source": [
    "s1 = \"Sudhanshu\"\n",
    "s2 = \"Sudhanshu\"\n",
    "\n",
    "print(s1 is not s2)"
   ]
  },
  {
   "cell_type": "markdown",
   "id": "e4ed8f5b",
   "metadata": {},
   "source": [
    "# Membership Operators"
   ]
  },
  {
   "cell_type": "markdown",
   "id": "f840e56c",
   "metadata": {},
   "source": [
    "**in and not in** are the membership operators in python\n",
    "\n",
    "They are used to test whether a value or variable is found in a seequence (string, list, tuple, set and dictionary)"
   ]
  },
  {
   "cell_type": "code",
   "execution_count": 100,
   "id": "7673151b",
   "metadata": {},
   "outputs": [
    {
     "name": "stdout",
     "output_type": "stream",
     "text": [
      "True\n",
      "False\n"
     ]
    }
   ],
   "source": [
    "lst = [1,2,3,4]\n",
    "print(1 in lst)\n",
    "\n",
    "print(5 in lst)"
   ]
  },
  {
   "cell_type": "code",
   "execution_count": 102,
   "id": "97fce1e6",
   "metadata": {},
   "outputs": [
    {
     "name": "stdout",
     "output_type": "stream",
     "text": [
      "False\n"
     ]
    }
   ],
   "source": [
    "d ={1:\"a\", 2:\"b\"}\n",
    "print(1 not in d)"
   ]
  },
  {
   "cell_type": "markdown",
   "id": "bde32518",
   "metadata": {},
   "source": [
    "# Python if ... else Statement\n",
    "\n",
    "The if...elif...else statement is used in python for decision making."
   ]
  },
  {
   "cell_type": "code",
   "execution_count": 103,
   "id": "dff13cd6",
   "metadata": {},
   "outputs": [
    {
     "name": "stdout",
     "output_type": "stream",
     "text": [
      "print this anyway\n"
     ]
    }
   ],
   "source": [
    "num = 10 \n",
    "\n",
    "if num > 10:\n",
    "    print(\"Number is Positive\")\n",
    "\n",
    "print(\"print this anyway\")"
   ]
  },
  {
   "cell_type": "code",
   "execution_count": 104,
   "id": "3ab9fd5a",
   "metadata": {},
   "outputs": [
    {
     "name": "stdout",
     "output_type": "stream",
     "text": [
      "Number is greater than 10\n"
     ]
    }
   ],
   "source": [
    "num = 20 \n",
    "\n",
    "if num > 10:\n",
    "    print(\"Number is greater than 10\")\n",
    "else:\n",
    "    print(\"Number is smaller than 10\")"
   ]
  },
  {
   "cell_type": "code",
   "execution_count": 105,
   "id": "ece6063b",
   "metadata": {},
   "outputs": [
    {
     "name": "stdout",
     "output_type": "stream",
     "text": [
      "number is greater than 10\n"
     ]
    }
   ],
   "source": [
    "num = 10.5\n",
    "if num > 10:\n",
    "    print(\"number is greater than 10\")\n",
    "elif num == 0:\n",
    "    print(\"Zero\")\n",
    "else:\n",
    "    print(\"Number is smaller than 10\")"
   ]
  },
  {
   "cell_type": "code",
   "execution_count": 107,
   "id": "ddce1953",
   "metadata": {},
   "outputs": [
    {
     "name": "stdout",
     "output_type": "stream",
     "text": [
      "Enter your Number1\n",
      "Number is less than 2\n"
     ]
    }
   ],
   "source": [
    "#NESTED IF STATEMENTS\n",
    "num = int(input(\"Enter your Number\"))\n",
    "if num > 2:\n",
    "    if num > 10 :\n",
    "        print(\"Number greater than 10\")\n",
    "    else:\n",
    "        print(\"Number is smaller than 10\")\n",
    "else:\n",
    "    print(\"Number is less than 2\")"
   ]
  },
  {
   "cell_type": "code",
   "execution_count": 109,
   "id": "ba3cfd71",
   "metadata": {},
   "outputs": [
    {
     "name": "stdout",
     "output_type": "stream",
     "text": [
      "Enter your Number11\n",
      "Enter your Number22\n",
      "Enter your Number33\n",
      "Largest number among three numbers is : 33\n"
     ]
    }
   ],
   "source": [
    "num1 = int(input(\"Enter your Number\"))\n",
    "num2 = int(input(\"Enter your Number\"))\n",
    "num3 = int(input(\"Enter your Number\"))\n",
    "\n",
    "if (num1>=num2) and (num1>=num3):\n",
    "    largest = num1\n",
    "elif (num2>=num1) and (num2>=num3):\n",
    "    largest = num2\n",
    "else:\n",
    "    largest = num3\n",
    "    \n",
    "print(\"Largest number among three numbers is :\",largest)"
   ]
  },
  {
   "cell_type": "markdown",
   "id": "bd45a3da",
   "metadata": {},
   "source": [
    "# Python While loop\n",
    "\n",
    "The While loop in python is used to iterate over a block of code as long as the test exoression is true."
   ]
  },
  {
   "cell_type": "code",
   "execution_count": 2,
   "id": "969eb4fc",
   "metadata": {},
   "outputs": [
    {
     "name": "stdout",
     "output_type": "stream",
     "text": [
      "product of all elements in a list is : 120\n"
     ]
    }
   ],
   "source": [
    "#Find product of all numbers present in a list\n",
    "\n",
    "lst = [1,2,3,4,5]\n",
    "\n",
    "product = 1\n",
    "index = 0\n",
    "\n",
    "while index< len(lst):\n",
    "    product *= lst[index]\n",
    "    index += 1\n",
    "    \n",
    "print(\"product of all elements in a list is :\",product)"
   ]
  },
  {
   "cell_type": "markdown",
   "id": "906d1b71",
   "metadata": {},
   "source": [
    "# While else loop\n",
    "\n",
    "The else part is executed if the condition in the while loop evaluates to False. The while loop can be terminated with a break statement.\n",
    "\n",
    "In such case, the else part is ignored. Hence, a while loop's else part runs if no break occurs and the condition is false."
   ]
  },
  {
   "cell_type": "code",
   "execution_count": 3,
   "id": "191b2c55",
   "metadata": {},
   "outputs": [
    {
     "name": "stdout",
     "output_type": "stream",
     "text": [
      "1\n",
      "2\n",
      "3\n",
      "no item left in the list\n"
     ]
    }
   ],
   "source": [
    "numbers = [1,2,3]\n",
    "\n",
    "#iterating over the list\n",
    "index = 0\n",
    "while index<len(numbers):\n",
    "    print(numbers[index])\n",
    "    index += 1\n",
    "else:\n",
    "    print(\"no item left in the list\")"
   ]
  },
  {
   "cell_type": "markdown",
   "id": "5b407569",
   "metadata": {},
   "source": [
    "# Python Program to check given number is Prime number or not"
   ]
  },
  {
   "cell_type": "code",
   "execution_count": 4,
   "id": "24aa67ec",
   "metadata": {},
   "outputs": [
    {
     "name": "stdout",
     "output_type": "stream",
     "text": [
      "Enter your number: 25\n",
      "25 is divisible by 5\n",
      "25 is not a prime number.\n"
     ]
    }
   ],
   "source": [
    "num = int(input(\"Enter your number: \"))\n",
    "\n",
    "isDivisible = False\n",
    "i = 2\n",
    "\n",
    "while i<num:\n",
    "    if num % i == 0:\n",
    "        isDivisible = True;\n",
    "        print(\"{} is divisible by {}\".format(num,i))\n",
    "    i += 1\n",
    "    \n",
    "if isDivisible:\n",
    "    print(\"{} is not a prime number.\".format(num))\n",
    "else:\n",
    "    print(\"{} is a prime number.\".format(num))\n"
   ]
  },
  {
   "cell_type": "markdown",
   "id": "a89d996d",
   "metadata": {},
   "source": [
    "# Python for Loop\n",
    "\n",
    "The for loop in python is used to iterate over a sequence (list,tuple,string) or other iterable objects. Iterating over a sequence is called traversal. "
   ]
  },
  {
   "cell_type": "markdown",
   "id": "c93402ae",
   "metadata": {},
   "source": [
    "# Find product of all numbers in a list"
   ]
  },
  {
   "cell_type": "code",
   "execution_count": 6,
   "id": "07d7e3c3",
   "metadata": {},
   "outputs": [
    {
     "name": "stdout",
     "output_type": "stream",
     "text": [
      "product of numbers in a list is:  120\n"
     ]
    }
   ],
   "source": [
    "lst = [1,2,3,4,5]\n",
    "\n",
    "product = 1\n",
    "\n",
    "for i in lst:\n",
    "    product *= i\n",
    "    \n",
    "print(\"product of numbers in a list is: \",product)"
   ]
  },
  {
   "cell_type": "markdown",
   "id": "1a8fae27",
   "metadata": {},
   "source": [
    "# range() function\n",
    "\n",
    "We can generate a sequence of numbers using range() function. range(10) will generate numbers from 0 to 9 ie 10 numbers"
   ]
  },
  {
   "cell_type": "code",
   "execution_count": 7,
   "id": "36b3681c",
   "metadata": {},
   "outputs": [
    {
     "name": "stdout",
     "output_type": "stream",
     "text": [
      "0\n",
      "1\n",
      "2\n",
      "3\n",
      "4\n",
      "5\n",
      "6\n",
      "7\n",
      "8\n",
      "9\n"
     ]
    }
   ],
   "source": [
    "#print range of 10\n",
    "\n",
    "for i in range(10):\n",
    "    print(i)"
   ]
  },
  {
   "cell_type": "code",
   "execution_count": 8,
   "id": "6aafd565",
   "metadata": {},
   "outputs": [
    {
     "name": "stdout",
     "output_type": "stream",
     "text": [
      "1\n",
      "3\n",
      "5\n",
      "7\n",
      "9\n"
     ]
    }
   ],
   "source": [
    "#print range of numbers from 1 to 10 with a step size of 2\n",
    "\n",
    "for i in range(1,10,2):\n",
    "    print(i)"
   ]
  },
  {
   "cell_type": "code",
   "execution_count": 10,
   "id": "343fa2a4",
   "metadata": {},
   "outputs": [
    {
     "name": "stdout",
     "output_type": "stream",
     "text": [
      "a\n",
      "b\n",
      "c\n",
      "d\n",
      "e\n"
     ]
    }
   ],
   "source": [
    "lst = [\"a\",\"b\",\"c\",\"d\",\"e\"]\n",
    "\n",
    "for index in range(len(lst)):\n",
    "    print(lst[index])"
   ]
  },
  {
   "cell_type": "code",
   "execution_count": 11,
   "id": "096a0bc6",
   "metadata": {},
   "outputs": [
    {
     "name": "stdout",
     "output_type": "stream",
     "text": [
      "a\n",
      "b\n",
      "c\n",
      "d\n",
      "e\n"
     ]
    }
   ],
   "source": [
    "for i in lst:\n",
    "    print(i)"
   ]
  },
  {
   "cell_type": "markdown",
   "id": "5c739dfe",
   "metadata": {},
   "source": [
    "# For loop with else\n",
    "\n",
    "A for loop can have an else block as well.\n",
    "\n",
    "break statement can be used to stop a for loop, in such cases the else part is ignored.\n",
    "\n",
    "Hence a for loop's else part runs if no break occurs."
   ]
  },
  {
   "cell_type": "code",
   "execution_count": 12,
   "id": "d587a25a",
   "metadata": {},
   "outputs": [
    {
     "name": "stdout",
     "output_type": "stream",
     "text": [
      "1\n",
      "2\n",
      "3\n",
      "4\n",
      "End of list, no item found.\n"
     ]
    }
   ],
   "source": [
    "numbers = [1,2,3,4]\n",
    "\n",
    "#iterating over the list\n",
    "\n",
    "for item in numbers:\n",
    "    print(item)\n",
    "else:\n",
    "    print(\"End of list, no item found.\")"
   ]
  },
  {
   "cell_type": "markdown",
   "id": "d3a7ca21",
   "metadata": {},
   "source": [
    "# Python program to display all prime numbers within an interval"
   ]
  },
  {
   "cell_type": "code",
   "execution_count": 13,
   "id": "c001468b",
   "metadata": {},
   "outputs": [
    {
     "name": "stdout",
     "output_type": "stream",
     "text": [
      "Prime numbers between 10 and 50 are :\n",
      "11\n",
      "13\n",
      "17\n",
      "19\n",
      "23\n",
      "29\n",
      "31\n",
      "37\n",
      "41\n",
      "43\n",
      "47\n"
     ]
    }
   ],
   "source": [
    "index1 = 10\n",
    "index2 = 50\n",
    "\n",
    "print(\"Prime numbers between {0} and {1} are :\".format(index1,index2))\n",
    "\n",
    "for num in range(index1,index2+1):\n",
    "    if num>1:\n",
    "        isDivisible = False;\n",
    "        for i in range(2,num):\n",
    "            if num % i == 0:\n",
    "                isDivisible = True\n",
    "        if not isDivisible:\n",
    "            print(num);"
   ]
  },
  {
   "cell_type": "code",
   "execution_count": 14,
   "id": "ba28f062",
   "metadata": {},
   "outputs": [
    {
     "name": "stdout",
     "output_type": "stream",
     "text": [
      "Prime numbers between 20 and 100 are: \n",
      "23\n",
      "29\n",
      "31\n",
      "37\n",
      "41\n",
      "43\n",
      "47\n",
      "53\n",
      "59\n",
      "61\n",
      "67\n",
      "71\n",
      "73\n",
      "79\n",
      "83\n",
      "89\n",
      "97\n"
     ]
    }
   ],
   "source": [
    "index1 = 20\n",
    "index2 = 100\n",
    "\n",
    "print(\"Prime numbers between {0} and {1} are: \".format(index1,index2))\n",
    "\n",
    "for num in range(index1, index2+1):\n",
    "    if num>1:\n",
    "        isDivisible = False\n",
    "        for i in range(2,num):\n",
    "            if num % i == 0:\n",
    "                isDivisible = True\n",
    "        if not isDivisible:\n",
    "            print(num)"
   ]
  },
  {
   "cell_type": "markdown",
   "id": "e734a6ee",
   "metadata": {},
   "source": [
    "# Control flow break and Continue"
   ]
  },
  {
   "cell_type": "code",
   "execution_count": 1,
   "id": "bbb89d7f",
   "metadata": {},
   "outputs": [
    {
     "name": "stdout",
     "output_type": "stream",
     "text": [
      "1\n",
      "2\n",
      "3\n",
      "Outside of for loop\n"
     ]
    }
   ],
   "source": [
    "#Example\n",
    "\n",
    "numbers = [1,2,3,4]\n",
    "for num in numbers:\n",
    "    if num == 4:\n",
    "        break;\n",
    "    print(num)\n",
    "else:\n",
    "    print(\"In the else-block\")\n",
    "print(\"Outside of for loop\")"
   ]
  },
  {
   "cell_type": "code",
   "execution_count": 3,
   "id": "7ece4140",
   "metadata": {},
   "outputs": [
    {
     "name": "stdout",
     "output_type": "stream",
     "text": [
      "Enter your number: 23\n",
      "23 is a prime number.\n"
     ]
    }
   ],
   "source": [
    "num = int(input(\"Enter your number: \"))\n",
    "\n",
    "isDivisible = False;\n",
    "i = 2\n",
    "while i<num:\n",
    "    if num % i == 0:\n",
    "        isDivisible = True\n",
    "        print(\"{} is divisible by {}\".format(num,i))\n",
    "        break;\n",
    "    i+=1\n",
    "    \n",
    "if isDivisible:\n",
    "    print(\"{} is not a prime number.\".format(num))\n",
    "else:\n",
    "    print(\"{} is a prime number.\".format(num))"
   ]
  },
  {
   "cell_type": "code",
   "execution_count": 5,
   "id": "720d2e32",
   "metadata": {},
   "outputs": [
    {
     "name": "stdout",
     "output_type": "stream",
     "text": [
      "1\n",
      "3\n",
      "5\n",
      "7\n",
      "9\n",
      "End of List\n"
     ]
    }
   ],
   "source": [
    "#print odd numbers present in a list\n",
    "\n",
    "lst = [1,2,3,4,5,6,7,8,9,10]\n",
    "\n",
    "for num in lst:\n",
    "    if num % 2 == 0:\n",
    "        continue\n",
    "    print(num)\n",
    "else:\n",
    "    print(\"End of List\")"
   ]
  },
  {
   "cell_type": "markdown",
   "id": "e03f857f",
   "metadata": {},
   "source": [
    "# Lists\n",
    "- List is one of the Sequence Data structure\n",
    "\n",
    "- Lists are collection of items (Strings, integers or even other lists)\n",
    "\n",
    "- Lists are enclosed in [ ]\n",
    "\n",
    "- Each item in the list has an assigned index value.\n",
    "\n",
    "- Each item in a list is separated by a comma\n",
    "\n",
    "- Lists are mutable, which means they can be changed."
   ]
  },
  {
   "cell_type": "markdown",
   "id": "0f3281b5",
   "metadata": {},
   "source": [
    " # List Creation"
   ]
  },
  {
   "cell_type": "code",
   "execution_count": 8,
   "id": "9bf06fc8",
   "metadata": {},
   "outputs": [
    {
     "name": "stdout",
     "output_type": "stream",
     "text": [
      "[[1, 2], [3, 4], 5]\n"
     ]
    }
   ],
   "source": [
    "emptylist = []\n",
    "\n",
    "list_of_strings = [\"one\",\"two\",\"three\",\"four\"]\n",
    "\n",
    "lst_of_integers = [1,2,3,4]\n",
    "\n",
    "list_of_lists = [[1,2],[3,4],5]\n",
    "\n",
    "list_of_different_datatypes = [1, 2, 3, 'String']\n",
    "\n",
    "print(list_of_lists)"
   ]
  },
  {
   "cell_type": "markdown",
   "id": "36954e64",
   "metadata": {},
   "source": [
    "# List length"
   ]
  },
  {
   "cell_type": "code",
   "execution_count": 9,
   "id": "5ecacd08",
   "metadata": {},
   "outputs": [
    {
     "name": "stdout",
     "output_type": "stream",
     "text": [
      "4\n"
     ]
    }
   ],
   "source": [
    "lst = [\"one\",\"two\",\"three\",\"four\"]\n",
    "\n",
    "print(len(lst))"
   ]
  },
  {
   "cell_type": "markdown",
   "id": "dd293239",
   "metadata": {},
   "source": [
    "# List Append"
   ]
  },
  {
   "cell_type": "code",
   "execution_count": 10,
   "id": "272d2648",
   "metadata": {},
   "outputs": [
    {
     "name": "stdout",
     "output_type": "stream",
     "text": [
      "['one', 'two', 'three', 'four', 'five']\n"
     ]
    }
   ],
   "source": [
    "list_of_strings = [\"one\",\"two\",\"three\",\"four\"]\n",
    "\n",
    "list_of_strings.append(\"five\")\n",
    "\n",
    "print(list_of_strings)"
   ]
  },
  {
   "cell_type": "markdown",
   "id": "0e2c0da1",
   "metadata": {},
   "source": [
    "# List Insert\n",
    "\n",
    "syntax = list.insert(location, element)"
   ]
  },
  {
   "cell_type": "code",
   "execution_count": 13,
   "id": "07f21710",
   "metadata": {},
   "outputs": [
    {
     "name": "stdout",
     "output_type": "stream",
     "text": [
      "[1, 2, 3, 4]\n"
     ]
    }
   ],
   "source": [
    "list_of_integers = [1,2,4]\n",
    "\n",
    "list_of_integers.insert(2,3)\n",
    "\n",
    "print(list_of_integers)"
   ]
  },
  {
   "cell_type": "markdown",
   "id": "a552f5f5",
   "metadata": {},
   "source": [
    "# List Remove\n",
    "\n",
    "syntax = list.remove(x)"
   ]
  },
  {
   "cell_type": "code",
   "execution_count": 14,
   "id": "8f244567",
   "metadata": {},
   "outputs": [
    {
     "name": "stdout",
     "output_type": "stream",
     "text": [
      "[1, 2, 3]\n"
     ]
    }
   ],
   "source": [
    "list_of_integers.remove(4)\n",
    "\n",
    "print(list_of_integers)"
   ]
  },
  {
   "cell_type": "markdown",
   "id": "da26137a",
   "metadata": {},
   "source": [
    "# List Append and Extend "
   ]
  },
  {
   "cell_type": "code",
   "execution_count": 17,
   "id": "9fc43f0f",
   "metadata": {},
   "outputs": [
    {
     "name": "stdout",
     "output_type": "stream",
     "text": [
      "['one', 'two', 'three', 'four', ['five', 'six']]\n"
     ]
    }
   ],
   "source": [
    "lst = [\"one\",\"two\",\"three\",\"four\"]\n",
    "\n",
    "lst2 = [\"five\",\"six\"]\n",
    "\n",
    "#append\n",
    "lst.append(lst2)\n",
    "\n",
    "print(lst)"
   ]
  },
  {
   "cell_type": "code",
   "execution_count": 18,
   "id": "00c6ffa3",
   "metadata": {},
   "outputs": [
    {
     "name": "stdout",
     "output_type": "stream",
     "text": [
      "['one', 'two', 'three', 'four', 'five', 'six']\n"
     ]
    }
   ],
   "source": [
    "lst = [\"one\",\"two\",\"three\",\"four\"]\n",
    "\n",
    "lst2 = [\"five\",\"six\"]\n",
    "\n",
    "#append\n",
    "lst.extend(lst2)\n",
    "\n",
    "print(lst)"
   ]
  },
  {
   "cell_type": "markdown",
   "id": "ebc74db8",
   "metadata": {},
   "source": [
    "# List Delete"
   ]
  },
  {
   "cell_type": "code",
   "execution_count": 20,
   "id": "a7f0f6e1",
   "metadata": {},
   "outputs": [
    {
     "name": "stdout",
     "output_type": "stream",
     "text": [
      "['one', 'three', 'four', 'five']\n"
     ]
    }
   ],
   "source": [
    "#del to remove item based on index position\n",
    "\n",
    "lst = [\"one\",\"two\",\"three\",\"four\",\"five\"]\n",
    "\n",
    "del lst[1]\n",
    "\n",
    "print(lst)"
   ]
  },
  {
   "cell_type": "code",
   "execution_count": 21,
   "id": "d4fec7ce",
   "metadata": {},
   "outputs": [
    {
     "name": "stdout",
     "output_type": "stream",
     "text": [
      "['one', 'two', 'three', 'four']\n",
      "four\n"
     ]
    }
   ],
   "source": [
    "lst = [\"one\", \"two\",\"three\",\"four\"]\n",
    "\n",
    "print(lst)\n",
    "a = lst.pop()\n",
    "\n",
    "print(a)"
   ]
  },
  {
   "cell_type": "code",
   "execution_count": 23,
   "id": "58e36587",
   "metadata": {},
   "outputs": [
    {
     "name": "stdout",
     "output_type": "stream",
     "text": [
      "['one', 'two', 'four']\n"
     ]
    }
   ],
   "source": [
    "lst = [\"one\", \"two\",\"three\",\"four\"]\n",
    "\n",
    "#remove an item from list\n",
    "lst.remove(\"three\")\n",
    "\n",
    "print(lst)"
   ]
  },
  {
   "cell_type": "markdown",
   "id": "36faf4c9",
   "metadata": {},
   "source": [
    "# List related keywords in Python"
   ]
  },
  {
   "cell_type": "code",
   "execution_count": 24,
   "id": "47d177c2",
   "metadata": {},
   "outputs": [
    {
     "name": "stdout",
     "output_type": "stream",
     "text": [
      "AI\n",
      "ML\n"
     ]
    }
   ],
   "source": [
    "#Keyword 'in' is used to test if an item is in a list\n",
    "\n",
    "lst = [\"one\",\"two\",\"three\",\"four\"]\n",
    "\n",
    "if \"two\" in lst:\n",
    "    print(\"AI\")\n",
    "\n",
    "#Keyword \"not\" can combined with \"in\"\n",
    "\n",
    "if \"six\" not in lst:\n",
    "    print(\"ML\")"
   ]
  },
  {
   "cell_type": "markdown",
   "id": "69ad2ba2",
   "metadata": {},
   "source": [
    "# List Reverse"
   ]
  },
  {
   "cell_type": "code",
   "execution_count": 25,
   "id": "3a44d077",
   "metadata": {},
   "outputs": [
    {
     "name": "stdout",
     "output_type": "stream",
     "text": [
      "['four', 'three', 'two', 'one']\n"
     ]
    }
   ],
   "source": [
    "lst = [\"one\",\"two\",\"three\",\"four\"]\n",
    "\n",
    "lst.reverse()\n",
    "\n",
    "print(lst)"
   ]
  },
  {
   "cell_type": "markdown",
   "id": "814d07bc",
   "metadata": {},
   "source": [
    "# List Sorting\n",
    "The easiest way to sort a List is with the sorted(list) function.\n",
    "\n",
    "That takes a list and returns a new list with those elements in sorted order.\n",
    "\n",
    "The original list is not changed.\n",
    "\n",
    "The sorted() optional argument reverse=True, e.g. sorted(list, reverse=True), makes it sort backwards."
   ]
  },
  {
   "cell_type": "code",
   "execution_count": 26,
   "id": "f25c7852",
   "metadata": {},
   "outputs": [
    {
     "name": "stdout",
     "output_type": "stream",
     "text": [
      "Sorted list : [1, 2, 3, 6, 8]\n",
      "Original List:  [3, 1, 6, 2, 8]\n"
     ]
    }
   ],
   "source": [
    "#Create a list with numbers\n",
    "\n",
    "numbers = [3,1,6,2,8]\n",
    "\n",
    "sorted_lst = sorted(numbers)\n",
    "\n",
    "print(\"Sorted list :\",sorted_lst)\n",
    "\n",
    "#original list remain unchanged\n",
    "print(\"Original List: \",numbers)"
   ]
  },
  {
   "cell_type": "code",
   "execution_count": 27,
   "id": "a584b1d4",
   "metadata": {},
   "outputs": [
    {
     "name": "stdout",
     "output_type": "stream",
     "text": [
      "reverse sorted list : [8, 6, 3, 2, 1]\n",
      "Original list :  [3, 1, 6, 2, 8]\n"
     ]
    }
   ],
   "source": [
    "#print a list in reverse sorted order\n",
    "\n",
    "print(\"reverse sorted list :\",sorted(numbers, reverse=True))\n",
    "\n",
    "#original list remain unchanged\n",
    "print(\"Original list : \",numbers)"
   ]
  },
  {
   "cell_type": "code",
   "execution_count": 29,
   "id": "01ed9cb4",
   "metadata": {},
   "outputs": [
    {
     "name": "stdout",
     "output_type": "stream",
     "text": [
      "Sorted List : [1, 4, 5, 5.5, 6, 6, 20]\n"
     ]
    }
   ],
   "source": [
    "lst = [1,20,4,5,6,6,5.5]\n",
    "\n",
    "lst.sort()\n",
    "\n",
    "print(\"Sorted List :\",lst)"
   ]
  },
  {
   "cell_type": "code",
   "execution_count": 32,
   "id": "8d9c8ac8",
   "metadata": {},
   "outputs": [
    {
     "ename": "TypeError",
     "evalue": "'<' not supported between instances of 'str' and 'int'",
     "output_type": "error",
     "traceback": [
      "\u001b[1;31m---------------------------------------------------------------------------\u001b[0m",
      "\u001b[1;31mTypeError\u001b[0m                                 Traceback (most recent call last)",
      "\u001b[1;32m~\\AppData\\Local\\Temp/ipykernel_16512/2631994530.py\u001b[0m in \u001b[0;36m<module>\u001b[1;34m\u001b[0m\n\u001b[0;32m      3\u001b[0m \u001b[0mlst\u001b[0m \u001b[1;33m=\u001b[0m \u001b[1;33m[\u001b[0m\u001b[1;36m1\u001b[0m\u001b[1;33m,\u001b[0m\u001b[1;36m2\u001b[0m\u001b[1;33m,\u001b[0m\u001b[1;36m3\u001b[0m\u001b[1;33m,\u001b[0m\u001b[1;34m'a'\u001b[0m\u001b[1;33m,\u001b[0m\u001b[1;34m'b'\u001b[0m\u001b[1;33m,\u001b[0m\u001b[1;34m'c'\u001b[0m\u001b[1;33m]\u001b[0m\u001b[1;33m\u001b[0m\u001b[1;33m\u001b[0m\u001b[0m\n\u001b[0;32m      4\u001b[0m \u001b[1;33m\u001b[0m\u001b[0m\n\u001b[1;32m----> 5\u001b[1;33m \u001b[0mprint\u001b[0m\u001b[1;33m(\u001b[0m\u001b[0mlst\u001b[0m\u001b[1;33m.\u001b[0m\u001b[0msort\u001b[0m\u001b[1;33m(\u001b[0m\u001b[1;33m)\u001b[0m\u001b[1;33m)\u001b[0m\u001b[1;33m\u001b[0m\u001b[1;33m\u001b[0m\u001b[0m\n\u001b[0m",
      "\u001b[1;31mTypeError\u001b[0m: '<' not supported between instances of 'str' and 'int'"
     ]
    }
   ],
   "source": [
    "#Will throw an error if you try to sort diiferent data types in a list\n",
    "\n",
    "lst = [1,2,3,'a','b','c']\n",
    "\n",
    "print(lst.sort())"
   ]
  },
  {
   "cell_type": "markdown",
   "id": "73ac7c05",
   "metadata": {},
   "source": [
    "# List having Multiple References"
   ]
  },
  {
   "cell_type": "code",
   "execution_count": 34,
   "id": "406ca0c9",
   "metadata": {},
   "outputs": [
    {
     "name": "stdout",
     "output_type": "stream",
     "text": [
      "Original List : [1, 2, 3, 4, 5, 6]\n",
      "abc is : [1, 2, 3, 4, 5, 6]\n"
     ]
    }
   ],
   "source": [
    "lst = [1,2,3,4,5]\n",
    "\n",
    "abc = lst\n",
    "abc.append(6)\n",
    "\n",
    "print(\"Original List :\",lst)\n",
    "\n",
    "print(\"abc is :\",abc)"
   ]
  },
  {
   "cell_type": "markdown",
   "id": "91c6cdf0",
   "metadata": {},
   "source": [
    "# String Split to create a list"
   ]
  },
  {
   "cell_type": "code",
   "execution_count": 36,
   "id": "ca966e4c",
   "metadata": {},
   "outputs": [
    {
     "name": "stdout",
     "output_type": "stream",
     "text": [
      "['one', 'two', 'three', 'four', 'five']\n"
     ]
    }
   ],
   "source": [
    "str_1 = \"one,two,three,four,five\"\n",
    "\n",
    "str_1_lst = s.split(',')\n",
    "print(str_1_lst)"
   ]
  },
  {
   "cell_type": "code",
   "execution_count": 37,
   "id": "63e5fc8c",
   "metadata": {},
   "outputs": [
    {
     "data": {
      "text/plain": [
       "[\"Let's\", 'learn', 'python', 'together.']"
      ]
     },
     "execution_count": 37,
     "metadata": {},
     "output_type": "execute_result"
    }
   ],
   "source": [
    "str_2 = \"Let's learn python together.\"\n",
    "\n",
    "str_2.split()"
   ]
  },
  {
   "cell_type": "markdown",
   "id": "712b53c4",
   "metadata": {},
   "source": [
    "# List Indexing\n",
    "Each item in the list has an assigned index value starting from 0.\n",
    "\n",
    "Accessing elements in a list is called indexing."
   ]
  },
  {
   "cell_type": "code",
   "execution_count": 38,
   "id": "45b58b17",
   "metadata": {},
   "outputs": [
    {
     "name": "stdout",
     "output_type": "stream",
     "text": [
      "2\n"
     ]
    }
   ],
   "source": [
    "num_list = [1, 2, 3, 4]\n",
    "print(num_list[1])"
   ]
  },
  {
   "cell_type": "markdown",
   "id": "154f37d7",
   "metadata": {},
   "source": [
    "# List Slicing\n",
    "\n",
    "Accessing parts of segments is called slicing.\n",
    "\n",
    "The key point to remember is that the :end value represents the first value that is not in the selected slice."
   ]
  },
  {
   "cell_type": "code",
   "execution_count": 39,
   "id": "9e1d1ff8",
   "metadata": {},
   "outputs": [
    {
     "name": "stdout",
     "output_type": "stream",
     "text": [
      "[10, 20, 30, 40, 50, 60, 70]\n",
      "[10, 20, 30, 40]\n"
     ]
    }
   ],
   "source": [
    "numbers = [10,20,30,40,50,60,70]\n",
    "\n",
    "#print all numbers\n",
    "print(numbers[:])\n",
    "\n",
    "#print from index 0 to index 4\n",
    "\n",
    "print(numbers[0:4])"
   ]
  },
  {
   "cell_type": "code",
   "execution_count": 41,
   "id": "549aea51",
   "metadata": {},
   "outputs": [
    {
     "name": "stdout",
     "output_type": "stream",
     "text": [
      "[10, 20, 30, 40, 50, 60, 70]\n",
      "[10, 30, 50, 70]\n",
      "[30, 50, 70]\n"
     ]
    }
   ],
   "source": [
    "print(numbers)\n",
    "\n",
    "#print alternate elements in a list\n",
    "print(numbers[::2])\n",
    "\n",
    "#print elements start from 2 through rest of the list (alternatively)\n",
    "print(numbers[2::2])\n"
   ]
  },
  {
   "cell_type": "markdown",
   "id": "de6e2194",
   "metadata": {},
   "source": [
    "# List extend using \"+\"\n"
   ]
  },
  {
   "cell_type": "code",
   "execution_count": 42,
   "id": "815f5260",
   "metadata": {},
   "outputs": [
    {
     "name": "stdout",
     "output_type": "stream",
     "text": [
      "[1, 2, 3, 4, 'Hello', 'world']\n"
     ]
    }
   ],
   "source": [
    "list1 = [1,2,3,4]\n",
    "list2 = [\"Hello\",\"world\"]\n",
    "\n",
    "new_list = list1 + list2\n",
    "\n",
    "print(new_list)"
   ]
  },
  {
   "cell_type": "markdown",
   "id": "ae5353ad",
   "metadata": {},
   "source": [
    "# List Count"
   ]
  },
  {
   "cell_type": "code",
   "execution_count": 43,
   "id": "7a6bba18",
   "metadata": {},
   "outputs": [
    {
     "name": "stdout",
     "output_type": "stream",
     "text": [
      "5\n",
      "2\n"
     ]
    }
   ],
   "source": [
    "numbers = [1, 2, 3, 1, 3, 1, 1, 1, 5, 9, 7, 8]\n",
    "print(numbers.count(1))\n",
    "\n",
    "print(numbers.count(3))"
   ]
  },
  {
   "cell_type": "markdown",
   "id": "a3935ddb",
   "metadata": {},
   "source": [
    "# List Looping"
   ]
  },
  {
   "cell_type": "code",
   "execution_count": 45,
   "id": "46a0ca85",
   "metadata": {},
   "outputs": [
    {
     "name": "stdout",
     "output_type": "stream",
     "text": [
      "one\n",
      "two\n",
      "three\n",
      "four\n"
     ]
    }
   ],
   "source": [
    "list1 = ['one', 'two', 'three', 'four']\n",
    "\n",
    "for i in list1:\n",
    "    print(i)"
   ]
  },
  {
   "cell_type": "markdown",
   "id": "6d1c7974",
   "metadata": {},
   "source": [
    "# List Comprehension\n",
    "List comprehensions provide a concise way to create lists.\n",
    "\n",
    "Common applications are to make new lists where each element is the result of some operations applied to each member of another sequence or iterable, or to create a subsequence of those elements that satisfy a certain condition."
   ]
  },
  {
   "cell_type": "markdown",
   "id": "9bd2fb29",
   "metadata": {},
   "source": [
    "# Calculate squares of numbers from 1 to 10 and Store them in a list\n"
   ]
  },
  {
   "cell_type": "code",
   "execution_count": 46,
   "id": "4b587b5a",
   "metadata": {},
   "outputs": [
    {
     "name": "stdout",
     "output_type": "stream",
     "text": [
      "[0, 1, 4, 9, 16, 25, 36, 49, 64, 81]\n"
     ]
    }
   ],
   "source": [
    "#Without list Comprehension\n",
    "\n",
    "squares = []\n",
    "\n",
    "for i in range(10):\n",
    "    squares.append(i**2)\n",
    "print(squares)"
   ]
  },
  {
   "cell_type": "code",
   "execution_count": 47,
   "id": "7f0205b4",
   "metadata": {},
   "outputs": [
    {
     "name": "stdout",
     "output_type": "stream",
     "text": [
      "[0, 1, 4, 9, 16, 25, 36, 49, 64, 81]\n"
     ]
    }
   ],
   "source": [
    "#Using List Comprehension\n",
    "squares = [i**2 for i in range(10)]\n",
    "print(squares)"
   ]
  },
  {
   "cell_type": "code",
   "execution_count": 49,
   "id": "2dae6d44",
   "metadata": {},
   "outputs": [
    {
     "name": "stdout",
     "output_type": "stream",
     "text": [
      "[-100, 200, 300, 400, -500]\n",
      "[20, 30, 40]\n",
      "[(-10, 100), (20, 400), (30, 900), (40, 1600), (-50, 2500)]\n"
     ]
    }
   ],
   "source": [
    "# More Example\n",
    "\n",
    "list1 = [-10,20,30,40,-50]\n",
    "\n",
    "#create a new list with values multiplied by 10\n",
    "new_list1 = [i * 10 for i in list1]\n",
    "print(new_list1)\n",
    "\n",
    "#filter the list to exclude negative numbers\n",
    "new_list2 = [i for i in list1 if i > 0]\n",
    "print(new_list2)\n",
    "\n",
    "#create of list of tuples with (number,square of number)\n",
    "\n",
    "new_list3 = [(i,i**2) for i in list1]\n",
    "print(new_list3)\n"
   ]
  },
  {
   "cell_type": "markdown",
   "id": "4de99fa5",
   "metadata": {},
   "source": [
    "# Nested List Comprehension"
   ]
  },
  {
   "cell_type": "code",
   "execution_count": 51,
   "id": "62abf0bc",
   "metadata": {},
   "outputs": [
    {
     "name": "stdout",
     "output_type": "stream",
     "text": [
      "[[1, 4, 7], [2, 5, 8], [3, 6, 9]]\n"
     ]
    }
   ],
   "source": [
    "#Let's suppose we have a matrix\n",
    "\n",
    "matrix = [\n",
    "    [1,2,3],\n",
    "    [4,5,6],\n",
    "    [7,8,9]\n",
    "]\n",
    "\n",
    "#Transpose of a matrix without list comprehension\n",
    "transposed = []\n",
    "for i in range(3):\n",
    "    list1 = []\n",
    "    for row in matrix:\n",
    "        list1.append(row[i])\n",
    "    transposed.append(list1)\n",
    "    \n",
    "print(transposed)"
   ]
  },
  {
   "cell_type": "code",
   "execution_count": 52,
   "id": "10f0f4e9",
   "metadata": {},
   "outputs": [
    {
     "name": "stdout",
     "output_type": "stream",
     "text": [
      "[[1, 4, 7], [2, 5, 8], [3, 6, 9]]\n"
     ]
    }
   ],
   "source": [
    "#Let's suppose we have a matrix\n",
    "\n",
    "matrix = [\n",
    "    [1,2,3],\n",
    "    [4,5,6],\n",
    "    [7,8,9]\n",
    "]\n",
    "\n",
    "#Transpose of a matrix with list comprehension\n",
    "\n",
    "transposed = [[row[i] for row in matrix] for i in range(3)]\n",
    "\n",
    "print(transposed)"
   ]
  },
  {
   "cell_type": "markdown",
   "id": "1fe3a6ee",
   "metadata": {},
   "source": [
    "# Tuples\n",
    "- A tuple is similar to list\n",
    "\n",
    "- The diffence between the two is that we can't change the elements of tuple once it is assigned whereas in the list, elements can be changed"
   ]
  },
  {
   "cell_type": "markdown",
   "id": "38c8e77f",
   "metadata": {},
   "source": [
    "# Tuple Creation"
   ]
  },
  {
   "cell_type": "code",
   "execution_count": 55,
   "id": "d5cbbd95",
   "metadata": {},
   "outputs": [
    {
     "name": "stdout",
     "output_type": "stream",
     "text": [
      "()\n",
      "(1, 'Hello', '08', 'world')\n",
      "(5, (1, 2), [3, 4, 5, 6])\n"
     ]
    }
   ],
   "source": [
    "#empty tuple\n",
    "t = ()\n",
    "\n",
    "#tuple having integers\n",
    "t1 = (1, 2, 3)\n",
    "print(t)\n",
    "\n",
    "#tuple with mixed datatypes\n",
    "t2 = (1, 'Hello', '08', 'world')\n",
    "print(t2)\n",
    "\n",
    "#nested tuple\n",
    "t3 = (5, (1,2), [3,4,5,6])\n",
    "print(t3)"
   ]
  },
  {
   "cell_type": "code",
   "execution_count": 56,
   "id": "5e241834",
   "metadata": {},
   "outputs": [
    {
     "data": {
      "text/plain": [
       "str"
      ]
     },
     "execution_count": 56,
     "metadata": {},
     "output_type": "execute_result"
    }
   ],
   "source": [
    "#Only Parenthesis is not enough\n",
    "\n",
    "t1 = (\"Hello world\")\n",
    "type(t1)"
   ]
  },
  {
   "cell_type": "code",
   "execution_count": 57,
   "id": "1a0c47d4",
   "metadata": {},
   "outputs": [
    {
     "data": {
      "text/plain": [
       "tuple"
      ]
     },
     "execution_count": 57,
     "metadata": {},
     "output_type": "execute_result"
    }
   ],
   "source": [
    "#need a comma at the end\n",
    "t1 = (\"Hello world\",)\n",
    "type(t1)"
   ]
  },
  {
   "cell_type": "code",
   "execution_count": 58,
   "id": "5c210410",
   "metadata": {},
   "outputs": [
    {
     "name": "stdout",
     "output_type": "stream",
     "text": [
      "world\n"
     ]
    }
   ],
   "source": [
    "#Accessing elements in a Tuple\n",
    "\n",
    "t1 = (\"Hello\",\"world\",\"Let's\",\"learn\",\"Python\")\n",
    "\n",
    "print(t1[1])"
   ]
  },
  {
   "cell_type": "code",
   "execution_count": 59,
   "id": "d701a9c0",
   "metadata": {},
   "outputs": [
    {
     "name": "stdout",
     "output_type": "stream",
     "text": [
      "Python\n"
     ]
    }
   ],
   "source": [
    "#negative index\n",
    "print(t1[-1])"
   ]
  },
  {
   "cell_type": "code",
   "execution_count": 61,
   "id": "a9a35368",
   "metadata": {},
   "outputs": [
    {
     "name": "stdout",
     "output_type": "stream",
     "text": [
      "ABC\n",
      "('Hello', 'world')\n",
      "world\n"
     ]
    }
   ],
   "source": [
    "#nested tuple\n",
    "t1 = (\"ABC\",(\"Hello\",\"world\"))\n",
    "print(t1[0])\n",
    "print(t1[1])\n",
    "print(t1[1][1])"
   ]
  },
  {
   "cell_type": "code",
   "execution_count": 64,
   "id": "d342d244",
   "metadata": {},
   "outputs": [
    {
     "name": "stdout",
     "output_type": "stream",
     "text": [
      "(1, 2, 3, 4, 5, 6, 7, 8)\n",
      "(2, 3, 4)\n",
      "(1, 2, 3, 4, 5, 6)\n",
      "(1, 3, 5, 7)\n"
     ]
    }
   ],
   "source": [
    "#Slicing a tuple\n",
    "\n",
    "t1 = (1,2,3,4,5,6,7,8)\n",
    "\n",
    "#print elements from start to end\n",
    "print(t1[:])\n",
    "\n",
    "#print elements from index 1 to index 4(index4 is excluded)\n",
    "print(t1[1:4])\n",
    "\n",
    "#print element only upto second last element\n",
    "print(t1[:-2])\n",
    "\n",
    "#print alternate elements\n",
    "print(t1[::2])"
   ]
  },
  {
   "cell_type": "markdown",
   "id": "239f17e6",
   "metadata": {},
   "source": [
    "# Changing a tuple \n",
    "- Unlike lists, tuples are immutable.\n",
    "- This means that elements of a tuple cannot be changed once it has been assigned. But, if the element is itself a mutable datatype like list, its nested items can be changed."
   ]
  },
  {
   "cell_type": "code",
   "execution_count": 66,
   "id": "a56d9d70",
   "metadata": {},
   "outputs": [
    {
     "ename": "TypeError",
     "evalue": "'tuple' object does not support item assignment",
     "output_type": "error",
     "traceback": [
      "\u001b[1;31m---------------------------------------------------------------------------\u001b[0m",
      "\u001b[1;31mTypeError\u001b[0m                                 Traceback (most recent call last)",
      "\u001b[1;32m~\\AppData\\Local\\Temp/ipykernel_16512/2265204267.py\u001b[0m in \u001b[0;36m<module>\u001b[1;34m\u001b[0m\n\u001b[0;32m      3\u001b[0m \u001b[0mt1\u001b[0m \u001b[1;33m=\u001b[0m \u001b[1;33m(\u001b[0m\u001b[1;36m1\u001b[0m\u001b[1;33m,\u001b[0m\u001b[1;36m2\u001b[0m\u001b[1;33m,\u001b[0m\u001b[1;36m3\u001b[0m\u001b[1;33m,\u001b[0m\u001b[1;36m4\u001b[0m\u001b[1;33m,\u001b[0m\u001b[1;36m5\u001b[0m\u001b[1;33m)\u001b[0m\u001b[1;33m\u001b[0m\u001b[1;33m\u001b[0m\u001b[0m\n\u001b[0;32m      4\u001b[0m \u001b[1;33m\u001b[0m\u001b[0m\n\u001b[1;32m----> 5\u001b[1;33m \u001b[0mt1\u001b[0m\u001b[1;33m[\u001b[0m\u001b[1;36m2\u001b[0m\u001b[1;33m]\u001b[0m \u001b[1;33m=\u001b[0m \u001b[1;36m10\u001b[0m\u001b[1;33m\u001b[0m\u001b[1;33m\u001b[0m\u001b[0m\n\u001b[0m\u001b[0;32m      6\u001b[0m \u001b[0mprint\u001b[0m\u001b[1;33m(\u001b[0m\u001b[0mt1\u001b[0m\u001b[1;33m)\u001b[0m\u001b[1;33m\u001b[0m\u001b[1;33m\u001b[0m\u001b[0m\n",
      "\u001b[1;31mTypeError\u001b[0m: 'tuple' object does not support item assignment"
     ]
    }
   ],
   "source": [
    "#example - Will throw Type Error\n",
    "\n",
    "t1 = (1,2,3,4,5)\n",
    "\n",
    "t1[2] = 10 \n",
    "print(t1)"
   ]
  },
  {
   "cell_type": "code",
   "execution_count": 67,
   "id": "16c4dece",
   "metadata": {},
   "outputs": [
    {
     "name": "stdout",
     "output_type": "stream",
     "text": [
      "(1, 2, 3, [10, 5, 6])\n"
     ]
    }
   ],
   "source": [
    "t1 = (1,2,3,[4,5,6])\n",
    "\n",
    "t1[3][0] = 10\n",
    "\n",
    "print(t1)"
   ]
  },
  {
   "cell_type": "code",
   "execution_count": 68,
   "id": "a9d9886e",
   "metadata": {},
   "outputs": [
    {
     "name": "stdout",
     "output_type": "stream",
     "text": [
      "(1, 2, 3, 4, 5, 6)\n"
     ]
    }
   ],
   "source": [
    "#Concatinating Tuples\n",
    "\n",
    "t1 = (1,2,3)\n",
    "t2 = (4,5,6)\n",
    "\n",
    "t = t1 + t2\n",
    "print(t)"
   ]
  },
  {
   "cell_type": "code",
   "execution_count": 69,
   "id": "74362403",
   "metadata": {},
   "outputs": [
    {
     "name": "stdout",
     "output_type": "stream",
     "text": [
      "('Hello', 'Hello', 'Hello', 'Hello', 'Hello')\n"
     ]
    }
   ],
   "source": [
    "#repeat the element in a tuple using a * operator\n",
    "\n",
    "t = ((\"Hello\",)*5)\n",
    "\n",
    "print(t)"
   ]
  },
  {
   "cell_type": "markdown",
   "id": "f68b428f",
   "metadata": {},
   "source": [
    "# Tuple Deletion\n",
    "\n",
    "- We cannot change the elements in a tuple.\n",
    "- That also means we cannot delete or remove items from a tuple\n",
    "\n",
    "\n"
   ]
  },
  {
   "cell_type": "code",
   "execution_count": 72,
   "id": "794a0cf6",
   "metadata": {},
   "outputs": [],
   "source": [
    "#delete entire tuple using del keyword\n",
    "\n",
    "t = (1,2,3,4,5,6)\n",
    "\n",
    "#delete entire tuple\n",
    "del t"
   ]
  },
  {
   "cell_type": "markdown",
   "id": "1c801c7e",
   "metadata": {},
   "source": [
    "# Tuple Count"
   ]
  },
  {
   "cell_type": "code",
   "execution_count": 73,
   "id": "e99c9e02",
   "metadata": {},
   "outputs": [
    {
     "data": {
      "text/plain": [
       "3"
      ]
     },
     "execution_count": 73,
     "metadata": {},
     "output_type": "execute_result"
    }
   ],
   "source": [
    "t = (1,1,1,2,2,3,4,5,6,7)\n",
    "\n",
    "#get the frequency of particular element appears in a tuple\n",
    "\n",
    "t.count(1)"
   ]
  },
  {
   "cell_type": "markdown",
   "id": "f68da367",
   "metadata": {},
   "source": [
    "# Tuple Index"
   ]
  },
  {
   "cell_type": "code",
   "execution_count": 75,
   "id": "be5c4656",
   "metadata": {},
   "outputs": [
    {
     "name": "stdout",
     "output_type": "stream",
     "text": [
      "2\n"
     ]
    }
   ],
   "source": [
    "t = (1,2,3,1,3,3,4,1)\n",
    "\n",
    "#return the index of first element is equal to 3\n",
    "print(t.index(3))"
   ]
  },
  {
   "cell_type": "code",
   "execution_count": 76,
   "id": "8f01266d",
   "metadata": {},
   "outputs": [
    {
     "name": "stdout",
     "output_type": "stream",
     "text": [
      "0\n"
     ]
    }
   ],
   "source": [
    "#print index of 1\n",
    "\n",
    "print(t.index(1))"
   ]
  },
  {
   "cell_type": "markdown",
   "id": "dd5138ef",
   "metadata": {},
   "source": [
    "# Tuple Membership"
   ]
  },
  {
   "cell_type": "code",
   "execution_count": 77,
   "id": "880f8164",
   "metadata": {},
   "outputs": [
    {
     "name": "stdout",
     "output_type": "stream",
     "text": [
      "True\n"
     ]
    }
   ],
   "source": [
    "#test if an item exists in a tuple or not, using the keyword in\n",
    "\n",
    "t = (1,2,3,4,5)\n",
    "\n",
    "print(3 in t)"
   ]
  },
  {
   "cell_type": "code",
   "execution_count": 78,
   "id": "1924f63e",
   "metadata": {},
   "outputs": [
    {
     "name": "stdout",
     "output_type": "stream",
     "text": [
      "False\n"
     ]
    }
   ],
   "source": [
    "print(7 in t)"
   ]
  },
  {
   "cell_type": "markdown",
   "id": "a01af092",
   "metadata": {},
   "source": [
    "# Built in functions"
   ]
  },
  {
   "cell_type": "markdown",
   "id": "2ea427cb",
   "metadata": {},
   "source": [
    "# Tuple Length"
   ]
  },
  {
   "cell_type": "code",
   "execution_count": 79,
   "id": "4d7ae25d",
   "metadata": {},
   "outputs": [
    {
     "name": "stdout",
     "output_type": "stream",
     "text": [
      "6\n"
     ]
    }
   ],
   "source": [
    "t = (1,2,3,4,5,6)\n",
    "print(len(t))"
   ]
  },
  {
   "cell_type": "markdown",
   "id": "cde0b108",
   "metadata": {},
   "source": [
    "# Tuple Sort"
   ]
  },
  {
   "cell_type": "code",
   "execution_count": 81,
   "id": "e61784fa",
   "metadata": {},
   "outputs": [
    {
     "name": "stdout",
     "output_type": "stream",
     "text": [
      "[1, 2, 3, 4, 4, 5, 6, 7]\n"
     ]
    }
   ],
   "source": [
    "t = (4,5,6,7,1,2,3,4)\n",
    "\n",
    "new_t = sorted(t)\n",
    "print(new_t)"
   ]
  },
  {
   "cell_type": "code",
   "execution_count": 82,
   "id": "01f9bada",
   "metadata": {},
   "outputs": [
    {
     "name": "stdout",
     "output_type": "stream",
     "text": [
      "9\n"
     ]
    }
   ],
   "source": [
    "#get the largest element in a  tuple\n",
    "\n",
    "t = (2,5,1,6,9)\n",
    "\n",
    "print(max(t))"
   ]
  },
  {
   "cell_type": "code",
   "execution_count": 83,
   "id": "259ac7e9",
   "metadata": {},
   "outputs": [
    {
     "name": "stdout",
     "output_type": "stream",
     "text": [
      "1\n"
     ]
    }
   ],
   "source": [
    "#get the smallest element in a tuple\n",
    "\n",
    "t = (2,3,4,5,1,7)\n",
    "\n",
    "print(min(t))"
   ]
  },
  {
   "cell_type": "code",
   "execution_count": 84,
   "id": "f6606479",
   "metadata": {},
   "outputs": [
    {
     "name": "stdout",
     "output_type": "stream",
     "text": [
      "22\n"
     ]
    }
   ],
   "source": [
    "#get sum of all elements in a tuple\n",
    "print(sum(t))"
   ]
  },
  {
   "cell_type": "markdown",
   "id": "ae98f0cf",
   "metadata": {},
   "source": [
    "# Sets \n",
    "\n",
    "- A set is an unordered collection of items. Every element is unique (no duplicates).\n",
    "\n",
    "- The set itself is mutable. We can add or remove items from it.\n",
    "\n",
    "- Sets can be used to perform mathematical set operations like union, intersection, symmetric difference etc."
   ]
  },
  {
   "cell_type": "markdown",
   "id": "66a84aea",
   "metadata": {},
   "source": [
    "# Set Creation"
   ]
  },
  {
   "cell_type": "code",
   "execution_count": 85,
   "id": "3550c5f1",
   "metadata": {},
   "outputs": [
    {
     "name": "stdout",
     "output_type": "stream",
     "text": [
      "{1, 2, 3}\n",
      "<class 'set'>\n"
     ]
    }
   ],
   "source": [
    "#set of integers\n",
    "\n",
    "s = {1,2,3}\n",
    "print(s)\n",
    "\n",
    "#print types of s\n",
    "print(type(s))"
   ]
  },
  {
   "cell_type": "code",
   "execution_count": 86,
   "id": "c71260b7",
   "metadata": {},
   "outputs": [
    {
     "name": "stdout",
     "output_type": "stream",
     "text": [
      "{1, 2, 3, 4, 5}\n"
     ]
    }
   ],
   "source": [
    "#set doesn't allow duplicates. They store only one instance\n",
    "\n",
    "s = {1, 2, 3, 4, 5}\n",
    "\n",
    "print(s)"
   ]
  },
  {
   "cell_type": "code",
   "execution_count": 87,
   "id": "55137b3a",
   "metadata": {},
   "outputs": [
    {
     "name": "stdout",
     "output_type": "stream",
     "text": [
      "{1, 2, 3, 4, 5}\n"
     ]
    }
   ],
   "source": [
    "# We can make set from a list\n",
    "\n",
    "s = set([1,2,3,4,5])\n",
    "print(s)"
   ]
  },
  {
   "cell_type": "code",
   "execution_count": 88,
   "id": "bf6b8fe1",
   "metadata": {},
   "outputs": [
    {
     "name": "stdout",
     "output_type": "stream",
     "text": [
      "<class 'set'>\n"
     ]
    }
   ],
   "source": [
    "#Initialize a set with set() method\n",
    "\n",
    "s = set()\n",
    "\n",
    "print(type(s))"
   ]
  },
  {
   "cell_type": "markdown",
   "id": "bbe53ee3",
   "metadata": {},
   "source": [
    "# Add Element to a Set\n"
   ]
  },
  {
   "cell_type": "code",
   "execution_count": 90,
   "id": "5caf4f6a",
   "metadata": {},
   "outputs": [
    {
     "name": "stdout",
     "output_type": "stream",
     "text": [
      "{1, 3, 5}\n"
     ]
    }
   ],
   "source": [
    "#we can add single element using add() method and\n",
    "#multiple elements using update() method\n",
    "\n",
    "s = {1,3}\n",
    "\n",
    "s.add(5)\n",
    "\n",
    "print(s)"
   ]
  },
  {
   "cell_type": "code",
   "execution_count": 92,
   "id": "0c7eec55",
   "metadata": {},
   "outputs": [
    {
     "ename": "TypeError",
     "evalue": "'set' object is not subscriptable",
     "output_type": "error",
     "traceback": [
      "\u001b[1;31m---------------------------------------------------------------------------\u001b[0m",
      "\u001b[1;31mTypeError\u001b[0m                                 Traceback (most recent call last)",
      "\u001b[1;32m~\\AppData\\Local\\Temp/ipykernel_16512/856872979.py\u001b[0m in \u001b[0;36m<module>\u001b[1;34m\u001b[0m\n\u001b[0;32m      2\u001b[0m \u001b[1;33m\u001b[0m\u001b[0m\n\u001b[0;32m      3\u001b[0m \u001b[0ms\u001b[0m \u001b[1;33m=\u001b[0m \u001b[1;33m{\u001b[0m\u001b[1;36m1\u001b[0m\u001b[1;33m,\u001b[0m\u001b[1;36m3\u001b[0m\u001b[1;33m,\u001b[0m\u001b[1;36m5\u001b[0m\u001b[1;33m}\u001b[0m\u001b[1;33m\u001b[0m\u001b[1;33m\u001b[0m\u001b[0m\n\u001b[1;32m----> 4\u001b[1;33m \u001b[0mprint\u001b[0m\u001b[1;33m(\u001b[0m\u001b[0ms\u001b[0m\u001b[1;33m[\u001b[0m\u001b[1;36m1\u001b[0m\u001b[1;33m]\u001b[0m\u001b[1;33m)\u001b[0m\u001b[1;33m\u001b[0m\u001b[1;33m\u001b[0m\u001b[0m\n\u001b[0m",
      "\u001b[1;31mTypeError\u001b[0m: 'set' object is not subscriptable"
     ]
    }
   ],
   "source": [
    "#Set object doesn't support indexing\n",
    "\n",
    "s = {1,3,5}\n",
    "print(s[1])"
   ]
  },
  {
   "cell_type": "code",
   "execution_count": 95,
   "id": "cd368a5c",
   "metadata": {},
   "outputs": [
    {
     "name": "stdout",
     "output_type": "stream",
     "text": [
      "{1, 2, 3, 4, 5, 7}\n"
     ]
    }
   ],
   "source": [
    "# Add Multiple Elements\n",
    "\n",
    "s = {1,3,5}\n",
    "s.update([2,4,7])\n",
    "\n",
    "print(s)"
   ]
  },
  {
   "cell_type": "code",
   "execution_count": 97,
   "id": "b023337a",
   "metadata": {},
   "outputs": [
    {
     "name": "stdout",
     "output_type": "stream",
     "text": [
      "{1, 2, 4, 6, 10, 11, 12}\n"
     ]
    }
   ],
   "source": [
    "#Add List and set\n",
    "\n",
    "s = {1,2}\n",
    "s.update([11,12],{10,4,6})\n",
    "print(s)"
   ]
  },
  {
   "cell_type": "markdown",
   "id": "c4e9f1aa",
   "metadata": {},
   "source": [
    "# Remove elements from a Set"
   ]
  },
  {
   "cell_type": "code",
   "execution_count": 100,
   "id": "afb00943",
   "metadata": {},
   "outputs": [
    {
     "name": "stdout",
     "output_type": "stream",
     "text": [
      "{1, 2, 3, 4, 5}\n",
      "{1, 2, 3, 5}\n"
     ]
    }
   ],
   "source": [
    "#A particular item can be removed from set from using methods\n",
    "# discard() and remove()\n",
    "\n",
    "s = {1, 2, 3, 4, 5}\n",
    "print(s)\n",
    "\n",
    "s.discard(4) #4 is removed from set s\n",
    "print(s)"
   ]
  },
  {
   "cell_type": "code",
   "execution_count": 103,
   "id": "1495b5c4",
   "metadata": {},
   "outputs": [
    {
     "name": "stdout",
     "output_type": "stream",
     "text": [
      "{1, 2, 3, 4, 5}\n",
      "{1, 3, 4, 5}\n"
     ]
    }
   ],
   "source": [
    "#remove an element\n",
    "\n",
    "s = {1,2,3,4,5}\n",
    "print(s)\n",
    "\n",
    "s.remove(2)\n",
    "print(s)"
   ]
  },
  {
   "cell_type": "code",
   "execution_count": 104,
   "id": "ac302f86",
   "metadata": {},
   "outputs": [
    {
     "ename": "KeyError",
     "evalue": "7",
     "output_type": "error",
     "traceback": [
      "\u001b[1;31m---------------------------------------------------------------------------\u001b[0m",
      "\u001b[1;31mKeyError\u001b[0m                                  Traceback (most recent call last)",
      "\u001b[1;32m~\\AppData\\Local\\Temp/ipykernel_16512/587602305.py\u001b[0m in \u001b[0;36m<module>\u001b[1;34m\u001b[0m\n\u001b[0;32m      3\u001b[0m \u001b[1;33m\u001b[0m\u001b[0m\n\u001b[0;32m      4\u001b[0m \u001b[0ms\u001b[0m \u001b[1;33m=\u001b[0m \u001b[1;33m{\u001b[0m\u001b[1;36m1\u001b[0m\u001b[1;33m,\u001b[0m\u001b[1;36m2\u001b[0m\u001b[1;33m,\u001b[0m\u001b[1;36m3\u001b[0m\u001b[1;33m,\u001b[0m\u001b[1;36m4\u001b[0m\u001b[1;33m,\u001b[0m\u001b[1;36m5\u001b[0m\u001b[1;33m}\u001b[0m\u001b[1;33m\u001b[0m\u001b[1;33m\u001b[0m\u001b[0m\n\u001b[1;32m----> 5\u001b[1;33m \u001b[0ms\u001b[0m\u001b[1;33m.\u001b[0m\u001b[0mremove\u001b[0m\u001b[1;33m(\u001b[0m\u001b[1;36m7\u001b[0m\u001b[1;33m)\u001b[0m\u001b[1;33m\u001b[0m\u001b[1;33m\u001b[0m\u001b[0m\n\u001b[0m",
      "\u001b[1;31mKeyError\u001b[0m: 7"
     ]
    }
   ],
   "source": [
    "#If you rermove an element not present in the set Will throw a KEYERROR\n",
    "#Whereas discarding the element will not throw an error\n",
    "\n",
    "s = {1,2,3,4,5}\n",
    "s.remove(7)"
   ]
  },
  {
   "cell_type": "code",
   "execution_count": 105,
   "id": "b323112a",
   "metadata": {},
   "outputs": [
    {
     "name": "stdout",
     "output_type": "stream",
     "text": [
      "{1, 2, 3, 4, 5}\n"
     ]
    }
   ],
   "source": [
    "s = {1,2,3,4,5}\n",
    "s.discard(7)\n",
    "print(s)"
   ]
  },
  {
   "cell_type": "code",
   "execution_count": 106,
   "id": "03662513",
   "metadata": {},
   "outputs": [
    {
     "name": "stdout",
     "output_type": "stream",
     "text": [
      "{2, 3, 4, 5}\n"
     ]
    }
   ],
   "source": [
    "# We can remove an element using a pop() method\n",
    "\n",
    "#pop() will remove an random element\n",
    "\n",
    "s = {1,2,3,4,5}\n",
    "s.pop()\n",
    "\n",
    "print(s)"
   ]
  },
  {
   "cell_type": "code",
   "execution_count": 108,
   "id": "9f26ed73",
   "metadata": {},
   "outputs": [
    {
     "name": "stdout",
     "output_type": "stream",
     "text": [
      "set()\n"
     ]
    }
   ],
   "source": [
    "#remove all element in a set using clear method\n",
    "\n",
    "s = {1,2,3,4,5}\n",
    "\n",
    "s.clear()\n",
    "print(s)"
   ]
  },
  {
   "cell_type": "markdown",
   "id": "f4af59f3",
   "metadata": {},
   "source": [
    "# Python Set Operations"
   ]
  },
  {
   "cell_type": "code",
   "execution_count": 110,
   "id": "8a304dfc",
   "metadata": {},
   "outputs": [
    {
     "name": "stdout",
     "output_type": "stream",
     "text": [
      "{1, 2, 3, 4, 5, 6, 7, 10}\n"
     ]
    }
   ],
   "source": [
    "set1 = {1, 2, 3, 4, 5}\n",
    "set2 = {6, 7, 5, 3, 10}\n",
    " \n",
    "#union of 2 sets using | operator\n",
    "\n",
    "print(set1 | set2)"
   ]
  },
  {
   "cell_type": "code",
   "execution_count": 111,
   "id": "117f0468",
   "metadata": {},
   "outputs": [
    {
     "name": "stdout",
     "output_type": "stream",
     "text": [
      "{1, 2, 3, 4, 5, 6, 7, 10}\n"
     ]
    }
   ],
   "source": [
    "#another way of getting union of 2 sets\n",
    "\n",
    "print(set1.union(set2))"
   ]
  },
  {
   "cell_type": "code",
   "execution_count": 112,
   "id": "ecf07b5f",
   "metadata": {},
   "outputs": [
    {
     "name": "stdout",
     "output_type": "stream",
     "text": [
      "{3, 5, 6, 7, 10}\n"
     ]
    }
   ],
   "source": [
    "#use intersection function\n",
    "\n",
    "print(set.intersection(set2))"
   ]
  },
  {
   "cell_type": "code",
   "execution_count": 114,
   "id": "c2e91a12",
   "metadata": {},
   "outputs": [
    {
     "name": "stdout",
     "output_type": "stream",
     "text": [
      "{1, 2, 4}\n"
     ]
    }
   ],
   "source": [
    "#set difference : set of elements that are only in set1 but not in set2\n",
    "\n",
    "print(set1 - set2)"
   ]
  },
  {
   "cell_type": "code",
   "execution_count": 115,
   "id": "a9334bd0",
   "metadata": {},
   "outputs": [
    {
     "name": "stdout",
     "output_type": "stream",
     "text": [
      "{3, 5, 6, 7, 10}\n"
     ]
    }
   ],
   "source": [
    "#use difference function\n",
    "\n",
    "print(set.difference(set2))"
   ]
  },
  {
   "cell_type": "markdown",
   "id": "c4a47a37",
   "metadata": {},
   "source": [
    "- Symmetric difference: set of elements in both set1 and set2, except those that are common in both\n",
    "\n",
    "- use ^ operator"
   ]
  },
  {
   "cell_type": "code",
   "execution_count": 117,
   "id": "55b58659",
   "metadata": {},
   "outputs": [
    {
     "name": "stdout",
     "output_type": "stream",
     "text": [
      "{1, 2, 4, 6, 7, 10}\n"
     ]
    }
   ],
   "source": [
    "#Symmetric Difference\n",
    "\n",
    "#use ^ operator\n",
    "\n",
    "print(set1^set2)"
   ]
  },
  {
   "cell_type": "code",
   "execution_count": 118,
   "id": "533d4d84",
   "metadata": {},
   "outputs": [
    {
     "name": "stdout",
     "output_type": "stream",
     "text": [
      "{1, 2, 4, 6, 7, 10}\n"
     ]
    }
   ],
   "source": [
    "#use symmetric difference function\n",
    "print(set1.symmetric_difference(set2))"
   ]
  },
  {
   "cell_type": "code",
   "execution_count": 119,
   "id": "85790b15",
   "metadata": {},
   "outputs": [
    {
     "name": "stdout",
     "output_type": "stream",
     "text": [
      "Set 'x' is subset of 'y' ? False\n",
      "Set 'y' is a subset of 'x'? True\n"
     ]
    }
   ],
   "source": [
    "#Find issubset()\n",
    "\n",
    "x = {\"a\",\"b\",\"c\",\"d\",\"e\",\"f\"}\n",
    "y = {\"c\",\"d\"}\n",
    "\n",
    "#check x is a subset of y\n",
    "print(\"Set 'x' is subset of 'y' ?\", x.issubset(y))\n",
    "\n",
    "#check y is a subset of x\n",
    "print(\"Set 'y' is a subset of 'x'?\",y.issubset(x))"
   ]
  },
  {
   "cell_type": "markdown",
   "id": "17721248",
   "metadata": {},
   "source": [
    "# Frozen Sets\n",
    "\n",
    "- Frozen sets has the characteristics of sets, but they can't be changed once it's assigned. While tuple are immutable lists, frozen sets are immutable sets\n",
    "\n",
    "- Frozensets can be created using the function frozenset()\n",
    "\n",
    "- Sets being mutable are unhashable, so they can't be used as dictionary keys. On the other hand, frozensets are hashable and can be used as keys to a dictionary.\n",
    "\n",
    "- This datatype supports methods like copy(), difference(), intersection(), isdisjoint(), issubset(), issuperset(), symmetric_difference() and union(). Being immutable it does not have method that add or remove elements."
   ]
  },
  {
   "cell_type": "code",
   "execution_count": 120,
   "id": "bb4fa233",
   "metadata": {},
   "outputs": [
    {
     "ename": "AttributeError",
     "evalue": "'frozenset' object has no attribute 'add'",
     "output_type": "error",
     "traceback": [
      "\u001b[1;31m---------------------------------------------------------------------------\u001b[0m",
      "\u001b[1;31mAttributeError\u001b[0m                            Traceback (most recent call last)",
      "\u001b[1;32m~\\AppData\\Local\\Temp/ipykernel_16512/4093240989.py\u001b[0m in \u001b[0;36m<module>\u001b[1;34m\u001b[0m\n\u001b[0;32m      3\u001b[0m \u001b[1;33m\u001b[0m\u001b[0m\n\u001b[0;32m      4\u001b[0m \u001b[1;31m#try to add element into set1 gives an error\u001b[0m\u001b[1;33m\u001b[0m\u001b[1;33m\u001b[0m\u001b[0m\n\u001b[1;32m----> 5\u001b[1;33m \u001b[0mset1\u001b[0m\u001b[1;33m.\u001b[0m\u001b[0madd\u001b[0m\u001b[1;33m(\u001b[0m\u001b[1;36m5\u001b[0m\u001b[1;33m)\u001b[0m\u001b[1;33m\u001b[0m\u001b[1;33m\u001b[0m\u001b[0m\n\u001b[0m",
      "\u001b[1;31mAttributeError\u001b[0m: 'frozenset' object has no attribute 'add'"
     ]
    }
   ],
   "source": [
    "set1 = frozenset([1, 2, 3, 4])\n",
    "set2 = frozenset([3, 4, 5, 6])\n",
    "\n",
    "#try to add element into set1 gives an error\n",
    "set1.add(5)"
   ]
  },
  {
   "cell_type": "code",
   "execution_count": 121,
   "id": "6c4f6f81",
   "metadata": {},
   "outputs": [
    {
     "ename": "TypeError",
     "evalue": "'frozenset' object is not subscriptable",
     "output_type": "error",
     "traceback": [
      "\u001b[1;31m---------------------------------------------------------------------------\u001b[0m",
      "\u001b[1;31mTypeError\u001b[0m                                 Traceback (most recent call last)",
      "\u001b[1;32m~\\AppData\\Local\\Temp/ipykernel_16512/1128468866.py\u001b[0m in \u001b[0;36m<module>\u001b[1;34m\u001b[0m\n\u001b[0;32m      1\u001b[0m \u001b[1;31m#frozenset doesn't support indexing\u001b[0m\u001b[1;33m\u001b[0m\u001b[1;33m\u001b[0m\u001b[0m\n\u001b[0;32m      2\u001b[0m \u001b[1;33m\u001b[0m\u001b[0m\n\u001b[1;32m----> 3\u001b[1;33m \u001b[0mprint\u001b[0m\u001b[1;33m(\u001b[0m\u001b[0mset1\u001b[0m\u001b[1;33m[\u001b[0m\u001b[1;36m1\u001b[0m\u001b[1;33m]\u001b[0m\u001b[1;33m)\u001b[0m\u001b[1;33m\u001b[0m\u001b[1;33m\u001b[0m\u001b[0m\n\u001b[0m",
      "\u001b[1;31mTypeError\u001b[0m: 'frozenset' object is not subscriptable"
     ]
    }
   ],
   "source": [
    "#frozenset doesn't support indexing\n",
    "\n",
    "print(set1[1])"
   ]
  },
  {
   "cell_type": "code",
   "execution_count": 122,
   "id": "8213a7ad",
   "metadata": {},
   "outputs": [
    {
     "name": "stdout",
     "output_type": "stream",
     "text": [
      "frozenset({1, 2, 3, 4, 5, 6})\n",
      "frozenset({3, 4})\n",
      "frozenset({3, 4})\n"
     ]
    }
   ],
   "source": [
    "#union of two sets\n",
    "print(set1 | set2)\n",
    "\n",
    "#Intersection of two sets\n",
    "print(set1 & set2)\n",
    "\n",
    "#or\n",
    "print(set1.intersection(set2))"
   ]
  },
  {
   "cell_type": "code",
   "execution_count": 124,
   "id": "17c868ef",
   "metadata": {},
   "outputs": [
    {
     "name": "stdout",
     "output_type": "stream",
     "text": [
      "frozenset({1, 2, 5, 6})\n",
      "frozenset({1, 2, 5, 6})\n"
     ]
    }
   ],
   "source": [
    "#symmetric difference\n",
    "\n",
    "print(set1 ^ set2)\n",
    "\n",
    "#or \n",
    "\n",
    "print(set1.symmetric_difference(set2))"
   ]
  },
  {
   "cell_type": "markdown",
   "id": "c3ef02f1",
   "metadata": {},
   "source": [
    "# Dictionary\n",
    "\n",
    "- Python Dictionary is an unordered collection of items. While other compound data types have value as an element, a dictionary has a __key:value__ pair"
   ]
  },
  {
   "cell_type": "code",
   "execution_count": 1,
   "id": "ff0fffa0",
   "metadata": {},
   "outputs": [
    {
     "name": "stdout",
     "output_type": "stream",
     "text": [
      "{1: 'a', 2: 'b', 3: 'c', 4: 'd'}\n"
     ]
    }
   ],
   "source": [
    "#dictionary with integer keys\n",
    "dict1 = {1:\"a\", 2:\"b\", 3:\"c\", 4:\"d\"}\n",
    "print(dict1)"
   ]
  },
  {
   "cell_type": "code",
   "execution_count": 2,
   "id": "5292136b",
   "metadata": {},
   "outputs": [
    {
     "name": "stdout",
     "output_type": "stream",
     "text": [
      "{1: 'hello', 'name': 'world', 3: ['a', 'b', 'c']}\n"
     ]
    }
   ],
   "source": [
    "#dictionary with mixed keys\n",
    "dict2 = {1:\"hello\",\"name\":\"world\",3:[\"a\",\"b\",\"c\"]}\n",
    "print(dict2)"
   ]
  },
  {
   "cell_type": "code",
   "execution_count": 3,
   "id": "5dc646e7",
   "metadata": {},
   "outputs": [
    {
     "name": "stdout",
     "output_type": "stream",
     "text": [
      "{1: 'abc', 2: 'xyz'}\n"
     ]
    }
   ],
   "source": [
    "my_dict = dict()\n",
    "my_dict = dict([(1, 'abc'),(2,'xyz')])\n",
    "print(my_dict)"
   ]
  },
  {
   "cell_type": "code",
   "execution_count": null,
   "id": "8c9a31fb",
   "metadata": {},
   "outputs": [],
   "source": []
  }
 ],
 "metadata": {
  "kernelspec": {
   "display_name": "Python 3 (ipykernel)",
   "language": "python",
   "name": "python3"
  },
  "language_info": {
   "codemirror_mode": {
    "name": "ipython",
    "version": 3
   },
   "file_extension": ".py",
   "mimetype": "text/x-python",
   "name": "python",
   "nbconvert_exporter": "python",
   "pygments_lexer": "ipython3",
   "version": "3.9.7"
  }
 },
 "nbformat": 4,
 "nbformat_minor": 5
}
