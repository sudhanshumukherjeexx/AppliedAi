{
 "cells": [
  {
   "cell_type": "markdown",
   "id": "74576b30",
   "metadata": {},
   "source": [
    "# Objective: Learning to Solve Basic Python Problems\n",
    "- Tackle few simple problems relvant to AI/ML \n",
    "- Break a problem into smaller sub-problems. \n",
    "- Connecting the dots from sub-problems to coding-concepts. \n",
    "- Code-walkthrough + Putting it all together. \n",
    "- More focus on common errors and mistakes + reading function reference + fixing bugs \n",
    "- Exercise-problems for practice. \n",
    "- Introduce new concepts as we need. \n",
    "- Good programmers may not benifit much from this session."
   ]
  },
  {
   "cell_type": "markdown",
   "id": "9a076c1a",
   "metadata": {},
   "source": [
    "# Problem 1 - Add two randomly generated NumPy matrices using loops\n",
    "- Sub-problems\n",
    "- Sub-problems ---> Coding Concepts\n",
    "- Code Walkthrough + Mistakes\n",
    "- Exercise: Add two randomly generated Numpy 3D-matrices(tensor) using loops"
   ]
  },
  {
   "cell_type": "code",
   "execution_count": 1,
   "id": "1bc7f9a4",
   "metadata": {},
   "outputs": [
    {
     "name": "stdout",
     "output_type": "stream",
     "text": [
      "[[0.10254323 0.48939265 0.89989232 0.59263959]\n",
      " [0.24398972 0.69556807 0.46130706 0.6321916 ]\n",
      " [0.11663346 0.3870593  0.9789439  0.44620981]\n",
      " [0.32480146 0.60950671 0.05968952 0.77737873]\n",
      " [0.25001001 0.48757553 0.12556441 0.22807671]]\n",
      "(5, 4)\n",
      "[[0.06741127 0.79111397 0.53475488 0.31749514]\n",
      " [0.68616056 0.43654391 0.70935577 0.30863542]\n",
      " [0.14902814 0.13358825 0.81313866 0.96860715]\n",
      " [0.4599474  0.66444163 0.05506048 0.89185648]\n",
      " [0.21379292 0.86073576 0.20790419 0.13598249]]\n",
      "(5, 4)\n"
     ]
    }
   ],
   "source": [
    "#Create random matrix A1 of size 4X3\n",
    "\n",
    "import numpy as np\n",
    "a1 = np.random.rand(5,4)\n",
    "a2 = np.random.rand(5,4)\n",
    "print(a1)\n",
    "print(a1.shape)\n",
    "print(a2)\n",
    "print(a2.shape)"
   ]
  },
  {
   "cell_type": "code",
   "execution_count": 2,
   "id": "b6772a42",
   "metadata": {},
   "outputs": [
    {
     "name": "stdout",
     "output_type": "stream",
     "text": [
      "<class 'numpy.ndarray'>\n"
     ]
    }
   ],
   "source": [
    "print(type(a1))"
   ]
  },
  {
   "cell_type": "code",
   "execution_count": 3,
   "id": "ec8e6db5",
   "metadata": {},
   "outputs": [
    {
     "name": "stdout",
     "output_type": "stream",
     "text": [
      "[[0.1699545  1.28050662 1.4346472  0.91013472]\n",
      " [0.93015029 1.13211197 1.17066283 0.94082702]\n",
      " [0.2656616  0.52064754 1.79208255 1.41481696]\n",
      " [0.78474886 1.27394834 0.11475    1.66923522]\n",
      " [0.46380293 1.34831129 0.3334686  0.3640592 ]]\n"
     ]
    }
   ],
   "source": [
    "#Using + operator on ndarrays\n",
    "\n",
    "B = a1 + a2\n",
    "print(B)"
   ]
  },
  {
   "cell_type": "code",
   "execution_count": 4,
   "id": "7cd66658",
   "metadata": {},
   "outputs": [
    {
     "name": "stdout",
     "output_type": "stream",
     "text": [
      "5 4\n"
     ]
    }
   ],
   "source": [
    "# Saving rows and columns in variables r and c\n",
    "\n",
    "(r,c) = a1.shape;\n",
    "print(r,c)"
   ]
  },
  {
   "cell_type": "code",
   "execution_count": 12,
   "id": "4b8a5f2d",
   "metadata": {},
   "outputs": [
    {
     "name": "stdout",
     "output_type": "stream",
     "text": [
      "[[0.1699545  1.28050662 1.4346472  0.91013472]\n",
      " [0.93015029 1.13211197 1.17066283 0.94082702]\n",
      " [0.2656616  0.52064754 1.79208255 1.41481696]\n",
      " [0.78474886 1.27394834 0.11475    1.66923522]\n",
      " [0.46380293 1.34831129 0.3334686  0.3640592 ]]\n"
     ]
    }
   ],
   "source": [
    "#B[i,j] = A1[i,j] + A2[i,j]\n",
    "\n",
    "D = np.zeros((5,4))\n",
    "\n",
    "for i in range(r):\n",
    "    for j in range(c):\n",
    "        D[i,j] = a1[i,j] + a2[i,j];\n",
    "\n",
    "print(D)"
   ]
  },
  {
   "cell_type": "markdown",
   "id": "13fd86e3",
   "metadata": {},
   "source": [
    "### Time Complexity ? -- O(n^2)\n",
    "### Space Complexity ? -- O(1) -- It is Constant"
   ]
  },
  {
   "cell_type": "markdown",
   "id": "e49d13d3",
   "metadata": {},
   "source": [
    "# Exercise 1 - Add two randomly generated NumPy 3D-matrices(tensor) using loops\n",
    "HINT: B[i,j,k] = A1[i,j,k] + A2[i,j,k]"
   ]
  },
  {
   "cell_type": "code",
   "execution_count": 14,
   "id": "26a0c753",
   "metadata": {},
   "outputs": [
    {
     "name": "stdout",
     "output_type": "stream",
     "text": [
      "[[[0.02478571 0.11218352 0.0703074 ]\n",
      "  [0.59053019 0.64397501 0.61213608]\n",
      "  [0.38304955 0.16342154 0.9265559 ]]\n",
      "\n",
      " [[0.03679117 0.32402016 0.54079149]\n",
      "  [0.69795668 0.53604062 0.79735251]\n",
      "  [0.18321763 0.62873189 0.53343948]]\n",
      "\n",
      " [[0.70714707 0.37548187 0.99426623]\n",
      "  [0.62675681 0.23774236 0.88282928]\n",
      "  [0.20931151 0.24397369 0.44646564]]]\n",
      "(3, 3, 3)\n",
      "3\n",
      "******************************\n",
      "[[[0.39820191 0.80003132 0.9497936 ]\n",
      "  [0.04817745 0.29683696 0.54006112]\n",
      "  [0.80492014 0.47722065 0.25618941]]\n",
      "\n",
      " [[0.41255058 0.18407117 0.6556666 ]\n",
      "  [0.6377687  0.88937054 0.5077321 ]\n",
      "  [0.16571438 0.10978829 0.06884843]]\n",
      "\n",
      " [[0.57590691 0.70774335 0.51857895]\n",
      "  [0.64724601 0.59964253 0.61368581]\n",
      "  [0.38670677 0.61461761 0.14909668]]]\n",
      "(3, 3, 3)\n",
      "3\n"
     ]
    }
   ],
   "source": [
    "a1 = np.random.rand(3,3,3)\n",
    "a2 = np.random.rand(3,3,3)\n",
    "print(a1)\n",
    "print(a1.shape)\n",
    "print(a1.ndim)\n",
    "print('******************************')\n",
    "print(a2)\n",
    "print(a2.shape)\n",
    "print(a2.ndim)"
   ]
  },
  {
   "cell_type": "code",
   "execution_count": 15,
   "id": "1b6e4abb",
   "metadata": {},
   "outputs": [
    {
     "name": "stdout",
     "output_type": "stream",
     "text": [
      "3 3 3\n"
     ]
    }
   ],
   "source": [
    "(x,y,z) = a1.shape\n",
    "print(x,y,z)"
   ]
  },
  {
   "cell_type": "code",
   "execution_count": 16,
   "id": "b0fe62d8",
   "metadata": {},
   "outputs": [
    {
     "name": "stdout",
     "output_type": "stream",
     "text": [
      "[[[0.42298763 0.91221484 1.02010101]\n",
      "  [0.63870764 0.94081198 1.15219721]\n",
      "  [1.18796969 0.64064219 1.18274531]]\n",
      "\n",
      " [[0.44934176 0.50809134 1.19645809]\n",
      "  [1.33572538 1.42541116 1.30508461]\n",
      "  [0.348932   0.73852018 0.6022879 ]]\n",
      "\n",
      " [[1.28305398 1.08322522 1.51284518]\n",
      "  [1.27400282 0.83738489 1.49651508]\n",
      "  [0.59601828 0.85859129 0.59556232]]]\n"
     ]
    }
   ],
   "source": [
    "A = np.zeros((3,3,3))\n",
    "\n",
    "for i in range(x):\n",
    "    for j in range(y):\n",
    "        for k in range(z):\n",
    "            A[i,j,k] = a1[i,j,k] + a2[i,j,k]\n",
    "print(A)"
   ]
  },
  {
   "cell_type": "markdown",
   "id": "8701b06c",
   "metadata": {},
   "source": [
    "# Problem 2 : Find if a given 2D-point is inside (or) outside a circle.\n",
    "- Subproblems.\n",
    "- Subproblems --> coding concepts.\n",
    "- putting it all together.\n",
    "- Exercise: Find if a given 2D point is inside (or) outside a rectangle ? "
   ]
  },
  {
   "cell_type": "markdown",
   "id": "23e2bdf8",
   "metadata": {},
   "source": [
    "- If there is a circle with center(Cx,Cy) and radius(r).\n",
    "- If there is a point (Px,Py) and the distance between Center and point is (D).\n",
    "- Then : \n",
    "1. If Distance(d) is less than radius(r)__[d < r]__ - The point is INSIDE circle.\n",
    "2. If Distance(d) is equal to randius(r)__[d = r]__ - The point is ON circle.\n",
    "3. If Distance(d) is more than radius(r)__[d > r]__ - The point is OUTSIDE circle."
   ]
  },
  {
   "cell_type": "markdown",
   "id": "62d63af9",
   "metadata": {},
   "source": [
    "### Distance Between Two Points = sqrt((Cx - Px)^2 + (Cy - Py)^2)"
   ]
  },
  {
   "cell_type": "code",
   "execution_count": 28,
   "id": "75021a6e",
   "metadata": {},
   "outputs": [
    {
     "name": "stdout",
     "output_type": "stream",
     "text": [
      "Enter Cx, Cy and r :\n",
      "1 2 15\n",
      "1 2 15\n",
      "1\n",
      "2\n",
      "15\n"
     ]
    }
   ],
   "source": [
    "print(\"Enter Cx, Cy and r :\")\n",
    "(Cx, Cy, r) = input().split()\n",
    "\n",
    "print(Cx,Cy,r)\n",
    "print(Cx)\n",
    "print(Cy)\n",
    "print(r)"
   ]
  },
  {
   "cell_type": "code",
   "execution_count": 29,
   "id": "3a678592",
   "metadata": {},
   "outputs": [
    {
     "name": "stdout",
     "output_type": "stream",
     "text": [
      "Enter Px and Py :\n",
      "2 3\n"
     ]
    }
   ],
   "source": [
    "print(\"Enter Px and Py :\")\n",
    "(Px,Py) = input().split()"
   ]
  },
  {
   "cell_type": "code",
   "execution_count": 31,
   "id": "8af6ef4f",
   "metadata": {},
   "outputs": [
    {
     "name": "stdout",
     "output_type": "stream",
     "text": [
      "P is inside a Circle.\n"
     ]
    }
   ],
   "source": [
    "Cx = float(Cx)\n",
    "Cy = float(Cy)\n",
    "r = float(r)\n",
    "Px = float(Px)\n",
    "Py = float(Py)\n",
    "\n",
    "import math\n",
    "d = math.sqrt( (Cx - Px)**2 + (Cy - Py)**2 )\n",
    "\n",
    "if d < r:\n",
    "    print(\"P is inside a Circle.\")\n",
    "elif d == r:\n",
    "    print(\"P is on a Circle.\")\n",
    "else:\n",
    "    print(\"P is Outside a Circle.\")"
   ]
  },
  {
   "cell_type": "markdown",
   "id": "b806be13",
   "metadata": {},
   "source": [
    "# Exercise 2 - Find if a point is inside or outside a rectangle."
   ]
  },
  {
   "cell_type": "code",
   "execution_count": 54,
   "id": "408ac766",
   "metadata": {},
   "outputs": [
    {
     "name": "stdout",
     "output_type": "stream",
     "text": [
      "Enter x1,y1,x2,y2 :\n",
      "1 3 5 7\n",
      "<class 'float'>\n"
     ]
    }
   ],
   "source": [
    "print(\"Enter x1,y1,x2,y2 :\")\n",
    "(x1,y1,x2,y2) = map(float, input().split())\n",
    "\n",
    "print(type(x1))"
   ]
  },
  {
   "cell_type": "code",
   "execution_count": 60,
   "id": "9f29e8c2",
   "metadata": {},
   "outputs": [
    {
     "name": "stdout",
     "output_type": "stream",
     "text": [
      "Enter point to check :\n",
      "2 4\n"
     ]
    }
   ],
   "source": [
    "print(\"Enter point to check :\")\n",
    "(Px,Py) = map(float, input().split())"
   ]
  },
  {
   "cell_type": "code",
   "execution_count": 61,
   "id": "d52f9f42",
   "metadata": {},
   "outputs": [
    {
     "name": "stdout",
     "output_type": "stream",
     "text": [
      "The point is inside a rectangle.\n"
     ]
    }
   ],
   "source": [
    "if (Px >= x1 and Px < x2) and (Py > y1 and Py < y2):\n",
    "    print(\"The point is inside a rectangle.\")\n",
    "else:\n",
    "    print(\"The point is outside a rectangle.\")"
   ]
  },
  {
   "cell_type": "markdown",
   "id": "1c4f6094",
   "metadata": {},
   "source": [
    "# Problem 3 - NumPy ndarray Manupulation Operations"
   ]
  },
  {
   "cell_type": "code",
   "execution_count": 62,
   "id": "9d4db721",
   "metadata": {},
   "outputs": [
    {
     "name": "stdout",
     "output_type": "stream",
     "text": [
      "[[0.05113996 0.44427079 0.9434764  0.94880523]\n",
      " [0.50206149 0.86010107 0.21020642 0.09249536]\n",
      " [0.87711588 0.58646448 0.93110196 0.3526304 ]\n",
      " [0.50733194 0.48706608 0.13305903 0.24345291]\n",
      " [0.00689069 0.05295103 0.99218363 0.28279978]]\n"
     ]
    }
   ],
   "source": [
    "# 1. Reshape matrices: Very Common-Errors in Asssignments\n",
    "\n",
    "A = np.random.rand(5,4)\n",
    "print(A)"
   ]
  },
  {
   "cell_type": "code",
   "execution_count": 70,
   "id": "6bae770d",
   "metadata": {},
   "outputs": [
    {
     "name": "stdout",
     "output_type": "stream",
     "text": [
      "[0.05113996 0.44427079 0.9434764  0.94880523 0.50206149 0.86010107\n",
      " 0.21020642 0.09249536 0.87711588 0.58646448 0.93110196 0.3526304\n",
      " 0.50733194 0.48706608 0.13305903 0.24345291 0.00689069 0.05295103\n",
      " 0.99218363 0.28279978]\n"
     ]
    }
   ],
   "source": [
    "#Reshape into a vector row-major-order\n",
    "###Read the documentation on Numpy reshape\n",
    "print(np.reshape(A, 20, 'C'))"
   ]
  },
  {
   "cell_type": "code",
   "execution_count": 72,
   "id": "dfbcec91",
   "metadata": {},
   "outputs": [
    {
     "name": "stdout",
     "output_type": "stream",
     "text": [
      "[0.05113996 0.50206149 0.87711588 0.50733194 0.00689069 0.44427079\n",
      " 0.86010107 0.58646448 0.48706608 0.05295103 0.9434764  0.21020642\n",
      " 0.93110196 0.13305903 0.99218363 0.94880523 0.09249536 0.3526304\n",
      " 0.24345291 0.28279978]\n"
     ]
    }
   ],
   "source": [
    "#Reshape into a vector column-major-order\n",
    "###Read the documentation on Numpy reshape\n",
    "print(np.reshape(A, 20, 'F'))"
   ]
  },
  {
   "cell_type": "code",
   "execution_count": 74,
   "id": "e665f7c3",
   "metadata": {},
   "outputs": [
    {
     "name": "stdout",
     "output_type": "stream",
     "text": [
      "[[0.05113996 0.44427079 0.9434764  0.94880523 0.50206149 0.86010107\n",
      "  0.21020642 0.09249536 0.87711588 0.58646448]\n",
      " [0.93110196 0.3526304  0.50733194 0.48706608 0.13305903 0.24345291\n",
      "  0.00689069 0.05295103 0.99218363 0.28279978]]\n"
     ]
    }
   ],
   "source": [
    "print(np.reshape(A, (2,-1)))"
   ]
  },
  {
   "cell_type": "markdown",
   "id": "05996647",
   "metadata": {},
   "source": [
    "# Exercise 3 - Take a tensor of size 4X5X6 and convert it into a vector and then matrix (10X12)."
   ]
  },
  {
   "cell_type": "code",
   "execution_count": 75,
   "id": "df7279aa",
   "metadata": {},
   "outputs": [
    {
     "name": "stdout",
     "output_type": "stream",
     "text": [
      "[[[0.87899928 0.32806608 0.67599355 0.1570424  0.35562102 0.06793729]\n",
      "  [0.00573163 0.96475368 0.33806579 0.54993761 0.88722031 0.19996662]\n",
      "  [0.03340125 0.34373833 0.4657859  0.57651819 0.95130111 0.78546148]\n",
      "  [0.45141289 0.0123125  0.91293576 0.51141928 0.43805962 0.40575964]\n",
      "  [0.91197054 0.58854306 0.51927978 0.10783387 0.71175927 0.2306136 ]]\n",
      "\n",
      " [[0.74339871 0.43704041 0.72974205 0.5416254  0.1426532  0.92545293]\n",
      "  [0.52893656 0.1236611  0.41677647 0.11673465 0.71959892 0.87319474]\n",
      "  [0.48547294 0.88758696 0.46946577 0.79322338 0.61463234 0.95655646]\n",
      "  [0.61469426 0.06446553 0.17835891 0.65191018 0.21444805 0.85495355]\n",
      "  [0.34502307 0.14529637 0.68888723 0.46461202 0.2549214  0.10919744]]\n",
      "\n",
      " [[0.56161842 0.22774551 0.92425323 0.99562343 0.09851897 0.588801  ]\n",
      "  [0.92204592 0.37916798 0.3724182  0.78233276 0.10841899 0.54227522]\n",
      "  [0.44882012 0.27202124 0.02020797 0.41273539 0.69981064 0.66807804]\n",
      "  [0.36840248 0.30358332 0.7362154  0.84626781 0.16275573 0.20628703]\n",
      "  [0.66092795 0.4278144  0.73246351 0.37870605 0.90530924 0.86282018]]\n",
      "\n",
      " [[0.19240597 0.98351255 0.79661007 0.00958933 0.18480715 0.06235102]\n",
      "  [0.11917747 0.58924006 0.57537911 0.37252304 0.35291758 0.11555237]\n",
      "  [0.39196085 0.87034706 0.21463637 0.50747209 0.4727265  0.27371862]\n",
      "  [0.5908126  0.92146901 0.81323539 0.19428573 0.13344749 0.73700857]\n",
      "  [0.61420478 0.80995063 0.21166914 0.38128345 0.03804912 0.38360054]]]\n"
     ]
    }
   ],
   "source": [
    "A = np.random.rand(4,5,6)\n",
    "print(A)"
   ]
  },
  {
   "cell_type": "code",
   "execution_count": 80,
   "id": "77782def",
   "metadata": {},
   "outputs": [
    {
     "name": "stdout",
     "output_type": "stream",
     "text": [
      "[0.87899928 0.32806608 0.67599355 0.1570424  0.35562102 0.06793729\n",
      " 0.00573163 0.96475368 0.33806579 0.54993761 0.88722031 0.19996662\n",
      " 0.03340125 0.34373833 0.4657859  0.57651819 0.95130111 0.78546148\n",
      " 0.45141289 0.0123125  0.91293576 0.51141928 0.43805962 0.40575964\n",
      " 0.91197054 0.58854306 0.51927978 0.10783387 0.71175927 0.2306136\n",
      " 0.74339871 0.43704041 0.72974205 0.5416254  0.1426532  0.92545293\n",
      " 0.52893656 0.1236611  0.41677647 0.11673465 0.71959892 0.87319474\n",
      " 0.48547294 0.88758696 0.46946577 0.79322338 0.61463234 0.95655646\n",
      " 0.61469426 0.06446553 0.17835891 0.65191018 0.21444805 0.85495355\n",
      " 0.34502307 0.14529637 0.68888723 0.46461202 0.2549214  0.10919744\n",
      " 0.56161842 0.22774551 0.92425323 0.99562343 0.09851897 0.588801\n",
      " 0.92204592 0.37916798 0.3724182  0.78233276 0.10841899 0.54227522\n",
      " 0.44882012 0.27202124 0.02020797 0.41273539 0.69981064 0.66807804\n",
      " 0.36840248 0.30358332 0.7362154  0.84626781 0.16275573 0.20628703\n",
      " 0.66092795 0.4278144  0.73246351 0.37870605 0.90530924 0.86282018\n",
      " 0.19240597 0.98351255 0.79661007 0.00958933 0.18480715 0.06235102\n",
      " 0.11917747 0.58924006 0.57537911 0.37252304 0.35291758 0.11555237\n",
      " 0.39196085 0.87034706 0.21463637 0.50747209 0.4727265  0.27371862\n",
      " 0.5908126  0.92146901 0.81323539 0.19428573 0.13344749 0.73700857\n",
      " 0.61420478 0.80995063 0.21166914 0.38128345 0.03804912 0.38360054]\n"
     ]
    }
   ],
   "source": [
    "B = np.reshape(A, 120,'C')\n",
    "print(B)"
   ]
  },
  {
   "cell_type": "code",
   "execution_count": 81,
   "id": "064253ea",
   "metadata": {},
   "outputs": [
    {
     "name": "stdout",
     "output_type": "stream",
     "text": [
      "[[0.87899928 0.32806608 0.67599355 0.1570424  0.35562102 0.06793729\n",
      "  0.00573163 0.96475368 0.33806579 0.54993761 0.88722031 0.19996662]\n",
      " [0.03340125 0.34373833 0.4657859  0.57651819 0.95130111 0.78546148\n",
      "  0.45141289 0.0123125  0.91293576 0.51141928 0.43805962 0.40575964]\n",
      " [0.91197054 0.58854306 0.51927978 0.10783387 0.71175927 0.2306136\n",
      "  0.74339871 0.43704041 0.72974205 0.5416254  0.1426532  0.92545293]\n",
      " [0.52893656 0.1236611  0.41677647 0.11673465 0.71959892 0.87319474\n",
      "  0.48547294 0.88758696 0.46946577 0.79322338 0.61463234 0.95655646]\n",
      " [0.61469426 0.06446553 0.17835891 0.65191018 0.21444805 0.85495355\n",
      "  0.34502307 0.14529637 0.68888723 0.46461202 0.2549214  0.10919744]\n",
      " [0.56161842 0.22774551 0.92425323 0.99562343 0.09851897 0.588801\n",
      "  0.92204592 0.37916798 0.3724182  0.78233276 0.10841899 0.54227522]\n",
      " [0.44882012 0.27202124 0.02020797 0.41273539 0.69981064 0.66807804\n",
      "  0.36840248 0.30358332 0.7362154  0.84626781 0.16275573 0.20628703]\n",
      " [0.66092795 0.4278144  0.73246351 0.37870605 0.90530924 0.86282018\n",
      "  0.19240597 0.98351255 0.79661007 0.00958933 0.18480715 0.06235102]\n",
      " [0.11917747 0.58924006 0.57537911 0.37252304 0.35291758 0.11555237\n",
      "  0.39196085 0.87034706 0.21463637 0.50747209 0.4727265  0.27371862]\n",
      " [0.5908126  0.92146901 0.81323539 0.19428573 0.13344749 0.73700857\n",
      "  0.61420478 0.80995063 0.21166914 0.38128345 0.03804912 0.38360054]]\n"
     ]
    }
   ],
   "source": [
    "C = np.reshape(B, (10,12))\n",
    "print(C)"
   ]
  },
  {
   "cell_type": "markdown",
   "id": "b6f631db",
   "metadata": {},
   "source": [
    "# Stacking"
   ]
  },
  {
   "cell_type": "code",
   "execution_count": 82,
   "id": "79938ecd",
   "metadata": {},
   "outputs": [
    {
     "name": "stdout",
     "output_type": "stream",
     "text": [
      "[[0.62147783 0.59776756 0.52651022 0.24838523]\n",
      " [0.88782141 0.67274947 0.95103286 0.84292144]\n",
      " [0.15359605 0.09434406 0.8972645  0.67152097]\n",
      " [0.41030907 0.2392253  0.54539492 0.79806558]\n",
      " [0.88537862 0.78595556 0.5528704  0.33983367]]\n",
      "[[0.28943188 0.40690061]\n",
      " [0.06229569 0.58543188]\n",
      " [0.54553391 0.293665  ]\n",
      " [0.56364123 0.04110176]\n",
      " [0.93633626 0.67022825]]\n"
     ]
    }
   ],
   "source": [
    "#Stacking\n",
    "\n",
    "A = np.random.rand(5,4);\n",
    "print(A)\n",
    "\n",
    "B = np.random.rand(5,2)\n",
    "print(B)"
   ]
  },
  {
   "cell_type": "code",
   "execution_count": 86,
   "id": "5d54335d",
   "metadata": {},
   "outputs": [
    {
     "name": "stdout",
     "output_type": "stream",
     "text": [
      "[[0.62147783 0.59776756 0.52651022 0.24838523 0.28943188 0.40690061]\n",
      " [0.88782141 0.67274947 0.95103286 0.84292144 0.06229569 0.58543188]\n",
      " [0.15359605 0.09434406 0.8972645  0.67152097 0.54553391 0.293665  ]\n",
      " [0.41030907 0.2392253  0.54539492 0.79806558 0.56364123 0.04110176]\n",
      " [0.88537862 0.78595556 0.5528704  0.33983367 0.93633626 0.67022825]]\n"
     ]
    }
   ],
   "source": [
    "#Horizontal Stacking\n",
    "C = np.hstack((A,B))\n",
    "print(C)"
   ]
  },
  {
   "cell_type": "code",
   "execution_count": 87,
   "id": "e4f1b90e",
   "metadata": {},
   "outputs": [
    {
     "name": "stdout",
     "output_type": "stream",
     "text": [
      "[[0.37021379 0.87229454 0.47245044 0.50269144]\n",
      " [0.55103715 0.27062217 0.20025569 0.13545376]\n",
      " [0.42816059 0.77498053 0.12396434 0.64098872]\n",
      " [0.88972532 0.31295435 0.85023672 0.55525636]\n",
      " [0.66175887 0.21232844 0.44069549 0.94390054]]\n",
      "[[0.04129736 0.89949021 0.28852076 0.87136342]\n",
      " [0.4849532  0.68831479 0.59480868 0.84987233]\n",
      " [0.30787342 0.77579157 0.75119421 0.95474468]\n",
      " [0.45932709 0.87772079 0.2938517  0.72868457]]\n"
     ]
    },
    {
     "ename": "ValueError",
     "evalue": "all the input array dimensions for the concatenation axis must match exactly, but along dimension 0, the array at index 0 has size 5 and the array at index 1 has size 4",
     "output_type": "error",
     "traceback": [
      "\u001b[1;31m---------------------------------------------------------------------------\u001b[0m",
      "\u001b[1;31mValueError\u001b[0m                                Traceback (most recent call last)",
      "\u001b[1;32m~\\AppData\\Local\\Temp/ipykernel_18836/4207601000.py\u001b[0m in \u001b[0;36m<module>\u001b[1;34m\u001b[0m\n\u001b[0;32m      5\u001b[0m \u001b[0mprint\u001b[0m\u001b[1;33m(\u001b[0m\u001b[0mB\u001b[0m\u001b[1;33m)\u001b[0m\u001b[1;33m\u001b[0m\u001b[1;33m\u001b[0m\u001b[0m\n\u001b[0;32m      6\u001b[0m \u001b[1;33m\u001b[0m\u001b[0m\n\u001b[1;32m----> 7\u001b[1;33m \u001b[0mC\u001b[0m \u001b[1;33m=\u001b[0m \u001b[0mnp\u001b[0m\u001b[1;33m.\u001b[0m\u001b[0mhstack\u001b[0m\u001b[1;33m(\u001b[0m\u001b[1;33m(\u001b[0m\u001b[0mA\u001b[0m\u001b[1;33m,\u001b[0m\u001b[0mB\u001b[0m\u001b[1;33m)\u001b[0m\u001b[1;33m)\u001b[0m\u001b[1;33m\u001b[0m\u001b[1;33m\u001b[0m\u001b[0m\n\u001b[0m\u001b[0;32m      8\u001b[0m \u001b[0mprint\u001b[0m\u001b[1;33m(\u001b[0m\u001b[0mC\u001b[0m\u001b[1;33m)\u001b[0m\u001b[1;33m\u001b[0m\u001b[1;33m\u001b[0m\u001b[0m\n",
      "\u001b[1;32m<__array_function__ internals>\u001b[0m in \u001b[0;36mhstack\u001b[1;34m(*args, **kwargs)\u001b[0m\n",
      "\u001b[1;32mE:\\Anaconda\\lib\\site-packages\\numpy\\core\\shape_base.py\u001b[0m in \u001b[0;36mhstack\u001b[1;34m(tup)\u001b[0m\n\u001b[0;32m    344\u001b[0m         \u001b[1;32mreturn\u001b[0m \u001b[0m_nx\u001b[0m\u001b[1;33m.\u001b[0m\u001b[0mconcatenate\u001b[0m\u001b[1;33m(\u001b[0m\u001b[0marrs\u001b[0m\u001b[1;33m,\u001b[0m \u001b[1;36m0\u001b[0m\u001b[1;33m)\u001b[0m\u001b[1;33m\u001b[0m\u001b[1;33m\u001b[0m\u001b[0m\n\u001b[0;32m    345\u001b[0m     \u001b[1;32melse\u001b[0m\u001b[1;33m:\u001b[0m\u001b[1;33m\u001b[0m\u001b[1;33m\u001b[0m\u001b[0m\n\u001b[1;32m--> 346\u001b[1;33m         \u001b[1;32mreturn\u001b[0m \u001b[0m_nx\u001b[0m\u001b[1;33m.\u001b[0m\u001b[0mconcatenate\u001b[0m\u001b[1;33m(\u001b[0m\u001b[0marrs\u001b[0m\u001b[1;33m,\u001b[0m \u001b[1;36m1\u001b[0m\u001b[1;33m)\u001b[0m\u001b[1;33m\u001b[0m\u001b[1;33m\u001b[0m\u001b[0m\n\u001b[0m\u001b[0;32m    347\u001b[0m \u001b[1;33m\u001b[0m\u001b[0m\n\u001b[0;32m    348\u001b[0m \u001b[1;33m\u001b[0m\u001b[0m\n",
      "\u001b[1;32m<__array_function__ internals>\u001b[0m in \u001b[0;36mconcatenate\u001b[1;34m(*args, **kwargs)\u001b[0m\n",
      "\u001b[1;31mValueError\u001b[0m: all the input array dimensions for the concatenation axis must match exactly, but along dimension 0, the array at index 0 has size 5 and the array at index 1 has size 4"
     ]
    }
   ],
   "source": [
    "A = np.random.rand(5,4)\n",
    "print(A)\n",
    "\n",
    "B = np.random.rand(4,4)\n",
    "print(B)\n",
    "\n",
    "C = np.hstack((A,B))\n",
    "print(C)"
   ]
  },
  {
   "cell_type": "code",
   "execution_count": 88,
   "id": "0802929f",
   "metadata": {},
   "outputs": [
    {
     "name": "stdout",
     "output_type": "stream",
     "text": [
      "[[0.37021379 0.87229454 0.47245044 0.50269144]\n",
      " [0.55103715 0.27062217 0.20025569 0.13545376]\n",
      " [0.42816059 0.77498053 0.12396434 0.64098872]\n",
      " [0.88972532 0.31295435 0.85023672 0.55525636]\n",
      " [0.66175887 0.21232844 0.44069549 0.94390054]\n",
      " [0.04129736 0.89949021 0.28852076 0.87136342]\n",
      " [0.4849532  0.68831479 0.59480868 0.84987233]\n",
      " [0.30787342 0.77579157 0.75119421 0.95474468]\n",
      " [0.45932709 0.87772079 0.2938517  0.72868457]]\n"
     ]
    }
   ],
   "source": [
    "#Vertical Stacking\n",
    "\n",
    "C = np.vstack((A,B))\n",
    "print(C)"
   ]
  },
  {
   "cell_type": "code",
   "execution_count": 95,
   "id": "f87e84a1",
   "metadata": {},
   "outputs": [
    {
     "name": "stdout",
     "output_type": "stream",
     "text": [
      "(5, 4, 3)\n",
      "(5, 3, 3)\n",
      "(5, 7, 3)\n",
      "[[[7.67869893e-01 2.37792340e-01 8.40134340e-02]\n",
      "  [6.04557638e-01 2.63163139e-01 5.28973433e-01]\n",
      "  [4.48812338e-01 6.65459600e-01 3.12955620e-01]\n",
      "  [2.60268706e-01 5.60610403e-01 5.71380063e-01]\n",
      "  [8.78476853e-02 4.40808393e-01 8.59618299e-01]\n",
      "  [7.20175315e-01 4.95729213e-02 2.79936519e-01]\n",
      "  [9.17441059e-01 1.39433972e-01 6.03866442e-01]]\n",
      "\n",
      " [[1.01165365e-01 7.08387954e-01 8.64623567e-01]\n",
      "  [8.17840906e-01 5.82896358e-01 3.69652922e-01]\n",
      "  [1.90269434e-01 5.63421278e-01 8.07942137e-01]\n",
      "  [8.95215189e-01 1.94358360e-02 8.96842897e-01]\n",
      "  [6.19179835e-01 3.20691910e-01 8.75664110e-01]\n",
      "  [1.38344417e-01 5.96617507e-01 6.36201194e-01]\n",
      "  [5.95930256e-01 8.22331544e-01 6.09711120e-01]]\n",
      "\n",
      " [[5.97073632e-01 8.27681439e-01 2.71216394e-01]\n",
      "  [3.38682477e-03 3.70346468e-01 6.18463261e-04]\n",
      "  [7.89257426e-01 6.22330616e-02 9.55459393e-02]\n",
      "  [8.81532148e-01 9.94417558e-01 7.00362131e-01]\n",
      "  [3.00693220e-01 3.60865143e-01 2.05072675e-01]\n",
      "  [3.53012691e-01 5.47053741e-01 1.66119843e-01]\n",
      "  [1.73882801e-01 9.95810932e-01 5.74143845e-01]]\n",
      "\n",
      " [[5.23323224e-01 4.38804515e-01 3.25035067e-01]\n",
      "  [5.96000128e-01 7.78666186e-01 4.42965776e-01]\n",
      "  [3.39193137e-01 9.46743504e-03 5.33678710e-01]\n",
      "  [6.55471932e-01 8.57220273e-02 6.46970978e-01]\n",
      "  [1.87224565e-01 3.24689760e-01 6.75023043e-01]\n",
      "  [7.48981578e-01 4.53663376e-01 6.97331401e-01]\n",
      "  [5.54826873e-01 5.99666258e-01 5.62422093e-01]]\n",
      "\n",
      " [[8.42803458e-01 1.21476168e-01 7.15010160e-01]\n",
      "  [9.39429051e-01 7.28794758e-01 1.73179035e-01]\n",
      "  [6.77956553e-02 9.33165767e-01 7.29876982e-01]\n",
      "  [2.09069769e-01 5.11005596e-01 6.81923598e-01]\n",
      "  [7.54194419e-01 3.13060319e-01 9.17857683e-01]\n",
      "  [2.74496564e-01 7.02615990e-01 2.05336255e-01]\n",
      "  [1.22494443e-02 4.88705229e-01 1.54689257e-01]]]\n"
     ]
    }
   ],
   "source": [
    "#3D Tensors - H Stack\n",
    "A = np.random.rand(5,4,3)\n",
    "print(A.shape)\n",
    "B = np.random.rand(5,3,3)\n",
    "print(B.shape)\n",
    "\n",
    "C = np.hstack((A,B))\n",
    "print(C.shape)\n",
    "\n",
    "print(C)"
   ]
  },
  {
   "cell_type": "code",
   "execution_count": 94,
   "id": "1ff65759",
   "metadata": {},
   "outputs": [
    {
     "name": "stdout",
     "output_type": "stream",
     "text": [
      "(5, 4, 3)\n",
      "(4, 4, 3)\n",
      "[[[0.43957187 0.92837741 0.06890813]\n",
      "  [0.58743333 0.31158991 0.80347797]\n",
      "  [0.92029898 0.85443379 0.44930236]\n",
      "  [0.47339553 0.23755852 0.70560822]]\n",
      "\n",
      " [[0.25163899 0.333475   0.81120127]\n",
      "  [0.1103014  0.89126759 0.3008924 ]\n",
      "  [0.06031127 0.39454704 0.97062127]\n",
      "  [0.50385255 0.72019151 0.17883804]]\n",
      "\n",
      " [[0.66132447 0.88701382 0.93269296]\n",
      "  [0.41870465 0.56553058 0.79916199]\n",
      "  [0.71706757 0.86986725 0.33169913]\n",
      "  [0.0696107  0.62308108 0.56380927]]\n",
      "\n",
      " [[0.48424662 0.41410122 0.90237187]\n",
      "  [0.29891975 0.92908551 0.08831874]\n",
      "  [0.35245515 0.30249915 0.06699181]\n",
      "  [0.98345916 0.68765356 0.49623396]]\n",
      "\n",
      " [[0.89804184 0.98407155 0.20208237]\n",
      "  [0.3546117  0.93337234 0.87589767]\n",
      "  [0.08860998 0.69389839 0.35915245]\n",
      "  [0.26743156 0.89023187 0.83460243]]\n",
      "\n",
      " [[0.66970807 0.76417489 0.05513883]\n",
      "  [0.65256686 0.4477846  0.94118184]\n",
      "  [0.54441694 0.58465797 0.64723842]\n",
      "  [0.54199164 0.56632662 0.20455152]]\n",
      "\n",
      " [[0.95669912 0.31548144 0.11692875]\n",
      "  [0.31561131 0.55589473 0.53951541]\n",
      "  [0.33751701 0.33651358 0.38906928]\n",
      "  [0.04256917 0.11024836 0.64083565]]\n",
      "\n",
      " [[0.56933962 0.02019216 0.18122922]\n",
      "  [0.48651756 0.38392014 0.98219474]\n",
      "  [0.94575543 0.47807768 0.06804818]\n",
      "  [0.54191259 0.62512069 0.9627454 ]]\n",
      "\n",
      " [[0.21728434 0.16614586 0.99425304]\n",
      "  [0.1120664  0.22030699 0.41877416]\n",
      "  [0.71350388 0.92278242 0.50843467]\n",
      "  [0.45677503 0.28151893 0.48597156]]]\n"
     ]
    }
   ],
   "source": [
    "#3D Tensors - V stack\n",
    "\n",
    "A = np.random.rand(5,4,3)\n",
    "print(A.shape)\n",
    "\n",
    "B = np.random.rand(4,4,3)\n",
    "print(B.shape)\n",
    "\n",
    "C = np.vstack((A,B))\n",
    "print(C)"
   ]
  },
  {
   "cell_type": "code",
   "execution_count": null,
   "id": "e25ef368",
   "metadata": {},
   "outputs": [],
   "source": []
  }
 ],
 "metadata": {
  "kernelspec": {
   "display_name": "Python 3 (ipykernel)",
   "language": "python",
   "name": "python3"
  },
  "language_info": {
   "codemirror_mode": {
    "name": "ipython",
    "version": 3
   },
   "file_extension": ".py",
   "mimetype": "text/x-python",
   "name": "python",
   "nbconvert_exporter": "python",
   "pygments_lexer": "ipython3",
   "version": "3.9.7"
  }
 },
 "nbformat": 4,
 "nbformat_minor": 5
}
