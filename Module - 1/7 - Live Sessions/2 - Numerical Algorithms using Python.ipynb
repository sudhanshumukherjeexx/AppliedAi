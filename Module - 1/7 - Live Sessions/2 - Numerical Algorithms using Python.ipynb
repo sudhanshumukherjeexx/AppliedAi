{
 "cells": [
  {
   "cell_type": "markdown",
   "id": "beb47847",
   "metadata": {},
   "source": [
    "# Problem 1 - Find peaks/max in an list"
   ]
  },
  {
   "cell_type": "code",
   "execution_count": 1,
   "id": "1ae815fb",
   "metadata": {},
   "outputs": [
    {
     "name": "stdout",
     "output_type": "stream",
     "text": [
      "[1, 3, 4, 5, 7, 6, 4, 5, 10, 1]\n"
     ]
    }
   ],
   "source": [
    "A = [1, 3, 4, 5, 7, 6, 4, 5, 10, 1]\n",
    "print(A)"
   ]
  },
  {
   "cell_type": "code",
   "execution_count": 2,
   "id": "e6a1b7ff",
   "metadata": {},
   "outputs": [
    {
     "name": "stdout",
     "output_type": "stream",
     "text": [
      "7\n",
      "10\n"
     ]
    }
   ],
   "source": [
    "# Peaks 7,10\n",
    "# Arrive  at the logic and what coding constructs we have to use to solve it.\n",
    "\n",
    "#Peak - A[i] >= A[i-1] and A[i] >= A[i+1]\n",
    "\n",
    "for i in range(1,len(A)-1):\n",
    "    if A[i] >= A[i-1] and A[i] >= A[i+1]:\n",
    "        print(A[i])"
   ]
  },
  {
   "cell_type": "code",
   "execution_count": 3,
   "id": "2d3f558d",
   "metadata": {},
   "outputs": [
    {
     "name": "stdout",
     "output_type": "stream",
     "text": [
      "11\n",
      "7\n",
      "15\n"
     ]
    }
   ],
   "source": [
    "A = [11, 3, 4, 5, 7, 6, 4, 5, 10, 15]\n",
    "\n",
    "if A[0] >= A[1]:\n",
    "    print(A[0])\n",
    "\n",
    "for i in range(1, len(A)-1):\n",
    "    if A[i] >= A[i-1] and A[i] >= A[i+1]:\n",
    "        print(A[i])\n",
    "        \n",
    "if A[-1] >= A[-2]:\n",
    "    print(A[-1])"
   ]
  },
  {
   "cell_type": "markdown",
   "id": "ca5f9c44",
   "metadata": {},
   "source": [
    "# Note - Do not Forget Boundary cases."
   ]
  },
  {
   "cell_type": "markdown",
   "id": "1385fc90",
   "metadata": {},
   "source": [
    "# Exercise 1 - Find peaks which are max values in a window of size 2 on both sides."
   ]
  },
  {
   "cell_type": "code",
   "execution_count": 4,
   "id": "2f6d5990",
   "metadata": {},
   "outputs": [],
   "source": [
    "import numpy as np"
   ]
  },
  {
   "cell_type": "code",
   "execution_count": 5,
   "id": "cc63f6d4",
   "metadata": {},
   "outputs": [],
   "source": [
    "A = list(np.random.randint(1,20,10))"
   ]
  },
  {
   "cell_type": "code",
   "execution_count": 6,
   "id": "84093318",
   "metadata": {},
   "outputs": [
    {
     "data": {
      "text/plain": [
       "[9, 14, 5, 13, 5, 1, 15, 2, 11, 1]"
      ]
     },
     "execution_count": 6,
     "metadata": {},
     "output_type": "execute_result"
    }
   ],
   "source": [
    "A"
   ]
  },
  {
   "cell_type": "code",
   "execution_count": 7,
   "id": "9790fa5b",
   "metadata": {},
   "outputs": [
    {
     "ename": "IndexError",
     "evalue": "list index out of range",
     "output_type": "error",
     "traceback": [
      "\u001b[1;31m---------------------------------------------------------------------------\u001b[0m",
      "\u001b[1;31mIndexError\u001b[0m                                Traceback (most recent call last)",
      "\u001b[1;32m~\\AppData\\Local\\Temp/ipykernel_15224/2258116556.py\u001b[0m in \u001b[0;36m<module>\u001b[1;34m\u001b[0m\n\u001b[1;32m----> 1\u001b[1;33m \u001b[1;32mif\u001b[0m \u001b[0mA\u001b[0m\u001b[1;33m[\u001b[0m\u001b[0mi\u001b[0m\u001b[1;33m]\u001b[0m \u001b[1;33m>=\u001b[0m \u001b[0mA\u001b[0m\u001b[1;33m[\u001b[0m\u001b[0mi\u001b[0m\u001b[1;33m+\u001b[0m\u001b[1;36m1\u001b[0m\u001b[1;33m]\u001b[0m \u001b[1;32mand\u001b[0m \u001b[0mA\u001b[0m\u001b[1;33m[\u001b[0m\u001b[0mi\u001b[0m\u001b[1;33m]\u001b[0m \u001b[1;33m>=\u001b[0m \u001b[0mA\u001b[0m\u001b[1;33m[\u001b[0m\u001b[0mi\u001b[0m\u001b[1;33m+\u001b[0m\u001b[1;36m2\u001b[0m\u001b[1;33m]\u001b[0m\u001b[1;33m:\u001b[0m\u001b[1;33m\u001b[0m\u001b[1;33m\u001b[0m\u001b[0m\n\u001b[0m\u001b[0;32m      2\u001b[0m     \u001b[0mprint\u001b[0m\u001b[1;33m(\u001b[0m\u001b[0mA\u001b[0m\u001b[1;33m[\u001b[0m\u001b[0mi\u001b[0m\u001b[1;33m]\u001b[0m\u001b[1;33m)\u001b[0m\u001b[1;33m\u001b[0m\u001b[1;33m\u001b[0m\u001b[0m\n\u001b[0;32m      3\u001b[0m \u001b[1;33m\u001b[0m\u001b[0m\n\u001b[0;32m      4\u001b[0m \u001b[1;32mfor\u001b[0m \u001b[0mi\u001b[0m \u001b[1;32min\u001b[0m \u001b[0mrange\u001b[0m\u001b[1;33m(\u001b[0m\u001b[1;36m1\u001b[0m\u001b[1;33m,\u001b[0m \u001b[0mlen\u001b[0m\u001b[1;33m(\u001b[0m\u001b[0mA\u001b[0m\u001b[1;33m)\u001b[0m\u001b[1;33m-\u001b[0m\u001b[1;36m1\u001b[0m\u001b[1;33m)\u001b[0m\u001b[1;33m:\u001b[0m\u001b[1;33m\u001b[0m\u001b[1;33m\u001b[0m\u001b[0m\n\u001b[0;32m      5\u001b[0m     \u001b[1;32mif\u001b[0m \u001b[1;33m(\u001b[0m\u001b[0mA\u001b[0m\u001b[1;33m[\u001b[0m\u001b[0mi\u001b[0m\u001b[1;33m]\u001b[0m \u001b[1;33m>=\u001b[0m \u001b[0mA\u001b[0m\u001b[1;33m[\u001b[0m\u001b[0mi\u001b[0m\u001b[1;33m-\u001b[0m\u001b[1;36m1\u001b[0m\u001b[1;33m]\u001b[0m \u001b[1;32mand\u001b[0m \u001b[0mA\u001b[0m\u001b[1;33m[\u001b[0m\u001b[0mi\u001b[0m\u001b[1;33m]\u001b[0m \u001b[1;33m>=\u001b[0m \u001b[0mA\u001b[0m\u001b[1;33m[\u001b[0m\u001b[0mi\u001b[0m\u001b[1;33m-\u001b[0m\u001b[1;36m2\u001b[0m\u001b[1;33m]\u001b[0m\u001b[1;33m)\u001b[0m \u001b[1;32mand\u001b[0m \u001b[1;33m(\u001b[0m\u001b[0mA\u001b[0m\u001b[1;33m[\u001b[0m\u001b[0mi\u001b[0m\u001b[1;33m]\u001b[0m \u001b[1;33m>=\u001b[0m \u001b[0mA\u001b[0m\u001b[1;33m[\u001b[0m\u001b[0mi\u001b[0m\u001b[1;33m+\u001b[0m\u001b[1;36m1\u001b[0m\u001b[1;33m]\u001b[0m \u001b[1;32mand\u001b[0m \u001b[0mA\u001b[0m\u001b[1;33m[\u001b[0m\u001b[0mi\u001b[0m\u001b[1;33m]\u001b[0m \u001b[1;33m>=\u001b[0m \u001b[0mA\u001b[0m\u001b[1;33m[\u001b[0m\u001b[0mi\u001b[0m\u001b[1;33m+\u001b[0m\u001b[1;36m2\u001b[0m\u001b[1;33m]\u001b[0m\u001b[1;33m)\u001b[0m\u001b[1;33m:\u001b[0m\u001b[1;33m\u001b[0m\u001b[1;33m\u001b[0m\u001b[0m\n",
      "\u001b[1;31mIndexError\u001b[0m: list index out of range"
     ]
    }
   ],
   "source": [
    "if A[i] >= A[i+1] and A[i] >= A[i+2]:\n",
    "    print(A[i])\n",
    "    \n",
    "for i in range(1, len(A)-1):\n",
    "    if (A[i] >= A[i-1] and A[i] >= A[i-2]) and (A[i] >= A[i+1] and A[i] >= A[i+2]):\n",
    "        print(A[i])\n",
    "        \n",
    "if A[-1] >= A[-2] and A[-1] >= A[-3]:\n",
    "    print(A[-1])\n",
    "    "
   ]
  },
  {
   "cell_type": "code",
   "execution_count": null,
   "id": "d6df058a",
   "metadata": {},
   "outputs": [],
   "source": [
    "from scipy.signal import find_peaks"
   ]
  },
  {
   "cell_type": "code",
   "execution_count": null,
   "id": "2c8dab68",
   "metadata": {},
   "outputs": [],
   "source": [
    "print(find_peaks(A))"
   ]
  },
  {
   "cell_type": "markdown",
   "id": "0357bacc",
   "metadata": {},
   "source": [
    "# Problem 2 - Permutations of a list\n",
    "- Problem definition : List = [1,2,3]"
   ]
  },
  {
   "cell_type": "code",
   "execution_count": null,
   "id": "a3179c09",
   "metadata": {},
   "outputs": [],
   "source": [
    "from itertools import permutations\n",
    "\n",
    "result = permutations([1,2,3])\n",
    "for i in result:\n",
    "    print(i)"
   ]
  },
  {
   "cell_type": "code",
   "execution_count": null,
   "id": "bbb09c13",
   "metadata": {},
   "outputs": [],
   "source": [
    "# Function for calculating permutation\n",
    "\n",
    "def permutation(s):\n",
    "    \"\"\"\n",
    "    Function to calculate permutation\n",
    "    \"\"\"\n",
    "    if len(s) == 1:\n",
    "        return [s]\n",
    "    \n",
    "    perm_list = [] #resulting list\n",
    "    for a in s:\n",
    "        remaining_elements = [x for x in s if x != a]\n",
    "        z = permutation(remaining_elements)\n",
    "        \n",
    "        for i in z:\n",
    "            perm_list.append([a] + i)\n",
    "            \n",
    "    return perm_list\n",
    "        "
   ]
  },
  {
   "cell_type": "code",
   "execution_count": null,
   "id": "6d80d083",
   "metadata": {},
   "outputs": [],
   "source": [
    "b = list(np.random.randint(1,20,10))\n",
    "b"
   ]
  },
  {
   "cell_type": "code",
   "execution_count": null,
   "id": "adec61da",
   "metadata": {},
   "outputs": [],
   "source": [
    "permutation([1,2,3,4])"
   ]
  },
  {
   "cell_type": "markdown",
   "id": "5bb07f1f",
   "metadata": {},
   "source": [
    "#  [Combinations] All possible ways to pick 3 elements out of 5 elements\n",
    "\n",
    "Hint - Use recursion. lets work out the logic first! Pick one and recurse."
   ]
  },
  {
   "cell_type": "code",
   "execution_count": null,
   "id": "10127fd8",
   "metadata": {},
   "outputs": [],
   "source": [
    "from itertools import combinations"
   ]
  },
  {
   "cell_type": "markdown",
   "id": "14a0f867",
   "metadata": {},
   "source": [
    "# Problem 3 - Solving for x : sin(x) = cos(x)\n",
    "\n",
    "- Try Plotting cos(x) - sin(x) using google: \"plot cos(x)-sin(x)\"\n",
    "\n",
    "Find x where cos(x) - sin(x) = 0"
   ]
  },
  {
   "cell_type": "code",
   "execution_count": null,
   "id": "5b6d5298",
   "metadata": {},
   "outputs": [],
   "source": [
    "import math"
   ]
  },
  {
   "cell_type": "code",
   "execution_count": 27,
   "id": "71a477d8",
   "metadata": {},
   "outputs": [
    {
     "name": "stdout",
     "output_type": "stream",
     "text": [
      "0 1\n",
      "0.39815702328616975 0.5 1\n",
      "0.5 1\n",
      "0.050050108850486774 0.75 1\n",
      "0.75 1\n",
      "-0.12654664407270189 0.75 0.875\n",
      "0.75 0.875\n",
      "-0.038323093040207756 0.75 0.8125\n",
      "0.75 0.8125\n",
      "0.005866372111545948 0.78125 0.8125\n",
      "0.78125 0.8125\n",
      "-0.01623034166690196 0.78125 0.796875\n",
      "0.78125 0.796875\n",
      "-0.005182142923325084 0.78125 0.7890625\n",
      "0.78125 0.7890625\n",
      "0.00034211720425414427 0.78515625 0.7890625\n",
      "x:0.78515625\t f(x): 0.00034211720425414427\n"
     ]
    }
   ],
   "source": [
    "def f(x):\n",
    "    return math.cos(x) - math.sin(x)\n",
    "    \n",
    "x_l = 0\n",
    "x_h = 1\n",
    "x = (x_l + x_h)/2\n",
    "\n",
    "while (abs(f(x)) > 0.001):\n",
    "    print(x_l, x_h)\n",
    "    \n",
    "    x = (x_l + x_h)/2\n",
    "    if f(x) > 0:\n",
    "        x_l = x\n",
    "    else:\n",
    "        x_h = x\n",
    "        \n",
    "    print(f(x), x_l, x_h)\n",
    "     \n",
    "print(\"x:\" + str(x) + \"\\t f(x): \" + str(f(x)))\n",
    "        "
   ]
  },
  {
   "cell_type": "markdown",
   "id": "bf147bd1",
   "metadata": {},
   "source": [
    "# Lesson : Bisection method uses binary search in the given interval.\n",
    "\n",
    "# Exercise : Solve for x in x^5 - x^4 + 2*x^3 - x^2 + x = 3"
   ]
  },
  {
   "cell_type": "code",
   "execution_count": 10,
   "id": "632621cc",
   "metadata": {},
   "outputs": [],
   "source": [
    "def f(x):\n",
    "    a = pow(x,5) - pow(x,4) + 2 * pow(x,3) - pow(x,2) - 3\n",
    "    return a"
   ]
  },
  {
   "cell_type": "code",
   "execution_count": 13,
   "id": "348cf509",
   "metadata": {},
   "outputs": [
    {
     "name": "stdout",
     "output_type": "stream",
     "text": [
      "The root is : 1.2540283203125\n"
     ]
    }
   ],
   "source": [
    "low = 1\n",
    "high = 2\n",
    "mid = (low + high)/2\n",
    "\n",
    "if f(low) * f(high) < 0:\n",
    "    while abs(f(mid))>0.001:\n",
    "        if (f(low) * f(mid)) > 0:\n",
    "            low = mid\n",
    "        else:\n",
    "            high = mid\n",
    "        mid = (low + high)/2\n",
    "    print(\"The root is :\", mid)\n",
    "else:\n",
    "    print(\"*\")"
   ]
  },
  {
   "cell_type": "code",
   "execution_count": 14,
   "id": "9f3b92ee",
   "metadata": {},
   "outputs": [
    {
     "data": {
      "text/plain": [
       "-0.00055300315497675"
      ]
     },
     "execution_count": 14,
     "metadata": {},
     "output_type": "execute_result"
    }
   ],
   "source": [
    "f(1.254)"
   ]
  },
  {
   "cell_type": "markdown",
   "id": "42f4ab1c",
   "metadata": {},
   "source": [
    "# Newton Raphson Method"
   ]
  },
  {
   "cell_type": "code",
   "execution_count": null,
   "id": "353b8fbe",
   "metadata": {},
   "outputs": [],
   "source": []
  },
  {
   "cell_type": "code",
   "execution_count": null,
   "id": "c008f77e",
   "metadata": {},
   "outputs": [],
   "source": []
  },
  {
   "cell_type": "markdown",
   "id": "89846d2c",
   "metadata": {},
   "source": [
    "# Problem 4 - Find area under a curve Sin(x)/x in the interval [-10, 10]\n",
    "\n",
    "- Google \"Plot Sin(x)/x\""
   ]
  },
  {
   "cell_type": "code",
   "execution_count": 3,
   "id": "b4598deb",
   "metadata": {},
   "outputs": [
    {
     "data": {
      "text/html": [
       "<img src=\"http://www.mathcs.emory.edu/~cheung/Courses/170/Syllabus/07/FIGS/rectangle05.gif\"/>"
      ],
      "text/plain": [
       "<IPython.core.display.Image object>"
      ]
     },
     "execution_count": 3,
     "metadata": {},
     "output_type": "execute_result"
    }
   ],
   "source": [
    "# images-source: http://www.mathcs.emory.edu/~cheung/Courses/170/Syllabus/07/rectangle-method.html\n",
    "from IPython.display import Image\n",
    "Image(url= \"http://www.mathcs.emory.edu/~cheung/Courses/170/Syllabus/07/FIGS/rectangle05.gif\")\n"
   ]
  },
  {
   "cell_type": "code",
   "execution_count": 4,
   "id": "86accf0e",
   "metadata": {},
   "outputs": [
    {
     "data": {
      "text/html": [
       "<img src=\"http://www.mathcs.emory.edu/~cheung/Courses/170/Syllabus/07/FIGS/rectangle06.gif\"/>"
      ],
      "text/plain": [
       "<IPython.core.display.Image object>"
      ]
     },
     "execution_count": 4,
     "metadata": {},
     "output_type": "execute_result"
    }
   ],
   "source": [
    "Image(url= \"http://www.mathcs.emory.edu/~cheung/Courses/170/Syllabus/07/FIGS/rectangle06.gif\")"
   ]
  },
  {
   "cell_type": "code",
   "execution_count": null,
   "id": "fab60900",
   "metadata": {},
   "outputs": [],
   "source": []
  },
  {
   "cell_type": "code",
   "execution_count": null,
   "id": "22822bfe",
   "metadata": {},
   "outputs": [],
   "source": []
  },
  {
   "cell_type": "markdown",
   "id": "621128a5",
   "metadata": {},
   "source": []
  }
 ],
 "metadata": {
  "kernelspec": {
   "display_name": "Python 3 (ipykernel)",
   "language": "python",
   "name": "python3"
  },
  "language_info": {
   "codemirror_mode": {
    "name": "ipython",
    "version": 3
   },
   "file_extension": ".py",
   "mimetype": "text/x-python",
   "name": "python",
   "nbconvert_exporter": "python",
   "pygments_lexer": "ipython3",
   "version": "3.9.7"
  }
 },
 "nbformat": 4,
 "nbformat_minor": 5
}
