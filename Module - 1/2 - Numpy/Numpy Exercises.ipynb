{
 "cells": [
  {
   "cell_type": "markdown",
   "id": "59cee695",
   "metadata": {},
   "source": [
    "1. import numpy and print version number"
   ]
  },
  {
   "cell_type": "code",
   "execution_count": 2,
   "id": "7caac966",
   "metadata": {},
   "outputs": [
    {
     "name": "stdout",
     "output_type": "stream",
     "text": [
      "1.20.3\n"
     ]
    }
   ],
   "source": [
    "import numpy as np\n",
    "print(np.__version__)"
   ]
  },
  {
   "cell_type": "markdown",
   "id": "99db2b76",
   "metadata": {},
   "source": [
    "2. Create a 1D array"
   ]
  },
  {
   "cell_type": "code",
   "execution_count": 9,
   "id": "79bc1973",
   "metadata": {},
   "outputs": [
    {
     "data": {
      "text/plain": [
       "array([0, 1, 2, 3, 4, 5, 6, 7, 8, 9])"
      ]
     },
     "execution_count": 9,
     "metadata": {},
     "output_type": "execute_result"
    }
   ],
   "source": [
    "a = np.arange(10)\n",
    "a"
   ]
  },
  {
   "cell_type": "markdown",
   "id": "9203a07c",
   "metadata": {},
   "source": [
    "3. Create a Boolean Array"
   ]
  },
  {
   "cell_type": "code",
   "execution_count": 11,
   "id": "afab9605",
   "metadata": {},
   "outputs": [
    {
     "data": {
      "text/plain": [
       "array([[ True,  True,  True],\n",
       "       [ True,  True,  True],\n",
       "       [ True,  True,  True]])"
      ]
     },
     "execution_count": 11,
     "metadata": {},
     "output_type": "execute_result"
    }
   ],
   "source": [
    "a = np.full((3,3), True, dtype=bool)\n",
    "a"
   ]
  },
  {
   "cell_type": "code",
   "execution_count": 12,
   "id": "2af9d773",
   "metadata": {},
   "outputs": [
    {
     "data": {
      "text/plain": [
       "array([[ True,  True,  True],\n",
       "       [ True,  True,  True],\n",
       "       [ True,  True,  True]])"
      ]
     },
     "execution_count": 12,
     "metadata": {},
     "output_type": "execute_result"
    }
   ],
   "source": [
    "np.ones((3,3), dtype=bool)"
   ]
  },
  {
   "cell_type": "markdown",
   "id": "e684a4f7",
   "metadata": {},
   "source": [
    "4. Extract all Odd Numbers from 1D array"
   ]
  },
  {
   "cell_type": "code",
   "execution_count": 15,
   "id": "4552142f",
   "metadata": {},
   "outputs": [
    {
     "data": {
      "text/plain": [
       "array([1, 3, 5, 7, 9])"
      ]
     },
     "execution_count": 15,
     "metadata": {},
     "output_type": "execute_result"
    }
   ],
   "source": [
    "a = np.arange(10)\n",
    "a[1:10:2] #One way"
   ]
  },
  {
   "cell_type": "code",
   "execution_count": 17,
   "id": "f5d248b3",
   "metadata": {},
   "outputs": [
    {
     "data": {
      "text/plain": [
       "array([1, 3, 5, 7, 9])"
      ]
     },
     "execution_count": 17,
     "metadata": {},
     "output_type": "execute_result"
    }
   ],
   "source": [
    "#second way\n",
    "a = a[a % 2 == 1]\n",
    "a"
   ]
  },
  {
   "cell_type": "markdown",
   "id": "d1e9206d",
   "metadata": {},
   "source": [
    "5. Replace all odd numbers in array in -1 (with another value in Numpy Array)"
   ]
  },
  {
   "cell_type": "code",
   "execution_count": 19,
   "id": "14a1032c",
   "metadata": {},
   "outputs": [
    {
     "data": {
      "text/plain": [
       "array([ 0, -1,  2, -1,  4, -1,  6, -1,  8, -1])"
      ]
     },
     "execution_count": 19,
     "metadata": {},
     "output_type": "execute_result"
    }
   ],
   "source": [
    "b = np.arange(10)\n",
    "b[b % 2 == 1] = -1\n",
    "b"
   ]
  },
  {
   "cell_type": "markdown",
   "id": "ab3a115e",
   "metadata": {},
   "source": [
    "6. Replace all odd numbers in array with -1 without changing original array"
   ]
  },
  {
   "cell_type": "code",
   "execution_count": 21,
   "id": "a842c9fe",
   "metadata": {},
   "outputs": [
    {
     "name": "stdout",
     "output_type": "stream",
     "text": [
      "[0 1 2 3 4 5 6 7 8 9]\n",
      "[ 0 -1  2 -1  4 -1  6 -1  8 -1]\n"
     ]
    }
   ],
   "source": [
    "a = np.arange(10)\n",
    "\n",
    "#Use of Where function\n",
    "b = np.where(a % 2 == 1, -1, a)\n",
    "print(a)\n",
    "print(b)"
   ]
  },
  {
   "cell_type": "markdown",
   "id": "2d2357a4",
   "metadata": {},
   "source": [
    "## This is the first time I have used where function so apparently allows to replace values with specific condition applied on it."
   ]
  },
  {
   "cell_type": "markdown",
   "id": "d0e9f8af",
   "metadata": {},
   "source": [
    "7. Convert a 1D Array to a 2D Array with 2 rows. (Reshape an Array)"
   ]
  },
  {
   "cell_type": "code",
   "execution_count": 28,
   "id": "7ce36e6b",
   "metadata": {},
   "outputs": [
    {
     "data": {
      "text/plain": [
       "array([[0, 1, 2, 3, 4],\n",
       "       [5, 6, 7, 8, 9]])"
      ]
     },
     "execution_count": 28,
     "metadata": {},
     "output_type": "execute_result"
    }
   ],
   "source": [
    "a = np.arange(10)\n",
    "\n",
    "#reshape(rows,columns) = Setting -1 to automatically decides the number of columns\n",
    "a.reshape(2, -1)\n"
   ]
  },
  {
   "cell_type": "markdown",
   "id": "38919721",
   "metadata": {},
   "source": [
    "8. How to Stack Two arrays Vertically -- Stack arrays a and b vertically"
   ]
  },
  {
   "cell_type": "code",
   "execution_count": 33,
   "id": "a17ca663",
   "metadata": {},
   "outputs": [
    {
     "name": "stdout",
     "output_type": "stream",
     "text": [
      "[[0 1 2 3 4]\n",
      " [5 6 7 8 9]\n",
      " [1 1 1 1 1]\n",
      " [1 1 1 1 1]]\n",
      "**************************\n",
      "[[0 1 2 3 4]\n",
      " [5 6 7 8 9]\n",
      " [1 1 1 1 1]\n",
      " [1 1 1 1 1]]\n"
     ]
    }
   ],
   "source": [
    "a = np.arange(10).reshape(2,-1)\n",
    "b = np.repeat(1, 10).reshape(2,-1)\n",
    "\n",
    "#Using Concatenate\n",
    "c = np.concatenate([a,b], axis=0)\n",
    "print(c)\n",
    "\n",
    "print('**************************')\n",
    "\n",
    "#Using Vertical Stack function\n",
    "d = np.vstack([a,b])\n",
    "print(d)"
   ]
  },
  {
   "cell_type": "markdown",
   "id": "27ecfd2d",
   "metadata": {},
   "source": [
    "9. How to stack two arrays Horizontally -- Stack the arrays a and b Horizontally"
   ]
  },
  {
   "cell_type": "code",
   "execution_count": 35,
   "id": "657e4ac1",
   "metadata": {},
   "outputs": [
    {
     "name": "stdout",
     "output_type": "stream",
     "text": [
      "[[0 1 2 3 4 1 1 1 1 1]\n",
      " [5 6 7 8 9 1 1 1 1 1]]\n",
      "****************\n",
      "[[0 1 2 3 4 1 1 1 1 1]\n",
      " [5 6 7 8 9 1 1 1 1 1]]\n"
     ]
    }
   ],
   "source": [
    "a = np.arange(10).reshape(2,-1)\n",
    "b = np.repeat(1,10).reshape(2,-1)\n",
    "\n",
    "#Using Concatenate\n",
    "c = np.concatenate([a,b], axis=1)\n",
    "print(c)\n",
    "\n",
    "print(\"****************\")\n",
    "\n",
    "#Using hstack function\n",
    "d = np.hstack([a,b])\n",
    "print(d)"
   ]
  },
  {
   "cell_type": "markdown",
   "id": "eece4504",
   "metadata": {},
   "source": [
    "10. Generating Custom Sequences - Create the following pattern without hardcoding array[1,1,1,2,2,2,3,3,3,1,2,3,1,2,3,1,2,3] Using only Numpy functions and below a"
   ]
  },
  {
   "cell_type": "code",
   "execution_count": 39,
   "id": "942a7436",
   "metadata": {},
   "outputs": [
    {
     "name": "stdout",
     "output_type": "stream",
     "text": [
      "[1 1 1 2 2 2 3 3 3 1 2 3 1 2 3 1 2 3]\n",
      "[1 1 1 2 2 2 3 3 3 1 2 3 1 2 3 1 2 3]\n"
     ]
    }
   ],
   "source": [
    "a = np.array([1,2,3])\n",
    "\n",
    "#Using r_ : r_ is used to concatenate along the first axis\n",
    "b = np.r_[np.repeat(a,3), np.tile(a,3)]\n",
    "print(b)\n",
    "\n",
    "#Using Concatenate Function\n",
    "c = np.concatenate([np.repeat(a,3), np.tile(a,3)])\n",
    "print(c)"
   ]
  },
  {
   "cell_type": "markdown",
   "id": "5411e2ca",
   "metadata": {},
   "source": [
    "11. Get common items between two python numpy arrays. (a and b)"
   ]
  },
  {
   "cell_type": "code",
   "execution_count": 47,
   "id": "910192f1",
   "metadata": {},
   "outputs": [
    {
     "data": {
      "text/plain": [
       "array([2, 4])"
      ]
     },
     "execution_count": 47,
     "metadata": {},
     "output_type": "execute_result"
    }
   ],
   "source": [
    "a = np.array([1,2,3,2,3,4,3,4,5,6])\n",
    "b = np.array([7,2,10,2,7,4,9,4,9,8])\n",
    "np.intersect1d(a,b)"
   ]
  },
  {
   "cell_type": "markdown",
   "id": "7fd6983f",
   "metadata": {},
   "source": [
    "__intersect1d = Returns the common value present in both the Sets.__"
   ]
  },
  {
   "cell_type": "markdown",
   "id": "e5888154",
   "metadata": {},
   "source": [
    "12. Remove from one array those items that exist in another -- From array a remove all items present in array b"
   ]
  },
  {
   "cell_type": "code",
   "execution_count": 48,
   "id": "088ee141",
   "metadata": {},
   "outputs": [
    {
     "data": {
      "text/plain": [
       "array([1, 2, 3, 4])"
      ]
     },
     "execution_count": 48,
     "metadata": {},
     "output_type": "execute_result"
    }
   ],
   "source": [
    "a = np.array([1,2,3,4,5])\n",
    "b = np.array([5,6,7,8,9])\n",
    "\n",
    "np.setdiff1d(a,b)"
   ]
  },
  {
   "cell_type": "markdown",
   "id": "41dd2cb2",
   "metadata": {},
   "source": [
    "__setdiff1d = To find the value present in the first set that are not present in the second set__"
   ]
  },
  {
   "cell_type": "markdown",
   "id": "2e38d12f",
   "metadata": {},
   "source": [
    "13. Get the Positions where elements of Two Match -- Get the positions where elements of a and b match"
   ]
  },
  {
   "cell_type": "code",
   "execution_count": 49,
   "id": "cb1c0371",
   "metadata": {},
   "outputs": [
    {
     "data": {
      "text/plain": [
       "(array([1, 3, 5, 7], dtype=int64),)"
      ]
     },
     "execution_count": 49,
     "metadata": {},
     "output_type": "execute_result"
    }
   ],
   "source": [
    "a = np.array([1,2,3,2,3,4,3,4,5,6])\n",
    "b = np.array([7,2,10,2,7,4,9,4,9,8])\n",
    "\n",
    "np.where(a==b)"
   ]
  },
  {
   "cell_type": "markdown",
   "id": "550d81ac",
   "metadata": {},
   "source": [
    "14. Extract all numbers between a given range from a numpy array -- Get all items between 5 and 10 from a"
   ]
  },
  {
   "cell_type": "code",
   "execution_count": 55,
   "id": "a946d1da",
   "metadata": {},
   "outputs": [
    {
     "name": "stdout",
     "output_type": "stream",
     "text": [
      "[ 6  9 10]\n",
      "**************************\n"
     ]
    },
    {
     "data": {
      "text/plain": [
       "array([ 6,  9, 10])"
      ]
     },
     "execution_count": 55,
     "metadata": {},
     "output_type": "execute_result"
    }
   ],
   "source": [
    "a = np.array([2, 6, 1, 9, 10, 3, 27])\n",
    "\n",
    "#Method 1\n",
    "index = np.where((a >= 5) & (a <= 10))\n",
    "print(a[index])\n",
    "\n",
    "print('**************************')\n",
    "\n",
    "#Method 2\n",
    "a[(a >= 5) & (a <= 10)]\n"
   ]
  },
  {
   "cell_type": "markdown",
   "id": "6df2cb37",
   "metadata": {},
   "source": [
    "15. Make a python function that handles scalars to word on Numpy Arrays -- Convert the function `maxx` that works on two scalars, to work on two arrays.\n",
    "\n",
    "def maxx(x,y):\n",
    "    \"\"\"Get the maximum of two items\"\"\"\n",
    "    if x >= y:\n",
    "        return x\n",
    "    else:\n",
    "        return y\n",
    "        \n",
    "- maxx(1,5)\n"
   ]
  },
  {
   "cell_type": "code",
   "execution_count": 60,
   "id": "d32a9f25",
   "metadata": {},
   "outputs": [],
   "source": [
    "a = np.array([5, 7, 9, 8, 6, 4, 5])\n",
    "b = np.array([6, 3, 4, 8, 9, 7, 1])"
   ]
  },
  {
   "cell_type": "code",
   "execution_count": 62,
   "id": "c62d7220",
   "metadata": {},
   "outputs": [],
   "source": [
    "def maxx(x,y):\n",
    "    \"\"\"Get the maximum of two items\"\"\"\n",
    "    if x >= y:\n",
    "        return x\n",
    "    else:\n",
    "        return y\n",
    "    "
   ]
  },
  {
   "cell_type": "code",
   "execution_count": 64,
   "id": "42d29474",
   "metadata": {},
   "outputs": [
    {
     "data": {
      "text/plain": [
       "array([6., 7., 9., 8., 9., 7., 5.])"
      ]
     },
     "execution_count": 64,
     "metadata": {},
     "output_type": "execute_result"
    }
   ],
   "source": [
    "pair_max = np.vectorize(maxx, otypes=[float])\n",
    "pair_max(a,b)"
   ]
  },
  {
   "cell_type": "markdown",
   "id": "e32ca3a2",
   "metadata": {},
   "source": [
    "16. Swap two columns in a 2D numpy array -- Swap columns 1 and 2 in the array "
   ]
  },
  {
   "cell_type": "code",
   "execution_count": 65,
   "id": "5a22b3ae",
   "metadata": {},
   "outputs": [
    {
     "data": {
      "text/plain": [
       "array([[0, 1, 2],\n",
       "       [3, 4, 5],\n",
       "       [6, 7, 8]])"
      ]
     },
     "execution_count": 65,
     "metadata": {},
     "output_type": "execute_result"
    }
   ],
   "source": [
    "a = np.arange(9).reshape(3,3)\n",
    "a"
   ]
  },
  {
   "cell_type": "code",
   "execution_count": 66,
   "id": "a5f53aa7",
   "metadata": {},
   "outputs": [
    {
     "data": {
      "text/plain": [
       "array([[1, 0, 2],\n",
       "       [4, 3, 5],\n",
       "       [7, 6, 8]])"
      ]
     },
     "execution_count": 66,
     "metadata": {},
     "output_type": "execute_result"
    }
   ],
   "source": [
    "a[:,[1,0,2]]"
   ]
  },
  {
   "cell_type": "markdown",
   "id": "2ca6e859",
   "metadata": {},
   "source": [
    "17. Swap two rows in a 2D numpy array - Swap rows 1 and 2 in the array"
   ]
  },
  {
   "cell_type": "code",
   "execution_count": 67,
   "id": "78847e8c",
   "metadata": {},
   "outputs": [
    {
     "data": {
      "text/plain": [
       "array([[0, 1, 2],\n",
       "       [3, 4, 5],\n",
       "       [6, 7, 8]])"
      ]
     },
     "execution_count": 67,
     "metadata": {},
     "output_type": "execute_result"
    }
   ],
   "source": [
    "a = np.arange(9).reshape(3,-1)\n",
    "a"
   ]
  },
  {
   "cell_type": "code",
   "execution_count": 69,
   "id": "72c92ea4",
   "metadata": {},
   "outputs": [
    {
     "data": {
      "text/plain": [
       "array([[3, 4, 5],\n",
       "       [0, 1, 2],\n",
       "       [6, 7, 8]])"
      ]
     },
     "execution_count": 69,
     "metadata": {},
     "output_type": "execute_result"
    }
   ],
   "source": [
    "a[[1,0,2],:]"
   ]
  },
  {
   "cell_type": "markdown",
   "id": "6b055d2f",
   "metadata": {},
   "source": [
    "18. Reverse the rows of a 2D array -- Reverse the rows of a 2D array"
   ]
  },
  {
   "cell_type": "code",
   "execution_count": 72,
   "id": "49472e02",
   "metadata": {},
   "outputs": [
    {
     "data": {
      "text/plain": [
       "array([[0, 1, 2],\n",
       "       [3, 4, 5],\n",
       "       [6, 7, 8]])"
      ]
     },
     "execution_count": 72,
     "metadata": {},
     "output_type": "execute_result"
    }
   ],
   "source": [
    "a = np.arange(9).reshape(3,3)\n",
    "a"
   ]
  },
  {
   "cell_type": "code",
   "execution_count": 78,
   "id": "d248042e",
   "metadata": {},
   "outputs": [
    {
     "data": {
      "text/plain": [
       "array([[6, 7, 8],\n",
       "       [3, 4, 5],\n",
       "       [0, 1, 2]])"
      ]
     },
     "execution_count": 78,
     "metadata": {},
     "output_type": "execute_result"
    }
   ],
   "source": [
    "a[::-1]"
   ]
  },
  {
   "cell_type": "markdown",
   "id": "900610a9",
   "metadata": {},
   "source": [
    "19. Reverse the columns of 2D array -- Reverse the columns of a 2D array"
   ]
  },
  {
   "cell_type": "code",
   "execution_count": 79,
   "id": "73df5df5",
   "metadata": {},
   "outputs": [
    {
     "data": {
      "text/plain": [
       "array([[0, 1, 2],\n",
       "       [3, 4, 5],\n",
       "       [6, 7, 8]])"
      ]
     },
     "execution_count": 79,
     "metadata": {},
     "output_type": "execute_result"
    }
   ],
   "source": [
    "a = np.arange(9).reshape(3,3)\n",
    "a"
   ]
  },
  {
   "cell_type": "code",
   "execution_count": 80,
   "id": "1806b8b3",
   "metadata": {},
   "outputs": [
    {
     "data": {
      "text/plain": [
       "array([[2, 1, 0],\n",
       "       [5, 4, 3],\n",
       "       [8, 7, 6]])"
      ]
     },
     "execution_count": 80,
     "metadata": {},
     "output_type": "execute_result"
    }
   ],
   "source": [
    "#Method 1\n",
    "a[:,[2,1,0]]"
   ]
  },
  {
   "cell_type": "code",
   "execution_count": 81,
   "id": "7b51d83d",
   "metadata": {},
   "outputs": [
    {
     "data": {
      "text/plain": [
       "array([[2, 1, 0],\n",
       "       [5, 4, 3],\n",
       "       [8, 7, 6]])"
      ]
     },
     "execution_count": 81,
     "metadata": {},
     "output_type": "execute_result"
    }
   ],
   "source": [
    "#Method 2\n",
    "\n",
    "a[:,::-1]"
   ]
  },
  {
   "cell_type": "markdown",
   "id": "49b5ac69",
   "metadata": {},
   "source": [
    "20. Create a 2D array containing random floats between 5 and 10 -- Create a 2D array of shape 5 x 3 to contain random decimal numbers between 5 and 10"
   ]
  },
  {
   "cell_type": "code",
   "execution_count": 87,
   "id": "b1199921",
   "metadata": {},
   "outputs": [
    {
     "name": "stdout",
     "output_type": "stream",
     "text": [
      "[[7.59748892 9.0964333  7.14506309]\n",
      " [7.0908042  5.74677434 9.88082236]\n",
      " [7.59062347 9.84711884 6.81632407]\n",
      " [6.77235848 8.9239509  6.32827937]\n",
      " [9.75837841 5.30210159 6.48837517]]\n"
     ]
    }
   ],
   "source": [
    "rand_array = np.random.uniform(low=5, high= 10, size=(5,3))\n",
    "print(rand_array)"
   ]
  },
  {
   "cell_type": "markdown",
   "id": "6a96cc9d",
   "metadata": {},
   "source": [
    "__numpy.random. uniform (low=0.0, high=1.0, size=None) Draw samples from a uniform distribution. Samples are uniformly distributed over the half-open interval [low, high) (includes low, but excludes high). In other words, any value within the given interval is equally likely to be drawn by uniform .__"
   ]
  },
  {
   "cell_type": "markdown",
   "id": "4a4f0f7d",
   "metadata": {},
   "source": [
    "https://www.machinelearningplus.com/python/101-numpy-exercises-python/"
   ]
  },
  {
   "cell_type": "markdown",
   "id": "e18e4c3d",
   "metadata": {},
   "source": [
    "21. Print only 3 decimal places in python numpy array - Print or show only 3 decimal places of the numpy array  rand_arr."
   ]
  },
  {
   "cell_type": "code",
   "execution_count": 24,
   "id": "95d66b42",
   "metadata": {},
   "outputs": [
    {
     "data": {
      "text/plain": [
       "array([[0.543, 0.278, 0.425],\n",
       "       [0.845, 0.005, 0.122],\n",
       "       [0.671, 0.826, 0.137],\n",
       "       [0.575, 0.891, 0.209],\n",
       "       [0.185, 0.108, 0.22 ]])"
      ]
     },
     "execution_count": 24,
     "metadata": {},
     "output_type": "execute_result"
    }
   ],
   "source": [
    "np.random.seed(100)\n",
    "rand_arr = np.round_(np.random.random((5,3)), 3)\n",
    "rand_arr"
   ]
  },
  {
   "cell_type": "markdown",
   "id": "011a4174",
   "metadata": {},
   "source": [
    "22. Print a numpy array by supressing the scientific notation (like 1e10) -- Pretty print rand_arr by supressing the scientific notation like 1e10."
   ]
  },
  {
   "cell_type": "code",
   "execution_count": 12,
   "id": "096dd7e2",
   "metadata": {},
   "outputs": [
    {
     "data": {
      "text/plain": [
       "array([[6.80858575e-04, 9.86459818e-04, 4.87259200e-04],\n",
       "       [2.46665114e-04, 6.01997252e-04, 2.58309547e-05],\n",
       "       [3.53822039e-04, 2.05507915e-05, 6.57677082e-04],\n",
       "       [1.92901225e-04, 9.93820145e-04, 7.12057667e-04],\n",
       "       [6.71985188e-04, 3.95850266e-04, 6.87109932e-04]])"
      ]
     },
     "execution_count": 12,
     "metadata": {},
     "output_type": "execute_result"
    }
   ],
   "source": [
    "rand_arr = np.random.random((5,3))/1e3\n",
    "rand_arr"
   ]
  },
  {
   "cell_type": "code",
   "execution_count": 21,
   "id": "b5bb5a84",
   "metadata": {},
   "outputs": [
    {
     "name": "stdout",
     "output_type": "stream",
     "text": [
      " set_printoptions(precision=None, threshold=None, edgeitems=None,\n",
      "                  linewidth=None, suppress=None, nanstr=None, infstr=None,\n",
      "                  formatter=None, sign=None, floatmode=None, *, legacy=None)\n",
      "\n",
      "Set printing options.\n",
      "\n",
      "These options determine the way floating point numbers, arrays and\n",
      "other NumPy objects are displayed.\n",
      "\n",
      "Parameters\n",
      "----------\n",
      "precision : int or None, optional\n",
      "    Number of digits of precision for floating point output (default 8).\n",
      "    May be None if `floatmode` is not `fixed`, to print as many digits as\n",
      "    necessary to uniquely specify the value.\n",
      "threshold : int, optional\n",
      "    Total number of array elements which trigger summarization\n",
      "    rather than full repr (default 1000).\n",
      "    To always use the full repr without summarization, pass `sys.maxsize`.\n",
      "edgeitems : int, optional\n",
      "    Number of array items in summary at beginning and end of\n",
      "    each dimension (default 3).\n",
      "linewidth : int, optional\n",
      "    The number of characters per line for the purpose of inserting\n",
      "    line breaks (default 75).\n",
      "suppress : bool, optional\n",
      "    If True, always print floating point numbers using fixed point\n",
      "    notation, in which case numbers equal to zero in the current precision\n",
      "    will print as zero.  If False, then scientific notation is used when\n",
      "    absolute value of the smallest number is < 1e-4 or the ratio of the\n",
      "    maximum absolute value to the minimum is > 1e3. The default is False.\n",
      "nanstr : str, optional\n",
      "    String representation of floating point not-a-number (default nan).\n",
      "infstr : str, optional\n",
      "    String representation of floating point infinity (default inf).\n",
      "sign : string, either '-', '+', or ' ', optional\n",
      "    Controls printing of the sign of floating-point types. If '+', always\n",
      "    print the sign of positive values. If ' ', always prints a space\n",
      "    (whitespace character) in the sign position of positive values.  If\n",
      "    '-', omit the sign character of positive values. (default '-')\n",
      "formatter : dict of callables, optional\n",
      "    If not None, the keys should indicate the type(s) that the respective\n",
      "    formatting function applies to.  Callables should return a string.\n",
      "    Types that are not specified (by their corresponding keys) are handled\n",
      "    by the default formatters.  Individual types for which a formatter\n",
      "    can be set are:\n",
      "\n",
      "    - 'bool'\n",
      "    - 'int'\n",
      "    - 'timedelta' : a `numpy.timedelta64`\n",
      "    - 'datetime' : a `numpy.datetime64`\n",
      "    - 'float'\n",
      "    - 'longfloat' : 128-bit floats\n",
      "    - 'complexfloat'\n",
      "    - 'longcomplexfloat' : composed of two 128-bit floats\n",
      "    - 'numpystr' : types `numpy.string_` and `numpy.unicode_`\n",
      "    - 'object' : `np.object_` arrays\n",
      "    - 'str' : all other strings\n",
      "\n",
      "    Other keys that can be used to set a group of types at once are:\n",
      "\n",
      "    - 'all' : sets all types\n",
      "    - 'int_kind' : sets 'int'\n",
      "    - 'float_kind' : sets 'float' and 'longfloat'\n",
      "    - 'complex_kind' : sets 'complexfloat' and 'longcomplexfloat'\n",
      "    - 'str_kind' : sets 'str' and 'numpystr'\n",
      "floatmode : str, optional\n",
      "    Controls the interpretation of the `precision` option for\n",
      "    floating-point types. Can take the following values\n",
      "    (default maxprec_equal):\n",
      "\n",
      "    * 'fixed': Always print exactly `precision` fractional digits,\n",
      "            even if this would print more or fewer digits than\n",
      "            necessary to specify the value uniquely.\n",
      "    * 'unique': Print the minimum number of fractional digits necessary\n",
      "            to represent each value uniquely. Different elements may\n",
      "            have a different number of digits. The value of the\n",
      "            `precision` option is ignored.\n",
      "    * 'maxprec': Print at most `precision` fractional digits, but if\n",
      "            an element can be uniquely represented with fewer digits\n",
      "            only print it with that many.\n",
      "    * 'maxprec_equal': Print at most `precision` fractional digits,\n",
      "            but if every element in the array can be uniquely\n",
      "            represented with an equal number of fewer digits, use that\n",
      "            many digits for all elements.\n",
      "legacy : string or `False`, optional\n",
      "    If set to the string `'1.13'` enables 1.13 legacy printing mode. This\n",
      "    approximates numpy 1.13 print output by including a space in the sign\n",
      "    position of floats and different behavior for 0d arrays. If set to\n",
      "    `False`, disables legacy mode. Unrecognized strings will be ignored\n",
      "    with a warning for forward compatibility.\n",
      "\n",
      "    .. versionadded:: 1.14.0\n",
      "\n",
      "See Also\n",
      "--------\n",
      "get_printoptions, printoptions, set_string_function, array2string\n",
      "\n",
      "Notes\n",
      "-----\n",
      "`formatter` is always reset with a call to `set_printoptions`.\n",
      "\n",
      "Use `printoptions` as a context manager to set the values temporarily.\n",
      "\n",
      "Examples\n",
      "--------\n",
      "Floating point precision can be set:\n",
      "\n",
      ">>> np.set_printoptions(precision=4)\n",
      ">>> np.array([1.123456789])\n",
      "[1.1235]\n",
      "\n",
      "Long arrays can be summarised:\n",
      "\n",
      ">>> np.set_printoptions(threshold=5)\n",
      ">>> np.arange(10)\n",
      "array([0, 1, 2, ..., 7, 8, 9])\n",
      "\n",
      "Small results can be suppressed:\n",
      "\n",
      ">>> eps = np.finfo(float).eps\n",
      ">>> x = np.arange(4.)\n",
      ">>> x**2 - (x + eps)**2\n",
      "array([-4.9304e-32, -4.4409e-16,  0.0000e+00,  0.0000e+00])\n",
      ">>> np.set_printoptions(suppress=True)\n",
      ">>> x**2 - (x + eps)**2\n",
      "array([-0., -0.,  0.,  0.])\n",
      "\n",
      "A custom formatter can be used to display array elements as desired:\n",
      "\n",
      ">>> np.set_printoptions(formatter={'all':lambda x: 'int: '+str(-x)})\n",
      ">>> x = np.arange(3)\n",
      ">>> x\n",
      "array([int: 0, int: -1, int: -2])\n",
      ">>> np.set_printoptions()  # formatter gets reset\n",
      ">>> x\n",
      "array([0, 1, 2])\n",
      "\n",
      "To put back the default options, you can use:\n",
      "\n",
      ">>> np.set_printoptions(edgeitems=3, infstr='inf',\n",
      "... linewidth=75, nanstr='nan', precision=8,\n",
      "... suppress=False, threshold=1000, formatter=None)\n",
      "\n",
      "Also to temporarily override options, use `printoptions` as a context manager:\n",
      "\n",
      ">>> with np.printoptions(precision=2, suppress=True, threshold=5):\n",
      "...     np.linspace(0, 10, 10)\n",
      "array([ 0.  ,  1.11,  2.22, ...,  7.78,  8.89, 10.  ])\n"
     ]
    }
   ],
   "source": [
    "np.info(np.set_printoptions)"
   ]
  },
  {
   "cell_type": "code",
   "execution_count": 15,
   "id": "41367632",
   "metadata": {},
   "outputs": [
    {
     "name": "stdout",
     "output_type": "stream",
     "text": [
      "[[0.00068086 0.00098646 0.00048726]\n",
      " [0.00024667 0.000602   0.00002583]\n",
      " [0.00035382 0.00002055 0.00065768]\n",
      " [0.0001929  0.00099382 0.00071206]\n",
      " [0.00067199 0.00039585 0.00068711]]\n"
     ]
    }
   ],
   "source": [
    "np.set_printoptions(suppress=True)\n",
    "\n",
    "print(rand_arr)"
   ]
  },
  {
   "cell_type": "markdown",
   "id": "bd9f087b",
   "metadata": {},
   "source": [
    "23. Limit the number of items printed in output of numpy array -- Limit the number of items printed in output of numpy array a to maximum number of 6 element "
   ]
  },
  {
   "cell_type": "code",
   "execution_count": 19,
   "id": "39d6da99",
   "metadata": {},
   "outputs": [
    {
     "data": {
      "text/plain": [
       "array([ 0,  1,  2,  3,  4,  5,  6,  7,  8,  9, 10, 11, 12, 13, 14])"
      ]
     },
     "execution_count": 19,
     "metadata": {},
     "output_type": "execute_result"
    }
   ],
   "source": [
    "a = np.arange(15)\n",
    "a"
   ]
  },
  {
   "cell_type": "code",
   "execution_count": 22,
   "id": "69a1cf7a",
   "metadata": {},
   "outputs": [
    {
     "name": "stdout",
     "output_type": "stream",
     "text": [
      "[ 0  1  2 ... 12 13 14]\n"
     ]
    }
   ],
   "source": [
    "np.set_printoptions(threshold = 6)\n",
    "print(a)"
   ]
  },
  {
   "cell_type": "markdown",
   "id": "52310b25",
   "metadata": {},
   "source": [
    "24. Print the full numpy array without truncating -- Print the full numpy array a without truncating."
   ]
  },
  {
   "cell_type": "code",
   "execution_count": 25,
   "id": "aa1c38df",
   "metadata": {},
   "outputs": [
    {
     "data": {
      "text/plain": [
       "array([ 0,  1,  2, ..., 12, 13, 14])"
      ]
     },
     "execution_count": 25,
     "metadata": {},
     "output_type": "execute_result"
    }
   ],
   "source": [
    "np.set_printoptions(threshold=6)\n",
    "a = np.arange(15)\n",
    "a"
   ]
  },
  {
   "cell_type": "code",
   "execution_count": 41,
   "id": "c30fddef",
   "metadata": {},
   "outputs": [
    {
     "data": {
      "text/plain": [
       "array([ 0,  1,  2,  3,  4,  5,  6,  7,  8,  9, 10, 11, 12, 13, 14])"
      ]
     },
     "execution_count": 41,
     "metadata": {},
     "output_type": "execute_result"
    }
   ],
   "source": [
    "np.set_printoptions(threshold=1000)\n",
    "a"
   ]
  },
  {
   "cell_type": "markdown",
   "id": "a9f85175",
   "metadata": {},
   "source": [
    "25. Import a dataset with numbers and texts keeping the intact in python numpy. -- Import iris dataset keeping the text intact."
   ]
  },
  {
   "cell_type": "code",
   "execution_count": 66,
   "id": "f143597f",
   "metadata": {},
   "outputs": [
    {
     "data": {
      "text/plain": [
       "array([[b'5.1', b'3.5', b'1.4', b'0.2', b'Iris-setosa'],\n",
       "       [b'4.9', b'3.0', b'1.4', b'0.2', b'Iris-setosa'],\n",
       "       [b'4.7', b'3.2', b'1.3', b'0.2', b'Iris-setosa']], dtype=object)"
      ]
     },
     "execution_count": 66,
     "metadata": {},
     "output_type": "execute_result"
    }
   ],
   "source": [
    "a = np.genfromtxt('iris.data', delimiter =',', dtype='object')\n",
    "names = ('sepallength', 'sepalwidth', 'petallength', 'petalwidth', 'species')\n",
    "a[:3]\n"
   ]
  },
  {
   "cell_type": "markdown",
   "id": "0e278e05",
   "metadata": {},
   "source": [
    "26. Extract a particular column from 1D array of tuples -- Extract the columns species from 1D iris imported in previous sections"
   ]
  },
  {
   "cell_type": "code",
   "execution_count": 90,
   "id": "2fd447d8",
   "metadata": {},
   "outputs": [
    {
     "name": "stdout",
     "output_type": "stream",
     "text": [
      "(150,)\n",
      "[b'Iris-setosa' b'Iris-setosa' b'Iris-setosa' b'Iris-setosa'\n",
      " b'Iris-setosa']\n"
     ]
    }
   ],
   "source": [
    "species = np.array([col[4] for col in a])\n",
    "print(species.shape)\n",
    "\n",
    "print(species[:5])"
   ]
  },
  {
   "cell_type": "code",
   "execution_count": 88,
   "id": "5f75c85c",
   "metadata": {},
   "outputs": [
    {
     "name": "stdout",
     "output_type": "stream",
     "text": [
      "(150,)\n",
      "(130,)\n",
      "(5,)\n"
     ]
    }
   ],
   "source": [
    "species = np.array([col[4] for col in a])\n",
    "print(species.shape)\n",
    "\n",
    "b = species[20:]\n",
    "print(b.shape)\n",
    "\n",
    "c = species[:5]\n",
    "print(c.shape)"
   ]
  },
  {
   "cell_type": "markdown",
   "id": "2f150b76",
   "metadata": {},
   "source": [
    "27. Convert a 1D array of tuples to 2D numpy array -- Convert a 1D iris to 2D array by omitting the species text field"
   ]
  },
  {
   "cell_type": "code",
   "execution_count": 94,
   "id": "d1b3d012",
   "metadata": {},
   "outputs": [
    {
     "name": "stderr",
     "output_type": "stream",
     "text": [
      "C:\\Users\\Asus\\AppData\\Local\\Temp/ipykernel_3476/1284445418.py:1: VisibleDeprecationWarning: Reading unicode strings without specifying the encoding argument is deprecated. Set the encoding, use None for the system default.\n",
      "  species_1d = np.genfromtxt('iris.data', delimiter = ',' , dtype=None)\n"
     ]
    },
    {
     "data": {
      "text/plain": [
       "array([[5.1, 3.5, 1.4, 0.2],\n",
       "       [4.9, 3. , 1.4, 0.2],\n",
       "       [4.7, 3.2, 1.3, 0.2],\n",
       "       [4.6, 3.1, 1.5, 0.2],\n",
       "       [5. , 3.6, 1.4, 0.2]])"
      ]
     },
     "execution_count": 94,
     "metadata": {},
     "output_type": "execute_result"
    }
   ],
   "source": [
    "species_1d = np.genfromtxt('iris.data', delimiter = ',' , dtype=None)\n",
    "\n",
    "species_2d = np.array([row.tolist()[:4] for row in species_1d])\n",
    "species_2d[:5]"
   ]
  },
  {
   "cell_type": "code",
   "execution_count": 96,
   "id": "fe361cb5",
   "metadata": {},
   "outputs": [
    {
     "data": {
      "text/plain": [
       "array([[5.1, 3.5, 1.4, 0.2],\n",
       "       [4.9, 3. , 1.4, 0.2],\n",
       "       [4.7, 3.2, 1.3, 0.2],\n",
       "       [4.6, 3.1, 1.5, 0.2],\n",
       "       [5. , 3.6, 1.4, 0.2]])"
      ]
     },
     "execution_count": 96,
     "metadata": {},
     "output_type": "execute_result"
    }
   ],
   "source": [
    "species_twod = np.genfromtxt('iris.data', delimiter = ',' , dtype=float, usecols = [0,1,2,3])\n",
    "species_twod[:5]\n"
   ]
  },
  {
   "cell_type": "code",
   "execution_count": 103,
   "id": "d11c3c8f",
   "metadata": {},
   "outputs": [
    {
     "data": {
      "text/plain": [
       "b'Iris-setosa'"
      ]
     },
     "execution_count": 103,
     "metadata": {},
     "output_type": "execute_result"
    }
   ],
   "source": [
    "c = species_1d.tolist()\n",
    "c[0][4]"
   ]
  },
  {
   "cell_type": "markdown",
   "id": "6972ca45",
   "metadata": {},
   "source": [
    "28. Computer mean, median, standar deviation of a numpy array -- Find mean, median and standard deviation of iris's sepallength\n"
   ]
  },
  {
   "cell_type": "code",
   "execution_count": 114,
   "id": "e64680cc",
   "metadata": {},
   "outputs": [
    {
     "data": {
      "text/plain": [
       "[5.1, 4.9, 4.7, 4.6, 5.0]"
      ]
     },
     "execution_count": 114,
     "metadata": {},
     "output_type": "execute_result"
    }
   ],
   "source": [
    "sepal_length = np.genfromtxt('iris.data',delimiter = ',' , dtype=None, usecols=[0])\n",
    "\n",
    "sepal_l = sepal_length.tolist()\n",
    "\n",
    "sepal_l[:5]\n",
    "\n"
   ]
  },
  {
   "cell_type": "code",
   "execution_count": 117,
   "id": "8e9abd55",
   "metadata": {},
   "outputs": [
    {
     "data": {
      "text/plain": [
       "5.843333333333334"
      ]
     },
     "execution_count": 117,
     "metadata": {},
     "output_type": "execute_result"
    }
   ],
   "source": [
    "sepal_length.mean()"
   ]
  },
  {
   "cell_type": "code",
   "execution_count": 122,
   "id": "17f1b863",
   "metadata": {},
   "outputs": [
    {
     "data": {
      "text/plain": [
       "5.8"
      ]
     },
     "execution_count": 122,
     "metadata": {},
     "output_type": "execute_result"
    }
   ],
   "source": [
    "np.median(sepal_l)"
   ]
  },
  {
   "cell_type": "code",
   "execution_count": 121,
   "id": "f363d527",
   "metadata": {},
   "outputs": [
    {
     "data": {
      "text/plain": [
       "0.8253012917851409"
      ]
     },
     "execution_count": 121,
     "metadata": {},
     "output_type": "execute_result"
    }
   ],
   "source": [
    "np.std(sepal_l)"
   ]
  },
  {
   "cell_type": "code",
   "execution_count": null,
   "id": "3f16a9e5",
   "metadata": {},
   "outputs": [],
   "source": []
  },
  {
   "cell_type": "code",
   "execution_count": null,
   "id": "cc5cd76d",
   "metadata": {},
   "outputs": [],
   "source": []
  }
 ],
 "metadata": {
  "kernelspec": {
   "display_name": "Python 3 (ipykernel)",
   "language": "python",
   "name": "python3"
  },
  "language_info": {
   "codemirror_mode": {
    "name": "ipython",
    "version": 3
   },
   "file_extension": ".py",
   "mimetype": "text/x-python",
   "name": "python",
   "nbconvert_exporter": "python",
   "pygments_lexer": "ipython3",
   "version": "3.9.7"
  }
 },
 "nbformat": 4,
 "nbformat_minor": 5
}
