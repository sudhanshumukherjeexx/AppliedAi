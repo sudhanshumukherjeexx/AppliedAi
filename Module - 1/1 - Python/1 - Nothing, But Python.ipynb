{
 "cells": [
  {
   "cell_type": "markdown",
   "id": "760412e5",
   "metadata": {},
   "source": [
    "# Python Keywords"
   ]
  },
  {
   "cell_type": "markdown",
   "id": "9c243334",
   "metadata": {},
   "source": [
    "Keywords are the reserved words in python\n",
    "\n",
    "We can't use a keyword as variable name, function name or any other identifier\n",
    "\n",
    "Keywords are case sentive"
   ]
  },
  {
   "cell_type": "code",
   "execution_count": 5,
   "id": "ffdcdba9",
   "metadata": {},
   "outputs": [
    {
     "name": "stdout",
     "output_type": "stream",
     "text": [
      "['False', 'None', 'True', '__peg_parser__', 'and', 'as', 'assert', 'async', 'await', 'break', 'class', 'continue', 'def', 'del', 'elif', 'else', 'except', 'finally', 'for', 'from', 'global', 'if', 'import', 'in', 'is', 'lambda', 'nonlocal', 'not', 'or', 'pass', 'raise', 'return', 'try', 'while', 'with', 'yield']\n",
      "\n",
      "Total number of keyword : 36\n"
     ]
    }
   ],
   "source": [
    "#get all the keywords\n",
    "\n",
    "import keyword\n",
    "\n",
    "print(keyword.kwlist)\n",
    "\n",
    "print(\"\\nTotal number of keyword :\", len(keyword.kwlist))"
   ]
  },
  {
   "cell_type": "markdown",
   "id": "f8dd4cf6",
   "metadata": {},
   "source": [
    "# Identifiers"
   ]
  },
  {
   "cell_type": "markdown",
   "id": "826ac852",
   "metadata": {},
   "source": [
    "Identifier is the name given to entities like class, functions, variables etc. in Python. It helps differentiating one entity from another.\n",
    "\n",
    "Rules for Writing Identifiers:\n",
    "\n",
    "1. Identifiers can be a combination of letters in lowercase (a to z) or uppercase (A to Z) or digits (0 to 9) or an underscore (_).\n",
    "\n",
    "2. An identifier cannot start with a digit. 1variable is invalid, but variable1 is perfectly fine.\n",
    "\n",
    "3. Keywords cannot be used as identifiers."
   ]
  },
  {
   "cell_type": "code",
   "execution_count": 6,
   "id": "61e0aa8e",
   "metadata": {},
   "outputs": [
    {
     "ename": "SyntaxError",
     "evalue": "invalid syntax (Temp/ipykernel_19608/1908464387.py, line 1)",
     "output_type": "error",
     "traceback": [
      "\u001b[1;36m  File \u001b[1;32m\"C:\\Users\\Asus\\AppData\\Local\\Temp/ipykernel_19608/1908464387.py\"\u001b[1;36m, line \u001b[1;32m1\u001b[0m\n\u001b[1;33m    global = 1\u001b[0m\n\u001b[1;37m           ^\u001b[0m\n\u001b[1;31mSyntaxError\u001b[0m\u001b[1;31m:\u001b[0m invalid syntax\n"
     ]
    }
   ],
   "source": [
    "global = 1"
   ]
  },
  {
   "cell_type": "code",
   "execution_count": 10,
   "id": "e88d8308",
   "metadata": {},
   "outputs": [
    {
     "name": "stdout",
     "output_type": "stream",
     "text": [
      "2\n"
     ]
    }
   ],
   "source": [
    "abc10 = 2\n",
    "print(abc10)"
   ]
  },
  {
   "cell_type": "code",
   "execution_count": 11,
   "id": "b7482f53",
   "metadata": {},
   "outputs": [
    {
     "ename": "SyntaxError",
     "evalue": "invalid syntax (Temp/ipykernel_19608/1326364490.py, line 1)",
     "output_type": "error",
     "traceback": [
      "\u001b[1;36m  File \u001b[1;32m\"C:\\Users\\Asus\\AppData\\Local\\Temp/ipykernel_19608/1326364490.py\"\u001b[1;36m, line \u001b[1;32m1\u001b[0m\n\u001b[1;33m    10abc = 5\u001b[0m\n\u001b[1;37m      ^\u001b[0m\n\u001b[1;31mSyntaxError\u001b[0m\u001b[1;31m:\u001b[0m invalid syntax\n"
     ]
    }
   ],
   "source": [
    "10abc = 5\n",
    "print(10abc)"
   ]
  },
  {
   "cell_type": "markdown",
   "id": "ccd16739",
   "metadata": {},
   "source": [
    "# Python Comments"
   ]
  },
  {
   "cell_type": "markdown",
   "id": "88156c7e",
   "metadata": {},
   "source": [
    "Comments are lines that exist in computer programs that are ignored by compilers and interpreters.\n",
    "\n",
    "Including comments in programs makes code more readable for humans as it provides some information or explanation about what each part of a program is doing.\n",
    "\n",
    "In general, it is a good idea to write comments while you are writing or updating a program as it is easy to forget your thought process later on, and comments written later may be less useful in the long term."
   ]
  },
  {
   "cell_type": "code",
   "execution_count": 12,
   "id": "48301d53",
   "metadata": {},
   "outputs": [
    {
     "name": "stdout",
     "output_type": "stream",
     "text": [
      "Hello World\n"
     ]
    }
   ],
   "source": [
    "#print hello world to the console\n",
    "\n",
    "print(\"Hello World\")"
   ]
  },
  {
   "cell_type": "code",
   "execution_count": 13,
   "id": "a5a2b35c",
   "metadata": {},
   "outputs": [],
   "source": [
    "#Multi Line Comments\n",
    "\n",
    "#This is \n",
    "#an example of\n",
    "#Multi Line Comments"
   ]
  },
  {
   "cell_type": "code",
   "execution_count": 14,
   "id": "e8e50b2c",
   "metadata": {},
   "outputs": [
    {
     "data": {
      "text/plain": [
       "'This is a example of Triple quote comments but this is generally called\\ndocstring'"
      ]
     },
     "execution_count": 14,
     "metadata": {},
     "output_type": "execute_result"
    }
   ],
   "source": [
    "#Triple Quotes\n",
    "\n",
    "\"\"\"This is a example of Triple quote comments but this is generally called\n",
    "docstring\"\"\""
   ]
  },
  {
   "cell_type": "markdown",
   "id": "7e347e8b",
   "metadata": {},
   "source": [
    "# DocString in python"
   ]
  },
  {
   "cell_type": "markdown",
   "id": "ca006bf8",
   "metadata": {},
   "source": [
    "Docstring is short for documentation string.\n",
    "\n",
    "It is a string that occurs as the first statement in a module, function, class, or method definition."
   ]
  },
  {
   "cell_type": "code",
   "execution_count": 15,
   "id": "a5b191b2",
   "metadata": {},
   "outputs": [
    {
     "name": "stdout",
     "output_type": "stream",
     "text": [
      "8\n"
     ]
    }
   ],
   "source": [
    "def double(num):\n",
    "    \"\"\"Function to double the number\"\"\"\n",
    "    return 2 * num\n",
    "\n",
    "print(double(4))"
   ]
  },
  {
   "cell_type": "code",
   "execution_count": 17,
   "id": "09e038b0",
   "metadata": {},
   "outputs": [
    {
     "name": "stdout",
     "output_type": "stream",
     "text": [
      "Function to double the number\n"
     ]
    }
   ],
   "source": [
    "#You can access the docstring of a function by using an __doc__ attribute\n",
    "\n",
    "print(double.__doc__)"
   ]
  },
  {
   "cell_type": "markdown",
   "id": "ea82f805",
   "metadata": {},
   "source": [
    "# Python Indentation"
   ]
  },
  {
   "cell_type": "markdown",
   "id": "1a0e4be0",
   "metadata": {},
   "source": [
    "1. Most of the programming languages like C, C++, Java use braces { } to define a block of code. Python uses indentation.\n",
    "\n",
    "2. A code block (body of a function, loop etc.) starts with indentation and ends with the first unindented line. The amount of indentation is up to you, but it must be consistent throughout that block.\n",
    "\n",
    "3. Generally four whitespaces are used for indentation and is preferred over tabs."
   ]
  },
  {
   "cell_type": "code",
   "execution_count": 19,
   "id": "324d4aaa",
   "metadata": {},
   "outputs": [
    {
     "name": "stdout",
     "output_type": "stream",
     "text": [
      "0\n",
      "1\n",
      "2\n",
      "3\n",
      "4\n",
      "5\n",
      "6\n",
      "7\n",
      "8\n",
      "9\n"
     ]
    }
   ],
   "source": [
    "for i in range(10):\n",
    "    print(i)"
   ]
  },
  {
   "cell_type": "markdown",
   "id": "4d61ddf6",
   "metadata": {},
   "source": [
    "Indentation can be ignored in line continuation. But it's a good idea to always indent. It makes the code more readable."
   ]
  },
  {
   "cell_type": "code",
   "execution_count": 22,
   "id": "f258ddc1",
   "metadata": {},
   "outputs": [
    {
     "name": "stdout",
     "output_type": "stream",
     "text": [
      "Machine Learning\n"
     ]
    }
   ],
   "source": [
    "if True:\n",
    "    print(\"Machine Learning\")\n",
    "    c = \"AAIC\""
   ]
  },
  {
   "cell_type": "code",
   "execution_count": 23,
   "id": "e58f5a9e",
   "metadata": {},
   "outputs": [
    {
     "name": "stdout",
     "output_type": "stream",
     "text": [
      "Machine learning\n"
     ]
    }
   ],
   "source": [
    "if True: print(\"Machine learning\"); c = \"AAIC\""
   ]
  },
  {
   "cell_type": "markdown",
   "id": "89dac5bf",
   "metadata": {},
   "source": [
    "# Python Statement"
   ]
  },
  {
   "cell_type": "markdown",
   "id": "743130d8",
   "metadata": {},
   "source": [
    "Instructions that a python interpreter can execute are called statements.\n",
    "\n",
    "Examples:"
   ]
  },
  {
   "cell_type": "code",
   "execution_count": 24,
   "id": "3e70cb78",
   "metadata": {},
   "outputs": [],
   "source": [
    "a = 1 #Single Statement"
   ]
  },
  {
   "cell_type": "markdown",
   "id": "5d70179c",
   "metadata": {},
   "source": [
    "In Python, end of a statement is marked by a newline character. But we can make a statement extend over multiple lines with the line continuation character __\\__."
   ]
  },
  {
   "cell_type": "code",
   "execution_count": 25,
   "id": "dc272e12",
   "metadata": {},
   "outputs": [
    {
     "name": "stdout",
     "output_type": "stream",
     "text": [
      "21\n"
     ]
    }
   ],
   "source": [
    "a = 1 + 2 + 3 + \\\n",
    "    4 + 5 + \\\n",
    "    6\n",
    "\n",
    "print(a)"
   ]
  },
  {
   "cell_type": "code",
   "execution_count": 26,
   "id": "8d9198e1",
   "metadata": {},
   "outputs": [
    {
     "name": "stdout",
     "output_type": "stream",
     "text": [
      "28\n"
     ]
    }
   ],
   "source": [
    "#another way is\n",
    "\n",
    "a = ( 1 + 2 + 3 + 4\n",
    "     + 5 + 6 + 7)\n",
    "print(a)"
   ]
  },
  {
   "cell_type": "code",
   "execution_count": 27,
   "id": "3ea62b78",
   "metadata": {},
   "outputs": [],
   "source": [
    "# Put Multiple statements in a single line using ;\n",
    "a = 10; b = 20 ; c = 30"
   ]
  },
  {
   "cell_type": "markdown",
   "id": "a34452d9",
   "metadata": {},
   "source": [
    "# Variables"
   ]
  },
  {
   "cell_type": "markdown",
   "id": "170975f7",
   "metadata": {},
   "source": [
    "A variable is a location in memory used to store some data (value).\n",
    "\n",
    "They are given unique names to differentiate between different memory locations. The rules for writing a variable name is same as the rules for writing identifiers in Python.\n",
    "\n",
    "We don't need to declare a variable before using it. In Python, we simply assign a value to a variable and it will exist. We don't even have to declare the type of the variable. This is handled internally according to the type of value we assign to the variable."
   ]
  },
  {
   "cell_type": "code",
   "execution_count": 29,
   "id": "b165bca0",
   "metadata": {},
   "outputs": [
    {
     "name": "stdout",
     "output_type": "stream",
     "text": [
      "10 5.5 Machine Learning\n"
     ]
    }
   ],
   "source": [
    "# We use the assignment operator (=) to assign values to variable\n",
    "\n",
    "a = 10\n",
    "b = 5.5\n",
    "c = \"Machine Learning\"\n",
    "\n",
    "print(a,b,c)"
   ]
  },
  {
   "cell_type": "code",
   "execution_count": 30,
   "id": "c5cb0ab7",
   "metadata": {},
   "outputs": [
    {
     "name": "stdout",
     "output_type": "stream",
     "text": [
      "1718688704880\n"
     ]
    }
   ],
   "source": [
    "#Multiple Assignments\n",
    "\n",
    "x = 3\n",
    "print(id(x))\n"
   ]
  },
  {
   "cell_type": "code",
   "execution_count": 31,
   "id": "f6e98106",
   "metadata": {},
   "outputs": [
    {
     "name": "stdout",
     "output_type": "stream",
     "text": [
      "1718688704880\n"
     ]
    }
   ],
   "source": [
    "y = 3\n",
    "print(id(y))"
   ]
  },
  {
   "cell_type": "code",
   "execution_count": 32,
   "id": "73140068",
   "metadata": {},
   "outputs": [],
   "source": [
    "#Observation : x and y point same memory location"
   ]
  },
  {
   "cell_type": "code",
   "execution_count": 33,
   "id": "80423230",
   "metadata": {},
   "outputs": [
    {
     "name": "stdout",
     "output_type": "stream",
     "text": [
      "1718688704848\n"
     ]
    }
   ],
   "source": [
    "y = 2\n",
    "print(id(y))"
   ]
  },
  {
   "cell_type": "markdown",
   "id": "0873cabf",
   "metadata": {},
   "source": [
    "# Data Types"
   ]
  },
  {
   "cell_type": "markdown",
   "id": "29044da6",
   "metadata": {},
   "source": [
    "Every value in Python has a datatype. Since everything is an object in Python programming, data types are actually classes and variables are instance (object) of these classes."
   ]
  },
  {
   "cell_type": "markdown",
   "id": "4546928f",
   "metadata": {},
   "source": [
    "# Numbers"
   ]
  },
  {
   "cell_type": "markdown",
   "id": "93172b91",
   "metadata": {},
   "source": [
    "Integers, floating point numbers and complex numbers falls under Python numbers category. They are defined as int, float and complex class in Python.\n",
    "\n",
    "We can use the type() function to know which class a variable or a value belongs to and the isinstance() function to check if an object belongs to a particular class."
   ]
  },
  {
   "cell_type": "code",
   "execution_count": 34,
   "id": "5058c290",
   "metadata": {},
   "outputs": [
    {
     "name": "stdout",
     "output_type": "stream",
     "text": [
      "10  is of type :  <class 'int'>\n",
      "5.5  is of type :  <class 'float'>\n",
      "(1+2j)  is of type :  <class 'complex'>\n"
     ]
    }
   ],
   "source": [
    "a = 10\n",
    "print( a, \" is of type : \", type(a))\n",
    "\n",
    "b = 5.5\n",
    "print(b, \" is of type : \", type(b))\n",
    "\n",
    "c = 1 + 2j\n",
    "print(c, \" is of type : \", type(c))"
   ]
  },
  {
   "cell_type": "markdown",
   "id": "6c6c4498",
   "metadata": {},
   "source": [
    "# Boolean"
   ]
  },
  {
   "cell_type": "markdown",
   "id": "83697bf5",
   "metadata": {},
   "source": [
    "Boolean represents the truth values False and True"
   ]
  },
  {
   "cell_type": "code",
   "execution_count": 35,
   "id": "298974e4",
   "metadata": {},
   "outputs": [
    {
     "name": "stdout",
     "output_type": "stream",
     "text": [
      "<class 'bool'>\n"
     ]
    }
   ],
   "source": [
    "a = True\n",
    "print(type(a))"
   ]
  },
  {
   "cell_type": "markdown",
   "id": "16fa541f",
   "metadata": {},
   "source": [
    "# Python Strings"
   ]
  },
  {
   "cell_type": "markdown",
   "id": "d37acc28",
   "metadata": {},
   "source": [
    "String is sequence of Unicode characters. \n",
    "\n",
    "We can use single quotes or double quotes to represent strings. \n",
    "\n",
    "Multi-line strings can be denoted using triple quotes, ''' or \"\"\"."
   ]
  },
  {
   "cell_type": "markdown",
   "id": "c9cfd7a7",
   "metadata": {},
   "source": [
    "A string in Python consists of a series or sequence of characters - letters, numbers, and special characters.\n",
    "\n",
    "Strings can be indexed - often synonymously called subscripted as well.\n",
    "\n",
    "Similar to C, the first character of a string has the index 0."
   ]
  },
  {
   "cell_type": "code",
   "execution_count": 36,
   "id": "2182d254",
   "metadata": {},
   "outputs": [
    {
     "name": "stdout",
     "output_type": "stream",
     "text": [
      "This is an online course\n"
     ]
    }
   ],
   "source": [
    "s = \"This is an online course\"\n",
    "print(s)"
   ]
  },
  {
   "cell_type": "code",
   "execution_count": 40,
   "id": "f9589a4c",
   "metadata": {},
   "outputs": [
    {
     "name": "stdout",
     "output_type": "stream",
     "text": [
      "T\n",
      "e\n"
     ]
    }
   ],
   "source": [
    "#first character\n",
    "print(s[0])\n",
    "\n",
    "#last character\n",
    "print(s[len(s)-1])"
   ]
  },
  {
   "cell_type": "code",
   "execution_count": 41,
   "id": "f517a0d5",
   "metadata": {},
   "outputs": [
    {
     "name": "stdout",
     "output_type": "stream",
     "text": [
      "e\n"
     ]
    }
   ],
   "source": [
    "#last character\n",
    "print(s[-1])"
   ]
  },
  {
   "cell_type": "code",
   "execution_count": 43,
   "id": "00adaa3a",
   "metadata": {},
   "outputs": [
    {
     "name": "stdout",
     "output_type": "stream",
     "text": [
      "s is an online course\n"
     ]
    }
   ],
   "source": [
    "#Slicing\n",
    "\n",
    "print(s[3:])"
   ]
  },
  {
   "cell_type": "code",
   "execution_count": 45,
   "id": "00140606",
   "metadata": {},
   "outputs": [
    {
     "name": "stdout",
     "output_type": "stream",
     "text": [
      "Thi\n"
     ]
    }
   ],
   "source": [
    "print(s[0:3])"
   ]
  },
  {
   "cell_type": "markdown",
   "id": "82a99ed8",
   "metadata": {},
   "source": [
    "# Python List"
   ]
  },
  {
   "cell_type": "markdown",
   "id": "4bc91f52",
   "metadata": {},
   "source": [
    "List is an ordered sequence of items. It is one of the most used datatype in Python and is very flexible. All the items in a list do not need to be of the same type.\n",
    "\n",
    "Declaring a list is , Items separated by commas are enclosed within brackets [ ]."
   ]
  },
  {
   "cell_type": "code",
   "execution_count": 46,
   "id": "f0e20be8",
   "metadata": {},
   "outputs": [
    {
     "name": "stdout",
     "output_type": "stream",
     "text": [
      "20\n",
      "30\n"
     ]
    }
   ],
   "source": [
    "a = [10,20,30,\"Hello\"]\n",
    "\n",
    "print(a[1])\n",
    "print(a[2])"
   ]
  },
  {
   "cell_type": "markdown",
   "id": "537d9a93",
   "metadata": {},
   "source": [
    "Lists are mutable, meaning, value of elements of a list can be altered."
   ]
  },
  {
   "cell_type": "code",
   "execution_count": 47,
   "id": "6320a1cd",
   "metadata": {},
   "outputs": [
    {
     "name": "stdout",
     "output_type": "stream",
     "text": [
      "[10, 'HI', 30, 'Hello']\n"
     ]
    }
   ],
   "source": [
    "a[1] = \"HI\"\n",
    "print(a)"
   ]
  },
  {
   "cell_type": "markdown",
   "id": "21c1335c",
   "metadata": {},
   "source": [
    "# Python Tuple"
   ]
  },
  {
   "cell_type": "markdown",
   "id": "9db24156",
   "metadata": {},
   "source": [
    "Tuple is an ordered sequence of items same as list.The only difference is that tuples are immutable. Tuples once created cannot be modified."
   ]
  },
  {
   "cell_type": "code",
   "execution_count": 49,
   "id": "422e65f9",
   "metadata": {},
   "outputs": [
    {
     "name": "stdout",
     "output_type": "stream",
     "text": [
      "(1, 2, 3, 4)\n",
      "2\n"
     ]
    }
   ],
   "source": [
    "t = (1,2,3,4)\n",
    "print(t)\n",
    "print(t[1])"
   ]
  },
  {
   "cell_type": "code",
   "execution_count": 50,
   "id": "8576ffac",
   "metadata": {},
   "outputs": [
    {
     "ename": "TypeError",
     "evalue": "'tuple' object does not support item assignment",
     "output_type": "error",
     "traceback": [
      "\u001b[1;31m---------------------------------------------------------------------------\u001b[0m",
      "\u001b[1;31mTypeError\u001b[0m                                 Traceback (most recent call last)",
      "\u001b[1;32m~\\AppData\\Local\\Temp/ipykernel_19608/2061841727.py\u001b[0m in \u001b[0;36m<module>\u001b[1;34m\u001b[0m\n\u001b[1;32m----> 1\u001b[1;33m \u001b[0mt\u001b[0m\u001b[1;33m[\u001b[0m\u001b[1;36m1\u001b[0m\u001b[1;33m]\u001b[0m \u001b[1;33m=\u001b[0m \u001b[1;36m5\u001b[0m\u001b[1;33m\u001b[0m\u001b[1;33m\u001b[0m\u001b[0m\n\u001b[0m\u001b[0;32m      2\u001b[0m \u001b[0mprint\u001b[0m\u001b[1;33m(\u001b[0m\u001b[0mt\u001b[0m\u001b[1;33m)\u001b[0m\u001b[1;33m\u001b[0m\u001b[1;33m\u001b[0m\u001b[0m\n",
      "\u001b[1;31mTypeError\u001b[0m: 'tuple' object does not support item assignment"
     ]
    }
   ],
   "source": [
    "t[1] = 5\n",
    "print(t)"
   ]
  },
  {
   "cell_type": "markdown",
   "id": "00d40564",
   "metadata": {},
   "source": [
    "# Python Set"
   ]
  },
  {
   "cell_type": "markdown",
   "id": "e52e38ee",
   "metadata": {},
   "source": [
    "Set is an unordered collection of unique items. Set is defined by values separated by comma inside braces { }. Items in a set are not ordered."
   ]
  },
  {
   "cell_type": "code",
   "execution_count": 51,
   "id": "01a0bfda",
   "metadata": {},
   "outputs": [
    {
     "name": "stdout",
     "output_type": "stream",
     "text": [
      "{50, 20, 40, 10, 30}\n"
     ]
    }
   ],
   "source": [
    "a = {10,20,30,50,40}\n",
    "print(a)"
   ]
  },
  {
   "cell_type": "code",
   "execution_count": 52,
   "id": "a5fdcf4e",
   "metadata": {},
   "outputs": [
    {
     "name": "stdout",
     "output_type": "stream",
     "text": [
      "<class 'set'>\n"
     ]
    }
   ],
   "source": [
    "print(type(a))"
   ]
  },
  {
   "cell_type": "markdown",
   "id": "733c8f4d",
   "metadata": {},
   "source": [
    "We can perform set operations like union, intersection on two sets. Set have unique values."
   ]
  },
  {
   "cell_type": "code",
   "execution_count": 53,
   "id": "67242f57",
   "metadata": {},
   "outputs": [
    {
     "name": "stdout",
     "output_type": "stream",
     "text": [
      "{40, 10, 20, 30}\n"
     ]
    }
   ],
   "source": [
    "b = {10,10,20,20,30,40}\n",
    "print(b)"
   ]
  },
  {
   "cell_type": "markdown",
   "id": "a2a858d8",
   "metadata": {},
   "source": [
    "We cannot print particular element in a set as it is an unordered collection of elements.\n"
   ]
  },
  {
   "cell_type": "code",
   "execution_count": 54,
   "id": "73e8aaa3",
   "metadata": {},
   "outputs": [
    {
     "ename": "TypeError",
     "evalue": "'set' object is not subscriptable",
     "output_type": "error",
     "traceback": [
      "\u001b[1;31m---------------------------------------------------------------------------\u001b[0m",
      "\u001b[1;31mTypeError\u001b[0m                                 Traceback (most recent call last)",
      "\u001b[1;32m~\\AppData\\Local\\Temp/ipykernel_19608/2309727203.py\u001b[0m in \u001b[0;36m<module>\u001b[1;34m\u001b[0m\n\u001b[1;32m----> 1\u001b[1;33m \u001b[0mprint\u001b[0m\u001b[1;33m(\u001b[0m\u001b[0mb\u001b[0m\u001b[1;33m[\u001b[0m\u001b[1;36m1\u001b[0m\u001b[1;33m]\u001b[0m\u001b[1;33m)\u001b[0m\u001b[1;33m\u001b[0m\u001b[1;33m\u001b[0m\u001b[0m\n\u001b[0m",
      "\u001b[1;31mTypeError\u001b[0m: 'set' object is not subscriptable"
     ]
    }
   ],
   "source": [
    "print(b[1])"
   ]
  },
  {
   "cell_type": "markdown",
   "id": "a106acd2",
   "metadata": {},
   "source": [
    "# Python Dictionary\n"
   ]
  },
  {
   "cell_type": "markdown",
   "id": "d10d571d",
   "metadata": {},
   "source": [
    "Dictionary is an unordered collection of key-value pairs.\n",
    "\n",
    "In Python, dictionaries are defined within braces {} with each item being a pair in the form key:value. Key and value can be of any type."
   ]
  },
  {
   "cell_type": "code",
   "execution_count": 55,
   "id": "113ea543",
   "metadata": {},
   "outputs": [
    {
     "name": "stdout",
     "output_type": "stream",
     "text": [
      "apple\n"
     ]
    }
   ],
   "source": [
    "d = {'a' : \"apple\", 'b': \"bat\"}\n",
    "print(d['a'])"
   ]
  },
  {
   "cell_type": "markdown",
   "id": "31b23dff",
   "metadata": {},
   "source": [
    "# Conversion between Datatypes"
   ]
  },
  {
   "cell_type": "markdown",
   "id": "fd9eabb5",
   "metadata": {},
   "source": [
    "We can convert between different data types by using different type conversion functions like int() , float() , str() etc."
   ]
  },
  {
   "cell_type": "code",
   "execution_count": 56,
   "id": "f049e0c3",
   "metadata": {},
   "outputs": [
    {
     "data": {
      "text/plain": [
       "5.0"
      ]
     },
     "execution_count": 56,
     "metadata": {},
     "output_type": "execute_result"
    }
   ],
   "source": [
    "float(5)"
   ]
  },
  {
   "cell_type": "code",
   "execution_count": 57,
   "id": "e90f6c9b",
   "metadata": {},
   "outputs": [
    {
     "data": {
      "text/plain": [
       "15"
      ]
     },
     "execution_count": 57,
     "metadata": {},
     "output_type": "execute_result"
    }
   ],
   "source": [
    "int(15.5)"
   ]
  },
  {
   "cell_type": "code",
   "execution_count": 58,
   "id": "899f138e",
   "metadata": {},
   "outputs": [
    {
     "data": {
      "text/plain": [
       "'20'"
      ]
     },
     "execution_count": 58,
     "metadata": {},
     "output_type": "execute_result"
    }
   ],
   "source": [
    "str(20)"
   ]
  },
  {
   "cell_type": "markdown",
   "id": "dd20328d",
   "metadata": {},
   "source": [
    "Conversion to and from string must contain compatible values."
   ]
  },
  {
   "cell_type": "code",
   "execution_count": 59,
   "id": "727bf60a",
   "metadata": {},
   "outputs": [
    {
     "ename": "ValueError",
     "evalue": "invalid literal for int() with base 10: '10abc'",
     "output_type": "error",
     "traceback": [
      "\u001b[1;31m---------------------------------------------------------------------------\u001b[0m",
      "\u001b[1;31mValueError\u001b[0m                                Traceback (most recent call last)",
      "\u001b[1;32m~\\AppData\\Local\\Temp/ipykernel_19608/3232186154.py\u001b[0m in \u001b[0;36m<module>\u001b[1;34m\u001b[0m\n\u001b[0;32m      1\u001b[0m \u001b[0ma\u001b[0m \u001b[1;33m=\u001b[0m \u001b[1;34m\"10abc\"\u001b[0m\u001b[1;33m\u001b[0m\u001b[1;33m\u001b[0m\u001b[0m\n\u001b[1;32m----> 2\u001b[1;33m \u001b[0mint\u001b[0m\u001b[1;33m(\u001b[0m\u001b[0ma\u001b[0m\u001b[1;33m)\u001b[0m\u001b[1;33m\u001b[0m\u001b[1;33m\u001b[0m\u001b[0m\n\u001b[0m",
      "\u001b[1;31mValueError\u001b[0m: invalid literal for int() with base 10: '10abc'"
     ]
    }
   ],
   "source": [
    "a = \"10abc\"\n",
    "int(a)"
   ]
  },
  {
   "cell_type": "code",
   "execution_count": 64,
   "id": "ce5c0d39",
   "metadata": {},
   "outputs": [
    {
     "name": "stdout",
     "output_type": "stream",
     "text": [
      "Congratulations, Sudhanshu You just wrote 60 lines of code.\n"
     ]
    }
   ],
   "source": [
    "user = \"Sudhanshu\"\n",
    "lines = 60\n",
    "\n",
    "print(\"Congratulations, \" + user + \" You just wrote \" + str(lines) + \" lines of code.\")"
   ]
  },
  {
   "cell_type": "markdown",
   "id": "02093fca",
   "metadata": {},
   "source": [
    "We can convert one sequence to other"
   ]
  },
  {
   "cell_type": "code",
   "execution_count": 65,
   "id": "266a13f0",
   "metadata": {},
   "outputs": [
    {
     "name": "stdout",
     "output_type": "stream",
     "text": [
      "<class 'list'>\n"
     ]
    }
   ],
   "source": [
    "a = [1, 2, 3]\n",
    "print(type(a))"
   ]
  },
  {
   "cell_type": "code",
   "execution_count": 66,
   "id": "3d88f1cc",
   "metadata": {},
   "outputs": [
    {
     "name": "stdout",
     "output_type": "stream",
     "text": [
      "<class 'set'>\n"
     ]
    }
   ],
   "source": [
    "s = set(a)\n",
    "print(type(s))"
   ]
  },
  {
   "cell_type": "code",
   "execution_count": 67,
   "id": "a229c28c",
   "metadata": {},
   "outputs": [
    {
     "data": {
      "text/plain": [
       "['h', 'e', 'l', 'l', 'o']"
      ]
     },
     "execution_count": 67,
     "metadata": {},
     "output_type": "execute_result"
    }
   ],
   "source": [
    "list(\"hello\")"
   ]
  },
  {
   "cell_type": "markdown",
   "id": "82365aa3",
   "metadata": {},
   "source": [
    "# Python Input and Output"
   ]
  },
  {
   "cell_type": "markdown",
   "id": "b0917c77",
   "metadata": {},
   "source": [
    "We use the print() function to output data to the standard output device"
   ]
  },
  {
   "cell_type": "markdown",
   "id": "d32f925b",
   "metadata": {},
   "source": [
    "# Python Output"
   ]
  },
  {
   "cell_type": "code",
   "execution_count": 68,
   "id": "a474d732",
   "metadata": {},
   "outputs": [
    {
     "name": "stdout",
     "output_type": "stream",
     "text": [
      "Hello World\n"
     ]
    }
   ],
   "source": [
    "print(\"Hello World\")"
   ]
  },
  {
   "cell_type": "code",
   "execution_count": 69,
   "id": "b10ff4c5",
   "metadata": {},
   "outputs": [
    {
     "name": "stdout",
     "output_type": "stream",
     "text": [
      "The value of a is 10\n"
     ]
    }
   ],
   "source": [
    "a = 10\n",
    "print(\"The value of a is\", a)"
   ]
  },
  {
   "cell_type": "code",
   "execution_count": 70,
   "id": "e2bf6b52",
   "metadata": {},
   "outputs": [
    {
     "name": "stdout",
     "output_type": "stream",
     "text": [
      "The value of a is 10\n"
     ]
    }
   ],
   "source": [
    "print(\"The value of a is \" + str(a) )"
   ]
  },
  {
   "cell_type": "markdown",
   "id": "05804f60",
   "metadata": {},
   "source": [
    "# Output Formatting"
   ]
  },
  {
   "cell_type": "code",
   "execution_count": 71,
   "id": "f0b44a19",
   "metadata": {},
   "outputs": [
    {
     "name": "stdout",
     "output_type": "stream",
     "text": [
      "The value of a is 10 and the value of b is 20\n"
     ]
    }
   ],
   "source": [
    "a = 10\n",
    "b = 20\n",
    "\n",
    "print(\"The value of a is {} and the value of b is {}\".format(a,b))"
   ]
  },
  {
   "cell_type": "code",
   "execution_count": 72,
   "id": "e7910fd5",
   "metadata": {},
   "outputs": [
    {
     "name": "stdout",
     "output_type": "stream",
     "text": [
      "The value of b is 20 and the value of a is 10\n"
     ]
    }
   ],
   "source": [
    "print(\"The value of b is {1} and the value of a is {0}\".format(a,b))"
   ]
  },
  {
   "cell_type": "code",
   "execution_count": 73,
   "id": "d2945ba2",
   "metadata": {},
   "outputs": [
    {
     "name": "stdout",
     "output_type": "stream",
     "text": [
      "Hello Sudhanshu, your visa is approved. You are coming to USA\n"
     ]
    }
   ],
   "source": [
    "print(\"Hello {name}, your visa is approved. You are coming to {country}\".format(name=\"Sudhanshu\",country=\"USA\"))"
   ]
  },
  {
   "cell_type": "code",
   "execution_count": 74,
   "id": "4408df6c",
   "metadata": {},
   "outputs": [
    {
     "name": "stdout",
     "output_type": "stream",
     "text": [
      "Congratulations Sudhanshu, your Visa is approved. Welcome to USA\n"
     ]
    }
   ],
   "source": [
    "print(\"Congratulations {0}, your {1} is approved. Welcome to {other}\".format(\"Sudhanshu\",\"Visa\",other=\"USA\"))"
   ]
  },
  {
   "cell_type": "markdown",
   "id": "55926653",
   "metadata": {},
   "source": [
    "# Python Input"
   ]
  },
  {
   "cell_type": "markdown",
   "id": "36929250",
   "metadata": {},
   "source": [
    "want to take the input from the user. In Python, we have the input() function to allow this."
   ]
  },
  {
   "cell_type": "code",
   "execution_count": 77,
   "id": "d5f8e5f4",
   "metadata": {},
   "outputs": [
    {
     "name": "stdout",
     "output_type": "stream",
     "text": [
      "Enter your nameSudhanshu\n",
      "Welcome Sudhanshu\n"
     ]
    }
   ],
   "source": [
    "user = input(\"Enter your name\")\n",
    "\n",
    "print(\"Welcome\",user)"
   ]
  },
  {
   "cell_type": "markdown",
   "id": "b4735ad7",
   "metadata": {},
   "source": [
    "# Operators"
   ]
  },
  {
   "cell_type": "markdown",
   "id": "4f17e866",
   "metadata": {},
   "source": [
    "Operators are special symbols in Python that carry out arithmetic or logical computation. The value that the operator operates on is called the operand."
   ]
  },
  {
   "cell_type": "markdown",
   "id": "28cd98db",
   "metadata": {},
   "source": [
    "# Operator Types\n",
    "\n",
    "1. Arithmetic operators\n",
    "\n",
    "2. Comparison (Relational) operators\n",
    "\n",
    "3. Logical (Boolean) operators\n",
    "\n",
    "4. Bitwise operators\n",
    "\n",
    "5. Assignment operators\n",
    "\n",
    "6. Special operators"
   ]
  },
  {
   "cell_type": "markdown",
   "id": "1fd80057",
   "metadata": {},
   "source": [
    "1. Arithmetic Operators\n",
    "Arithmetic operators are used to perform mathematical operations like Addition, subtraction, multiplication, etc\n",
    "\n",
    "+ , - , * , / , % , // , ** are arithmetic operators "
   ]
  },
  {
   "cell_type": "markdown",
   "id": "a544800b",
   "metadata": {},
   "source": [
    "Example"
   ]
  },
  {
   "cell_type": "code",
   "execution_count": 78,
   "id": "3822b314",
   "metadata": {},
   "outputs": [
    {
     "name": "stdout",
     "output_type": "stream",
     "text": [
      "40\n",
      "-20\n",
      "300\n",
      "0.3333333333333333\n",
      "10\n",
      "0\n",
      "16\n"
     ]
    }
   ],
   "source": [
    "x , y = 10, 30\n",
    "\n",
    "#addition\n",
    "\n",
    "print(x + y)\n",
    "\n",
    "#subtractor (-)\n",
    "\n",
    "print(x - y)\n",
    "\n",
    "#Multiplication\n",
    "\n",
    "print(x * y)\n",
    "\n",
    "#Division \n",
    "\n",
    "print(x / y)\n",
    "\n",
    "#modulo division\n",
    "\n",
    "print(x % y)\n",
    "\n",
    "#floor Division\n",
    "\n",
    "print(x // y)\n",
    "\n",
    "#Exponent\n",
    "\n",
    "print(2 ** 4)"
   ]
  },
  {
   "cell_type": "markdown",
   "id": "d12f18c7",
   "metadata": {},
   "source": [
    "# Comparision Operators\n",
    "Comparison operators are used to compare values. It either returns True or False according to the condition."
   ]
  },
  {
   "cell_type": "markdown",
   "id": "874d7dba",
   "metadata": {},
   "source": [
    ", >, <, ==, !=, >=, <= are comparision operators"
   ]
  },
  {
   "cell_type": "code",
   "execution_count": 79,
   "id": "f79ab667",
   "metadata": {},
   "outputs": [
    {
     "name": "stdout",
     "output_type": "stream",
     "text": [
      "True\n",
      "False\n",
      "False\n"
     ]
    }
   ],
   "source": [
    "a ,b = 10, 30\n",
    "\n",
    "print(a < b) #check a is less than b\n",
    "\n",
    "print(a > b)\n",
    "\n",
    "print(a == b)\n"
   ]
  },
  {
   "cell_type": "markdown",
   "id": "953f4e75",
   "metadata": {},
   "source": [
    "# Logical Operators\n",
    "\n",
    "Logical operators are and, or, not operators."
   ]
  },
  {
   "cell_type": "code",
   "execution_count": 81,
   "id": "72efa3e7",
   "metadata": {},
   "outputs": [
    {
     "name": "stdout",
     "output_type": "stream",
     "text": [
      "False\n",
      "True\n",
      "True\n"
     ]
    }
   ],
   "source": [
    "a , b = True, False\n",
    "\n",
    "#print a and b\n",
    "print(a and b)\n",
    "\n",
    "#print a or b\n",
    "print(a or b)\n",
    "\n",
    "#print not b\n",
    "print(not b)"
   ]
  },
  {
   "cell_type": "markdown",
   "id": "e094e984",
   "metadata": {},
   "source": [
    "# Bitwise Operator\n",
    "\n",
    "Bitwise Operator act on operands as if they were string of binary digits. It Operates bit by bit.\n",
    "\n",
    "\n",
    "& , | , ~ , ^ , >> , << are Bitwise Operators "
   ]
  },
  {
   "cell_type": "code",
   "execution_count": 84,
   "id": "cbea5d96",
   "metadata": {},
   "outputs": [
    {
     "name": "stdout",
     "output_type": "stream",
     "text": [
      "0\n",
      "14\n"
     ]
    }
   ],
   "source": [
    "a, b = 10, 4\n",
    "\n",
    "print(a & b)\n",
    "\n",
    "#Bitwise OR\n",
    "\n",
    "print(a | b)"
   ]
  },
  {
   "cell_type": "markdown",
   "id": "7313e33c",
   "metadata": {},
   "source": [
    "# Assignment Operators"
   ]
  },
  {
   "cell_type": "markdown",
   "id": "bd241fcb",
   "metadata": {},
   "source": [
    "Assignment operators are used in Python to assign values to variables.\n",
    "\n",
    "a = 5 is a simple assignment operator that assigns the value 5 on the right to the variable a on the left."
   ]
  },
  {
   "cell_type": "markdown",
   "id": "b8d68df9",
   "metadata": {},
   "source": [
    "= , += , -= , *= , /= , %= , //= , **= , &= , |= , ^= , >>= , <<= are assignment operators"
   ]
  },
  {
   "cell_type": "code",
   "execution_count": 85,
   "id": "c3278623",
   "metadata": {},
   "outputs": [
    {
     "name": "stdout",
     "output_type": "stream",
     "text": [
      "20\n"
     ]
    }
   ],
   "source": [
    "a = 10\n",
    "a += 10\n",
    "print(a)"
   ]
  },
  {
   "cell_type": "code",
   "execution_count": 87,
   "id": "9351e6d2",
   "metadata": {},
   "outputs": [
    {
     "name": "stdout",
     "output_type": "stream",
     "text": [
      "40\n"
     ]
    }
   ],
   "source": [
    "a*=2\n",
    "print(a)"
   ]
  },
  {
   "cell_type": "code",
   "execution_count": 88,
   "id": "9e27a155",
   "metadata": {},
   "outputs": [
    {
     "name": "stdout",
     "output_type": "stream",
     "text": [
      "30\n"
     ]
    }
   ],
   "source": [
    "a -= 10\n",
    "print(a)"
   ]
  },
  {
   "cell_type": "code",
   "execution_count": 89,
   "id": "5eb6e2f4",
   "metadata": {},
   "outputs": [
    {
     "name": "stdout",
     "output_type": "stream",
     "text": [
      "0\n"
     ]
    }
   ],
   "source": [
    "a %= 10\n",
    "print(a)"
   ]
  },
  {
   "cell_type": "code",
   "execution_count": 90,
   "id": "b488d06b",
   "metadata": {},
   "outputs": [
    {
     "name": "stdout",
     "output_type": "stream",
     "text": [
      "0\n"
     ]
    }
   ],
   "source": [
    "a //= 2\n",
    "print(a)"
   ]
  },
  {
   "cell_type": "code",
   "execution_count": 92,
   "id": "50522e96",
   "metadata": {},
   "outputs": [
    {
     "name": "stdout",
     "output_type": "stream",
     "text": [
      "20\n"
     ]
    }
   ],
   "source": [
    "a += 20\n",
    "print(a)"
   ]
  },
  {
   "cell_type": "code",
   "execution_count": 93,
   "id": "7e7e625b",
   "metadata": {},
   "outputs": [
    {
     "name": "stdout",
     "output_type": "stream",
     "text": [
      "400\n"
     ]
    }
   ],
   "source": [
    "a **= 2\n",
    "print(a)"
   ]
  },
  {
   "cell_type": "markdown",
   "id": "d3052635",
   "metadata": {},
   "source": [
    "# Special Operator\n",
    "\n",
    "# Identity Operator"
   ]
  },
  {
   "cell_type": "markdown",
   "id": "db813bff",
   "metadata": {},
   "source": [
    "**is and is not** are the identity operators in python.\n",
    "They are used to check if two values (or variables) are located on the same part of the memory."
   ]
  },
  {
   "cell_type": "code",
   "execution_count": 95,
   "id": "83b80a75",
   "metadata": {},
   "outputs": [
    {
     "name": "stdout",
     "output_type": "stream",
     "text": [
      "True\n",
      "False\n"
     ]
    }
   ],
   "source": [
    "a = 5\n",
    "b = 5\n",
    "print(a is b)\n",
    "\n",
    "print(a is not b)"
   ]
  },
  {
   "cell_type": "code",
   "execution_count": 96,
   "id": "a33dc735",
   "metadata": {},
   "outputs": [
    {
     "name": "stdout",
     "output_type": "stream",
     "text": [
      "False\n"
     ]
    }
   ],
   "source": [
    "l1 = [1, 2, 3]\n",
    "l2 = [1, 2, 3]\n",
    "\n",
    "print(l1 is l2)"
   ]
  },
  {
   "cell_type": "code",
   "execution_count": 98,
   "id": "d489e9ac",
   "metadata": {},
   "outputs": [
    {
     "name": "stdout",
     "output_type": "stream",
     "text": [
      "False\n"
     ]
    }
   ],
   "source": [
    "s1 = \"Sudhanshu\"\n",
    "s2 = \"Sudhanshu\"\n",
    "\n",
    "print(s1 is not s2)"
   ]
  },
  {
   "cell_type": "markdown",
   "id": "e4ed8f5b",
   "metadata": {},
   "source": [
    "# Membership Operators"
   ]
  },
  {
   "cell_type": "markdown",
   "id": "f840e56c",
   "metadata": {},
   "source": [
    "**in and not in** are the membership operators in python\n",
    "\n",
    "They are used to test whether a value or variable is found in a seequence (string, list, tuple, set and dictionary)"
   ]
  },
  {
   "cell_type": "code",
   "execution_count": 100,
   "id": "7673151b",
   "metadata": {},
   "outputs": [
    {
     "name": "stdout",
     "output_type": "stream",
     "text": [
      "True\n",
      "False\n"
     ]
    }
   ],
   "source": [
    "lst = [1,2,3,4]\n",
    "print(1 in lst)\n",
    "\n",
    "print(5 in lst)"
   ]
  },
  {
   "cell_type": "code",
   "execution_count": 102,
   "id": "97fce1e6",
   "metadata": {},
   "outputs": [
    {
     "name": "stdout",
     "output_type": "stream",
     "text": [
      "False\n"
     ]
    }
   ],
   "source": [
    "d ={1:\"a\", 2:\"b\"}\n",
    "print(1 not in d)"
   ]
  },
  {
   "cell_type": "markdown",
   "id": "bde32518",
   "metadata": {},
   "source": [
    "# Python if ... else Statement\n",
    "\n",
    "The if...elif...else statement is used in python for decision making."
   ]
  },
  {
   "cell_type": "code",
   "execution_count": 103,
   "id": "dff13cd6",
   "metadata": {},
   "outputs": [
    {
     "name": "stdout",
     "output_type": "stream",
     "text": [
      "print this anyway\n"
     ]
    }
   ],
   "source": [
    "num = 10 \n",
    "\n",
    "if num > 10:\n",
    "    print(\"Number is Positive\")\n",
    "\n",
    "print(\"print this anyway\")"
   ]
  },
  {
   "cell_type": "code",
   "execution_count": 104,
   "id": "3ab9fd5a",
   "metadata": {},
   "outputs": [
    {
     "name": "stdout",
     "output_type": "stream",
     "text": [
      "Number is greater than 10\n"
     ]
    }
   ],
   "source": [
    "num = 20 \n",
    "\n",
    "if num > 10:\n",
    "    print(\"Number is greater than 10\")\n",
    "else:\n",
    "    print(\"Number is smaller than 10\")"
   ]
  },
  {
   "cell_type": "code",
   "execution_count": 105,
   "id": "ece6063b",
   "metadata": {},
   "outputs": [
    {
     "name": "stdout",
     "output_type": "stream",
     "text": [
      "number is greater than 10\n"
     ]
    }
   ],
   "source": [
    "num = 10.5\n",
    "if num > 10:\n",
    "    print(\"number is greater than 10\")\n",
    "elif num == 0:\n",
    "    print(\"Zero\")\n",
    "else:\n",
    "    print(\"Number is smaller than 10\")"
   ]
  },
  {
   "cell_type": "code",
   "execution_count": 107,
   "id": "ddce1953",
   "metadata": {},
   "outputs": [
    {
     "name": "stdout",
     "output_type": "stream",
     "text": [
      "Enter your Number1\n",
      "Number is less than 2\n"
     ]
    }
   ],
   "source": [
    "#NESTED IF STATEMENTS\n",
    "num = int(input(\"Enter your Number\"))\n",
    "if num > 2:\n",
    "    if num > 10 :\n",
    "        print(\"Number greater than 10\")\n",
    "    else:\n",
    "        print(\"Number is smaller than 10\")\n",
    "else:\n",
    "    print(\"Number is less than 2\")"
   ]
  },
  {
   "cell_type": "code",
   "execution_count": 109,
   "id": "ba3cfd71",
   "metadata": {},
   "outputs": [
    {
     "name": "stdout",
     "output_type": "stream",
     "text": [
      "Enter your Number11\n",
      "Enter your Number22\n",
      "Enter your Number33\n",
      "Largest number among three numbers is : 33\n"
     ]
    }
   ],
   "source": [
    "num1 = int(input(\"Enter your Number\"))\n",
    "num2 = int(input(\"Enter your Number\"))\n",
    "num3 = int(input(\"Enter your Number\"))\n",
    "\n",
    "if (num1>=num2) and (num1>=num3):\n",
    "    largest = num1\n",
    "elif (num2>=num1) and (num2>=num3):\n",
    "    largest = num2\n",
    "else:\n",
    "    largest = num3\n",
    "    \n",
    "print(\"Largest number among three numbers is :\",largest)"
   ]
  },
  {
   "cell_type": "markdown",
   "id": "bd45a3da",
   "metadata": {},
   "source": [
    "# Python While loop\n",
    "\n",
    "The While loop in python is used to iterate over a block of code as long as the test exoression is true."
   ]
  },
  {
   "cell_type": "code",
   "execution_count": 2,
   "id": "969eb4fc",
   "metadata": {},
   "outputs": [
    {
     "name": "stdout",
     "output_type": "stream",
     "text": [
      "product of all elements in a list is : 120\n"
     ]
    }
   ],
   "source": [
    "#Find product of all numbers present in a list\n",
    "\n",
    "lst = [1,2,3,4,5]\n",
    "\n",
    "product = 1\n",
    "index = 0\n",
    "\n",
    "while index< len(lst):\n",
    "    product *= lst[index]\n",
    "    index += 1\n",
    "    \n",
    "print(\"product of all elements in a list is :\",product)"
   ]
  },
  {
   "cell_type": "markdown",
   "id": "906d1b71",
   "metadata": {},
   "source": [
    "# While else loop\n",
    "\n",
    "The else part is executed if the condition in the while loop evaluates to False. The while loop can be terminated with a break statement.\n",
    "\n",
    "In such case, the else part is ignored. Hence, a while loop's else part runs if no break occurs and the condition is false."
   ]
  },
  {
   "cell_type": "code",
   "execution_count": 3,
   "id": "191b2c55",
   "metadata": {},
   "outputs": [
    {
     "name": "stdout",
     "output_type": "stream",
     "text": [
      "1\n",
      "2\n",
      "3\n",
      "no item left in the list\n"
     ]
    }
   ],
   "source": [
    "numbers = [1,2,3]\n",
    "\n",
    "#iterating over the list\n",
    "index = 0\n",
    "while index<len(numbers):\n",
    "    print(numbers[index])\n",
    "    index += 1\n",
    "else:\n",
    "    print(\"no item left in the list\")"
   ]
  },
  {
   "cell_type": "markdown",
   "id": "5b407569",
   "metadata": {},
   "source": [
    "# Python Program to check given number is Prime number or not"
   ]
  },
  {
   "cell_type": "code",
   "execution_count": 4,
   "id": "24aa67ec",
   "metadata": {},
   "outputs": [
    {
     "name": "stdout",
     "output_type": "stream",
     "text": [
      "Enter your number: 25\n",
      "25 is divisible by 5\n",
      "25 is not a prime number.\n"
     ]
    }
   ],
   "source": [
    "num = int(input(\"Enter your number: \"))\n",
    "\n",
    "isDivisible = False\n",
    "i = 2\n",
    "\n",
    "while i<num:\n",
    "    if num % i == 0:\n",
    "        isDivisible = True;\n",
    "        print(\"{} is divisible by {}\".format(num,i))\n",
    "    i += 1\n",
    "    \n",
    "if isDivisible:\n",
    "    print(\"{} is not a prime number.\".format(num))\n",
    "else:\n",
    "    print(\"{} is a prime number.\".format(num))\n"
   ]
  },
  {
   "cell_type": "markdown",
   "id": "a89d996d",
   "metadata": {},
   "source": [
    "# Python for Loop\n",
    "\n",
    "The for loop in python is used to iterate over a sequence (list,tuple,string) or other iterable objects. Iterating over a sequence is called traversal. "
   ]
  },
  {
   "cell_type": "markdown",
   "id": "c93402ae",
   "metadata": {},
   "source": [
    "# Find product of all numbers in a list"
   ]
  },
  {
   "cell_type": "code",
   "execution_count": 6,
   "id": "07d7e3c3",
   "metadata": {},
   "outputs": [
    {
     "name": "stdout",
     "output_type": "stream",
     "text": [
      "product of numbers in a list is:  120\n"
     ]
    }
   ],
   "source": [
    "lst = [1,2,3,4,5]\n",
    "\n",
    "product = 1\n",
    "\n",
    "for i in lst:\n",
    "    product *= i\n",
    "    \n",
    "print(\"product of numbers in a list is: \",product)"
   ]
  },
  {
   "cell_type": "markdown",
   "id": "1a8fae27",
   "metadata": {},
   "source": [
    "# range() function\n",
    "\n",
    "We can generate a sequence of numbers using range() function. range(10) will generate numbers from 0 to 9 ie 10 numbers"
   ]
  },
  {
   "cell_type": "code",
   "execution_count": 7,
   "id": "36b3681c",
   "metadata": {},
   "outputs": [
    {
     "name": "stdout",
     "output_type": "stream",
     "text": [
      "0\n",
      "1\n",
      "2\n",
      "3\n",
      "4\n",
      "5\n",
      "6\n",
      "7\n",
      "8\n",
      "9\n"
     ]
    }
   ],
   "source": [
    "#print range of 10\n",
    "\n",
    "for i in range(10):\n",
    "    print(i)"
   ]
  },
  {
   "cell_type": "code",
   "execution_count": 8,
   "id": "6aafd565",
   "metadata": {},
   "outputs": [
    {
     "name": "stdout",
     "output_type": "stream",
     "text": [
      "1\n",
      "3\n",
      "5\n",
      "7\n",
      "9\n"
     ]
    }
   ],
   "source": [
    "#print range of numbers from 1 to 10 with a step size of 2\n",
    "\n",
    "for i in range(1,10,2):\n",
    "    print(i)"
   ]
  },
  {
   "cell_type": "code",
   "execution_count": 10,
   "id": "343fa2a4",
   "metadata": {},
   "outputs": [
    {
     "name": "stdout",
     "output_type": "stream",
     "text": [
      "a\n",
      "b\n",
      "c\n",
      "d\n",
      "e\n"
     ]
    }
   ],
   "source": [
    "lst = [\"a\",\"b\",\"c\",\"d\",\"e\"]\n",
    "\n",
    "for index in range(len(lst)):\n",
    "    print(lst[index])"
   ]
  },
  {
   "cell_type": "code",
   "execution_count": 11,
   "id": "096a0bc6",
   "metadata": {},
   "outputs": [
    {
     "name": "stdout",
     "output_type": "stream",
     "text": [
      "a\n",
      "b\n",
      "c\n",
      "d\n",
      "e\n"
     ]
    }
   ],
   "source": [
    "for i in lst:\n",
    "    print(i)"
   ]
  },
  {
   "cell_type": "markdown",
   "id": "5c739dfe",
   "metadata": {},
   "source": [
    "# For loop with else\n",
    "\n",
    "A for loop can have an else block as well.\n",
    "\n",
    "break statement can be used to stop a for loop, in such cases the else part is ignored.\n",
    "\n",
    "Hence a for loop's else part runs if no break occurs."
   ]
  },
  {
   "cell_type": "code",
   "execution_count": 12,
   "id": "d587a25a",
   "metadata": {},
   "outputs": [
    {
     "name": "stdout",
     "output_type": "stream",
     "text": [
      "1\n",
      "2\n",
      "3\n",
      "4\n",
      "End of list, no item found.\n"
     ]
    }
   ],
   "source": [
    "numbers = [1,2,3,4]\n",
    "\n",
    "#iterating over the list\n",
    "\n",
    "for item in numbers:\n",
    "    print(item)\n",
    "else:\n",
    "    print(\"End of list, no item found.\")"
   ]
  },
  {
   "cell_type": "markdown",
   "id": "d3a7ca21",
   "metadata": {},
   "source": [
    "# Python program to display all prime numbers within an interval"
   ]
  },
  {
   "cell_type": "code",
   "execution_count": 13,
   "id": "c001468b",
   "metadata": {},
   "outputs": [
    {
     "name": "stdout",
     "output_type": "stream",
     "text": [
      "Prime numbers between 10 and 50 are :\n",
      "11\n",
      "13\n",
      "17\n",
      "19\n",
      "23\n",
      "29\n",
      "31\n",
      "37\n",
      "41\n",
      "43\n",
      "47\n"
     ]
    }
   ],
   "source": [
    "index1 = 10\n",
    "index2 = 50\n",
    "\n",
    "print(\"Prime numbers between {0} and {1} are :\".format(index1,index2))\n",
    "\n",
    "for num in range(index1,index2+1):\n",
    "    if num>1:\n",
    "        isDivisible = False;\n",
    "        for i in range(2,num):\n",
    "            if num % i == 0:\n",
    "                isDivisible = True\n",
    "        if not isDivisible:\n",
    "            print(num);"
   ]
  },
  {
   "cell_type": "code",
   "execution_count": 14,
   "id": "ba28f062",
   "metadata": {},
   "outputs": [
    {
     "name": "stdout",
     "output_type": "stream",
     "text": [
      "Prime numbers between 20 and 100 are: \n",
      "23\n",
      "29\n",
      "31\n",
      "37\n",
      "41\n",
      "43\n",
      "47\n",
      "53\n",
      "59\n",
      "61\n",
      "67\n",
      "71\n",
      "73\n",
      "79\n",
      "83\n",
      "89\n",
      "97\n"
     ]
    }
   ],
   "source": [
    "index1 = 20\n",
    "index2 = 100\n",
    "\n",
    "print(\"Prime numbers between {0} and {1} are: \".format(index1,index2))\n",
    "\n",
    "for num in range(index1, index2+1):\n",
    "    if num>1:\n",
    "        isDivisible = False\n",
    "        for i in range(2,num):\n",
    "            if num % i == 0:\n",
    "                isDivisible = True\n",
    "        if not isDivisible:\n",
    "            print(num)"
   ]
  },
  {
   "cell_type": "markdown",
   "id": "e734a6ee",
   "metadata": {},
   "source": [
    "# Control flow break and Continue"
   ]
  },
  {
   "cell_type": "code",
   "execution_count": 1,
   "id": "bbb89d7f",
   "metadata": {},
   "outputs": [
    {
     "name": "stdout",
     "output_type": "stream",
     "text": [
      "1\n",
      "2\n",
      "3\n",
      "Outside of for loop\n"
     ]
    }
   ],
   "source": [
    "#Example\n",
    "\n",
    "numbers = [1,2,3,4]\n",
    "for num in numbers:\n",
    "    if num == 4:\n",
    "        break;\n",
    "    print(num)\n",
    "else:\n",
    "    print(\"In the else-block\")\n",
    "print(\"Outside of for loop\")"
   ]
  },
  {
   "cell_type": "code",
   "execution_count": 3,
   "id": "7ece4140",
   "metadata": {},
   "outputs": [
    {
     "name": "stdout",
     "output_type": "stream",
     "text": [
      "Enter your number: 23\n",
      "23 is a prime number.\n"
     ]
    }
   ],
   "source": [
    "num = int(input(\"Enter your number: \"))\n",
    "\n",
    "isDivisible = False;\n",
    "i = 2\n",
    "while i<num:\n",
    "    if num % i == 0:\n",
    "        isDivisible = True\n",
    "        print(\"{} is divisible by {}\".format(num,i))\n",
    "        break;\n",
    "    i+=1\n",
    "    \n",
    "if isDivisible:\n",
    "    print(\"{} is not a prime number.\".format(num))\n",
    "else:\n",
    "    print(\"{} is a prime number.\".format(num))"
   ]
  },
  {
   "cell_type": "code",
   "execution_count": 5,
   "id": "720d2e32",
   "metadata": {},
   "outputs": [
    {
     "name": "stdout",
     "output_type": "stream",
     "text": [
      "1\n",
      "3\n",
      "5\n",
      "7\n",
      "9\n",
      "End of List\n"
     ]
    }
   ],
   "source": [
    "#print odd numbers present in a list\n",
    "\n",
    "lst = [1,2,3,4,5,6,7,8,9,10]\n",
    "\n",
    "for num in lst:\n",
    "    if num % 2 == 0:\n",
    "        continue\n",
    "    print(num)\n",
    "else:\n",
    "    print(\"End of List\")"
   ]
  },
  {
   "cell_type": "markdown",
   "id": "e03f857f",
   "metadata": {},
   "source": [
    "# Lists\n",
    "- List is one of the Sequence Data structure\n",
    "\n",
    "- Lists are collection of items (Strings, integers or even other lists)\n",
    "\n",
    "- Lists are enclosed in [ ]\n",
    "\n",
    "- Each item in the list has an assigned index value.\n",
    "\n",
    "- Each item in a list is separated by a comma\n",
    "\n",
    "- Lists are mutable, which means they can be changed."
   ]
  },
  {
   "cell_type": "markdown",
   "id": "0f3281b5",
   "metadata": {},
   "source": [
    " # List Creation"
   ]
  },
  {
   "cell_type": "code",
   "execution_count": 8,
   "id": "9bf06fc8",
   "metadata": {},
   "outputs": [
    {
     "name": "stdout",
     "output_type": "stream",
     "text": [
      "[[1, 2], [3, 4], 5]\n"
     ]
    }
   ],
   "source": [
    "emptylist = []\n",
    "\n",
    "list_of_strings = [\"one\",\"two\",\"three\",\"four\"]\n",
    "\n",
    "lst_of_integers = [1,2,3,4]\n",
    "\n",
    "list_of_lists = [[1,2],[3,4],5]\n",
    "\n",
    "list_of_different_datatypes = [1, 2, 3, 'String']\n",
    "\n",
    "print(list_of_lists)"
   ]
  },
  {
   "cell_type": "markdown",
   "id": "36954e64",
   "metadata": {},
   "source": [
    "# List length"
   ]
  },
  {
   "cell_type": "code",
   "execution_count": 9,
   "id": "5ecacd08",
   "metadata": {},
   "outputs": [
    {
     "name": "stdout",
     "output_type": "stream",
     "text": [
      "4\n"
     ]
    }
   ],
   "source": [
    "lst = [\"one\",\"two\",\"three\",\"four\"]\n",
    "\n",
    "print(len(lst))"
   ]
  },
  {
   "cell_type": "markdown",
   "id": "dd293239",
   "metadata": {},
   "source": [
    "# List Append"
   ]
  },
  {
   "cell_type": "code",
   "execution_count": 10,
   "id": "272d2648",
   "metadata": {},
   "outputs": [
    {
     "name": "stdout",
     "output_type": "stream",
     "text": [
      "['one', 'two', 'three', 'four', 'five']\n"
     ]
    }
   ],
   "source": [
    "list_of_strings = [\"one\",\"two\",\"three\",\"four\"]\n",
    "\n",
    "list_of_strings.append(\"five\")\n",
    "\n",
    "print(list_of_strings)"
   ]
  },
  {
   "cell_type": "markdown",
   "id": "0e2c0da1",
   "metadata": {},
   "source": [
    "# List Insert\n",
    "\n",
    "syntax = list.insert(location, element)"
   ]
  },
  {
   "cell_type": "code",
   "execution_count": 13,
   "id": "07f21710",
   "metadata": {},
   "outputs": [
    {
     "name": "stdout",
     "output_type": "stream",
     "text": [
      "[1, 2, 3, 4]\n"
     ]
    }
   ],
   "source": [
    "list_of_integers = [1,2,4]\n",
    "\n",
    "list_of_integers.insert(2,3)\n",
    "\n",
    "print(list_of_integers)"
   ]
  },
  {
   "cell_type": "markdown",
   "id": "a552f5f5",
   "metadata": {},
   "source": [
    "# List Remove\n",
    "\n",
    "syntax = list.remove(x)"
   ]
  },
  {
   "cell_type": "code",
   "execution_count": 14,
   "id": "8f244567",
   "metadata": {},
   "outputs": [
    {
     "name": "stdout",
     "output_type": "stream",
     "text": [
      "[1, 2, 3]\n"
     ]
    }
   ],
   "source": [
    "list_of_integers.remove(4)\n",
    "\n",
    "print(list_of_integers)"
   ]
  },
  {
   "cell_type": "markdown",
   "id": "da26137a",
   "metadata": {},
   "source": [
    "# List Append and Extend "
   ]
  },
  {
   "cell_type": "code",
   "execution_count": 17,
   "id": "9fc43f0f",
   "metadata": {},
   "outputs": [
    {
     "name": "stdout",
     "output_type": "stream",
     "text": [
      "['one', 'two', 'three', 'four', ['five', 'six']]\n"
     ]
    }
   ],
   "source": [
    "lst = [\"one\",\"two\",\"three\",\"four\"]\n",
    "\n",
    "lst2 = [\"five\",\"six\"]\n",
    "\n",
    "#append\n",
    "lst.append(lst2)\n",
    "\n",
    "print(lst)"
   ]
  },
  {
   "cell_type": "code",
   "execution_count": 18,
   "id": "00c6ffa3",
   "metadata": {},
   "outputs": [
    {
     "name": "stdout",
     "output_type": "stream",
     "text": [
      "['one', 'two', 'three', 'four', 'five', 'six']\n"
     ]
    }
   ],
   "source": [
    "lst = [\"one\",\"two\",\"three\",\"four\"]\n",
    "\n",
    "lst2 = [\"five\",\"six\"]\n",
    "\n",
    "#append\n",
    "lst.extend(lst2)\n",
    "\n",
    "print(lst)"
   ]
  },
  {
   "cell_type": "markdown",
   "id": "ebc74db8",
   "metadata": {},
   "source": [
    "# List Delete"
   ]
  },
  {
   "cell_type": "code",
   "execution_count": 20,
   "id": "a7f0f6e1",
   "metadata": {},
   "outputs": [
    {
     "name": "stdout",
     "output_type": "stream",
     "text": [
      "['one', 'three', 'four', 'five']\n"
     ]
    }
   ],
   "source": [
    "#del to remove item based on index position\n",
    "\n",
    "lst = [\"one\",\"two\",\"three\",\"four\",\"five\"]\n",
    "\n",
    "del lst[1]\n",
    "\n",
    "print(lst)"
   ]
  },
  {
   "cell_type": "code",
   "execution_count": 21,
   "id": "d4fec7ce",
   "metadata": {},
   "outputs": [
    {
     "name": "stdout",
     "output_type": "stream",
     "text": [
      "['one', 'two', 'three', 'four']\n",
      "four\n"
     ]
    }
   ],
   "source": [
    "lst = [\"one\", \"two\",\"three\",\"four\"]\n",
    "\n",
    "print(lst)\n",
    "a = lst.pop()\n",
    "\n",
    "print(a)"
   ]
  },
  {
   "cell_type": "code",
   "execution_count": 23,
   "id": "58e36587",
   "metadata": {},
   "outputs": [
    {
     "name": "stdout",
     "output_type": "stream",
     "text": [
      "['one', 'two', 'four']\n"
     ]
    }
   ],
   "source": [
    "lst = [\"one\", \"two\",\"three\",\"four\"]\n",
    "\n",
    "#remove an item from list\n",
    "lst.remove(\"three\")\n",
    "\n",
    "print(lst)"
   ]
  },
  {
   "cell_type": "markdown",
   "id": "36faf4c9",
   "metadata": {},
   "source": [
    "# List related keywords in Python"
   ]
  },
  {
   "cell_type": "code",
   "execution_count": 24,
   "id": "47d177c2",
   "metadata": {},
   "outputs": [
    {
     "name": "stdout",
     "output_type": "stream",
     "text": [
      "AI\n",
      "ML\n"
     ]
    }
   ],
   "source": [
    "#Keyword 'in' is used to test if an item is in a list\n",
    "\n",
    "lst = [\"one\",\"two\",\"three\",\"four\"]\n",
    "\n",
    "if \"two\" in lst:\n",
    "    print(\"AI\")\n",
    "\n",
    "#Keyword \"not\" can combined with \"in\"\n",
    "\n",
    "if \"six\" not in lst:\n",
    "    print(\"ML\")"
   ]
  },
  {
   "cell_type": "markdown",
   "id": "69ad2ba2",
   "metadata": {},
   "source": [
    "# List Reverse"
   ]
  },
  {
   "cell_type": "code",
   "execution_count": 25,
   "id": "3a44d077",
   "metadata": {},
   "outputs": [
    {
     "name": "stdout",
     "output_type": "stream",
     "text": [
      "['four', 'three', 'two', 'one']\n"
     ]
    }
   ],
   "source": [
    "lst = [\"one\",\"two\",\"three\",\"four\"]\n",
    "\n",
    "lst.reverse()\n",
    "\n",
    "print(lst)"
   ]
  },
  {
   "cell_type": "markdown",
   "id": "814d07bc",
   "metadata": {},
   "source": [
    "# List Sorting\n",
    "The easiest way to sort a List is with the sorted(list) function.\n",
    "\n",
    "That takes a list and returns a new list with those elements in sorted order.\n",
    "\n",
    "The original list is not changed.\n",
    "\n",
    "The sorted() optional argument reverse=True, e.g. sorted(list, reverse=True), makes it sort backwards."
   ]
  },
  {
   "cell_type": "code",
   "execution_count": 26,
   "id": "f25c7852",
   "metadata": {},
   "outputs": [
    {
     "name": "stdout",
     "output_type": "stream",
     "text": [
      "Sorted list : [1, 2, 3, 6, 8]\n",
      "Original List:  [3, 1, 6, 2, 8]\n"
     ]
    }
   ],
   "source": [
    "#Create a list with numbers\n",
    "\n",
    "numbers = [3,1,6,2,8]\n",
    "\n",
    "sorted_lst = sorted(numbers)\n",
    "\n",
    "print(\"Sorted list :\",sorted_lst)\n",
    "\n",
    "#original list remain unchanged\n",
    "print(\"Original List: \",numbers)"
   ]
  },
  {
   "cell_type": "code",
   "execution_count": 27,
   "id": "a584b1d4",
   "metadata": {},
   "outputs": [
    {
     "name": "stdout",
     "output_type": "stream",
     "text": [
      "reverse sorted list : [8, 6, 3, 2, 1]\n",
      "Original list :  [3, 1, 6, 2, 8]\n"
     ]
    }
   ],
   "source": [
    "#print a list in reverse sorted order\n",
    "\n",
    "print(\"reverse sorted list :\",sorted(numbers, reverse=True))\n",
    "\n",
    "#original list remain unchanged\n",
    "print(\"Original list : \",numbers)"
   ]
  },
  {
   "cell_type": "code",
   "execution_count": 29,
   "id": "01ed9cb4",
   "metadata": {},
   "outputs": [
    {
     "name": "stdout",
     "output_type": "stream",
     "text": [
      "Sorted List : [1, 4, 5, 5.5, 6, 6, 20]\n"
     ]
    }
   ],
   "source": [
    "lst = [1,20,4,5,6,6,5.5]\n",
    "\n",
    "lst.sort()\n",
    "\n",
    "print(\"Sorted List :\",lst)"
   ]
  },
  {
   "cell_type": "code",
   "execution_count": 32,
   "id": "8d9c8ac8",
   "metadata": {},
   "outputs": [
    {
     "ename": "TypeError",
     "evalue": "'<' not supported between instances of 'str' and 'int'",
     "output_type": "error",
     "traceback": [
      "\u001b[1;31m---------------------------------------------------------------------------\u001b[0m",
      "\u001b[1;31mTypeError\u001b[0m                                 Traceback (most recent call last)",
      "\u001b[1;32m~\\AppData\\Local\\Temp/ipykernel_16512/2631994530.py\u001b[0m in \u001b[0;36m<module>\u001b[1;34m\u001b[0m\n\u001b[0;32m      3\u001b[0m \u001b[0mlst\u001b[0m \u001b[1;33m=\u001b[0m \u001b[1;33m[\u001b[0m\u001b[1;36m1\u001b[0m\u001b[1;33m,\u001b[0m\u001b[1;36m2\u001b[0m\u001b[1;33m,\u001b[0m\u001b[1;36m3\u001b[0m\u001b[1;33m,\u001b[0m\u001b[1;34m'a'\u001b[0m\u001b[1;33m,\u001b[0m\u001b[1;34m'b'\u001b[0m\u001b[1;33m,\u001b[0m\u001b[1;34m'c'\u001b[0m\u001b[1;33m]\u001b[0m\u001b[1;33m\u001b[0m\u001b[1;33m\u001b[0m\u001b[0m\n\u001b[0;32m      4\u001b[0m \u001b[1;33m\u001b[0m\u001b[0m\n\u001b[1;32m----> 5\u001b[1;33m \u001b[0mprint\u001b[0m\u001b[1;33m(\u001b[0m\u001b[0mlst\u001b[0m\u001b[1;33m.\u001b[0m\u001b[0msort\u001b[0m\u001b[1;33m(\u001b[0m\u001b[1;33m)\u001b[0m\u001b[1;33m)\u001b[0m\u001b[1;33m\u001b[0m\u001b[1;33m\u001b[0m\u001b[0m\n\u001b[0m",
      "\u001b[1;31mTypeError\u001b[0m: '<' not supported between instances of 'str' and 'int'"
     ]
    }
   ],
   "source": [
    "#Will throw an error if you try to sort diiferent data types in a list\n",
    "\n",
    "lst = [1,2,3,'a','b','c']\n",
    "\n",
    "print(lst.sort())"
   ]
  },
  {
   "cell_type": "markdown",
   "id": "73ac7c05",
   "metadata": {},
   "source": [
    "# List having Multiple References"
   ]
  },
  {
   "cell_type": "code",
   "execution_count": 34,
   "id": "406ca0c9",
   "metadata": {},
   "outputs": [
    {
     "name": "stdout",
     "output_type": "stream",
     "text": [
      "Original List : [1, 2, 3, 4, 5, 6]\n",
      "abc is : [1, 2, 3, 4, 5, 6]\n"
     ]
    }
   ],
   "source": [
    "lst = [1,2,3,4,5]\n",
    "\n",
    "abc = lst\n",
    "abc.append(6)\n",
    "\n",
    "print(\"Original List :\",lst)\n",
    "\n",
    "print(\"abc is :\",abc)"
   ]
  },
  {
   "cell_type": "markdown",
   "id": "91c6cdf0",
   "metadata": {},
   "source": [
    "# String Split to create a list"
   ]
  },
  {
   "cell_type": "code",
   "execution_count": 36,
   "id": "ca966e4c",
   "metadata": {},
   "outputs": [
    {
     "name": "stdout",
     "output_type": "stream",
     "text": [
      "['one', 'two', 'three', 'four', 'five']\n"
     ]
    }
   ],
   "source": [
    "str_1 = \"one,two,three,four,five\"\n",
    "\n",
    "str_1_lst = s.split(',')\n",
    "print(str_1_lst)"
   ]
  },
  {
   "cell_type": "code",
   "execution_count": 37,
   "id": "63e5fc8c",
   "metadata": {},
   "outputs": [
    {
     "data": {
      "text/plain": [
       "[\"Let's\", 'learn', 'python', 'together.']"
      ]
     },
     "execution_count": 37,
     "metadata": {},
     "output_type": "execute_result"
    }
   ],
   "source": [
    "str_2 = \"Let's learn python together.\"\n",
    "\n",
    "str_2.split()"
   ]
  },
  {
   "cell_type": "markdown",
   "id": "712b53c4",
   "metadata": {},
   "source": [
    "# List Indexing\n",
    "Each item in the list has an assigned index value starting from 0.\n",
    "\n",
    "Accessing elements in a list is called indexing."
   ]
  },
  {
   "cell_type": "code",
   "execution_count": 38,
   "id": "45b58b17",
   "metadata": {},
   "outputs": [
    {
     "name": "stdout",
     "output_type": "stream",
     "text": [
      "2\n"
     ]
    }
   ],
   "source": [
    "num_list = [1, 2, 3, 4]\n",
    "print(num_list[1])"
   ]
  },
  {
   "cell_type": "markdown",
   "id": "154f37d7",
   "metadata": {},
   "source": [
    "# List Slicing\n",
    "\n",
    "Accessing parts of segments is called slicing.\n",
    "\n",
    "The key point to remember is that the :end value represents the first value that is not in the selected slice."
   ]
  },
  {
   "cell_type": "code",
   "execution_count": 39,
   "id": "9e1d1ff8",
   "metadata": {},
   "outputs": [
    {
     "name": "stdout",
     "output_type": "stream",
     "text": [
      "[10, 20, 30, 40, 50, 60, 70]\n",
      "[10, 20, 30, 40]\n"
     ]
    }
   ],
   "source": [
    "numbers = [10,20,30,40,50,60,70]\n",
    "\n",
    "#print all numbers\n",
    "print(numbers[:])\n",
    "\n",
    "#print from index 0 to index 4\n",
    "\n",
    "print(numbers[0:4])"
   ]
  },
  {
   "cell_type": "code",
   "execution_count": 41,
   "id": "549aea51",
   "metadata": {},
   "outputs": [
    {
     "name": "stdout",
     "output_type": "stream",
     "text": [
      "[10, 20, 30, 40, 50, 60, 70]\n",
      "[10, 30, 50, 70]\n",
      "[30, 50, 70]\n"
     ]
    }
   ],
   "source": [
    "print(numbers)\n",
    "\n",
    "#print alternate elements in a list\n",
    "print(numbers[::2])\n",
    "\n",
    "#print elements start from 2 through rest of the list (alternatively)\n",
    "print(numbers[2::2])\n"
   ]
  },
  {
   "cell_type": "markdown",
   "id": "de6e2194",
   "metadata": {},
   "source": [
    "# List extend using \"+\"\n"
   ]
  },
  {
   "cell_type": "code",
   "execution_count": 42,
   "id": "815f5260",
   "metadata": {},
   "outputs": [
    {
     "name": "stdout",
     "output_type": "stream",
     "text": [
      "[1, 2, 3, 4, 'Hello', 'world']\n"
     ]
    }
   ],
   "source": [
    "list1 = [1,2,3,4]\n",
    "list2 = [\"Hello\",\"world\"]\n",
    "\n",
    "new_list = list1 + list2\n",
    "\n",
    "print(new_list)"
   ]
  },
  {
   "cell_type": "markdown",
   "id": "ae5353ad",
   "metadata": {},
   "source": [
    "# List Count"
   ]
  },
  {
   "cell_type": "code",
   "execution_count": 43,
   "id": "7a6bba18",
   "metadata": {},
   "outputs": [
    {
     "name": "stdout",
     "output_type": "stream",
     "text": [
      "5\n",
      "2\n"
     ]
    }
   ],
   "source": [
    "numbers = [1, 2, 3, 1, 3, 1, 1, 1, 5, 9, 7, 8]\n",
    "print(numbers.count(1))\n",
    "\n",
    "print(numbers.count(3))"
   ]
  },
  {
   "cell_type": "markdown",
   "id": "a3935ddb",
   "metadata": {},
   "source": [
    "# List Looping"
   ]
  },
  {
   "cell_type": "code",
   "execution_count": 45,
   "id": "46a0ca85",
   "metadata": {},
   "outputs": [
    {
     "name": "stdout",
     "output_type": "stream",
     "text": [
      "one\n",
      "two\n",
      "three\n",
      "four\n"
     ]
    }
   ],
   "source": [
    "list1 = ['one', 'two', 'three', 'four']\n",
    "\n",
    "for i in list1:\n",
    "    print(i)"
   ]
  },
  {
   "cell_type": "markdown",
   "id": "6d1c7974",
   "metadata": {},
   "source": [
    "# List Comprehension\n",
    "List comprehensions provide a concise way to create lists.\n",
    "\n",
    "Common applications are to make new lists where each element is the result of some operations applied to each member of another sequence or iterable, or to create a subsequence of those elements that satisfy a certain condition."
   ]
  },
  {
   "cell_type": "markdown",
   "id": "9bd2fb29",
   "metadata": {},
   "source": [
    "# Calculate squares of numbers from 1 to 10 and Store them in a list\n"
   ]
  },
  {
   "cell_type": "code",
   "execution_count": 46,
   "id": "4b587b5a",
   "metadata": {},
   "outputs": [
    {
     "name": "stdout",
     "output_type": "stream",
     "text": [
      "[0, 1, 4, 9, 16, 25, 36, 49, 64, 81]\n"
     ]
    }
   ],
   "source": [
    "#Without list Comprehension\n",
    "\n",
    "squares = []\n",
    "\n",
    "for i in range(10):\n",
    "    squares.append(i**2)\n",
    "print(squares)"
   ]
  },
  {
   "cell_type": "code",
   "execution_count": 47,
   "id": "7f0205b4",
   "metadata": {},
   "outputs": [
    {
     "name": "stdout",
     "output_type": "stream",
     "text": [
      "[0, 1, 4, 9, 16, 25, 36, 49, 64, 81]\n"
     ]
    }
   ],
   "source": [
    "#Using List Comprehension\n",
    "squares = [i**2 for i in range(10)]\n",
    "print(squares)"
   ]
  },
  {
   "cell_type": "code",
   "execution_count": 49,
   "id": "2dae6d44",
   "metadata": {},
   "outputs": [
    {
     "name": "stdout",
     "output_type": "stream",
     "text": [
      "[-100, 200, 300, 400, -500]\n",
      "[20, 30, 40]\n",
      "[(-10, 100), (20, 400), (30, 900), (40, 1600), (-50, 2500)]\n"
     ]
    }
   ],
   "source": [
    "# More Example\n",
    "\n",
    "list1 = [-10,20,30,40,-50]\n",
    "\n",
    "#create a new list with values multiplied by 10\n",
    "new_list1 = [i * 10 for i in list1]\n",
    "print(new_list1)\n",
    "\n",
    "#filter the list to exclude negative numbers\n",
    "new_list2 = [i for i in list1 if i > 0]\n",
    "print(new_list2)\n",
    "\n",
    "#create of list of tuples with (number,square of number)\n",
    "\n",
    "new_list3 = [(i,i**2) for i in list1]\n",
    "print(new_list3)\n"
   ]
  },
  {
   "cell_type": "markdown",
   "id": "4de99fa5",
   "metadata": {},
   "source": [
    "# Nested List Comprehension"
   ]
  },
  {
   "cell_type": "code",
   "execution_count": 51,
   "id": "62abf0bc",
   "metadata": {},
   "outputs": [
    {
     "name": "stdout",
     "output_type": "stream",
     "text": [
      "[[1, 4, 7], [2, 5, 8], [3, 6, 9]]\n"
     ]
    }
   ],
   "source": [
    "#Let's suppose we have a matrix\n",
    "\n",
    "matrix = [\n",
    "    [1,2,3],\n",
    "    [4,5,6],\n",
    "    [7,8,9]\n",
    "]\n",
    "\n",
    "#Transpose of a matrix without list comprehension\n",
    "transposed = []\n",
    "for i in range(3):\n",
    "    list1 = []\n",
    "    for row in matrix:\n",
    "        list1.append(row[i])\n",
    "    transposed.append(list1)\n",
    "    \n",
    "print(transposed)"
   ]
  },
  {
   "cell_type": "code",
   "execution_count": 52,
   "id": "10f0f4e9",
   "metadata": {},
   "outputs": [
    {
     "name": "stdout",
     "output_type": "stream",
     "text": [
      "[[1, 4, 7], [2, 5, 8], [3, 6, 9]]\n"
     ]
    }
   ],
   "source": [
    "#Let's suppose we have a matrix\n",
    "\n",
    "matrix = [\n",
    "    [1,2,3],\n",
    "    [4,5,6],\n",
    "    [7,8,9]\n",
    "]\n",
    "\n",
    "#Transpose of a matrix with list comprehension\n",
    "\n",
    "transposed = [[row[i] for row in matrix] for i in range(3)]\n",
    "\n",
    "print(transposed)"
   ]
  },
  {
   "cell_type": "markdown",
   "id": "1fe3a6ee",
   "metadata": {},
   "source": [
    "# Tuples\n",
    "- A tuple is similar to list\n",
    "\n",
    "- The diffence between the two is that we can't change the elements of tuple once it is assigned whereas in the list, elements can be changed"
   ]
  },
  {
   "cell_type": "markdown",
   "id": "38c8e77f",
   "metadata": {},
   "source": [
    "# Tuple Creation"
   ]
  },
  {
   "cell_type": "code",
   "execution_count": 55,
   "id": "d5cbbd95",
   "metadata": {},
   "outputs": [
    {
     "name": "stdout",
     "output_type": "stream",
     "text": [
      "()\n",
      "(1, 'Hello', '08', 'world')\n",
      "(5, (1, 2), [3, 4, 5, 6])\n"
     ]
    }
   ],
   "source": [
    "#empty tuple\n",
    "t = ()\n",
    "\n",
    "#tuple having integers\n",
    "t1 = (1, 2, 3)\n",
    "print(t)\n",
    "\n",
    "#tuple with mixed datatypes\n",
    "t2 = (1, 'Hello', '08', 'world')\n",
    "print(t2)\n",
    "\n",
    "#nested tuple\n",
    "t3 = (5, (1,2), [3,4,5,6])\n",
    "print(t3)"
   ]
  },
  {
   "cell_type": "code",
   "execution_count": 56,
   "id": "5e241834",
   "metadata": {},
   "outputs": [
    {
     "data": {
      "text/plain": [
       "str"
      ]
     },
     "execution_count": 56,
     "metadata": {},
     "output_type": "execute_result"
    }
   ],
   "source": [
    "#Only Parenthesis is not enough\n",
    "\n",
    "t1 = (\"Hello world\")\n",
    "type(t1)"
   ]
  },
  {
   "cell_type": "code",
   "execution_count": 57,
   "id": "1a0c47d4",
   "metadata": {},
   "outputs": [
    {
     "data": {
      "text/plain": [
       "tuple"
      ]
     },
     "execution_count": 57,
     "metadata": {},
     "output_type": "execute_result"
    }
   ],
   "source": [
    "#need a comma at the end\n",
    "t1 = (\"Hello world\",)\n",
    "type(t1)"
   ]
  },
  {
   "cell_type": "code",
   "execution_count": 58,
   "id": "5c210410",
   "metadata": {},
   "outputs": [
    {
     "name": "stdout",
     "output_type": "stream",
     "text": [
      "world\n"
     ]
    }
   ],
   "source": [
    "#Accessing elements in a Tuple\n",
    "\n",
    "t1 = (\"Hello\",\"world\",\"Let's\",\"learn\",\"Python\")\n",
    "\n",
    "print(t1[1])"
   ]
  },
  {
   "cell_type": "code",
   "execution_count": 59,
   "id": "d701a9c0",
   "metadata": {},
   "outputs": [
    {
     "name": "stdout",
     "output_type": "stream",
     "text": [
      "Python\n"
     ]
    }
   ],
   "source": [
    "#negative index\n",
    "print(t1[-1])"
   ]
  },
  {
   "cell_type": "code",
   "execution_count": 61,
   "id": "a9a35368",
   "metadata": {},
   "outputs": [
    {
     "name": "stdout",
     "output_type": "stream",
     "text": [
      "ABC\n",
      "('Hello', 'world')\n",
      "world\n"
     ]
    }
   ],
   "source": [
    "#nested tuple\n",
    "t1 = (\"ABC\",(\"Hello\",\"world\"))\n",
    "print(t1[0])\n",
    "print(t1[1])\n",
    "print(t1[1][1])"
   ]
  },
  {
   "cell_type": "code",
   "execution_count": 64,
   "id": "d342d244",
   "metadata": {},
   "outputs": [
    {
     "name": "stdout",
     "output_type": "stream",
     "text": [
      "(1, 2, 3, 4, 5, 6, 7, 8)\n",
      "(2, 3, 4)\n",
      "(1, 2, 3, 4, 5, 6)\n",
      "(1, 3, 5, 7)\n"
     ]
    }
   ],
   "source": [
    "#Slicing a tuple\n",
    "\n",
    "t1 = (1,2,3,4,5,6,7,8)\n",
    "\n",
    "#print elements from start to end\n",
    "print(t1[:])\n",
    "\n",
    "#print elements from index 1 to index 4(index4 is excluded)\n",
    "print(t1[1:4])\n",
    "\n",
    "#print element only upto second last element\n",
    "print(t1[:-2])\n",
    "\n",
    "#print alternate elements\n",
    "print(t1[::2])"
   ]
  },
  {
   "cell_type": "markdown",
   "id": "239f17e6",
   "metadata": {},
   "source": [
    "# Changing a tuple \n",
    "- Unlike lists, tuples are immutable.\n",
    "- This means that elements of a tuple cannot be changed once it has been assigned. But, if the element is itself a mutable datatype like list, its nested items can be changed."
   ]
  },
  {
   "cell_type": "code",
   "execution_count": 66,
   "id": "a56d9d70",
   "metadata": {},
   "outputs": [
    {
     "ename": "TypeError",
     "evalue": "'tuple' object does not support item assignment",
     "output_type": "error",
     "traceback": [
      "\u001b[1;31m---------------------------------------------------------------------------\u001b[0m",
      "\u001b[1;31mTypeError\u001b[0m                                 Traceback (most recent call last)",
      "\u001b[1;32m~\\AppData\\Local\\Temp/ipykernel_16512/2265204267.py\u001b[0m in \u001b[0;36m<module>\u001b[1;34m\u001b[0m\n\u001b[0;32m      3\u001b[0m \u001b[0mt1\u001b[0m \u001b[1;33m=\u001b[0m \u001b[1;33m(\u001b[0m\u001b[1;36m1\u001b[0m\u001b[1;33m,\u001b[0m\u001b[1;36m2\u001b[0m\u001b[1;33m,\u001b[0m\u001b[1;36m3\u001b[0m\u001b[1;33m,\u001b[0m\u001b[1;36m4\u001b[0m\u001b[1;33m,\u001b[0m\u001b[1;36m5\u001b[0m\u001b[1;33m)\u001b[0m\u001b[1;33m\u001b[0m\u001b[1;33m\u001b[0m\u001b[0m\n\u001b[0;32m      4\u001b[0m \u001b[1;33m\u001b[0m\u001b[0m\n\u001b[1;32m----> 5\u001b[1;33m \u001b[0mt1\u001b[0m\u001b[1;33m[\u001b[0m\u001b[1;36m2\u001b[0m\u001b[1;33m]\u001b[0m \u001b[1;33m=\u001b[0m \u001b[1;36m10\u001b[0m\u001b[1;33m\u001b[0m\u001b[1;33m\u001b[0m\u001b[0m\n\u001b[0m\u001b[0;32m      6\u001b[0m \u001b[0mprint\u001b[0m\u001b[1;33m(\u001b[0m\u001b[0mt1\u001b[0m\u001b[1;33m)\u001b[0m\u001b[1;33m\u001b[0m\u001b[1;33m\u001b[0m\u001b[0m\n",
      "\u001b[1;31mTypeError\u001b[0m: 'tuple' object does not support item assignment"
     ]
    }
   ],
   "source": [
    "#example - Will throw Type Error\n",
    "\n",
    "t1 = (1,2,3,4,5)\n",
    "\n",
    "t1[2] = 10 \n",
    "print(t1)"
   ]
  },
  {
   "cell_type": "code",
   "execution_count": 67,
   "id": "16c4dece",
   "metadata": {},
   "outputs": [
    {
     "name": "stdout",
     "output_type": "stream",
     "text": [
      "(1, 2, 3, [10, 5, 6])\n"
     ]
    }
   ],
   "source": [
    "t1 = (1,2,3,[4,5,6])\n",
    "\n",
    "t1[3][0] = 10\n",
    "\n",
    "print(t1)"
   ]
  },
  {
   "cell_type": "code",
   "execution_count": 68,
   "id": "a9d9886e",
   "metadata": {},
   "outputs": [
    {
     "name": "stdout",
     "output_type": "stream",
     "text": [
      "(1, 2, 3, 4, 5, 6)\n"
     ]
    }
   ],
   "source": [
    "#Concatinating Tuples\n",
    "\n",
    "t1 = (1,2,3)\n",
    "t2 = (4,5,6)\n",
    "\n",
    "t = t1 + t2\n",
    "print(t)"
   ]
  },
  {
   "cell_type": "code",
   "execution_count": 69,
   "id": "74362403",
   "metadata": {},
   "outputs": [
    {
     "name": "stdout",
     "output_type": "stream",
     "text": [
      "('Hello', 'Hello', 'Hello', 'Hello', 'Hello')\n"
     ]
    }
   ],
   "source": [
    "#repeat the element in a tuple using a * operator\n",
    "\n",
    "t = ((\"Hello\",)*5)\n",
    "\n",
    "print(t)"
   ]
  },
  {
   "cell_type": "markdown",
   "id": "f68b428f",
   "metadata": {},
   "source": [
    "# Tuple Deletion\n",
    "\n",
    "- We cannot change the elements in a tuple.\n",
    "- That also means we cannot delete or remove items from a tuple\n",
    "\n",
    "\n"
   ]
  },
  {
   "cell_type": "code",
   "execution_count": 72,
   "id": "794a0cf6",
   "metadata": {},
   "outputs": [],
   "source": [
    "#delete entire tuple using del keyword\n",
    "\n",
    "t = (1,2,3,4,5,6)\n",
    "\n",
    "#delete entire tuple\n",
    "del t"
   ]
  },
  {
   "cell_type": "markdown",
   "id": "1c801c7e",
   "metadata": {},
   "source": [
    "# Tuple Count"
   ]
  },
  {
   "cell_type": "code",
   "execution_count": 73,
   "id": "e99c9e02",
   "metadata": {},
   "outputs": [
    {
     "data": {
      "text/plain": [
       "3"
      ]
     },
     "execution_count": 73,
     "metadata": {},
     "output_type": "execute_result"
    }
   ],
   "source": [
    "t = (1,1,1,2,2,3,4,5,6,7)\n",
    "\n",
    "#get the frequency of particular element appears in a tuple\n",
    "\n",
    "t.count(1)"
   ]
  },
  {
   "cell_type": "markdown",
   "id": "f68da367",
   "metadata": {},
   "source": [
    "# Tuple Index"
   ]
  },
  {
   "cell_type": "code",
   "execution_count": 75,
   "id": "be5c4656",
   "metadata": {},
   "outputs": [
    {
     "name": "stdout",
     "output_type": "stream",
     "text": [
      "2\n"
     ]
    }
   ],
   "source": [
    "t = (1,2,3,1,3,3,4,1)\n",
    "\n",
    "#return the index of first element is equal to 3\n",
    "print(t.index(3))"
   ]
  },
  {
   "cell_type": "code",
   "execution_count": 76,
   "id": "8f01266d",
   "metadata": {},
   "outputs": [
    {
     "name": "stdout",
     "output_type": "stream",
     "text": [
      "0\n"
     ]
    }
   ],
   "source": [
    "#print index of 1\n",
    "\n",
    "print(t.index(1))"
   ]
  },
  {
   "cell_type": "markdown",
   "id": "dd5138ef",
   "metadata": {},
   "source": [
    "# Tuple Membership"
   ]
  },
  {
   "cell_type": "code",
   "execution_count": 77,
   "id": "880f8164",
   "metadata": {},
   "outputs": [
    {
     "name": "stdout",
     "output_type": "stream",
     "text": [
      "True\n"
     ]
    }
   ],
   "source": [
    "#test if an item exists in a tuple or not, using the keyword in\n",
    "\n",
    "t = (1,2,3,4,5)\n",
    "\n",
    "print(3 in t)"
   ]
  },
  {
   "cell_type": "code",
   "execution_count": 78,
   "id": "1924f63e",
   "metadata": {},
   "outputs": [
    {
     "name": "stdout",
     "output_type": "stream",
     "text": [
      "False\n"
     ]
    }
   ],
   "source": [
    "print(7 in t)"
   ]
  },
  {
   "cell_type": "markdown",
   "id": "a01af092",
   "metadata": {},
   "source": [
    "# Built in functions"
   ]
  },
  {
   "cell_type": "markdown",
   "id": "2ea427cb",
   "metadata": {},
   "source": [
    "# Tuple Length"
   ]
  },
  {
   "cell_type": "code",
   "execution_count": 79,
   "id": "4d7ae25d",
   "metadata": {},
   "outputs": [
    {
     "name": "stdout",
     "output_type": "stream",
     "text": [
      "6\n"
     ]
    }
   ],
   "source": [
    "t = (1,2,3,4,5,6)\n",
    "print(len(t))"
   ]
  },
  {
   "cell_type": "markdown",
   "id": "cde0b108",
   "metadata": {},
   "source": [
    "# Tuple Sort"
   ]
  },
  {
   "cell_type": "code",
   "execution_count": 81,
   "id": "e61784fa",
   "metadata": {},
   "outputs": [
    {
     "name": "stdout",
     "output_type": "stream",
     "text": [
      "[1, 2, 3, 4, 4, 5, 6, 7]\n"
     ]
    }
   ],
   "source": [
    "t = (4,5,6,7,1,2,3,4)\n",
    "\n",
    "new_t = sorted(t)\n",
    "print(new_t)"
   ]
  },
  {
   "cell_type": "code",
   "execution_count": 82,
   "id": "01f9bada",
   "metadata": {},
   "outputs": [
    {
     "name": "stdout",
     "output_type": "stream",
     "text": [
      "9\n"
     ]
    }
   ],
   "source": [
    "#get the largest element in a  tuple\n",
    "\n",
    "t = (2,5,1,6,9)\n",
    "\n",
    "print(max(t))"
   ]
  },
  {
   "cell_type": "code",
   "execution_count": 83,
   "id": "259ac7e9",
   "metadata": {},
   "outputs": [
    {
     "name": "stdout",
     "output_type": "stream",
     "text": [
      "1\n"
     ]
    }
   ],
   "source": [
    "#get the smallest element in a tuple\n",
    "\n",
    "t = (2,3,4,5,1,7)\n",
    "\n",
    "print(min(t))"
   ]
  },
  {
   "cell_type": "code",
   "execution_count": 84,
   "id": "f6606479",
   "metadata": {},
   "outputs": [
    {
     "name": "stdout",
     "output_type": "stream",
     "text": [
      "22\n"
     ]
    }
   ],
   "source": [
    "#get sum of all elements in a tuple\n",
    "print(sum(t))"
   ]
  },
  {
   "cell_type": "markdown",
   "id": "ae98f0cf",
   "metadata": {},
   "source": [
    "# Sets \n",
    "\n",
    "- A set is an unordered collection of items. Every element is unique (no duplicates).\n",
    "\n",
    "- The set itself is mutable. We can add or remove items from it.\n",
    "\n",
    "- Sets can be used to perform mathematical set operations like union, intersection, symmetric difference etc."
   ]
  },
  {
   "cell_type": "markdown",
   "id": "66a84aea",
   "metadata": {},
   "source": [
    "# Set Creation"
   ]
  },
  {
   "cell_type": "code",
   "execution_count": 85,
   "id": "3550c5f1",
   "metadata": {},
   "outputs": [
    {
     "name": "stdout",
     "output_type": "stream",
     "text": [
      "{1, 2, 3}\n",
      "<class 'set'>\n"
     ]
    }
   ],
   "source": [
    "#set of integers\n",
    "\n",
    "s = {1,2,3}\n",
    "print(s)\n",
    "\n",
    "#print types of s\n",
    "print(type(s))"
   ]
  },
  {
   "cell_type": "code",
   "execution_count": 86,
   "id": "c71260b7",
   "metadata": {},
   "outputs": [
    {
     "name": "stdout",
     "output_type": "stream",
     "text": [
      "{1, 2, 3, 4, 5}\n"
     ]
    }
   ],
   "source": [
    "#set doesn't allow duplicates. They store only one instance\n",
    "\n",
    "s = {1, 2, 3, 4, 5}\n",
    "\n",
    "print(s)"
   ]
  },
  {
   "cell_type": "code",
   "execution_count": 87,
   "id": "55137b3a",
   "metadata": {},
   "outputs": [
    {
     "name": "stdout",
     "output_type": "stream",
     "text": [
      "{1, 2, 3, 4, 5}\n"
     ]
    }
   ],
   "source": [
    "# We can make set from a list\n",
    "\n",
    "s = set([1,2,3,4,5])\n",
    "print(s)"
   ]
  },
  {
   "cell_type": "code",
   "execution_count": 88,
   "id": "bf6b8fe1",
   "metadata": {},
   "outputs": [
    {
     "name": "stdout",
     "output_type": "stream",
     "text": [
      "<class 'set'>\n"
     ]
    }
   ],
   "source": [
    "#Initialize a set with set() method\n",
    "\n",
    "s = set()\n",
    "\n",
    "print(type(s))"
   ]
  },
  {
   "cell_type": "markdown",
   "id": "bbe53ee3",
   "metadata": {},
   "source": [
    "# Add Element to a Set\n"
   ]
  },
  {
   "cell_type": "code",
   "execution_count": 90,
   "id": "5caf4f6a",
   "metadata": {},
   "outputs": [
    {
     "name": "stdout",
     "output_type": "stream",
     "text": [
      "{1, 3, 5}\n"
     ]
    }
   ],
   "source": [
    "#we can add single element using add() method and\n",
    "#multiple elements using update() method\n",
    "\n",
    "s = {1,3}\n",
    "\n",
    "s.add(5)\n",
    "\n",
    "print(s)"
   ]
  },
  {
   "cell_type": "code",
   "execution_count": 92,
   "id": "0c7eec55",
   "metadata": {},
   "outputs": [
    {
     "ename": "TypeError",
     "evalue": "'set' object is not subscriptable",
     "output_type": "error",
     "traceback": [
      "\u001b[1;31m---------------------------------------------------------------------------\u001b[0m",
      "\u001b[1;31mTypeError\u001b[0m                                 Traceback (most recent call last)",
      "\u001b[1;32m~\\AppData\\Local\\Temp/ipykernel_16512/856872979.py\u001b[0m in \u001b[0;36m<module>\u001b[1;34m\u001b[0m\n\u001b[0;32m      2\u001b[0m \u001b[1;33m\u001b[0m\u001b[0m\n\u001b[0;32m      3\u001b[0m \u001b[0ms\u001b[0m \u001b[1;33m=\u001b[0m \u001b[1;33m{\u001b[0m\u001b[1;36m1\u001b[0m\u001b[1;33m,\u001b[0m\u001b[1;36m3\u001b[0m\u001b[1;33m,\u001b[0m\u001b[1;36m5\u001b[0m\u001b[1;33m}\u001b[0m\u001b[1;33m\u001b[0m\u001b[1;33m\u001b[0m\u001b[0m\n\u001b[1;32m----> 4\u001b[1;33m \u001b[0mprint\u001b[0m\u001b[1;33m(\u001b[0m\u001b[0ms\u001b[0m\u001b[1;33m[\u001b[0m\u001b[1;36m1\u001b[0m\u001b[1;33m]\u001b[0m\u001b[1;33m)\u001b[0m\u001b[1;33m\u001b[0m\u001b[1;33m\u001b[0m\u001b[0m\n\u001b[0m",
      "\u001b[1;31mTypeError\u001b[0m: 'set' object is not subscriptable"
     ]
    }
   ],
   "source": [
    "#Set object doesn't support indexing\n",
    "\n",
    "s = {1,3,5}\n",
    "print(s[1])"
   ]
  },
  {
   "cell_type": "code",
   "execution_count": 95,
   "id": "cd368a5c",
   "metadata": {},
   "outputs": [
    {
     "name": "stdout",
     "output_type": "stream",
     "text": [
      "{1, 2, 3, 4, 5, 7}\n"
     ]
    }
   ],
   "source": [
    "# Add Multiple Elements\n",
    "\n",
    "s = {1,3,5}\n",
    "s.update([2,4,7])\n",
    "\n",
    "print(s)"
   ]
  },
  {
   "cell_type": "code",
   "execution_count": 97,
   "id": "b023337a",
   "metadata": {},
   "outputs": [
    {
     "name": "stdout",
     "output_type": "stream",
     "text": [
      "{1, 2, 4, 6, 10, 11, 12}\n"
     ]
    }
   ],
   "source": [
    "#Add List and set\n",
    "\n",
    "s = {1,2}\n",
    "s.update([11,12],{10,4,6})\n",
    "print(s)"
   ]
  },
  {
   "cell_type": "markdown",
   "id": "c4e9f1aa",
   "metadata": {},
   "source": [
    "# Remove elements from a Set"
   ]
  },
  {
   "cell_type": "code",
   "execution_count": 100,
   "id": "afb00943",
   "metadata": {},
   "outputs": [
    {
     "name": "stdout",
     "output_type": "stream",
     "text": [
      "{1, 2, 3, 4, 5}\n",
      "{1, 2, 3, 5}\n"
     ]
    }
   ],
   "source": [
    "#A particular item can be removed from set from using methods\n",
    "# discard() and remove()\n",
    "\n",
    "s = {1, 2, 3, 4, 5}\n",
    "print(s)\n",
    "\n",
    "s.discard(4) #4 is removed from set s\n",
    "print(s)"
   ]
  },
  {
   "cell_type": "code",
   "execution_count": 103,
   "id": "1495b5c4",
   "metadata": {},
   "outputs": [
    {
     "name": "stdout",
     "output_type": "stream",
     "text": [
      "{1, 2, 3, 4, 5}\n",
      "{1, 3, 4, 5}\n"
     ]
    }
   ],
   "source": [
    "#remove an element\n",
    "\n",
    "s = {1,2,3,4,5}\n",
    "print(s)\n",
    "\n",
    "s.remove(2)\n",
    "print(s)"
   ]
  },
  {
   "cell_type": "code",
   "execution_count": 104,
   "id": "ac302f86",
   "metadata": {},
   "outputs": [
    {
     "ename": "KeyError",
     "evalue": "7",
     "output_type": "error",
     "traceback": [
      "\u001b[1;31m---------------------------------------------------------------------------\u001b[0m",
      "\u001b[1;31mKeyError\u001b[0m                                  Traceback (most recent call last)",
      "\u001b[1;32m~\\AppData\\Local\\Temp/ipykernel_16512/587602305.py\u001b[0m in \u001b[0;36m<module>\u001b[1;34m\u001b[0m\n\u001b[0;32m      3\u001b[0m \u001b[1;33m\u001b[0m\u001b[0m\n\u001b[0;32m      4\u001b[0m \u001b[0ms\u001b[0m \u001b[1;33m=\u001b[0m \u001b[1;33m{\u001b[0m\u001b[1;36m1\u001b[0m\u001b[1;33m,\u001b[0m\u001b[1;36m2\u001b[0m\u001b[1;33m,\u001b[0m\u001b[1;36m3\u001b[0m\u001b[1;33m,\u001b[0m\u001b[1;36m4\u001b[0m\u001b[1;33m,\u001b[0m\u001b[1;36m5\u001b[0m\u001b[1;33m}\u001b[0m\u001b[1;33m\u001b[0m\u001b[1;33m\u001b[0m\u001b[0m\n\u001b[1;32m----> 5\u001b[1;33m \u001b[0ms\u001b[0m\u001b[1;33m.\u001b[0m\u001b[0mremove\u001b[0m\u001b[1;33m(\u001b[0m\u001b[1;36m7\u001b[0m\u001b[1;33m)\u001b[0m\u001b[1;33m\u001b[0m\u001b[1;33m\u001b[0m\u001b[0m\n\u001b[0m",
      "\u001b[1;31mKeyError\u001b[0m: 7"
     ]
    }
   ],
   "source": [
    "#If you rermove an element not present in the set Will throw a KEYERROR\n",
    "#Whereas discarding the element will not throw an error\n",
    "\n",
    "s = {1,2,3,4,5}\n",
    "s.remove(7)"
   ]
  },
  {
   "cell_type": "code",
   "execution_count": 105,
   "id": "b323112a",
   "metadata": {},
   "outputs": [
    {
     "name": "stdout",
     "output_type": "stream",
     "text": [
      "{1, 2, 3, 4, 5}\n"
     ]
    }
   ],
   "source": [
    "s = {1,2,3,4,5}\n",
    "s.discard(7)\n",
    "print(s)"
   ]
  },
  {
   "cell_type": "code",
   "execution_count": 106,
   "id": "03662513",
   "metadata": {},
   "outputs": [
    {
     "name": "stdout",
     "output_type": "stream",
     "text": [
      "{2, 3, 4, 5}\n"
     ]
    }
   ],
   "source": [
    "# We can remove an element using a pop() method\n",
    "\n",
    "#pop() will remove an random element\n",
    "\n",
    "s = {1,2,3,4,5}\n",
    "s.pop()\n",
    "\n",
    "print(s)"
   ]
  },
  {
   "cell_type": "code",
   "execution_count": 108,
   "id": "9f26ed73",
   "metadata": {},
   "outputs": [
    {
     "name": "stdout",
     "output_type": "stream",
     "text": [
      "set()\n"
     ]
    }
   ],
   "source": [
    "#remove all element in a set using clear method\n",
    "\n",
    "s = {1,2,3,4,5}\n",
    "\n",
    "s.clear()\n",
    "print(s)"
   ]
  },
  {
   "cell_type": "markdown",
   "id": "f4af59f3",
   "metadata": {},
   "source": [
    "# Python Set Operations"
   ]
  },
  {
   "cell_type": "code",
   "execution_count": 110,
   "id": "8a304dfc",
   "metadata": {},
   "outputs": [
    {
     "name": "stdout",
     "output_type": "stream",
     "text": [
      "{1, 2, 3, 4, 5, 6, 7, 10}\n"
     ]
    }
   ],
   "source": [
    "set1 = {1, 2, 3, 4, 5}\n",
    "set2 = {6, 7, 5, 3, 10}\n",
    " \n",
    "#union of 2 sets using | operator\n",
    "\n",
    "print(set1 | set2)"
   ]
  },
  {
   "cell_type": "code",
   "execution_count": 111,
   "id": "117f0468",
   "metadata": {},
   "outputs": [
    {
     "name": "stdout",
     "output_type": "stream",
     "text": [
      "{1, 2, 3, 4, 5, 6, 7, 10}\n"
     ]
    }
   ],
   "source": [
    "#another way of getting union of 2 sets\n",
    "\n",
    "print(set1.union(set2))"
   ]
  },
  {
   "cell_type": "code",
   "execution_count": 112,
   "id": "ecf07b5f",
   "metadata": {},
   "outputs": [
    {
     "name": "stdout",
     "output_type": "stream",
     "text": [
      "{3, 5, 6, 7, 10}\n"
     ]
    }
   ],
   "source": [
    "#use intersection function\n",
    "\n",
    "print(set.intersection(set2))"
   ]
  },
  {
   "cell_type": "code",
   "execution_count": 114,
   "id": "c2e91a12",
   "metadata": {},
   "outputs": [
    {
     "name": "stdout",
     "output_type": "stream",
     "text": [
      "{1, 2, 4}\n"
     ]
    }
   ],
   "source": [
    "#set difference : set of elements that are only in set1 but not in set2\n",
    "\n",
    "print(set1 - set2)"
   ]
  },
  {
   "cell_type": "code",
   "execution_count": 115,
   "id": "a9334bd0",
   "metadata": {},
   "outputs": [
    {
     "name": "stdout",
     "output_type": "stream",
     "text": [
      "{3, 5, 6, 7, 10}\n"
     ]
    }
   ],
   "source": [
    "#use difference function\n",
    "\n",
    "print(set.difference(set2))"
   ]
  },
  {
   "cell_type": "markdown",
   "id": "c4a47a37",
   "metadata": {},
   "source": [
    "- Symmetric difference: set of elements in both set1 and set2, except those that are common in both\n",
    "\n",
    "- use ^ operator"
   ]
  },
  {
   "cell_type": "code",
   "execution_count": 117,
   "id": "55b58659",
   "metadata": {},
   "outputs": [
    {
     "name": "stdout",
     "output_type": "stream",
     "text": [
      "{1, 2, 4, 6, 7, 10}\n"
     ]
    }
   ],
   "source": [
    "#Symmetric Difference\n",
    "\n",
    "#use ^ operator\n",
    "\n",
    "print(set1^set2)"
   ]
  },
  {
   "cell_type": "code",
   "execution_count": 118,
   "id": "533d4d84",
   "metadata": {},
   "outputs": [
    {
     "name": "stdout",
     "output_type": "stream",
     "text": [
      "{1, 2, 4, 6, 7, 10}\n"
     ]
    }
   ],
   "source": [
    "#use symmetric difference function\n",
    "print(set1.symmetric_difference(set2))"
   ]
  },
  {
   "cell_type": "code",
   "execution_count": 119,
   "id": "85790b15",
   "metadata": {},
   "outputs": [
    {
     "name": "stdout",
     "output_type": "stream",
     "text": [
      "Set 'x' is subset of 'y' ? False\n",
      "Set 'y' is a subset of 'x'? True\n"
     ]
    }
   ],
   "source": [
    "#Find issubset()\n",
    "\n",
    "x = {\"a\",\"b\",\"c\",\"d\",\"e\",\"f\"}\n",
    "y = {\"c\",\"d\"}\n",
    "\n",
    "#check x is a subset of y\n",
    "print(\"Set 'x' is subset of 'y' ?\", x.issubset(y))\n",
    "\n",
    "#check y is a subset of x\n",
    "print(\"Set 'y' is a subset of 'x'?\",y.issubset(x))"
   ]
  },
  {
   "cell_type": "markdown",
   "id": "17721248",
   "metadata": {},
   "source": [
    "# Frozen Sets\n",
    "\n",
    "- Frozen sets has the characteristics of sets, but they can't be changed once it's assigned. While tuple are immutable lists, frozen sets are immutable sets\n",
    "\n",
    "- Frozensets can be created using the function frozenset()\n",
    "\n",
    "- Sets being mutable are unhashable, so they can't be used as dictionary keys. On the other hand, frozensets are hashable and can be used as keys to a dictionary.\n",
    "\n",
    "- This datatype supports methods like copy(), difference(), intersection(), isdisjoint(), issubset(), issuperset(), symmetric_difference() and union(). Being immutable it does not have method that add or remove elements."
   ]
  },
  {
   "cell_type": "code",
   "execution_count": 120,
   "id": "bb4fa233",
   "metadata": {},
   "outputs": [
    {
     "ename": "AttributeError",
     "evalue": "'frozenset' object has no attribute 'add'",
     "output_type": "error",
     "traceback": [
      "\u001b[1;31m---------------------------------------------------------------------------\u001b[0m",
      "\u001b[1;31mAttributeError\u001b[0m                            Traceback (most recent call last)",
      "\u001b[1;32m~\\AppData\\Local\\Temp/ipykernel_16512/4093240989.py\u001b[0m in \u001b[0;36m<module>\u001b[1;34m\u001b[0m\n\u001b[0;32m      3\u001b[0m \u001b[1;33m\u001b[0m\u001b[0m\n\u001b[0;32m      4\u001b[0m \u001b[1;31m#try to add element into set1 gives an error\u001b[0m\u001b[1;33m\u001b[0m\u001b[1;33m\u001b[0m\u001b[0m\n\u001b[1;32m----> 5\u001b[1;33m \u001b[0mset1\u001b[0m\u001b[1;33m.\u001b[0m\u001b[0madd\u001b[0m\u001b[1;33m(\u001b[0m\u001b[1;36m5\u001b[0m\u001b[1;33m)\u001b[0m\u001b[1;33m\u001b[0m\u001b[1;33m\u001b[0m\u001b[0m\n\u001b[0m",
      "\u001b[1;31mAttributeError\u001b[0m: 'frozenset' object has no attribute 'add'"
     ]
    }
   ],
   "source": [
    "set1 = frozenset([1, 2, 3, 4])\n",
    "set2 = frozenset([3, 4, 5, 6])\n",
    "\n",
    "#try to add element into set1 gives an error\n",
    "set1.add(5)"
   ]
  },
  {
   "cell_type": "code",
   "execution_count": 121,
   "id": "6c4f6f81",
   "metadata": {},
   "outputs": [
    {
     "ename": "TypeError",
     "evalue": "'frozenset' object is not subscriptable",
     "output_type": "error",
     "traceback": [
      "\u001b[1;31m---------------------------------------------------------------------------\u001b[0m",
      "\u001b[1;31mTypeError\u001b[0m                                 Traceback (most recent call last)",
      "\u001b[1;32m~\\AppData\\Local\\Temp/ipykernel_16512/1128468866.py\u001b[0m in \u001b[0;36m<module>\u001b[1;34m\u001b[0m\n\u001b[0;32m      1\u001b[0m \u001b[1;31m#frozenset doesn't support indexing\u001b[0m\u001b[1;33m\u001b[0m\u001b[1;33m\u001b[0m\u001b[0m\n\u001b[0;32m      2\u001b[0m \u001b[1;33m\u001b[0m\u001b[0m\n\u001b[1;32m----> 3\u001b[1;33m \u001b[0mprint\u001b[0m\u001b[1;33m(\u001b[0m\u001b[0mset1\u001b[0m\u001b[1;33m[\u001b[0m\u001b[1;36m1\u001b[0m\u001b[1;33m]\u001b[0m\u001b[1;33m)\u001b[0m\u001b[1;33m\u001b[0m\u001b[1;33m\u001b[0m\u001b[0m\n\u001b[0m",
      "\u001b[1;31mTypeError\u001b[0m: 'frozenset' object is not subscriptable"
     ]
    }
   ],
   "source": [
    "#frozenset doesn't support indexing\n",
    "\n",
    "print(set1[1])"
   ]
  },
  {
   "cell_type": "code",
   "execution_count": 122,
   "id": "8213a7ad",
   "metadata": {},
   "outputs": [
    {
     "name": "stdout",
     "output_type": "stream",
     "text": [
      "frozenset({1, 2, 3, 4, 5, 6})\n",
      "frozenset({3, 4})\n",
      "frozenset({3, 4})\n"
     ]
    }
   ],
   "source": [
    "#union of two sets\n",
    "print(set1 | set2)\n",
    "\n",
    "#Intersection of two sets\n",
    "print(set1 & set2)\n",
    "\n",
    "#or\n",
    "print(set1.intersection(set2))"
   ]
  },
  {
   "cell_type": "code",
   "execution_count": 124,
   "id": "17c868ef",
   "metadata": {},
   "outputs": [
    {
     "name": "stdout",
     "output_type": "stream",
     "text": [
      "frozenset({1, 2, 5, 6})\n",
      "frozenset({1, 2, 5, 6})\n"
     ]
    }
   ],
   "source": [
    "#symmetric difference\n",
    "\n",
    "print(set1 ^ set2)\n",
    "\n",
    "#or \n",
    "\n",
    "print(set1.symmetric_difference(set2))"
   ]
  },
  {
   "cell_type": "markdown",
   "id": "c3ef02f1",
   "metadata": {},
   "source": [
    "# Dictionary\n",
    "\n",
    "- Python Dictionary is an unordered collection of items. While other compound data types have value as an element, a dictionary has a __key:value__ pair"
   ]
  },
  {
   "cell_type": "code",
   "execution_count": 1,
   "id": "ff0fffa0",
   "metadata": {},
   "outputs": [
    {
     "name": "stdout",
     "output_type": "stream",
     "text": [
      "{1: 'a', 2: 'b', 3: 'c', 4: 'd'}\n"
     ]
    }
   ],
   "source": [
    "#dictionary with integer keys\n",
    "dict1 = {1:\"a\", 2:\"b\", 3:\"c\", 4:\"d\"}\n",
    "print(dict1)"
   ]
  },
  {
   "cell_type": "code",
   "execution_count": 2,
   "id": "5292136b",
   "metadata": {},
   "outputs": [
    {
     "name": "stdout",
     "output_type": "stream",
     "text": [
      "{1: 'hello', 'name': 'world', 3: ['a', 'b', 'c']}\n"
     ]
    }
   ],
   "source": [
    "#dictionary with mixed keys\n",
    "dict2 = {1:\"hello\",\"name\":\"world\",3:[\"a\",\"b\",\"c\"]}\n",
    "print(dict2)"
   ]
  },
  {
   "cell_type": "code",
   "execution_count": 3,
   "id": "5dc646e7",
   "metadata": {},
   "outputs": [
    {
     "name": "stdout",
     "output_type": "stream",
     "text": [
      "{1: 'abc', 2: 'xyz'}\n"
     ]
    }
   ],
   "source": [
    "my_dict = dict()\n",
    "my_dict = dict([(1, 'abc'),(2,'xyz')])\n",
    "print(my_dict)"
   ]
  },
  {
   "cell_type": "markdown",
   "id": "d0eba10a",
   "metadata": {},
   "source": [
    "# Dictionary Access "
   ]
  },
  {
   "cell_type": "code",
   "execution_count": 1,
   "id": "9a3c295f",
   "metadata": {},
   "outputs": [
    {
     "name": "stdout",
     "output_type": "stream",
     "text": [
      "Dictionary\n"
     ]
    }
   ],
   "source": [
    "my_dict = {\"name\" : \"Dictionary\" , \"age\" : 25 , \"address\" : \"India\"}\n",
    "\n",
    "print(my_dict[\"name\"])"
   ]
  },
  {
   "cell_type": "code",
   "execution_count": 2,
   "id": "991ecdf0",
   "metadata": {},
   "outputs": [
    {
     "ename": "KeyError",
     "evalue": "'degree'",
     "output_type": "error",
     "traceback": [
      "\u001b[1;31m---------------------------------------------------------------------------\u001b[0m",
      "\u001b[1;31mKeyError\u001b[0m                                  Traceback (most recent call last)",
      "\u001b[1;32m~\\AppData\\Local\\Temp/ipykernel_22852/1286880849.py\u001b[0m in \u001b[0;36m<module>\u001b[1;34m\u001b[0m\n\u001b[0;32m      1\u001b[0m \u001b[1;31m#if key is not present, it will throw KEYERROR\u001b[0m\u001b[1;33m\u001b[0m\u001b[1;33m\u001b[0m\u001b[0m\n\u001b[1;32m----> 2\u001b[1;33m \u001b[0mprint\u001b[0m\u001b[1;33m(\u001b[0m\u001b[0mmy_dict\u001b[0m\u001b[1;33m[\u001b[0m\u001b[1;34m\"degree\"\u001b[0m\u001b[1;33m]\u001b[0m\u001b[1;33m)\u001b[0m\u001b[1;33m\u001b[0m\u001b[1;33m\u001b[0m\u001b[0m\n\u001b[0m",
      "\u001b[1;31mKeyError\u001b[0m: 'degree'"
     ]
    }
   ],
   "source": [
    "#if key is not present, it will throw KEYERROR\n",
    "print(my_dict[\"degree\"])"
   ]
  },
  {
   "cell_type": "code",
   "execution_count": 3,
   "id": "73551011",
   "metadata": {},
   "outputs": [
    {
     "name": "stdout",
     "output_type": "stream",
     "text": [
      "India\n"
     ]
    }
   ],
   "source": [
    "#another way of accessing key\n",
    "\n",
    "print(my_dict.get(\"address\"))"
   ]
  },
  {
   "cell_type": "markdown",
   "id": "dd5e6a5a",
   "metadata": {},
   "source": [
    "# Dictionary Add or Modify Elements"
   ]
  },
  {
   "cell_type": "code",
   "execution_count": 4,
   "id": "e03f41e0",
   "metadata": {},
   "outputs": [
    {
     "name": "stdout",
     "output_type": "stream",
     "text": [
      "{'name': 'Python', 'age': 25, 'address': 'India'}\n"
     ]
    }
   ],
   "source": [
    "my_dict = {\"name\" : \"Dictionary\" , \"age\" : 25 , \"address\" : \"India\"}\n",
    "\n",
    "#update name\n",
    "my_dict[\"name\"] = \"Python\"\n",
    "\n",
    "print(my_dict)"
   ]
  },
  {
   "cell_type": "code",
   "execution_count": 6,
   "id": "4408e3b8",
   "metadata": {},
   "outputs": [
    {
     "name": "stdout",
     "output_type": "stream",
     "text": [
      "{'name': 'Python', 'age': 25, 'address': 'India', 'program': 'Hello World !!'}\n"
     ]
    }
   ],
   "source": [
    "#add new key\n",
    "\n",
    "my_dict[\"program\"] = \"Hello World !!\"\n",
    "\n",
    "print(my_dict)"
   ]
  },
  {
   "cell_type": "markdown",
   "id": "c9b17f7d",
   "metadata": {},
   "source": [
    "# Dictionary delete or remove element"
   ]
  },
  {
   "cell_type": "code",
   "execution_count": 9,
   "id": "6f537852",
   "metadata": {},
   "outputs": [
    {
     "name": "stdout",
     "output_type": "stream",
     "text": [
      "{'name': 'Python', 'age': 25, 'address': 'India'}\n"
     ]
    }
   ],
   "source": [
    "my_dict = {'name': 'Python', 'age': 25, 'address': 'India', 'program': 'Hello World !!'}\n",
    "\n",
    "#remove an arbitary key\n",
    "my_dict.popitem()\n",
    "\n",
    "print(my_dict)"
   ]
  },
  {
   "cell_type": "code",
   "execution_count": 13,
   "id": "dd6d35d2",
   "metadata": {},
   "outputs": [
    {
     "name": "stdout",
     "output_type": "stream",
     "text": [
      "{2: 8, 3: 27, 4: 64, 5: 125}\n"
     ]
    }
   ],
   "source": [
    "cubes = {1: 1, 2: 8, 3: 27, 4: 64, 5: 125}\n",
    "\n",
    "del cubes[1]\n",
    "\n",
    "print(cubes)"
   ]
  },
  {
   "cell_type": "code",
   "execution_count": 14,
   "id": "9979ba76",
   "metadata": {},
   "outputs": [
    {
     "name": "stdout",
     "output_type": "stream",
     "text": [
      "{}\n"
     ]
    }
   ],
   "source": [
    "#remove all items\n",
    "\n",
    "cubes.clear()\n",
    "\n",
    "print(cubes)"
   ]
  },
  {
   "cell_type": "code",
   "execution_count": 16,
   "id": "07da34ee",
   "metadata": {},
   "outputs": [
    {
     "ename": "NameError",
     "evalue": "name 'cubes' is not defined",
     "output_type": "error",
     "traceback": [
      "\u001b[1;31m---------------------------------------------------------------------------\u001b[0m",
      "\u001b[1;31mNameError\u001b[0m                                 Traceback (most recent call last)",
      "\u001b[1;32m~\\AppData\\Local\\Temp/ipykernel_22852/1994368188.py\u001b[0m in \u001b[0;36m<module>\u001b[1;34m\u001b[0m\n\u001b[0;32m      3\u001b[0m \u001b[1;32mdel\u001b[0m \u001b[0mcubes\u001b[0m\u001b[1;33m\u001b[0m\u001b[1;33m\u001b[0m\u001b[0m\n\u001b[0;32m      4\u001b[0m \u001b[1;33m\u001b[0m\u001b[0m\n\u001b[1;32m----> 5\u001b[1;33m \u001b[0mprint\u001b[0m\u001b[1;33m(\u001b[0m\u001b[0mcubes\u001b[0m\u001b[1;33m)\u001b[0m\u001b[1;33m\u001b[0m\u001b[1;33m\u001b[0m\u001b[0m\n\u001b[0m",
      "\u001b[1;31mNameError\u001b[0m: name 'cubes' is not defined"
     ]
    }
   ],
   "source": [
    "cubes = {1: 1, 2: 8, 3: 27, 4: 64, 5: 125}\n",
    "\n",
    "del cubes\n",
    "\n",
    "print(cubes)"
   ]
  },
  {
   "cell_type": "markdown",
   "id": "c784b3e9",
   "metadata": {},
   "source": [
    "# Dictionary Methods\n"
   ]
  },
  {
   "cell_type": "code",
   "execution_count": 17,
   "id": "85f24f82",
   "metadata": {},
   "outputs": [
    {
     "name": "stdout",
     "output_type": "stream",
     "text": [
      "{1: 1, 2: 8, 3: 27, 4: 64, 5: 125}\n"
     ]
    }
   ],
   "source": [
    "cubes = {1: 1, 2: 8, 3: 27, 4: 64, 5: 125}\n",
    "\n",
    "my_dict = cubes.copy()\n",
    "\n",
    "print(my_dict)"
   ]
  },
  {
   "cell_type": "code",
   "execution_count": 21,
   "id": "0382bbfb",
   "metadata": {},
   "outputs": [
    {
     "name": "stdout",
     "output_type": "stream",
     "text": [
      "{'maths': 0, 'english': 0, 'science': 0}\n"
     ]
    }
   ],
   "source": [
    "#fromkeys[seq[,v]] -> Return a dictionary with keys from seq and value equal to v (defaults)\n",
    "\n",
    "subjects = {}.fromkeys([\"maths\",\"english\",\"science\"],0)\n",
    "print(subjects)"
   ]
  },
  {
   "cell_type": "code",
   "execution_count": 23,
   "id": "60840cf2",
   "metadata": {},
   "outputs": [
    {
     "name": "stdout",
     "output_type": "stream",
     "text": [
      "dict_items([(2, 4), (3, 9), (4, 16), (5, 25)])\n"
     ]
    }
   ],
   "source": [
    "subjects = {2:4, 3:9, 4:16, 5:25}\n",
    "\n",
    "#returns a new view with key and value\n",
    "print(subjects.items())"
   ]
  },
  {
   "cell_type": "code",
   "execution_count": 26,
   "id": "941395c0",
   "metadata": {},
   "outputs": [
    {
     "name": "stdout",
     "output_type": "stream",
     "text": [
      "dict_keys([2, 3, 4, 5])\n"
     ]
    }
   ],
   "source": [
    "subjects = {2:4, 3:9, 4:16, 5:25}\n",
    "\n",
    "#access key of a dictionary\n",
    "print(subjects.keys())"
   ]
  },
  {
   "cell_type": "code",
   "execution_count": 27,
   "id": "618ff7f3",
   "metadata": {},
   "outputs": [
    {
     "name": "stdout",
     "output_type": "stream",
     "text": [
      "dict_values([4, 9, 16, 25])\n"
     ]
    }
   ],
   "source": [
    "subjects = {2:4, 3:9, 4:16, 5:25}\n",
    "\n",
    "#access values of a dictionary\n",
    "print(subjects.values())"
   ]
  },
  {
   "cell_type": "code",
   "execution_count": 28,
   "id": "5b7b0e17",
   "metadata": {},
   "outputs": [
    {
     "name": "stdout",
     "output_type": "stream",
     "text": [
      "['__class__', '__class_getitem__', '__contains__', '__delattr__', '__delitem__', '__dir__', '__doc__', '__eq__', '__format__', '__ge__', '__getattribute__', '__getitem__', '__gt__', '__hash__', '__init__', '__init_subclass__', '__ior__', '__iter__', '__le__', '__len__', '__lt__', '__ne__', '__new__', '__or__', '__reduce__', '__reduce_ex__', '__repr__', '__reversed__', '__ror__', '__setattr__', '__setitem__', '__sizeof__', '__str__', '__subclasshook__', 'clear', 'copy', 'fromkeys', 'get', 'items', 'keys', 'pop', 'popitem', 'setdefault', 'update', 'values']\n"
     ]
    }
   ],
   "source": [
    "#get list of all available methods and attributes of a dictionary\n",
    "\n",
    "d = {}\n",
    "print(dir(d))"
   ]
  },
  {
   "cell_type": "markdown",
   "id": "b024ecce",
   "metadata": {},
   "source": [
    "# Dictionary Comprehension"
   ]
  },
  {
   "cell_type": "code",
   "execution_count": 30,
   "id": "7727f711",
   "metadata": {},
   "outputs": [
    {
     "name": "stdout",
     "output_type": "stream",
     "text": [
      "('a', 1)\n",
      "('b', 2)\n",
      "('c', 3)\n",
      "('d', 4)\n",
      "('e', 5)\n"
     ]
    }
   ],
   "source": [
    "# Dict comprehension are just like list comprehension but for dictionaries\n",
    "\n",
    "d = {\"a\" : 1, \"b\" : 2, \"c\" : 3 , \"d\" : 4, \"e\" : 5}\n",
    "\n",
    "for pair in d.items():\n",
    "    print(pair)"
   ]
  },
  {
   "cell_type": "code",
   "execution_count": 36,
   "id": "3e20e45d",
   "metadata": {},
   "outputs": [
    {
     "name": "stdout",
     "output_type": "stream",
     "text": [
      "{'c': 3, 'd': 4, 'e': 5}\n"
     ]
    }
   ],
   "source": [
    "#Creating a dictionary with only pairs where the value is larger than 2\n",
    "\n",
    "d = {\"a\" : 1, \"b\" : 2, \"c\" : 3 , \"d\" : 4, \"e\" : 5}\n",
    "\n",
    "my_dict = {k:v for k,v in d.items() if v>2}\n",
    "print(my_dict)"
   ]
  },
  {
   "cell_type": "code",
   "execution_count": 38,
   "id": "d6e8451a",
   "metadata": {},
   "outputs": [
    {
     "name": "stdout",
     "output_type": "stream",
     "text": [
      "{'cc': 6, 'dc': 8, 'ec': 10}\n"
     ]
    }
   ],
   "source": [
    "#We can also perform operations on the keyvalue pairs\n",
    "\n",
    "d = {\"a\" : 1, \"b\" : 2, \"c\" : 3 , \"d\" : 4, \"e\" : 5}\n",
    "\n",
    "d = {k + 'c':v * 2 for k,v in d.items() if v >2 }\n",
    "\n",
    "print(d)"
   ]
  },
  {
   "cell_type": "markdown",
   "id": "33f8b8f5",
   "metadata": {},
   "source": [
    "# Strings\n",
    "\n",
    "A string is a sequence of characters.\n",
    "\n",
    "Computers do not deal with characters, they deal with numbers (binary). Even though you may see characters on your screen, internally it is stored and manipulated as a combination of 0's and 1's.\n",
    "\n",
    "This conversion of character to a number is called encoding, and the reverse process is decoding. ASCII and Unicode are some of the popular encoding used.\n",
    "\n",
    "In Python, string is a sequence of Unicode character."
   ]
  },
  {
   "cell_type": "markdown",
   "id": "60f57c15",
   "metadata": {},
   "source": [
    "- Strings can be created by enclosing characters inside a single quote or double quotes.\n",
    "\n",
    "- Even triple quotes can be used in Python but generally used to represent multiline strings and docstrings."
   ]
  },
  {
   "cell_type": "code",
   "execution_count": 40,
   "id": "2699ff45",
   "metadata": {},
   "outputs": [
    {
     "name": "stdout",
     "output_type": "stream",
     "text": [
      "Hello\n",
      "Hello\n",
      "Hello\n"
     ]
    }
   ],
   "source": [
    "my_string1 = \"Hello\"\n",
    "print(my_string1)\n",
    "\n",
    "my_string2 = 'Hello'\n",
    "print(my_string2)\n",
    "\n",
    "my_string3 = '''Hello'''\n",
    "print(my_string3)"
   ]
  },
  {
   "cell_type": "markdown",
   "id": "6a9813c0",
   "metadata": {},
   "source": [
    "# Accessing a String\n",
    "\n",
    "- We can access individual characters using indexing and a range of characters using slicing.\n",
    "\n",
    "- Index starts from 0.\n",
    "\n",
    "- Trying to access a character out of index range will raise an IndexError.\n",
    "\n",
    "- The index must be an integer. We can't use float or other types, this will result into TypeError.\n",
    "\n",
    "- Python allows negative indexing for its sequences."
   ]
  },
  {
   "cell_type": "code",
   "execution_count": 43,
   "id": "457c0ce8",
   "metadata": {},
   "outputs": [
    {
     "name": "stdout",
     "output_type": "stream",
     "text": [
      "l\n",
      "d\n",
      "llo W\n"
     ]
    }
   ],
   "source": [
    "my_string = \"Hello World\"\n",
    "\n",
    "#priint 3 charcater\n",
    "print(my_string[2])\n",
    "\n",
    "#print last character\n",
    "print(my_string[-1])\n",
    "\n",
    "#slicicng 2nd to 5th character\n",
    "print(my_string[2:7])"
   ]
  },
  {
   "cell_type": "markdown",
   "id": "8a5d4a66",
   "metadata": {},
   "source": [
    "- If we try to access index out of the range or use decimal number, we will get errors."
   ]
  },
  {
   "cell_type": "code",
   "execution_count": 44,
   "id": "cffba174",
   "metadata": {},
   "outputs": [
    {
     "ename": "IndexError",
     "evalue": "string index out of range",
     "output_type": "error",
     "traceback": [
      "\u001b[1;31m---------------------------------------------------------------------------\u001b[0m",
      "\u001b[1;31mIndexError\u001b[0m                                Traceback (most recent call last)",
      "\u001b[1;32m~\\AppData\\Local\\Temp/ipykernel_22852/3114732302.py\u001b[0m in \u001b[0;36m<module>\u001b[1;34m\u001b[0m\n\u001b[1;32m----> 1\u001b[1;33m \u001b[0mprint\u001b[0m\u001b[1;33m(\u001b[0m\u001b[0mmy_string\u001b[0m\u001b[1;33m[\u001b[0m\u001b[1;36m15\u001b[0m\u001b[1;33m]\u001b[0m\u001b[1;33m)\u001b[0m\u001b[1;33m\u001b[0m\u001b[1;33m\u001b[0m\u001b[0m\n\u001b[0m",
      "\u001b[1;31mIndexError\u001b[0m: string index out of range"
     ]
    }
   ],
   "source": [
    "print(my_string[15])"
   ]
  },
  {
   "cell_type": "markdown",
   "id": "9817ec42",
   "metadata": {},
   "source": [
    "# Change or Delete a String\n",
    "\n",
    "- Strings are immutable. This means that elements of a string cannot be changed once it has been assigned.\n",
    "\n",
    "- We can simply reassign different strings to the same name."
   ]
  },
  {
   "cell_type": "code",
   "execution_count": 46,
   "id": "b204bfb8",
   "metadata": {},
   "outputs": [
    {
     "ename": "TypeError",
     "evalue": "'str' object does not support item assignment",
     "output_type": "error",
     "traceback": [
      "\u001b[1;31m---------------------------------------------------------------------------\u001b[0m",
      "\u001b[1;31mTypeError\u001b[0m                                 Traceback (most recent call last)",
      "\u001b[1;32m~\\AppData\\Local\\Temp/ipykernel_22852/3207809065.py\u001b[0m in \u001b[0;36m<module>\u001b[1;34m\u001b[0m\n\u001b[0;32m      1\u001b[0m \u001b[0mmy_string\u001b[0m \u001b[1;33m=\u001b[0m \u001b[1;34m\"Hello World\"\u001b[0m\u001b[1;33m\u001b[0m\u001b[1;33m\u001b[0m\u001b[0m\n\u001b[0;32m      2\u001b[0m \u001b[1;33m\u001b[0m\u001b[0m\n\u001b[1;32m----> 3\u001b[1;33m \u001b[0mmy_string\u001b[0m\u001b[1;33m[\u001b[0m\u001b[1;36m3\u001b[0m\u001b[1;33m]\u001b[0m \u001b[1;33m=\u001b[0m \u001b[1;34m'T'\u001b[0m\u001b[1;33m\u001b[0m\u001b[1;33m\u001b[0m\u001b[0m\n\u001b[0m",
      "\u001b[1;31mTypeError\u001b[0m: 'str' object does not support item assignment"
     ]
    }
   ],
   "source": [
    "my_string = \"Hello World\"\n",
    "\n",
    "my_string[3] = 'T'"
   ]
  },
  {
   "cell_type": "code",
   "execution_count": 49,
   "id": "ffc4cf9b",
   "metadata": {},
   "outputs": [
    {
     "ename": "NameError",
     "evalue": "name 'my_string' is not defined",
     "output_type": "error",
     "traceback": [
      "\u001b[1;31m---------------------------------------------------------------------------\u001b[0m",
      "\u001b[1;31mNameError\u001b[0m                                 Traceback (most recent call last)",
      "\u001b[1;32m~\\AppData\\Local\\Temp/ipykernel_22852/1750614506.py\u001b[0m in \u001b[0;36m<module>\u001b[1;34m\u001b[0m\n\u001b[1;32m----> 1\u001b[1;33m \u001b[1;32mdel\u001b[0m \u001b[0mmy_string\u001b[0m\u001b[1;33m\u001b[0m\u001b[1;33m\u001b[0m\u001b[0m\n\u001b[0m\u001b[0;32m      2\u001b[0m \u001b[1;33m\u001b[0m\u001b[0m\n\u001b[0;32m      3\u001b[0m \u001b[0mprint\u001b[0m\u001b[1;33m(\u001b[0m\u001b[0mmy_string\u001b[0m\u001b[1;33m)\u001b[0m\u001b[1;33m\u001b[0m\u001b[1;33m\u001b[0m\u001b[0m\n",
      "\u001b[1;31mNameError\u001b[0m: name 'my_string' is not defined"
     ]
    }
   ],
   "source": [
    "del my_string\n",
    "\n",
    "print(my_string)"
   ]
  },
  {
   "cell_type": "markdown",
   "id": "32937572",
   "metadata": {},
   "source": [
    "# String Concatenation\n",
    "\n",
    "- Joining of two or more strings into a single one is called concatenation.\n",
    "\n",
    "- The + operator does this in Python. Simply writing two string literals together also concatenates them.\n",
    "\n",
    "- The * operator can be used to repeat the string for a given number of times."
   ]
  },
  {
   "cell_type": "code",
   "execution_count": 51,
   "id": "6493b4ae",
   "metadata": {},
   "outputs": [
    {
     "name": "stdout",
     "output_type": "stream",
     "text": [
      "Hello World\n",
      "Hello Hello \n"
     ]
    }
   ],
   "source": [
    "s1 = \"Hello \"\n",
    "s2 = \"World\"\n",
    "\n",
    "#concatenation of 2 strings\n",
    "s = s1 + s2\n",
    "print(s)\n",
    "\n",
    "#repeat string n times\n",
    "print(s1 * 2)"
   ]
  },
  {
   "cell_type": "markdown",
   "id": "92539b57",
   "metadata": {},
   "source": [
    "# Iterating through String"
   ]
  },
  {
   "cell_type": "code",
   "execution_count": 53,
   "id": "1eab21d7",
   "metadata": {},
   "outputs": [
    {
     "name": "stdout",
     "output_type": "stream",
     "text": [
      "3  letters found\n"
     ]
    }
   ],
   "source": [
    "count = 0\n",
    "for char in \"hello world\":\n",
    "    if char == 'l':\n",
    "        count += 1\n",
    "    \n",
    "print(count,\" letters found\")"
   ]
  },
  {
   "cell_type": "markdown",
   "id": "1e93d135",
   "metadata": {},
   "source": [
    "# String Membership Test"
   ]
  },
  {
   "cell_type": "code",
   "execution_count": 54,
   "id": "2da27459",
   "metadata": {},
   "outputs": [
    {
     "name": "stdout",
     "output_type": "stream",
     "text": [
      "True\n"
     ]
    }
   ],
   "source": [
    "print('l' in \"Hello world\")"
   ]
  },
  {
   "cell_type": "code",
   "execution_count": 56,
   "id": "5b09dd32",
   "metadata": {},
   "outputs": [
    {
     "name": "stdout",
     "output_type": "stream",
     "text": [
      "True\n"
     ]
    }
   ],
   "source": [
    "print('or' in \"Hello World\")"
   ]
  },
  {
   "cell_type": "markdown",
   "id": "0487b423",
   "metadata": {},
   "source": [
    "# String Methods"
   ]
  },
  {
   "cell_type": "markdown",
   "id": "e3cbc8f1",
   "metadata": {},
   "source": [
    "- some of the commonly used methods are lower(), upper(), join(), split(), find(), replace(), etc"
   ]
  },
  {
   "cell_type": "code",
   "execution_count": 58,
   "id": "bfe030d2",
   "metadata": {},
   "outputs": [
    {
     "name": "stdout",
     "output_type": "stream",
     "text": [
      "hello world\n",
      "HELLO WORLD\n"
     ]
    }
   ],
   "source": [
    "str1 = \"Hello World\"\n",
    "\n",
    "print(str1.lower())\n",
    "\n",
    "print(str1.upper())"
   ]
  },
  {
   "cell_type": "code",
   "execution_count": 59,
   "id": "45ea5042",
   "metadata": {},
   "outputs": [
    {
     "data": {
      "text/plain": [
       "['Hello', 'world,', \"Let's\", 'learn', 'python', 'together.']"
      ]
     },
     "execution_count": 59,
     "metadata": {},
     "output_type": "execute_result"
    }
   ],
   "source": [
    "\"Hello world, Let's learn python together.\".split()"
   ]
  },
  {
   "cell_type": "code",
   "execution_count": 60,
   "id": "4716a07b",
   "metadata": {},
   "outputs": [
    {
     "data": {
      "text/plain": [
       "\"Hello world Let's learn python together\""
      ]
     },
     "execution_count": 60,
     "metadata": {},
     "output_type": "execute_result"
    }
   ],
   "source": [
    "' '.join([\"Hello\", \"world\", \"Let's\", \"learn\", \"python\", \"together\"])"
   ]
  },
  {
   "cell_type": "code",
   "execution_count": 61,
   "id": "180ad4e7",
   "metadata": {},
   "outputs": [
    {
     "data": {
      "text/plain": [
       "6"
      ]
     },
     "execution_count": 61,
     "metadata": {},
     "output_type": "execute_result"
    }
   ],
   "source": [
    "\"Hello World\".find(\"Wo\")"
   ]
  },
  {
   "cell_type": "code",
   "execution_count": 64,
   "id": "5a6c67c0",
   "metadata": {},
   "outputs": [
    {
     "name": "stdout",
     "output_type": "stream",
     "text": [
      "Bad Morning\n",
      "Good Morning\n"
     ]
    }
   ],
   "source": [
    "s1 = \"Bad Morning\"\n",
    "print(s1)\n",
    "\n",
    "s2 = s1.replace(\"Bad\",\"Good\")\n",
    "print(s2)"
   ]
  },
  {
   "cell_type": "markdown",
   "id": "012f3040",
   "metadata": {},
   "source": [
    "# Python program to check where a string is Palindrome or not"
   ]
  },
  {
   "cell_type": "code",
   "execution_count": 67,
   "id": "cf494a5a",
   "metadata": {},
   "outputs": [
    {
     "name": "stdout",
     "output_type": "stream",
     "text": [
      "Given String is Palindrome\n"
     ]
    }
   ],
   "source": [
    "str1 = \"Madam\"\n",
    "\n",
    "#convert entire string to either lower or upper\n",
    "\n",
    "str1 = str1.lower()\n",
    "\n",
    "rev_str1 = reversed(str1)\n",
    "\n",
    "if list(rev_str1) == list(str1):\n",
    "    print(\"Given String is Palindrome\")\n",
    "else:\n",
    "    print('Given String is not a Palindrome')"
   ]
  },
  {
   "cell_type": "markdown",
   "id": "07c579fd",
   "metadata": {},
   "source": [
    "# Python Program to Sort Words in Alphabetic Order"
   ]
  },
  {
   "cell_type": "code",
   "execution_count": 69,
   "id": "37461ede",
   "metadata": {},
   "outputs": [
    {
     "name": "stdout",
     "output_type": "stream",
     "text": [
      "alphabetical\n",
      "in\n",
      "order\n",
      "program\n",
      "python\n",
      "sort\n",
      "to\n",
      "words\n"
     ]
    }
   ],
   "source": [
    "str1 = \"python program to sort words in alphabetical order\"\n",
    "\n",
    "words = str1.split()\n",
    "\n",
    "words.sort()\n",
    "\n",
    "for word in words:\n",
    "    print(word)"
   ]
  },
  {
   "cell_type": "markdown",
   "id": "f4980135",
   "metadata": {},
   "source": [
    "# Python Functions\n",
    "\n",
    "- Function is a group of related statements that perform a specific task.\n",
    "\n",
    "- Functions help break our program into smaller and modular chunks. As our program grows larger and larger, functions make it more organized and manageable.\n",
    "\n",
    "- It avoids repetition and makes code reusable.\n",
    "\n",
    "1. keyword \"def\" marks the start of function header\n",
    "\n",
    "2. Parameters (arguments) through which we pass values to a function. These are optional\n",
    "\n",
    "3. A colon(:) to mark the end of funciton header\n",
    "\n",
    "4. Doc string describe what the function does. This is optional\n",
    "\n",
    "5. \"return\" statement to return a value from the function. This is optional"
   ]
  },
  {
   "cell_type": "markdown",
   "id": "a40f9ee6",
   "metadata": {},
   "source": [
    "# Example"
   ]
  },
  {
   "cell_type": "code",
   "execution_count": 2,
   "id": "9d392e44",
   "metadata": {},
   "outputs": [],
   "source": [
    "def print_name(name):\n",
    "    \"\"\"This functions prints the name\n",
    "    \"\"\"\n",
    "    print(\"Hello \" + str(name))\n",
    "    "
   ]
  },
  {
   "cell_type": "markdown",
   "id": "20704c14",
   "metadata": {},
   "source": [
    "# Function Call\n",
    "- Once we have defined the function, we can call it from anywhere."
   ]
  },
  {
   "cell_type": "code",
   "execution_count": 3,
   "id": "285f1526",
   "metadata": {},
   "outputs": [
    {
     "name": "stdout",
     "output_type": "stream",
     "text": [
      "Hello Python Learner\n"
     ]
    }
   ],
   "source": [
    "print_name(\"Python Learner\")"
   ]
  },
  {
   "cell_type": "markdown",
   "id": "036f4ea4",
   "metadata": {},
   "source": [
    "# Doc String\n",
    "The first string after the function header is called the docstring and is short for documentation string.\n",
    "\n",
    "Although optional, documentation is a good programming practice, always document your code\n",
    "\n",
    "Doc string will be written in triple quotes so that docstring can extend up to multiple lines\n"
   ]
  },
  {
   "cell_type": "code",
   "execution_count": 4,
   "id": "22616824",
   "metadata": {},
   "outputs": [
    {
     "name": "stdout",
     "output_type": "stream",
     "text": [
      "This functions prints the name\n",
      "    \n"
     ]
    }
   ],
   "source": [
    "print(print_name.__doc__)"
   ]
  },
  {
   "cell_type": "markdown",
   "id": "5745c48c",
   "metadata": {},
   "source": [
    "# Return Statement \n",
    "The return statement is used to exit a function and go back to the place from where it was called.\n",
    "\n",
    "return statement can contain an expression which gets evaluated and the value is returned.\n",
    "\n",
    "If there is no expression in the statement or the return statement itself is not present inside a function, then the function will return None Object"
   ]
  },
  {
   "cell_type": "code",
   "execution_count": 5,
   "id": "490e4109",
   "metadata": {},
   "outputs": [],
   "source": [
    "def get_sum(lst):\n",
    "    \"\"\"\n",
    "    This function returns the sum of all the elements in a list.\n",
    "    \"\"\"\n",
    "    #initialize sum\n",
    "    sum = 0\n",
    "    \n",
    "    #iterating over the list\n",
    "    for num in lst:\n",
    "        sum += num\n",
    "    return sum"
   ]
  },
  {
   "cell_type": "code",
   "execution_count": 6,
   "id": "d33701a2",
   "metadata": {},
   "outputs": [
    {
     "name": "stdout",
     "output_type": "stream",
     "text": [
      "15\n"
     ]
    }
   ],
   "source": [
    "s = get_sum([1,2,3,4,5])\n",
    "print(s)"
   ]
  },
  {
   "cell_type": "code",
   "execution_count": 7,
   "id": "eedd54c8",
   "metadata": {},
   "outputs": [
    {
     "name": "stdout",
     "output_type": "stream",
     "text": [
      "\n",
      "    This function returns the sum of all the elements in a list.\n",
      "    \n"
     ]
    }
   ],
   "source": [
    "#Print doc String\n",
    "print(get_sum.__doc__)"
   ]
  },
  {
   "cell_type": "markdown",
   "id": "e8e7963f",
   "metadata": {},
   "source": [
    "# Scope and Lifetime of a variable\n",
    "\n",
    "Scope of a variable is the portion of a program where the variable is recognized\n",
    "\n",
    "variables defined inside a function is not visible from outside. Hence, they have a local scope.\n",
    "\n",
    "Lifetime of a variable is the period throughout which the variable exits in the memory.\n",
    "\n",
    "The lifetime of variables inside a function is as long as the function executes.\n",
    "\n",
    "Variables are destroyed once we return from the function."
   ]
  },
  {
   "cell_type": "code",
   "execution_count": 9,
   "id": "7d5abed9",
   "metadata": {},
   "outputs": [
    {
     "name": "stdout",
     "output_type": "stream",
     "text": [
      "This is local variable\n",
      "this is a global variable\n",
      "this is a global variable\n"
     ]
    },
    {
     "ename": "NameError",
     "evalue": "name 'local_var' is not defined",
     "output_type": "error",
     "traceback": [
      "\u001b[1;31m---------------------------------------------------------------------------\u001b[0m",
      "\u001b[1;31mNameError\u001b[0m                                 Traceback (most recent call last)",
      "\u001b[1;32m~\\AppData\\Local\\Temp/ipykernel_9196/1777404015.py\u001b[0m in \u001b[0;36m<module>\u001b[1;34m\u001b[0m\n\u001b[0;32m     18\u001b[0m \u001b[1;33m\u001b[0m\u001b[0m\n\u001b[0;32m     19\u001b[0m \u001b[1;31m#print local variable local_var\u001b[0m\u001b[1;33m\u001b[0m\u001b[1;33m\u001b[0m\u001b[0m\n\u001b[1;32m---> 20\u001b[1;33m \u001b[0mprint\u001b[0m\u001b[1;33m(\u001b[0m\u001b[0mlocal_var\u001b[0m\u001b[1;33m)\u001b[0m\u001b[1;33m\u001b[0m\u001b[1;33m\u001b[0m\u001b[0m\n\u001b[0m",
      "\u001b[1;31mNameError\u001b[0m: name 'local_var' is not defined"
     ]
    }
   ],
   "source": [
    "global_var = \"this is a global variable\"\n",
    "\n",
    "def test_life_time():\n",
    "    \"\"\"\n",
    "    This function test the life time of a variables.\n",
    "    \"\"\"\n",
    "    local_var = \"This is local variable\"\n",
    "    print(local_var)\n",
    "    \n",
    "    print(global_var)\n",
    "    \n",
    "\n",
    "#Calling Function\n",
    "test_life_time()\n",
    "\n",
    "#print global variable global_var\n",
    "print(global_var)\n",
    "\n",
    "#print local variable local_var\n",
    "print(local_var)"
   ]
  },
  {
   "cell_type": "markdown",
   "id": "0731d80c",
   "metadata": {},
   "source": [
    "# Python Program to print Highest Common Factor (HCF) of two numbers"
   ]
  },
  {
   "cell_type": "code",
   "execution_count": 11,
   "id": "7d5ace70",
   "metadata": {},
   "outputs": [
    {
     "name": "stdout",
     "output_type": "stream",
     "text": [
      "HCF of 10 and 30 is : 10\n"
     ]
    }
   ],
   "source": [
    "def computeHCF(a,b):\n",
    "    \"\"\"\n",
    "    Computing HCF of two numbers\n",
    "    \"\"\"\n",
    "    smaller = b if a > b else a\n",
    "    \n",
    "    hcf = 1\n",
    "    for i in range(1,smaller+1):\n",
    "        if (a % i == 0) and (b % i == 0):\n",
    "            hcf = i\n",
    "    return hcf\n",
    "\n",
    "num1 = 10\n",
    "num2 = 30\n",
    "\n",
    "print(\"HCF of {0} and {1} is : {2}\".format(num1,num2,computeHCF(num1,num2)))"
   ]
  },
  {
   "cell_type": "markdown",
   "id": "a1e73d43",
   "metadata": {},
   "source": [
    "# Types of Functions\n",
    "\n",
    "1. Built-in Functions\n",
    "2. User-defined Functions\n",
    "\n",
    "# Built-in Functions"
   ]
  },
  {
   "cell_type": "markdown",
   "id": "2445e14b",
   "metadata": {},
   "source": [
    "# 1.  abs()"
   ]
  },
  {
   "cell_type": "code",
   "execution_count": 12,
   "id": "c8f216fd",
   "metadata": {},
   "outputs": [
    {
     "name": "stdout",
     "output_type": "stream",
     "text": [
      "100\n"
     ]
    }
   ],
   "source": [
    "# find the absolute value\n",
    "\n",
    "num = -100\n",
    "print(abs(num))"
   ]
  },
  {
   "cell_type": "markdown",
   "id": "8fbed79e",
   "metadata": {},
   "source": [
    "# 2. all()\n",
    "\n",
    "## return value of all() function\n",
    "\n",
    "### True : if all elements in an iterable are true\n",
    "\n",
    "### False : if any elements in an iterable is False"
   ]
  },
  {
   "cell_type": "code",
   "execution_count": 13,
   "id": "bea63fa6",
   "metadata": {},
   "outputs": [
    {
     "name": "stdout",
     "output_type": "stream",
     "text": [
      "True\n"
     ]
    }
   ],
   "source": [
    "lst = [1, 2, 3 , 4]\n",
    "\n",
    "print(all(lst))"
   ]
  },
  {
   "cell_type": "code",
   "execution_count": 15,
   "id": "912bc5a0",
   "metadata": {},
   "outputs": [
    {
     "name": "stdout",
     "output_type": "stream",
     "text": [
      "False\n"
     ]
    }
   ],
   "source": [
    "# 0 present in the list\n",
    "\n",
    "lst = [0, 1, 2, 3]\n",
    "print(all(lst))"
   ]
  },
  {
   "cell_type": "code",
   "execution_count": 16,
   "id": "09e0a9ad",
   "metadata": {},
   "outputs": [
    {
     "name": "stdout",
     "output_type": "stream",
     "text": [
      "True\n"
     ]
    }
   ],
   "source": [
    "#empty list always true\n",
    "\n",
    "lst = []\n",
    "print(all(lst))"
   ]
  },
  {
   "cell_type": "code",
   "execution_count": 17,
   "id": "1475f970",
   "metadata": {},
   "outputs": [
    {
     "name": "stdout",
     "output_type": "stream",
     "text": [
      "False\n"
     ]
    }
   ],
   "source": [
    "#False present in a list so all(list) is False\n",
    "\n",
    "lst = [False, 1 ,2]\n",
    "print(all(lst))"
   ]
  },
  {
   "cell_type": "markdown",
   "id": "e9392df3",
   "metadata": {},
   "source": [
    "# dir()\n",
    "\n",
    "The __dir()__ tries to return a list of valid attributes of the object.\n",
    "\n",
    "If the object has __dir()__ method, the method will be called and must return the list of attributes.\n",
    "\n",
    "If the object doesn't have __dir()__ method, this method tries to find information from the __dict__ attribute (if defined), and from type object. In this case, the list returned from dir() may not be complete."
   ]
  },
  {
   "cell_type": "code",
   "execution_count": 18,
   "id": "c75f5232",
   "metadata": {},
   "outputs": [
    {
     "name": "stdout",
     "output_type": "stream",
     "text": [
      "['__add__', '__class__', '__class_getitem__', '__contains__', '__delattr__', '__delitem__', '__dir__', '__doc__', '__eq__', '__format__', '__ge__', '__getattribute__', '__getitem__', '__gt__', '__hash__', '__iadd__', '__imul__', '__init__', '__init_subclass__', '__iter__', '__le__', '__len__', '__lt__', '__mul__', '__ne__', '__new__', '__reduce__', '__reduce_ex__', '__repr__', '__reversed__', '__rmul__', '__setattr__', '__setitem__', '__sizeof__', '__str__', '__subclasshook__', 'append', 'clear', 'copy', 'count', 'extend', 'index', 'insert', 'pop', 'remove', 'reverse', 'sort']\n"
     ]
    }
   ],
   "source": [
    "numbers = [1,2,3,4]\n",
    "\n",
    "print(dir(numbers))"
   ]
  },
  {
   "cell_type": "markdown",
   "id": "a1afad23",
   "metadata": {},
   "source": [
    "# divmod()\n",
    "\n",
    "- the divmod() method takes two numbers and returns a pair of numbers(a tuple) consisting of their quotient and remainder."
   ]
  },
  {
   "cell_type": "code",
   "execution_count": 20,
   "id": "10c56651",
   "metadata": {},
   "outputs": [
    {
     "name": "stdout",
     "output_type": "stream",
     "text": [
      "(2, 1)\n"
     ]
    }
   ],
   "source": [
    "#prints quotient and remainder as a tuple\n",
    "\n",
    "print(divmod(11,5))"
   ]
  },
  {
   "cell_type": "markdown",
   "id": "388fe138",
   "metadata": {},
   "source": [
    "# enumerate()\n",
    "\n",
    "- The enumerate() method adds counter to an iterable and returns it.\n",
    "\n",
    "- syntax: enumerate(iterable, start=0)"
   ]
  },
  {
   "cell_type": "code",
   "execution_count": 21,
   "id": "d1cc7957",
   "metadata": {},
   "outputs": [
    {
     "name": "stdout",
     "output_type": "stream",
     "text": [
      "index 10 has value 10\n",
      "index 11 has value 20\n",
      "index 12 has value 30\n",
      "index 13 has value 40\n",
      "index 14 has value 50\n"
     ]
    }
   ],
   "source": [
    "numbers = [10, 20, 30, 40, 50]\n",
    "\n",
    "for index, num in enumerate(numbers,10):\n",
    "    print(\"index {0} has value {1}\".format(index,num))"
   ]
  },
  {
   "cell_type": "markdown",
   "id": "7074eaf7",
   "metadata": {},
   "source": [
    "# filter()\n",
    "\n",
    "The filter() method constructs an iterator from elements of an iterable for which a function returns true.\n",
    "\n",
    "syntax: filter(function, iterable)"
   ]
  },
  {
   "cell_type": "code",
   "execution_count": 22,
   "id": "28ea5cdc",
   "metadata": {},
   "outputs": [],
   "source": [
    "def find_positive_number(num):\n",
    "    \"\"\"\n",
    "    This function returns the positive number if num is positive\n",
    "    \"\"\"\n",
    "    if num > 0:\n",
    "        return num"
   ]
  },
  {
   "cell_type": "code",
   "execution_count": 25,
   "id": "4843b0e5",
   "metadata": {},
   "outputs": [
    {
     "name": "stdout",
     "output_type": "stream",
     "text": [
      "Number List : [-10, -9, -8, -7, -6, -5, -4, -3, -2, -1, 0, 1, 2, 3, 4, 5, 6, 7, 8, 9]\n",
      "Positive Number List : [1, 2, 3, 4, 5, 6, 7, 8, 9]\n"
     ]
    }
   ],
   "source": [
    "#create a list of numbers from -10 to 10\n",
    "\n",
    "number_list = range(-10,10)\n",
    "print(\"Number List :\",list(number_list))\n",
    "\n",
    "positive_num_list = list(filter(find_positive_number,number_list))\n",
    "\n",
    "print(\"Positive Number List :\",positive_num_list)"
   ]
  },
  {
   "cell_type": "markdown",
   "id": "c2578c32",
   "metadata": {},
   "source": [
    "# isinstance()\n",
    "\n",
    "The isinstance() function checks if the object(first argument) is an instance or subclass of classinfo class (second argument)\n",
    "\n",
    "syntax : isinstance(object, classinfo)"
   ]
  },
  {
   "cell_type": "code",
   "execution_count": 27,
   "id": "f5fd8502",
   "metadata": {},
   "outputs": [
    {
     "name": "stdout",
     "output_type": "stream",
     "text": [
      "True\n",
      "True\n",
      "False\n"
     ]
    }
   ],
   "source": [
    "lst = [1,2,3,4]\n",
    "\n",
    "print(isinstance(lst, list))\n",
    "\n",
    "#try with other datatypes tuple,set\n",
    "\n",
    "t = (1,2,3,4)\n",
    "print(isinstance(t,tuple))\n",
    "\n",
    "print(isinstance(lst,set))"
   ]
  },
  {
   "cell_type": "markdown",
   "id": "c0c83dba",
   "metadata": {},
   "source": [
    "# map()\n",
    "\n",
    "Map applies a function to all the items in an input_list.\n",
    "\n",
    "syntax: map(function_to_apply, list_of_inputs)"
   ]
  },
  {
   "cell_type": "code",
   "execution_count": 28,
   "id": "5fb98fe6",
   "metadata": {},
   "outputs": [
    {
     "name": "stdout",
     "output_type": "stream",
     "text": [
      "[1, 4, 9, 16]\n"
     ]
    }
   ],
   "source": [
    "numbers = [1, 2, 3, 4]\n",
    "\n",
    "#normal method of computing num^2 for each element in the list.\n",
    "\n",
    "squared = []\n",
    "\n",
    "for num in numbers:\n",
    "    squared.append(num ** 2)\n",
    "    \n",
    "print(squared)"
   ]
  },
  {
   "cell_type": "code",
   "execution_count": 29,
   "id": "9e3e5be0",
   "metadata": {},
   "outputs": [
    {
     "name": "stdout",
     "output_type": "stream",
     "text": [
      "[1, 4, 9, 16]\n"
     ]
    }
   ],
   "source": [
    "numbers= [1, 2, 3, 4]\n",
    "\n",
    "def power_of_two(num):\n",
    "    return num**2\n",
    "\n",
    "#using map() function\n",
    "\n",
    "squared = list(map(power_of_two, numbers))\n",
    "\n",
    "print(squared)"
   ]
  },
  {
   "cell_type": "markdown",
   "id": "f094b057",
   "metadata": {},
   "source": [
    "# reduce()\n",
    "\n",
    "- reduce() function is for performing some computation on a list and returning the result.\n",
    "- It applies a rolling computation to sequential pairs of values in a list."
   ]
  },
  {
   "cell_type": "code",
   "execution_count": 31,
   "id": "4fc609b1",
   "metadata": {},
   "outputs": [
    {
     "name": "stdout",
     "output_type": "stream",
     "text": [
      "24\n"
     ]
    }
   ],
   "source": [
    "#product of elemnts in a list\n",
    "\n",
    "product = 1\n",
    "lst = [1, 2, 3, 4]\n",
    "\n",
    "#traditional program without reduce()\n",
    "\n",
    "for num in lst:\n",
    "    product *= num\n",
    "print(product)"
   ]
  },
  {
   "cell_type": "code",
   "execution_count": 32,
   "id": "3d2cf93d",
   "metadata": {},
   "outputs": [
    {
     "name": "stdout",
     "output_type": "stream",
     "text": [
      "24\n"
     ]
    }
   ],
   "source": [
    "from functools import reduce \n",
    "\n",
    "def multiply(x,y):\n",
    "    return x * y\n",
    "\n",
    "product  = reduce(multiply, lst)\n",
    "print(product)"
   ]
  },
  {
   "cell_type": "markdown",
   "id": "290b8348",
   "metadata": {},
   "source": [
    "# Python Program to make a simple calculator that can add, subtract, multiply and perform division "
   ]
  },
  {
   "cell_type": "code",
   "execution_count": 4,
   "id": "5beab466",
   "metadata": {},
   "outputs": [
    {
     "name": "stdout",
     "output_type": "stream",
     "text": [
      "Select your Choice: \n",
      " 1.Addition \n",
      " 2.Subtraction \n",
      " 3.Multiply \n",
      " 4.Division\n",
      "Enter your choice : 3\n",
      "Enter your first number :25\n",
      "Enter your second number :3\n",
      "Multiplication of Two numbers is : 75.0\n"
     ]
    }
   ],
   "source": [
    "def add(a,b):\n",
    "    \"\"\"\n",
    "    This function lets you add two numbers\n",
    "    \"\"\"\n",
    "    return a + b\n",
    "\n",
    "\n",
    "def sub(a,b):\n",
    "    \"\"\"\n",
    "    This function lets you subtract two numbers\n",
    "    \"\"\"\n",
    "    return a - b\n",
    "\n",
    "\n",
    "def multiply(a,b):\n",
    "    \"\"\"\n",
    "    This function lets you multiply two numbers\n",
    "    \"\"\"\n",
    "    return a * b\n",
    "\n",
    "def divide(a,b):\n",
    "    \"\"\"\n",
    "    This function lets you divide two numbers\n",
    "    \"\"\"\n",
    "    return a / b\n",
    "\n",
    "\n",
    "print(\"Select your Choice: \\n 1.Addition \\n 2.Subtraction \\n 3.Multiply \\n 4.Division\")\n",
    "\n",
    "choice = int(input(\"Enter your choice : \"))\n",
    "\n",
    "num1 = float(input(\"Enter your first number :\"))\n",
    "num2 = float(input(\"Enter your second number :\"))\n",
    "\n",
    "if choice == 1:\n",
    "    print(\"Addition of Two numbers is :\",add(num1,num2))\n",
    "elif choice == 2:\n",
    "    print(\"Subtraction of Two numbers is :\",sub(num1,num2))\n",
    "elif choice == 3:\n",
    "    print(\"Multiplication of Two numbers is :\",multiply(num1,num2))\n",
    "elif choice == 4:\n",
    "    print(\"Division of Two numbers is :\",divide(num1,num2))\n",
    "else:\n",
    "    print(\"Invalid Choice\")"
   ]
  },
  {
   "cell_type": "markdown",
   "id": "65a99255",
   "metadata": {},
   "source": [
    "# Function Arguments"
   ]
  },
  {
   "cell_type": "code",
   "execution_count": 5,
   "id": "904d7047",
   "metadata": {},
   "outputs": [
    {
     "name": "stdout",
     "output_type": "stream",
     "text": [
      "Hello python , Welcome to the world\n"
     ]
    }
   ],
   "source": [
    "def greet(name, msg):\n",
    "    \"\"\"\n",
    "    This function greets to a person with the provided message.\n",
    "    \"\"\"\n",
    "    print(\"Hello {0} , {1}\".format(name,msg))\n",
    "    \n",
    "greet(\"python\", \"Welcome to the world\")"
   ]
  },
  {
   "cell_type": "code",
   "execution_count": 6,
   "id": "d0461231",
   "metadata": {},
   "outputs": [
    {
     "ename": "TypeError",
     "evalue": "greet() missing 1 required positional argument: 'msg'",
     "output_type": "error",
     "traceback": [
      "\u001b[1;31m---------------------------------------------------------------------------\u001b[0m",
      "\u001b[1;31mTypeError\u001b[0m                                 Traceback (most recent call last)",
      "\u001b[1;32m~\\AppData\\Local\\Temp/ipykernel_9092/313577245.py\u001b[0m in \u001b[0;36m<module>\u001b[1;34m\u001b[0m\n\u001b[0;32m      2\u001b[0m \u001b[1;31m#We will get an error\u001b[0m\u001b[1;33m\u001b[0m\u001b[1;33m\u001b[0m\u001b[0m\n\u001b[0;32m      3\u001b[0m \u001b[1;33m\u001b[0m\u001b[0m\n\u001b[1;32m----> 4\u001b[1;33m \u001b[0mgreet\u001b[0m\u001b[1;33m(\u001b[0m\u001b[1;34m\"python\"\u001b[0m\u001b[1;33m)\u001b[0m\u001b[1;33m\u001b[0m\u001b[1;33m\u001b[0m\u001b[0m\n\u001b[0m",
      "\u001b[1;31mTypeError\u001b[0m: greet() missing 1 required positional argument: 'msg'"
     ]
    }
   ],
   "source": [
    "#suppose if we pass one argument\n",
    "#We will get an error\n",
    "\n",
    "greet(\"python\")"
   ]
  },
  {
   "cell_type": "markdown",
   "id": "9ab87993",
   "metadata": {},
   "source": [
    "# Different Forms of Arguments\n",
    "\n",
    "1. Default Arguments\n",
    "\n",
    "- We can provide a default value to the argument by using an assignment operator (=)."
   ]
  },
  {
   "cell_type": "code",
   "execution_count": 8,
   "id": "c450391f",
   "metadata": {},
   "outputs": [
    {
     "name": "stdout",
     "output_type": "stream",
     "text": [
      "Hello python , Welcome to the world\n",
      "Hello python , Have a Good Day\n"
     ]
    }
   ],
   "source": [
    "def greet(name, msg=\"Have a Good Day\"):\n",
    "    \"\"\"\n",
    "    This function greets to the person with the provided message, if message is not provided,\n",
    "    it defaults to \"Have a good day.\"\n",
    "    \"\"\"\n",
    "    print(\"Hello {0} , {1}\".format(name,msg))\n",
    "\n",
    "    \n",
    "#With both argument\n",
    "greet(\"python\",\"Welcome to the world\")\n",
    "\n",
    "#without msg argument\n",
    "greet(\"python\")"
   ]
  },
  {
   "cell_type": "markdown",
   "id": "d96134de",
   "metadata": {},
   "source": [
    "__Once we have a default argument, all the arguments to its right must also have default values.__\n",
    "\n",
    "- def greet(msg=\"Good Morning\", name)\n",
    "\n",
    "__will get a SyntaxError : non-default argument follows default argument__"
   ]
  },
  {
   "cell_type": "markdown",
   "id": "bb781ff1",
   "metadata": {},
   "source": [
    "# 2. Keyword Arguments\n",
    "\n",
    "__**kwargs__ allows you to pass keyworded variable length of arguments to a function. You should use **kwargs if you want to handle named arguments in a function"
   ]
  },
  {
   "cell_type": "code",
   "execution_count": 9,
   "id": "39453e84",
   "metadata": {},
   "outputs": [
    {
     "name": "stdout",
     "output_type": "stream",
     "text": [
      "Hello python and Welcome to the world.\n"
     ]
    }
   ],
   "source": [
    "#Example\n",
    "\n",
    "def greet(**kwargs):\n",
    "    \"\"\"\n",
    "    This function greets to person with the provided message.\n",
    "    \"\"\"\n",
    "    if kwargs:\n",
    "        print(\"Hello {0} and {1}\".format(kwargs['name'], kwargs['msg']))\n",
    "        \n",
    "greet(name=\"python\", msg = \"Welcome to the world.\")\n",
    "\n"
   ]
  },
  {
   "cell_type": "markdown",
   "id": "4742044f",
   "metadata": {},
   "source": [
    "# 3. Arbitary Arguments\n",
    "\n",
    "- Sometimes, we do not know in advance the number of arguments that will be passed into a function. Python allows us to handle this kind of situation through function calls wiht arbitary number of arguments."
   ]
  },
  {
   "cell_type": "code",
   "execution_count": 11,
   "id": "85a119d2",
   "metadata": {},
   "outputs": [
    {
     "name": "stdout",
     "output_type": "stream",
     "text": [
      "('Python', 'Java', 'Javascript', 'Go', 'Ruby')\n",
      "Hello Python \n",
      "Hello Java \n",
      "Hello Javascript \n",
      "Hello Go \n",
      "Hello Ruby \n"
     ]
    }
   ],
   "source": [
    "def greet(*names):\n",
    "    \"\"\"\n",
    "    This function greets all persons in the names tuple.\n",
    "    \"\"\"\n",
    "    print(names)\n",
    "    \n",
    "    for name in names:\n",
    "        print(\"Hello {0} \".format(name))\n",
    "        \n",
    "greet(\"Python\",\"Java\",\"Javascript\",\"Go\", \"Ruby\")"
   ]
  },
  {
   "cell_type": "markdown",
   "id": "6beab5fd",
   "metadata": {},
   "source": [
    "# Recursion\n",
    "\n",
    "- We know that in python, a function can call other functions. It is even possible for the function to call itself. These type of construct are termed as recursive functions.\n",
    "\n"
   ]
  },
  {
   "cell_type": "markdown",
   "id": "bf817c61",
   "metadata": {},
   "source": [
    "# Python Program to print factorial of a number using recursion."
   ]
  },
  {
   "cell_type": "code",
   "execution_count": 14,
   "id": "d352cc92",
   "metadata": {},
   "outputs": [
    {
     "name": "stdout",
     "output_type": "stream",
     "text": [
      "Factorial of 5 is : 120\n"
     ]
    }
   ],
   "source": [
    "def factorial(num):\n",
    "    \"\"\"\n",
    "    This is a recursive function to find the factorial of a given number.\n",
    "    \"\"\"\n",
    "    return 1 if num == 1 else (num * factorial(num-1))\n",
    "\n",
    "num = 5\n",
    "\n",
    "print(\"Factorial of {0} is : {1}\".format(num, factorial(num)))"
   ]
  },
  {
   "cell_type": "markdown",
   "id": "fc87c9db",
   "metadata": {},
   "source": [
    "## Advantages of recursive function\n",
    "- Recursive functions make the code look clean and elegant.\n",
    "\n",
    "- A complex task can be broken down into simpler sub-problems using recursion.\n",
    "\n",
    "- Sequence generation is easier with recursion than using some nested iteration.\n",
    "\n",
    "## Disadvantages of recursive function\n",
    "- Sometimes the logic behind recursion is hard to follow through.\n",
    "\n",
    "- Recursive calls are expensive (inefficient) as they take up a lot of memory and time.\n",
    "\n",
    "- Recursive functions are hard to debug."
   ]
  },
  {
   "cell_type": "markdown",
   "id": "c61e5880",
   "metadata": {},
   "source": [
    "# Python program to display the fibonacci sequence up to the n-th term using recursive function."
   ]
  },
  {
   "cell_type": "code",
   "execution_count": 16,
   "id": "aad4bfa1",
   "metadata": {},
   "outputs": [
    {
     "name": "stdout",
     "output_type": "stream",
     "text": [
      "Fibonacci Sequence :\n",
      "0\n",
      "1\n",
      "1\n",
      "2\n",
      "3\n",
      "5\n",
      "8\n",
      "13\n",
      "21\n",
      "34\n",
      "55\n",
      "89\n",
      "144\n",
      "233\n",
      "377\n",
      "610\n",
      "987\n",
      "1597\n",
      "2584\n",
      "4181\n"
     ]
    }
   ],
   "source": [
    "def fibonacci(num):\n",
    "    \"\"\"\n",
    "    Recursive function to print fibonacci sequence.\n",
    "    \"\"\"\n",
    "    return num if num <= 1 else fibonacci(num-1) + fibonacci(num - 2)\n",
    "    \n",
    "nterms = 20\n",
    "print(\"Fibonacci Sequence :\")\n",
    "\n",
    "for num in range(nterms):\n",
    "    print(fibonacci(num))"
   ]
  },
  {
   "cell_type": "markdown",
   "id": "42f039ed",
   "metadata": {},
   "source": [
    "# Lambda Function :\n",
    "\n",
    "- In Python, lambda function is a function that is defined without a name.\n",
    "\n",
    "- While normal functions are defined using the def keyword, in Python anonymous functions are defined using the lambda keyword.\n",
    "\n",
    "- Lambda functions are used extensively along with built-in functions like filter(), map()\n",
    "\n",
    "- syntax\n",
    "        lambda arguments : expression"
   ]
  },
  {
   "cell_type": "code",
   "execution_count": 20,
   "id": "69147f37",
   "metadata": {},
   "outputs": [
    {
     "name": "stdout",
     "output_type": "stream",
     "text": [
      "10\n"
     ]
    }
   ],
   "source": [
    "#Example\n",
    "\n",
    "double = lambda x : x*2\n",
    "\n",
    "print(double(5))"
   ]
  },
  {
   "cell_type": "code",
   "execution_count": 21,
   "id": "94b0a192",
   "metadata": {},
   "outputs": [
    {
     "name": "stdout",
     "output_type": "stream",
     "text": [
      "10\n"
     ]
    }
   ],
   "source": [
    "#function without lambda\n",
    "\n",
    "def double(x):\n",
    "    return x * 2\n",
    "\n",
    "print(double(5))"
   ]
  },
  {
   "cell_type": "code",
   "execution_count": 24,
   "id": "3546d0b8",
   "metadata": {},
   "outputs": [
    {
     "name": "stdout",
     "output_type": "stream",
     "text": [
      "[1, 2, 3, 4, 5]\n",
      "[2, 4]\n"
     ]
    }
   ],
   "source": [
    "#Example use with filter()\n",
    "\n",
    "lst = [1, 2, 3, 4, 5]\n",
    "\n",
    "even_lst = list(filter(lambda x : (x%2==0), lst))\n",
    "\n",
    "print(lst)\n",
    "\n",
    "print(even_lst)"
   ]
  },
  {
   "cell_type": "code",
   "execution_count": 28,
   "id": "ac644d65",
   "metadata": {},
   "outputs": [
    {
     "name": "stdout",
     "output_type": "stream",
     "text": [
      "720\n"
     ]
    }
   ],
   "source": [
    "#Example use with reduce()\n",
    "\n",
    "from functools import reduce\n",
    "\n",
    "lst = [1, 2, 3, 4, 5, 6]\n",
    "\n",
    "product_lst = reduce(lambda x,y : x*y, lst)\n",
    "\n",
    "print(product_lst)"
   ]
  },
  {
   "cell_type": "markdown",
   "id": "ad872682",
   "metadata": {},
   "source": [
    "# Modules \n",
    "- Modules refer to a file containing Python statements and definitions.\n",
    "\n",
    "- A file containing Python code, for e.g.: abc.py, is called a module and its module name would be \"abc\".\n",
    "\n",
    "- We use modules to break down large programs into small manageable and organized files. Furthermore, modules provide reusability of code.\n",
    "\n",
    "- We can define our most used functions in a module and import it, instead of copying their definitions into different programs."
   ]
  },
  {
   "cell_type": "markdown",
   "id": "8e654345",
   "metadata": {},
   "source": [
    "## How to import a module?\n",
    "- We use the import keyword to do this."
   ]
  },
  {
   "cell_type": "code",
   "execution_count": 31,
   "id": "8921bf68",
   "metadata": {},
   "outputs": [
    {
     "name": "stdout",
     "output_type": "stream",
     "text": [
      "3.141592653589793\n"
     ]
    }
   ],
   "source": [
    "#Example\n",
    "\n",
    "import math\n",
    "print(math.pi)"
   ]
  },
  {
   "cell_type": "code",
   "execution_count": 32,
   "id": "21246eb9",
   "metadata": {},
   "outputs": [
    {
     "data": {
      "text/plain": [
       "datetime.datetime(2022, 6, 9, 22, 33, 53, 468730)"
      ]
     },
     "execution_count": 32,
     "metadata": {},
     "output_type": "execute_result"
    }
   ],
   "source": [
    "import datetime\n",
    "datetime.datetime.now()"
   ]
  },
  {
   "cell_type": "markdown",
   "id": "c10edb71",
   "metadata": {},
   "source": [
    "# import with renaming"
   ]
  },
  {
   "cell_type": "code",
   "execution_count": 33,
   "id": "abb9f2ee",
   "metadata": {},
   "outputs": [
    {
     "name": "stdout",
     "output_type": "stream",
     "text": [
      "3.141592653589793\n"
     ]
    }
   ],
   "source": [
    "import math as m\n",
    "print(m.pi)"
   ]
  },
  {
   "cell_type": "markdown",
   "id": "be032641",
   "metadata": {},
   "source": [
    "# from .... import statement\n",
    "\n",
    "- We can import specific names from a module without importing the module as a whole."
   ]
  },
  {
   "cell_type": "code",
   "execution_count": 34,
   "id": "4cbb1ae5",
   "metadata": {},
   "outputs": [
    {
     "data": {
      "text/plain": [
       "datetime.datetime(2022, 6, 9, 22, 36, 2, 146315)"
      ]
     },
     "execution_count": 34,
     "metadata": {},
     "output_type": "execute_result"
    }
   ],
   "source": [
    "from datetime import datetime\n",
    "datetime.now()"
   ]
  },
  {
   "cell_type": "markdown",
   "id": "fcfb1f4a",
   "metadata": {},
   "source": [
    "# Import all names"
   ]
  },
  {
   "cell_type": "code",
   "execution_count": 36,
   "id": "90e6e5e7",
   "metadata": {},
   "outputs": [
    {
     "name": "stdout",
     "output_type": "stream",
     "text": [
      "value of PI is : 3.141592653589793\n"
     ]
    }
   ],
   "source": [
    "from math import *\n",
    "\n",
    "print(\"value of PI is : \" + str(pi))"
   ]
  },
  {
   "cell_type": "markdown",
   "id": "8dc56181",
   "metadata": {},
   "source": [
    "# dir() built in function\n",
    "\n",
    "We can use the dir() function to find out names that are defined inside a module."
   ]
  },
  {
   "cell_type": "code",
   "execution_count": 37,
   "id": "00b92c1e",
   "metadata": {},
   "outputs": [
    {
     "data": {
      "text/plain": [
       "['In',\n",
       " 'Out',\n",
       " '_',\n",
       " '_12',\n",
       " '_32',\n",
       " '_34',\n",
       " '__',\n",
       " '___',\n",
       " '__builtin__',\n",
       " '__builtins__',\n",
       " '__doc__',\n",
       " '__loader__',\n",
       " '__name__',\n",
       " '__package__',\n",
       " '__spec__',\n",
       " '_dh',\n",
       " '_i',\n",
       " '_i1',\n",
       " '_i10',\n",
       " '_i11',\n",
       " '_i12',\n",
       " '_i13',\n",
       " '_i14',\n",
       " '_i15',\n",
       " '_i16',\n",
       " '_i17',\n",
       " '_i18',\n",
       " '_i19',\n",
       " '_i2',\n",
       " '_i20',\n",
       " '_i21',\n",
       " '_i22',\n",
       " '_i23',\n",
       " '_i24',\n",
       " '_i25',\n",
       " '_i26',\n",
       " '_i27',\n",
       " '_i28',\n",
       " '_i29',\n",
       " '_i3',\n",
       " '_i30',\n",
       " '_i31',\n",
       " '_i32',\n",
       " '_i33',\n",
       " '_i34',\n",
       " '_i35',\n",
       " '_i36',\n",
       " '_i37',\n",
       " '_i4',\n",
       " '_i5',\n",
       " '_i6',\n",
       " '_i7',\n",
       " '_i8',\n",
       " '_i9',\n",
       " '_ih',\n",
       " '_ii',\n",
       " '_iii',\n",
       " '_oh',\n",
       " 'acos',\n",
       " 'acosh',\n",
       " 'add',\n",
       " 'asin',\n",
       " 'asinh',\n",
       " 'atan',\n",
       " 'atan2',\n",
       " 'atanh',\n",
       " 'ceil',\n",
       " 'choice',\n",
       " 'comb',\n",
       " 'copysign',\n",
       " 'cos',\n",
       " 'cosh',\n",
       " 'datetime',\n",
       " 'degrees',\n",
       " 'dist',\n",
       " 'divide',\n",
       " 'double',\n",
       " 'e',\n",
       " 'erf',\n",
       " 'erfc',\n",
       " 'even_lst',\n",
       " 'exit',\n",
       " 'exp',\n",
       " 'expm1',\n",
       " 'fabs',\n",
       " 'factorial',\n",
       " 'fibonacci',\n",
       " 'floor',\n",
       " 'fmod',\n",
       " 'frexp',\n",
       " 'fsum',\n",
       " 'gamma',\n",
       " 'gcd',\n",
       " 'get_ipython',\n",
       " 'greet',\n",
       " 'hypot',\n",
       " 'inf',\n",
       " 'isclose',\n",
       " 'isfinite',\n",
       " 'isinf',\n",
       " 'isnan',\n",
       " 'isqrt',\n",
       " 'lcm',\n",
       " 'ldexp',\n",
       " 'lgamma',\n",
       " 'log',\n",
       " 'log10',\n",
       " 'log1p',\n",
       " 'log2',\n",
       " 'lst',\n",
       " 'm',\n",
       " 'math',\n",
       " 'modf',\n",
       " 'multiply',\n",
       " 'nan',\n",
       " 'nextafter',\n",
       " 'nterms',\n",
       " 'num',\n",
       " 'num1',\n",
       " 'num2',\n",
       " 'perm',\n",
       " 'pi',\n",
       " 'pow',\n",
       " 'prod',\n",
       " 'product_lst',\n",
       " 'quit',\n",
       " 'radians',\n",
       " 'reduce',\n",
       " 'remainder',\n",
       " 'sin',\n",
       " 'sinh',\n",
       " 'sqrt',\n",
       " 'sub',\n",
       " 'tan',\n",
       " 'tanh',\n",
       " 'tau',\n",
       " 'trunc',\n",
       " 'ulp']"
      ]
     },
     "execution_count": 37,
     "metadata": {},
     "output_type": "execute_result"
    }
   ],
   "source": [
    "dir()"
   ]
  },
  {
   "cell_type": "markdown",
   "id": "c386290c",
   "metadata": {},
   "source": [
    "# Packages in Python\n",
    "\n",
    "- Packages are a way of structuring Python’s module namespace by using “dotted module names”.\n",
    "\n",
    "- A directory must contain a file named init.py in order for Python to consider it as a package. This file can be left empty but we generally place the initialization code for that package in this file."
   ]
  },
  {
   "cell_type": "code",
   "execution_count": null,
   "id": "fa95e808",
   "metadata": {},
   "outputs": [],
   "source": []
  },
  {
   "cell_type": "markdown",
   "id": "fd11635b",
   "metadata": {},
   "source": [
    "# FILE I/O\n",
    "\n",
    "- File is a named location on disk to store related information. It is used to permanently store data in a non-volatile memory (e.g. hard disk).\n",
    "\n",
    "- Since, random access memory (RAM) is volatile which loses its data when computer is turned off, we use files for future use of the data.\n",
    "\n",
    "- When we want to read from or write to a file we need to open it first. When we are done, it needs to be closed, so that resources that are tied with the file are freed.\n",
    "\n",
    "- __File operation:__\n",
    "\n",
    "1. Open a file\n",
    "\n",
    "2. Read or write (perform operation)\n",
    "\n",
    "3. Close the file"
   ]
  },
  {
   "cell_type": "markdown",
   "id": "5dbffbdb",
   "metadata": {},
   "source": [
    "## Opening a File\n",
    "\n",
    "Python has a built-in function open() to open a file. This function returns a file object, also called a handle, as it is used to read or modify the file accordingly."
   ]
  },
  {
   "cell_type": "code",
   "execution_count": 40,
   "id": "eff7b894",
   "metadata": {},
   "outputs": [],
   "source": [
    "#opn file in current directory\n",
    "f = open('example.txt')"
   ]
  },
  {
   "cell_type": "markdown",
   "id": "ff1c25b1",
   "metadata": {},
   "source": [
    "__We can specify the mode while opening a file. In mode, we specify whether we want to read 'r', write 'w' or append 'a' to the file. We also specify if we want to open the file in text mode or binary mode.__"
   ]
  },
  {
   "cell_type": "markdown",
   "id": "cbcae8b0",
   "metadata": {},
   "source": [
    "# Python File Modes\n",
    "- __'r'__ Open a file for reading. (default)\n",
    "\n",
    "- __'w'__ Open a file for writing. Creates a new file if it does not exist or truncates the file if it exists.\n",
    "\n",
    "- __'x'__ Open a file for exclusive creation. If the file already exists, the operation fails.\n",
    "\n",
    "- __'a'__ Open for appending at the end of the file without truncating it. Creates a new file if it does not exist.\n",
    "\n",
    "- __'t'__ Open in text mode. (default)\n",
    "\n",
    "- __'b'__ Open in binary mode.\n",
    "\n",
    "- __'+'__ Open a file for updating (reading and writing)"
   ]
  },
  {
   "cell_type": "code",
   "execution_count": 41,
   "id": "a1655e34",
   "metadata": {},
   "outputs": [],
   "source": [
    "f = open('example.txt') #equivalent to 'r'\n",
    "f = open('example.txt', 'r')\n",
    "\n",
    "f = open('text.txt','w')"
   ]
  },
  {
   "cell_type": "markdown",
   "id": "e02cda7f",
   "metadata": {},
   "source": [
    "- The default encoding is platform dependent. In windows, it is 'cp1252' but 'utf-8' in Linux.\n",
    "\n",
    "- So, we must not also rely on the default encoding or else our code will behave differently in different platforms.\n",
    "\n",
    "- Hence, when working with files in text mode, it is highly recommended to specify the encoding type."
   ]
  },
  {
   "cell_type": "markdown",
   "id": "fabac1c8",
   "metadata": {},
   "source": [
    "## Closing a File\n",
    "\n",
    "- Closing a file will free up the resources that were tied with the file and is done using the close() method.\n",
    "\n",
    "- Python has a garbage collector to clean up unreferenced objects but, we must not rely on it to close the file."
   ]
  },
  {
   "cell_type": "code",
   "execution_count": 42,
   "id": "cd48c261",
   "metadata": {},
   "outputs": [],
   "source": [
    "f = open('example.txt')\n",
    "f.close()"
   ]
  },
  {
   "cell_type": "markdown",
   "id": "8bc52414",
   "metadata": {},
   "source": [
    "- This method is not entirely safe. If an exception occurs when we are performing some operation with the file, the code exits without closing the file.\n",
    "\n",
    "- A safer way is to use a try...finally block."
   ]
  },
  {
   "cell_type": "code",
   "execution_count": 43,
   "id": "5f024a52",
   "metadata": {},
   "outputs": [],
   "source": [
    "try: \n",
    "    f = open(\"example.txt\")\n",
    "    #example file operation\n",
    "    \n",
    "finally:\n",
    "    f.close()"
   ]
  },
  {
   "cell_type": "markdown",
   "id": "11707628",
   "metadata": {},
   "source": [
    "- This way, we are guaranteed that the file is properly closed even if an exception is raised, causing program flow to stop.\n",
    "\n",
    "- The best way to do this is using the with statement. This ensures that the file is closed when the block inside with is exited.\n",
    "\n",
    "- We don't need to explicitly call the close() method. It is done internally.\n",
    "\n",
    "- with open(\"example.txt\",encoding = 'utf-8') as f:\n",
    "\n",
    "#perform file operations"
   ]
  },
  {
   "cell_type": "markdown",
   "id": "f540ff34",
   "metadata": {},
   "source": [
    "# Writing to a File\n",
    "\n",
    "- In order to write into a file we need to open it in __write 'w', append 'a' or exclusive creation 'x' mode.__\n",
    "\n",
    "__We need to be careful with the 'w' mode as it will overwrite into the file if it already exists. All previous data are erased.__\n",
    "\n",
    "Writing a string or sequence of bytes (for binary files) is done using __write()__ method. This method returns the number of characters written to the file."
   ]
  },
  {
   "cell_type": "code",
   "execution_count": 44,
   "id": "0ade8518",
   "metadata": {},
   "outputs": [],
   "source": [
    "f = open(\"test.txt\",\"w\")\n",
    "f.write(\"This is a First file\\n\")\n",
    "f.write(\"Contains Two lines\\n\")\n",
    "f.close()"
   ]
  },
  {
   "cell_type": "markdown",
   "id": "5241b1ac",
   "metadata": {},
   "source": [
    "__This program will create a new file named 'test.txt' if it does not exist. If it oes exist, it is overwritten.__"
   ]
  },
  {
   "cell_type": "markdown",
   "id": "3880c5a4",
   "metadata": {},
   "source": [
    "# Reading from a file\n",
    "\n",
    "__There are various methods available for this purpose. We can use the read(size) method to read in size number of data. If size parameter is not specified, it reads and returns up to the end of the file.__"
   ]
  },
  {
   "cell_type": "code",
   "execution_count": 2,
   "id": "8d561508",
   "metadata": {},
   "outputs": [
    {
     "data": {
      "text/plain": [
       "'This is a First file\\nContains Two lines\\n'"
      ]
     },
     "execution_count": 2,
     "metadata": {},
     "output_type": "execute_result"
    }
   ],
   "source": [
    "f = open(\"test.txt\",'r')\n",
    "f.read()"
   ]
  },
  {
   "cell_type": "code",
   "execution_count": 3,
   "id": "a8f2a943",
   "metadata": {},
   "outputs": [
    {
     "data": {
      "text/plain": [
       "'This'"
      ]
     },
     "execution_count": 3,
     "metadata": {},
     "output_type": "execute_result"
    }
   ],
   "source": [
    "f = open(\"test.txt\",'r')\n",
    "f.read(4)"
   ]
  },
  {
   "cell_type": "code",
   "execution_count": 4,
   "id": "f1bac422",
   "metadata": {},
   "outputs": [
    {
     "data": {
      "text/plain": [
       "' is a Firs'"
      ]
     },
     "execution_count": 4,
     "metadata": {},
     "output_type": "execute_result"
    }
   ],
   "source": [
    "f.read(10)"
   ]
  },
  {
   "cell_type": "code",
   "execution_count": 5,
   "id": "6f77fec6",
   "metadata": {},
   "outputs": [
    {
     "data": {
      "text/plain": [
       "'t file\\nContains Two lines\\n'"
      ]
     },
     "execution_count": 5,
     "metadata": {},
     "output_type": "execute_result"
    }
   ],
   "source": [
    "f.read()"
   ]
  },
  {
   "cell_type": "markdown",
   "id": "0002b3da",
   "metadata": {},
   "source": [
    "__We can change our current file cursor (position) using the seek() method.__\n",
    "\n",
    "Similarly, the __tell()__ method returns our current position (in number of bytes)."
   ]
  },
  {
   "cell_type": "code",
   "execution_count": 6,
   "id": "61033a15",
   "metadata": {},
   "outputs": [
    {
     "data": {
      "text/plain": [
       "42"
      ]
     },
     "execution_count": 6,
     "metadata": {},
     "output_type": "execute_result"
    }
   ],
   "source": [
    "f.tell()"
   ]
  },
  {
   "cell_type": "code",
   "execution_count": 7,
   "id": "de1c88e1",
   "metadata": {},
   "outputs": [
    {
     "data": {
      "text/plain": [
       "0"
      ]
     },
     "execution_count": 7,
     "metadata": {},
     "output_type": "execute_result"
    }
   ],
   "source": [
    "#bring the file cursor to initial position\n",
    "f.seek(0)"
   ]
  },
  {
   "cell_type": "code",
   "execution_count": 8,
   "id": "8ee89722",
   "metadata": {},
   "outputs": [
    {
     "name": "stdout",
     "output_type": "stream",
     "text": [
      "This is a First file\n",
      "Contains Two lines\n",
      "\n"
     ]
    }
   ],
   "source": [
    "#read the entire life\n",
    "print(f.read())"
   ]
  },
  {
   "cell_type": "markdown",
   "id": "784e2b12",
   "metadata": {},
   "source": [
    "__We can read a file line by line by using a for loop__"
   ]
  },
  {
   "cell_type": "code",
   "execution_count": 10,
   "id": "42f8ba94",
   "metadata": {},
   "outputs": [
    {
     "name": "stdout",
     "output_type": "stream",
     "text": [
      "This is a First file\n",
      "\n",
      "Contains Two lines\n",
      "\n"
     ]
    }
   ],
   "source": [
    "f.seek(0)\n",
    "\n",
    "for line in f:\n",
    "    print(line)"
   ]
  },
  {
   "cell_type": "markdown",
   "id": "10ba1876",
   "metadata": {},
   "source": [
    "Alternately, we can use __readline()__ method to read individual lines of a file. This method reads a file till the newline, including the newline character."
   ]
  },
  {
   "cell_type": "code",
   "execution_count": 11,
   "id": "034d0292",
   "metadata": {},
   "outputs": [
    {
     "data": {
      "text/plain": [
       "['This is a First file\\n', 'Contains Two lines\\n']"
      ]
     },
     "execution_count": 11,
     "metadata": {},
     "output_type": "execute_result"
    }
   ],
   "source": [
    "f.seek(0)\n",
    "f.readlines()"
   ]
  },
  {
   "cell_type": "markdown",
   "id": "6a529837",
   "metadata": {},
   "source": [
    "# Renaming and Deleting files in Python\n",
    "- While you were using the __read/write__ functions, you may also need to __rename/delete__ a file in Python. So, there comes a os module in Python which brings the support of file __rename/delete__ operations.\n",
    "\n",
    "- So, to continue, first of all, you should import the __os__ module in your Python script."
   ]
  },
  {
   "cell_type": "code",
   "execution_count": 13,
   "id": "66d9f243",
   "metadata": {},
   "outputs": [],
   "source": [
    "try: \n",
    "    f = open(\"test.txt\")\n",
    "    #example file operation\n",
    "    \n",
    "finally:\n",
    "    f.close()"
   ]
  },
  {
   "cell_type": "code",
   "execution_count": 14,
   "id": "abeefebb",
   "metadata": {},
   "outputs": [],
   "source": [
    "import os\n",
    "\n",
    "#rename a file from test.txt to sample.txt\n",
    "os.rename(\"test.txt\",\"sample.txt\")"
   ]
  },
  {
   "cell_type": "code",
   "execution_count": 15,
   "id": "b926a22c",
   "metadata": {},
   "outputs": [
    {
     "data": {
      "text/plain": [
       "'This is a First file\\n'"
      ]
     },
     "execution_count": 15,
     "metadata": {},
     "output_type": "execute_result"
    }
   ],
   "source": [
    "f = open(\"sample.txt\")\n",
    "f.readline()"
   ]
  },
  {
   "cell_type": "code",
   "execution_count": 17,
   "id": "ca0f3b0f",
   "metadata": {},
   "outputs": [],
   "source": [
    "try:\n",
    "    f = open(\"sample.txt\")\n",
    "    \n",
    "finally:\n",
    "    f.close()"
   ]
  },
  {
   "cell_type": "code",
   "execution_count": 18,
   "id": "17d6e8d9",
   "metadata": {},
   "outputs": [],
   "source": [
    "#Delete a file sample.txt\n",
    "os.remove(\"sample.txt\")"
   ]
  },
  {
   "cell_type": "code",
   "execution_count": 19,
   "id": "eb17f55c",
   "metadata": {},
   "outputs": [
    {
     "ename": "FileNotFoundError",
     "evalue": "[Errno 2] No such file or directory: 'sample.txt'",
     "output_type": "error",
     "traceback": [
      "\u001b[1;31m---------------------------------------------------------------------------\u001b[0m",
      "\u001b[1;31mFileNotFoundError\u001b[0m                         Traceback (most recent call last)",
      "\u001b[1;32m~\\AppData\\Local\\Temp/ipykernel_16168/3552556906.py\u001b[0m in \u001b[0;36m<module>\u001b[1;34m\u001b[0m\n\u001b[1;32m----> 1\u001b[1;33m \u001b[0mf\u001b[0m \u001b[1;33m=\u001b[0m \u001b[0mopen\u001b[0m\u001b[1;33m(\u001b[0m\u001b[1;34m\"sample.txt\"\u001b[0m\u001b[1;33m,\u001b[0m\u001b[1;34m\"r\"\u001b[0m\u001b[1;33m)\u001b[0m\u001b[1;33m\u001b[0m\u001b[1;33m\u001b[0m\u001b[0m\n\u001b[0m\u001b[0;32m      2\u001b[0m \u001b[0mf\u001b[0m\u001b[1;33m.\u001b[0m\u001b[0mreadline\u001b[0m\u001b[1;33m(\u001b[0m\u001b[1;33m)\u001b[0m\u001b[1;33m\u001b[0m\u001b[1;33m\u001b[0m\u001b[0m\n",
      "\u001b[1;31mFileNotFoundError\u001b[0m: [Errno 2] No such file or directory: 'sample.txt'"
     ]
    }
   ],
   "source": [
    "f = open(\"sample.txt\",\"r\")\n",
    "f.readline()"
   ]
  },
  {
   "cell_type": "markdown",
   "id": "8cce65c1",
   "metadata": {},
   "source": [
    "# Python Directory and file management\n",
    "\n",
    "If there are a large number of files to handle in your Python program, you can arrange your code within different directories to make things more manageable.\n",
    "\n",
    "A directory or folder is a collection of files and sub directories. Python has the os module, which provides us with many useful methods to work with directories (and files as well).\n",
    "\n",
    "- Get current Directory\n",
    "\n",
    "We can get the present working directory using the getcwd() method.\n",
    "\n",
    "This method returns the current working directory in the form of a string."
   ]
  },
  {
   "cell_type": "code",
   "execution_count": 20,
   "id": "51db7e92",
   "metadata": {},
   "outputs": [
    {
     "data": {
      "text/plain": [
       "'C:\\\\Users\\\\Asus\\\\03 - Applied Ai Course'"
      ]
     },
     "execution_count": 20,
     "metadata": {},
     "output_type": "execute_result"
    }
   ],
   "source": [
    "import os\n",
    "os.getcwd()"
   ]
  },
  {
   "cell_type": "markdown",
   "id": "87afffc9",
   "metadata": {},
   "source": [
    "## Changing Directory\n",
    "\n",
    "We can change the current working directory using the __chdir()__ method.\n",
    "\n",
    "The new path that we want to change to must be supplied as a string to this method. We can use both forward slash (/) or the backward slash () to separate path elements."
   ]
  },
  {
   "cell_type": "code",
   "execution_count": 21,
   "id": "83736930",
   "metadata": {},
   "outputs": [],
   "source": [
    "#os.chdir(/users/asus/)\n",
    "\n",
    "#os.getcwd()"
   ]
  },
  {
   "cell_type": "markdown",
   "id": "9dc211a3",
   "metadata": {},
   "source": [
    "## List Directory and Files\n",
    "\n",
    "- All files and sub directories inside a directory can be known using the listdir() method."
   ]
  },
  {
   "cell_type": "code",
   "execution_count": 22,
   "id": "1453c290",
   "metadata": {},
   "outputs": [
    {
     "data": {
      "text/plain": [
       "['.ipynb_checkpoints', '1 - Python Overview.ipynb', 'example.txt', 'text.txt']"
      ]
     },
     "execution_count": 22,
     "metadata": {},
     "output_type": "execute_result"
    }
   ],
   "source": [
    "os.listdir(os.getcwd())"
   ]
  },
  {
   "cell_type": "markdown",
   "id": "1e73c7e4",
   "metadata": {},
   "source": [
    "## Making a new directory\n",
    "\n",
    "- We can make a new directory using the mkdir() method.\n",
    "\n",
    "- This method takes in the path of the new directory. If the full path is not specified, the new directory is created in the current working directory."
   ]
  },
  {
   "cell_type": "code",
   "execution_count": 23,
   "id": "27fa0f97",
   "metadata": {},
   "outputs": [],
   "source": [
    "#os.mkdir('test')"
   ]
  },
  {
   "cell_type": "markdown",
   "id": "b3d28f9f",
   "metadata": {},
   "source": [
    "However, note that rmdir() method can only remove empty directories.\n",
    "\n",
    "In order to remove a non-empty directory we can use the rmtree() method inside the shutil module."
   ]
  },
  {
   "cell_type": "code",
   "execution_count": 24,
   "id": "3d9ab27c",
   "metadata": {},
   "outputs": [],
   "source": [
    "#os.rmdir('test')"
   ]
  },
  {
   "cell_type": "code",
   "execution_count": 25,
   "id": "c3fb61a4",
   "metadata": {},
   "outputs": [
    {
     "ename": "OSError",
     "evalue": "[WinError 145] The directory is not empty: 'test'",
     "output_type": "error",
     "traceback": [
      "\u001b[1;31m---------------------------------------------------------------------------\u001b[0m",
      "\u001b[1;31mOSError\u001b[0m                                   Traceback (most recent call last)",
      "\u001b[1;32m~\\AppData\\Local\\Temp/ipykernel_16168/1431199981.py\u001b[0m in \u001b[0;36m<module>\u001b[1;34m\u001b[0m\n\u001b[0;32m      6\u001b[0m \u001b[0mf\u001b[0m\u001b[1;33m.\u001b[0m\u001b[0mwrite\u001b[0m\u001b[1;33m(\u001b[0m\u001b[1;34m\"Hello World\"\u001b[0m\u001b[1;33m)\u001b[0m\u001b[1;33m\u001b[0m\u001b[1;33m\u001b[0m\u001b[0m\n\u001b[0;32m      7\u001b[0m \u001b[0mos\u001b[0m\u001b[1;33m.\u001b[0m\u001b[0mchdir\u001b[0m\u001b[1;33m(\u001b[0m\u001b[1;34m\"../\"\u001b[0m\u001b[1;33m)\u001b[0m\u001b[1;33m\u001b[0m\u001b[1;33m\u001b[0m\u001b[0m\n\u001b[1;32m----> 8\u001b[1;33m \u001b[0mos\u001b[0m\u001b[1;33m.\u001b[0m\u001b[0mrmdir\u001b[0m\u001b[1;33m(\u001b[0m\u001b[1;34m'test'\u001b[0m\u001b[1;33m)\u001b[0m\u001b[1;33m\u001b[0m\u001b[1;33m\u001b[0m\u001b[0m\n\u001b[0m",
      "\u001b[1;31mOSError\u001b[0m: [WinError 145] The directory is not empty: 'test'"
     ]
    }
   ],
   "source": [
    "import shutil\n",
    "\n",
    "os.mkdir('test')\n",
    "os.chdir('./test')\n",
    "f = open(\"testfile.txt\",'w')\n",
    "f.write(\"Hello World\")\n",
    "os.chdir(\"../\")\n",
    "os.rmdir('test')"
   ]
  },
  {
   "cell_type": "code",
   "execution_count": 27,
   "id": "857a4db7",
   "metadata": {},
   "outputs": [],
   "source": [
    "#remove an non-empty directory\n",
    "#shutil.rmtree('test')"
   ]
  },
  {
   "cell_type": "code",
   "execution_count": 28,
   "id": "9fb38510",
   "metadata": {},
   "outputs": [
    {
     "data": {
      "text/plain": [
       "'C:\\\\Users\\\\Asus\\\\03 - Applied Ai Course'"
      ]
     },
     "execution_count": 28,
     "metadata": {},
     "output_type": "execute_result"
    }
   ],
   "source": [
    "os.getcwd()"
   ]
  },
  {
   "cell_type": "markdown",
   "id": "f77df94f",
   "metadata": {},
   "source": [
    "# Python Errors and Built-in Exceptions\n",
    "\n",
    "When writing a program, we, more often than not, will encounter errors.\n",
    "\n",
    "Error caused by not following the proper structure (syntax) of the language is called syntax error or parsing error."
   ]
  },
  {
   "cell_type": "code",
   "execution_count": 29,
   "id": "b058dad9",
   "metadata": {},
   "outputs": [
    {
     "ename": "SyntaxError",
     "evalue": "invalid syntax (Temp/ipykernel_16168/3603636323.py, line 1)",
     "output_type": "error",
     "traceback": [
      "\u001b[1;36m  File \u001b[1;32m\"C:\\Users\\Asus\\AppData\\Local\\Temp/ipykernel_16168/3603636323.py\"\u001b[1;36m, line \u001b[1;32m1\u001b[0m\n\u001b[1;33m    if a < 3\u001b[0m\n\u001b[1;37m            ^\u001b[0m\n\u001b[1;31mSyntaxError\u001b[0m\u001b[1;31m:\u001b[0m invalid syntax\n"
     ]
    }
   ],
   "source": [
    "if a < 3"
   ]
  },
  {
   "cell_type": "markdown",
   "id": "cb54a9e3",
   "metadata": {},
   "source": [
    "- Errors can also occur at runtime and these are called exceptions.\n",
    "\n",
    "- They occur, for example, when a file we try to open does not exist (FileNotFoundError), dividing a number by zero (ZeroDivisionError), module we try to import is not found (ImportError) etc.\n",
    "\n",
    "- Whenever these type of runtime error occur, Python creates an exception object. If not handled properly, it prints a traceback to that error along with some details about why that error occurred."
   ]
  },
  {
   "cell_type": "code",
   "execution_count": 30,
   "id": "f5232384",
   "metadata": {},
   "outputs": [
    {
     "ename": "ZeroDivisionError",
     "evalue": "division by zero",
     "output_type": "error",
     "traceback": [
      "\u001b[1;31m---------------------------------------------------------------------------\u001b[0m",
      "\u001b[1;31mZeroDivisionError\u001b[0m                         Traceback (most recent call last)",
      "\u001b[1;32m~\\AppData\\Local\\Temp/ipykernel_16168/2354412189.py\u001b[0m in \u001b[0;36m<module>\u001b[1;34m\u001b[0m\n\u001b[1;32m----> 1\u001b[1;33m \u001b[1;36m1\u001b[0m\u001b[1;33m/\u001b[0m\u001b[1;36m0\u001b[0m\u001b[1;33m\u001b[0m\u001b[1;33m\u001b[0m\u001b[0m\n\u001b[0m",
      "\u001b[1;31mZeroDivisionError\u001b[0m: division by zero"
     ]
    }
   ],
   "source": [
    "1/0"
   ]
  },
  {
   "cell_type": "code",
   "execution_count": 31,
   "id": "6f436125",
   "metadata": {},
   "outputs": [
    {
     "ename": "FileNotFoundError",
     "evalue": "[Errno 2] No such file or directory: 'test.txt'",
     "output_type": "error",
     "traceback": [
      "\u001b[1;31m---------------------------------------------------------------------------\u001b[0m",
      "\u001b[1;31mFileNotFoundError\u001b[0m                         Traceback (most recent call last)",
      "\u001b[1;32m~\\AppData\\Local\\Temp/ipykernel_16168/1104003574.py\u001b[0m in \u001b[0;36m<module>\u001b[1;34m\u001b[0m\n\u001b[1;32m----> 1\u001b[1;33m \u001b[0mopen\u001b[0m\u001b[1;33m(\u001b[0m\u001b[1;34m\"test.txt\"\u001b[0m\u001b[1;33m)\u001b[0m\u001b[1;33m\u001b[0m\u001b[1;33m\u001b[0m\u001b[0m\n\u001b[0m",
      "\u001b[1;31mFileNotFoundError\u001b[0m: [Errno 2] No such file or directory: 'test.txt'"
     ]
    }
   ],
   "source": [
    "open(\"test.txt\")"
   ]
  },
  {
   "cell_type": "markdown",
   "id": "5bbb481f",
   "metadata": {},
   "source": [
    "# Python Built-in Exceptions"
   ]
  },
  {
   "cell_type": "code",
   "execution_count": 32,
   "id": "9a5cca62",
   "metadata": {},
   "outputs": [
    {
     "data": {
      "text/plain": [
       "['ArithmeticError',\n",
       " 'AssertionError',\n",
       " 'AttributeError',\n",
       " 'BaseException',\n",
       " 'BlockingIOError',\n",
       " 'BrokenPipeError',\n",
       " 'BufferError',\n",
       " 'BytesWarning',\n",
       " 'ChildProcessError',\n",
       " 'ConnectionAbortedError',\n",
       " 'ConnectionError',\n",
       " 'ConnectionRefusedError',\n",
       " 'ConnectionResetError',\n",
       " 'DeprecationWarning',\n",
       " 'EOFError',\n",
       " 'Ellipsis',\n",
       " 'EnvironmentError',\n",
       " 'Exception',\n",
       " 'False',\n",
       " 'FileExistsError',\n",
       " 'FileNotFoundError',\n",
       " 'FloatingPointError',\n",
       " 'FutureWarning',\n",
       " 'GeneratorExit',\n",
       " 'IOError',\n",
       " 'ImportError',\n",
       " 'ImportWarning',\n",
       " 'IndentationError',\n",
       " 'IndexError',\n",
       " 'InterruptedError',\n",
       " 'IsADirectoryError',\n",
       " 'KeyError',\n",
       " 'KeyboardInterrupt',\n",
       " 'LookupError',\n",
       " 'MemoryError',\n",
       " 'ModuleNotFoundError',\n",
       " 'NameError',\n",
       " 'None',\n",
       " 'NotADirectoryError',\n",
       " 'NotImplemented',\n",
       " 'NotImplementedError',\n",
       " 'OSError',\n",
       " 'OverflowError',\n",
       " 'PendingDeprecationWarning',\n",
       " 'PermissionError',\n",
       " 'ProcessLookupError',\n",
       " 'RecursionError',\n",
       " 'ReferenceError',\n",
       " 'ResourceWarning',\n",
       " 'RuntimeError',\n",
       " 'RuntimeWarning',\n",
       " 'StopAsyncIteration',\n",
       " 'StopIteration',\n",
       " 'SyntaxError',\n",
       " 'SyntaxWarning',\n",
       " 'SystemError',\n",
       " 'SystemExit',\n",
       " 'TabError',\n",
       " 'TimeoutError',\n",
       " 'True',\n",
       " 'TypeError',\n",
       " 'UnboundLocalError',\n",
       " 'UnicodeDecodeError',\n",
       " 'UnicodeEncodeError',\n",
       " 'UnicodeError',\n",
       " 'UnicodeTranslateError',\n",
       " 'UnicodeWarning',\n",
       " 'UserWarning',\n",
       " 'ValueError',\n",
       " 'Warning',\n",
       " 'WindowsError',\n",
       " 'ZeroDivisionError',\n",
       " '__IPYTHON__',\n",
       " '__build_class__',\n",
       " '__debug__',\n",
       " '__doc__',\n",
       " '__import__',\n",
       " '__loader__',\n",
       " '__name__',\n",
       " '__package__',\n",
       " '__spec__',\n",
       " 'abs',\n",
       " 'all',\n",
       " 'any',\n",
       " 'ascii',\n",
       " 'bin',\n",
       " 'bool',\n",
       " 'breakpoint',\n",
       " 'bytearray',\n",
       " 'bytes',\n",
       " 'callable',\n",
       " 'chr',\n",
       " 'classmethod',\n",
       " 'compile',\n",
       " 'complex',\n",
       " 'copyright',\n",
       " 'credits',\n",
       " 'delattr',\n",
       " 'dict',\n",
       " 'dir',\n",
       " 'display',\n",
       " 'divmod',\n",
       " 'enumerate',\n",
       " 'eval',\n",
       " 'exec',\n",
       " 'execfile',\n",
       " 'filter',\n",
       " 'float',\n",
       " 'format',\n",
       " 'frozenset',\n",
       " 'get_ipython',\n",
       " 'getattr',\n",
       " 'globals',\n",
       " 'hasattr',\n",
       " 'hash',\n",
       " 'help',\n",
       " 'hex',\n",
       " 'id',\n",
       " 'input',\n",
       " 'int',\n",
       " 'isinstance',\n",
       " 'issubclass',\n",
       " 'iter',\n",
       " 'len',\n",
       " 'license',\n",
       " 'list',\n",
       " 'locals',\n",
       " 'map',\n",
       " 'max',\n",
       " 'memoryview',\n",
       " 'min',\n",
       " 'next',\n",
       " 'object',\n",
       " 'oct',\n",
       " 'open',\n",
       " 'ord',\n",
       " 'pow',\n",
       " 'print',\n",
       " 'property',\n",
       " 'range',\n",
       " 'repr',\n",
       " 'reversed',\n",
       " 'round',\n",
       " 'runfile',\n",
       " 'set',\n",
       " 'setattr',\n",
       " 'slice',\n",
       " 'sorted',\n",
       " 'staticmethod',\n",
       " 'str',\n",
       " 'sum',\n",
       " 'super',\n",
       " 'tuple',\n",
       " 'type',\n",
       " 'vars',\n",
       " 'zip']"
      ]
     },
     "execution_count": 32,
     "metadata": {},
     "output_type": "execute_result"
    }
   ],
   "source": [
    "dir(__builtins__)"
   ]
  },
  {
   "cell_type": "markdown",
   "id": "973e5a50",
   "metadata": {},
   "source": [
    "# Python Exception Handling - Try, Except and Finally\n",
    "\n",
    "- Python has many built-in exceptions which forces your program to output an error when something in it goes wrong.\n",
    "\n",
    "- When these exceptions occur, it causes the current process to stop and passes it to the calling process until it is handled. If not handled, our program will crash.\n",
    "\n",
    "- For example, if function A calls function B which in turn calls function C and an exception occurs in function C. If it is not handled in C, the exception passes to B and then to A.\n",
    "\n",
    "- If never handled, an error message is spit out and our program come to a sudden, unexpected halt."
   ]
  },
  {
   "cell_type": "markdown",
   "id": "5244edce",
   "metadata": {},
   "source": [
    "## Catching Exceptions in Python\n",
    "\n",
    "- In python, exceptions can be handled using a try statement.\n",
    "\n",
    "- A critical operation which can raise exception is placed inside a try clause and the code that handles exception is written in except clause."
   ]
  },
  {
   "cell_type": "code",
   "execution_count": 42,
   "id": "b78cd564",
   "metadata": {},
   "outputs": [
    {
     "name": "stdout",
     "output_type": "stream",
     "text": [
      "The entry is :  b\n",
      "Ooops! <class 'ValueError'> occured\n",
      "Next Entry\n",
      "**********************************\n",
      "The entry is :  0\n",
      "Ooops! <class 'ZeroDivisionError'> occured\n",
      "Next Entry\n",
      "**********************************\n",
      "The entry is :  2\n",
      "The reciprocal of 2 is 0.5\n"
     ]
    }
   ],
   "source": [
    "#import module sys to get the type of exception\n",
    "\n",
    "import sys\n",
    "\n",
    "lst = ['b', 0, 2]\n",
    "\n",
    "for entry in lst:\n",
    "    try:\n",
    "        print(\"The entry is : \",entry)\n",
    "        r = 1 / int(entry)   \n",
    "    except:\n",
    "        print(\"Ooops!\", sys.exc_info()[0],\"occured\")\n",
    "        print(\"Next Entry\")\n",
    "        print(\"**********************************\")\n",
    "\n",
    "print(\"The reciprocal of\", entry, \"is\", r)"
   ]
  },
  {
   "cell_type": "markdown",
   "id": "a4538a4b",
   "metadata": {},
   "source": [
    "# Catching Specific Exceptions in Python\n",
    "\n",
    "- In the above example, we did not mention any exception in the except clause.\n",
    "\n",
    "- This is not a good programming practice as it will catch all exceptions and handle every case in the same way. We can specify which exceptions an except clause will catch.\n",
    "\n",
    "- A try clause can have any number of except clause to handle them differently but only one will be executed in case an exception occurs."
   ]
  },
  {
   "cell_type": "code",
   "execution_count": 45,
   "id": "7e9a7ba3",
   "metadata": {},
   "outputs": [
    {
     "name": "stdout",
     "output_type": "stream",
     "text": [
      "*********************\n",
      "The entry is : a\n",
      "This is a Value Error.\n",
      "*********************\n",
      "The entry is : 0\n",
      "This is a Zero Error.\n",
      "*********************\n",
      "The entry is : 2\n",
      "The reciprocal of the 2 is : 0.5\n"
     ]
    }
   ],
   "source": [
    "import sys \n",
    "\n",
    "lst = ['a',0,2]\n",
    "\n",
    "for entry in lst:\n",
    "    try:\n",
    "        print(\"*********************\")\n",
    "        print(\"The entry is :\",entry)\n",
    "        r = 1 / int(entry)\n",
    "    except(ValueError):\n",
    "        print(\"This is a Value Error.\")\n",
    "    except(ZeroDivisionError):\n",
    "        print(\"This is a Zero Error.\")\n",
    "    except:\n",
    "        print(\"Some Other Error.\")\n",
    "print(\"The reciprocal of the\",entry, \"is :\", r)"
   ]
  },
  {
   "cell_type": "markdown",
   "id": "28b26e24",
   "metadata": {},
   "source": [
    "# Raising Exceptions\n",
    "\n",
    "- In Python programming, exceptions are raised when corresponding errors occur at run time, but we can forcefully raise it using the keyword raise.\n",
    "\n",
    "- We can also optionally pass in value to the exception to clarify why that exception was raised."
   ]
  },
  {
   "cell_type": "code",
   "execution_count": 46,
   "id": "c4effadb",
   "metadata": {},
   "outputs": [
    {
     "ename": "KeyboardInterrupt",
     "evalue": "",
     "output_type": "error",
     "traceback": [
      "\u001b[1;31m---------------------------------------------------------------------------\u001b[0m",
      "\u001b[1;31mKeyboardInterrupt\u001b[0m                         Traceback (most recent call last)",
      "\u001b[1;32m~\\AppData\\Local\\Temp/ipykernel_16168/2006531705.py\u001b[0m in \u001b[0;36m<module>\u001b[1;34m\u001b[0m\n\u001b[1;32m----> 1\u001b[1;33m \u001b[1;32mraise\u001b[0m \u001b[0mKeyboardInterrupt\u001b[0m\u001b[1;33m\u001b[0m\u001b[1;33m\u001b[0m\u001b[0m\n\u001b[0m",
      "\u001b[1;31mKeyboardInterrupt\u001b[0m: "
     ]
    }
   ],
   "source": [
    "raise KeyboardInterrupt"
   ]
  },
  {
   "cell_type": "code",
   "execution_count": 47,
   "id": "46abcae7",
   "metadata": {},
   "outputs": [
    {
     "ename": "MemoryError",
     "evalue": "This is a memory error.",
     "output_type": "error",
     "traceback": [
      "\u001b[1;31m---------------------------------------------------------------------------\u001b[0m",
      "\u001b[1;31mMemoryError\u001b[0m                               Traceback (most recent call last)",
      "\u001b[1;32m~\\AppData\\Local\\Temp/ipykernel_16168/1409965605.py\u001b[0m in \u001b[0;36m<module>\u001b[1;34m\u001b[0m\n\u001b[1;32m----> 1\u001b[1;33m \u001b[1;32mraise\u001b[0m \u001b[0mMemoryError\u001b[0m\u001b[1;33m(\u001b[0m\u001b[1;34m\"This is a memory error.\"\u001b[0m\u001b[1;33m)\u001b[0m\u001b[1;33m\u001b[0m\u001b[1;33m\u001b[0m\u001b[0m\n\u001b[0m",
      "\u001b[1;31mMemoryError\u001b[0m: This is a memory error."
     ]
    }
   ],
   "source": [
    "raise MemoryError(\"This is a memory error.\")"
   ]
  },
  {
   "cell_type": "code",
   "execution_count": 49,
   "id": "ed4b63a9",
   "metadata": {},
   "outputs": [
    {
     "name": "stdout",
     "output_type": "stream",
     "text": [
      "Enter a positive integer :-10\n",
      "Error: Entered negative number.\n"
     ]
    }
   ],
   "source": [
    "try:\n",
    "    num = int(input(\"Enter a positive integer :\"))\n",
    "    if num <= 0:\n",
    "        raise ValueError(\"Error: Entered negative number.\")\n",
    "except ValueError as e:\n",
    "    print(e)"
   ]
  },
  {
   "cell_type": "markdown",
   "id": "c902d43a",
   "metadata": {},
   "source": [
    "## try ... finally\n",
    "\n",
    "- The try statement in Python Can have an optional finally clause. This clause is executed no matter what, and is generally usedto release external resources."
   ]
  },
  {
   "cell_type": "code",
   "execution_count": 50,
   "id": "d3ec0a1b",
   "metadata": {},
   "outputs": [],
   "source": [
    "try:\n",
    "    f = open('example.txt')\n",
    "finally:\n",
    "    f.close()"
   ]
  },
  {
   "cell_type": "markdown",
   "id": "162cf488",
   "metadata": {},
   "source": [
    "# Debugging in python\n",
    "\n",
    "__pdb__  implements an interactive debugging environment for Python programs. It includes features to let you pause your program, look at the values of variables, and watch program execution step-by-step, so you can understand what your program actually does and find bugs in the logic."
   ]
  },
  {
   "cell_type": "markdown",
   "id": "aca4ff6c",
   "metadata": {},
   "source": [
    "# Starting the Debugger\n",
    "\n",
    "### from the command line"
   ]
  },
  {
   "cell_type": "code",
   "execution_count": 51,
   "id": "c4a3357c",
   "metadata": {},
   "outputs": [
    {
     "name": "stdout",
     "output_type": "stream",
     "text": [
      "0\n",
      "1\n",
      "2\n",
      "3\n",
      "4\n"
     ]
    }
   ],
   "source": [
    "def seq(n):\n",
    "    for i in range(n):\n",
    "        print(i)\n",
    "        \n",
    "seq(5)"
   ]
  },
  {
   "cell_type": "markdown",
   "id": "4ab60323",
   "metadata": {},
   "source": [
    "### From within your program"
   ]
  },
  {
   "cell_type": "code",
   "execution_count": 3,
   "id": "1aaa92f1",
   "metadata": {},
   "outputs": [
    {
     "name": "stdout",
     "output_type": "stream",
     "text": [
      "c: continue \n",
      " q: quit \n",
      " h:help \n",
      " list \n",
      " p:print \n",
      " p locals() \n",
      " p globals()\n",
      "> \u001b[1;32mc:\\users\\asus\\appdata\\local\\temp\\ipykernel_4264\\4201634967.py\u001b[0m(8)\u001b[0;36mseq\u001b[1;34m()\u001b[0m\n",
      "\n",
      "ipdb> c\n",
      "0\n",
      "> \u001b[1;32mc:\\users\\asus\\appdata\\local\\temp\\ipykernel_4264\\4201634967.py\u001b[0m(7)\u001b[0;36mseq\u001b[1;34m()\u001b[0m\n",
      "\n",
      "ipdb> h\n",
      "\n",
      "Documented commands (type help <topic>):\n",
      "========================================\n",
      "EOF    commands   enable    ll        pp       s                until \n",
      "a      condition  exit      longlist  psource  skip_hidden      up    \n",
      "alias  cont       h         n         q        skip_predicates  w     \n",
      "args   context    help      next      quit     source           whatis\n",
      "b      continue   ignore    p         r        step             where \n",
      "break  d          interact  pdef      restart  tbreak         \n",
      "bt     debug      j         pdoc      return   u              \n",
      "c      disable    jump      pfile     retval   unalias        \n",
      "cl     display    l         pinfo     run      undisplay      \n",
      "clear  down       list      pinfo2    rv       unt            \n",
      "\n",
      "Miscellaneous help topics:\n",
      "==========================\n",
      "exec  pdb\n",
      "\n",
      "ipdb> list\n",
      "\u001b[0;32m      2 \u001b[0m\u001b[1;33m\u001b[0m\u001b[0m\n",
      "\u001b[0;32m      3 \u001b[0m\u001b[1;31m#interactive debugging\u001b[0m\u001b[1;33m\u001b[0m\u001b[1;33m\u001b[0m\u001b[0m\n",
      "\u001b[0;32m      4 \u001b[0m\u001b[1;33m\u001b[0m\u001b[0m\n",
      "\u001b[0;32m      5 \u001b[0m\u001b[1;32mdef\u001b[0m \u001b[0mseq\u001b[0m\u001b[1;33m(\u001b[0m\u001b[0mn\u001b[0m\u001b[1;33m)\u001b[0m\u001b[1;33m:\u001b[0m\u001b[1;33m\u001b[0m\u001b[1;33m\u001b[0m\u001b[0m\n",
      "\u001b[0;32m      6 \u001b[0m    \u001b[1;32mfor\u001b[0m \u001b[0mi\u001b[0m \u001b[1;32min\u001b[0m \u001b[0mrange\u001b[0m\u001b[1;33m(\u001b[0m\u001b[0mn\u001b[0m\u001b[1;33m)\u001b[0m\u001b[1;33m:\u001b[0m\u001b[1;33m\u001b[0m\u001b[1;33m\u001b[0m\u001b[0m\n",
      "\u001b[1;32m----> 7 \u001b[1;33m        \u001b[0mpdb\u001b[0m\u001b[1;33m.\u001b[0m\u001b[0mset_trace\u001b[0m\u001b[1;33m(\u001b[0m\u001b[1;33m)\u001b[0m \u001b[1;31m#breakpoint\u001b[0m\u001b[1;33m\u001b[0m\u001b[1;33m\u001b[0m\u001b[0m\n",
      "\u001b[0m\u001b[0;32m      8 \u001b[0m        \u001b[0mprint\u001b[0m\u001b[1;33m(\u001b[0m\u001b[0mi\u001b[0m\u001b[1;33m)\u001b[0m\u001b[1;33m\u001b[0m\u001b[1;33m\u001b[0m\u001b[0m\n",
      "\u001b[0;32m      9 \u001b[0m    \u001b[1;32mreturn\u001b[0m\u001b[1;33m\u001b[0m\u001b[1;33m\u001b[0m\u001b[0m\n",
      "\u001b[0;32m     10 \u001b[0m\u001b[1;33m\u001b[0m\u001b[0m\n",
      "\u001b[0;32m     11 \u001b[0m\u001b[0mprint\u001b[0m\u001b[1;33m(\u001b[0m\u001b[1;34m\"c: continue \\n q: quit \\n h:help \\n list \\n p:print \\n p locals() \\n p globals()\"\u001b[0m\u001b[1;33m)\u001b[0m\u001b[1;33m\u001b[0m\u001b[1;33m\u001b[0m\u001b[0m\n",
      "\u001b[0;32m     12 \u001b[0m\u001b[1;33m\u001b[0m\u001b[0m\n",
      "\n",
      "ipdb> print\n",
      "<built-in function print>\n",
      "ipdb> p\n",
      "*** SyntaxError: unexpected EOF while parsing\n",
      "ipdb> locals()\n",
      "{'n': 5, 'i': 1}\n",
      "ipdb> globals()\n",
      "{'__name__': '__main__', '__doc__': 'Automatically created module for IPython interactive environment', '__package__': None, '__loader__': None, '__spec__': None, '__builtin__': <module 'builtins' (built-in)>, '__builtins__': <module 'builtins' (built-in)>, '_ih': ['', 'import pdb\\n\\n#interactive debugging\\n\\ndef seq(n):\\n    for i in range(n):\\n        pdb.set_trace() #breakpoint\\n        print(i)\\n    return\\n\\nprint(\"c: continue \\\\n q: quit \\\\n h:help \\\\n list \\\\n p:print \\\\n p locals() \\\\n p globals()\")\\n\\nseq(5)', 'import pdb\\n\\n#interactive debugging\\n\\ndef seq(n):\\n    for i in range(n):\\n        pdb.set_trace() #breakpoint\\n        print(i)\\n    return\\n\\nprint(\"c: continue \\\\n q: quit \\\\n h:help \\\\n list \\\\n p:print \\\\n p locals() \\\\n p globals()\")\\n\\nseq(5)', 'import pdb\\n\\n#interactive debugging\\n\\ndef seq(n):\\n    for i in range(n):\\n        pdb.set_trace() #breakpoint\\n        print(i)\\n    return\\n\\nprint(\"c: continue \\\\n q: quit \\\\n h:help \\\\n list \\\\n p:print \\\\n p locals() \\\\n p globals()\")\\n\\nseq(5)'], '_oh': {}, '_dh': ['C:\\\\Users\\\\Asus\\\\03 - Applied Ai Course'], 'In': ['', 'import pdb\\n\\n#interactive debugging\\n\\ndef seq(n):\\n    for i in range(n):\\n        pdb.set_trace() #breakpoint\\n        print(i)\\n    return\\n\\nprint(\"c: continue \\\\n q: quit \\\\n h:help \\\\n list \\\\n p:print \\\\n p locals() \\\\n p globals()\")\\n\\nseq(5)', 'import pdb\\n\\n#interactive debugging\\n\\ndef seq(n):\\n    for i in range(n):\\n        pdb.set_trace() #breakpoint\\n        print(i)\\n    return\\n\\nprint(\"c: continue \\\\n q: quit \\\\n h:help \\\\n list \\\\n p:print \\\\n p locals() \\\\n p globals()\")\\n\\nseq(5)', 'import pdb\\n\\n#interactive debugging\\n\\ndef seq(n):\\n    for i in range(n):\\n        pdb.set_trace() #breakpoint\\n        print(i)\\n    return\\n\\nprint(\"c: continue \\\\n q: quit \\\\n h:help \\\\n list \\\\n p:print \\\\n p locals() \\\\n p globals()\")\\n\\nseq(5)'], 'Out': {}, 'get_ipython': <bound method InteractiveShell.get_ipython of <ipykernel.zmqshell.ZMQInteractiveShell object at 0x00000266A2A28E80>>, 'exit': <IPython.core.autocall.ZMQExitAutocall object at 0x00000266A2AA6250>, 'quit': <IPython.core.autocall.ZMQExitAutocall object at 0x00000266A2AA6250>, '_': '', '__': '', '___': '', '_i': 'import pdb\\n\\n#interactive debugging\\n\\ndef seq(n):\\n    for i in range(n):\\n        pdb.set_trace() #breakpoint\\n        print(i)\\n    return\\n\\nprint(\"c: continue \\\\n q: quit \\\\n h:help \\\\n list \\\\n p:print \\\\n p locals() \\\\n p globals()\")\\n\\nseq(5)', '_ii': 'import pdb\\n\\n#interactive debugging\\n\\ndef seq(n):\\n    for i in range(n):\\n        pdb.set_trace() #breakpoint\\n        print(i)\\n    return\\n\\nprint(\"c: continue \\\\n q: quit \\\\n h:help \\\\n list \\\\n p:print \\\\n p locals() \\\\n p globals()\")\\n\\nseq(5)', '_iii': '', '_i1': 'import pdb\\n\\n#interactive debugging\\n\\ndef seq(n):\\n    for i in range(n):\\n        pdb.set_trace() #breakpoint\\n        print(i)\\n    return\\n\\nprint(\"c: continue \\\\n q: quit \\\\n h:help \\\\n list \\\\n p:print \\\\n p locals() \\\\n p globals()\")\\n\\nseq(5)', 'pdb': <module 'pdb' from 'E:\\\\Anaconda\\\\lib\\\\pdb.py'>, 'seq': <function seq at 0x00000266A2C88D30>, '_i2': 'import pdb\\n\\n#interactive debugging\\n\\ndef seq(n):\\n    for i in range(n):\\n        pdb.set_trace() #breakpoint\\n        print(i)\\n    return\\n\\nprint(\"c: continue \\\\n q: quit \\\\n h:help \\\\n list \\\\n p:print \\\\n p locals() \\\\n p globals()\")\\n\\nseq(5)', '_i3': 'import pdb\\n\\n#interactive debugging\\n\\ndef seq(n):\\n    for i in range(n):\\n        pdb.set_trace() #breakpoint\\n        print(i)\\n    return\\n\\nprint(\"c: continue \\\\n q: quit \\\\n h:help \\\\n list \\\\n p:print \\\\n p locals() \\\\n p globals()\")\\n\\nseq(5)'}\n",
      "ipdb> q\n"
     ]
    },
    {
     "ename": "BdbQuit",
     "evalue": "",
     "output_type": "error",
     "traceback": [
      "\u001b[1;31m---------------------------------------------------------------------------\u001b[0m",
      "\u001b[1;31mBdbQuit\u001b[0m                                   Traceback (most recent call last)",
      "\u001b[1;32m~\\AppData\\Local\\Temp/ipykernel_4264/4201634967.py\u001b[0m in \u001b[0;36m<module>\u001b[1;34m\u001b[0m\n\u001b[0;32m     11\u001b[0m \u001b[0mprint\u001b[0m\u001b[1;33m(\u001b[0m\u001b[1;34m\"c: continue \\n q: quit \\n h:help \\n list \\n p:print \\n p locals() \\n p globals()\"\u001b[0m\u001b[1;33m)\u001b[0m\u001b[1;33m\u001b[0m\u001b[1;33m\u001b[0m\u001b[0m\n\u001b[0;32m     12\u001b[0m \u001b[1;33m\u001b[0m\u001b[0m\n\u001b[1;32m---> 13\u001b[1;33m \u001b[0mseq\u001b[0m\u001b[1;33m(\u001b[0m\u001b[1;36m5\u001b[0m\u001b[1;33m)\u001b[0m\u001b[1;33m\u001b[0m\u001b[1;33m\u001b[0m\u001b[0m\n\u001b[0m",
      "\u001b[1;32m~\\AppData\\Local\\Temp/ipykernel_4264/4201634967.py\u001b[0m in \u001b[0;36mseq\u001b[1;34m(n)\u001b[0m\n\u001b[0;32m      5\u001b[0m \u001b[1;32mdef\u001b[0m \u001b[0mseq\u001b[0m\u001b[1;33m(\u001b[0m\u001b[0mn\u001b[0m\u001b[1;33m)\u001b[0m\u001b[1;33m:\u001b[0m\u001b[1;33m\u001b[0m\u001b[1;33m\u001b[0m\u001b[0m\n\u001b[0;32m      6\u001b[0m     \u001b[1;32mfor\u001b[0m \u001b[0mi\u001b[0m \u001b[1;32min\u001b[0m \u001b[0mrange\u001b[0m\u001b[1;33m(\u001b[0m\u001b[0mn\u001b[0m\u001b[1;33m)\u001b[0m\u001b[1;33m:\u001b[0m\u001b[1;33m\u001b[0m\u001b[1;33m\u001b[0m\u001b[0m\n\u001b[1;32m----> 7\u001b[1;33m         \u001b[0mpdb\u001b[0m\u001b[1;33m.\u001b[0m\u001b[0mset_trace\u001b[0m\u001b[1;33m(\u001b[0m\u001b[1;33m)\u001b[0m \u001b[1;31m#breakpoint\u001b[0m\u001b[1;33m\u001b[0m\u001b[1;33m\u001b[0m\u001b[0m\n\u001b[0m\u001b[0;32m      8\u001b[0m         \u001b[0mprint\u001b[0m\u001b[1;33m(\u001b[0m\u001b[0mi\u001b[0m\u001b[1;33m)\u001b[0m\u001b[1;33m\u001b[0m\u001b[1;33m\u001b[0m\u001b[0m\n\u001b[0;32m      9\u001b[0m     \u001b[1;32mreturn\u001b[0m\u001b[1;33m\u001b[0m\u001b[1;33m\u001b[0m\u001b[0m\n",
      "\u001b[1;32m~\\AppData\\Local\\Temp/ipykernel_4264/4201634967.py\u001b[0m in \u001b[0;36mseq\u001b[1;34m(n)\u001b[0m\n\u001b[0;32m      5\u001b[0m \u001b[1;32mdef\u001b[0m \u001b[0mseq\u001b[0m\u001b[1;33m(\u001b[0m\u001b[0mn\u001b[0m\u001b[1;33m)\u001b[0m\u001b[1;33m:\u001b[0m\u001b[1;33m\u001b[0m\u001b[1;33m\u001b[0m\u001b[0m\n\u001b[0;32m      6\u001b[0m     \u001b[1;32mfor\u001b[0m \u001b[0mi\u001b[0m \u001b[1;32min\u001b[0m \u001b[0mrange\u001b[0m\u001b[1;33m(\u001b[0m\u001b[0mn\u001b[0m\u001b[1;33m)\u001b[0m\u001b[1;33m:\u001b[0m\u001b[1;33m\u001b[0m\u001b[1;33m\u001b[0m\u001b[0m\n\u001b[1;32m----> 7\u001b[1;33m         \u001b[0mpdb\u001b[0m\u001b[1;33m.\u001b[0m\u001b[0mset_trace\u001b[0m\u001b[1;33m(\u001b[0m\u001b[1;33m)\u001b[0m \u001b[1;31m#breakpoint\u001b[0m\u001b[1;33m\u001b[0m\u001b[1;33m\u001b[0m\u001b[0m\n\u001b[0m\u001b[0;32m      8\u001b[0m         \u001b[0mprint\u001b[0m\u001b[1;33m(\u001b[0m\u001b[0mi\u001b[0m\u001b[1;33m)\u001b[0m\u001b[1;33m\u001b[0m\u001b[1;33m\u001b[0m\u001b[0m\n\u001b[0;32m      9\u001b[0m     \u001b[1;32mreturn\u001b[0m\u001b[1;33m\u001b[0m\u001b[1;33m\u001b[0m\u001b[0m\n",
      "\u001b[1;32mE:\\Anaconda\\lib\\bdb.py\u001b[0m in \u001b[0;36mtrace_dispatch\u001b[1;34m(self, frame, event, arg)\u001b[0m\n\u001b[0;32m     86\u001b[0m             \u001b[1;32mreturn\u001b[0m \u001b[1;31m# None\u001b[0m\u001b[1;33m\u001b[0m\u001b[1;33m\u001b[0m\u001b[0m\n\u001b[0;32m     87\u001b[0m         \u001b[1;32mif\u001b[0m \u001b[0mevent\u001b[0m \u001b[1;33m==\u001b[0m \u001b[1;34m'line'\u001b[0m\u001b[1;33m:\u001b[0m\u001b[1;33m\u001b[0m\u001b[1;33m\u001b[0m\u001b[0m\n\u001b[1;32m---> 88\u001b[1;33m             \u001b[1;32mreturn\u001b[0m \u001b[0mself\u001b[0m\u001b[1;33m.\u001b[0m\u001b[0mdispatch_line\u001b[0m\u001b[1;33m(\u001b[0m\u001b[0mframe\u001b[0m\u001b[1;33m)\u001b[0m\u001b[1;33m\u001b[0m\u001b[1;33m\u001b[0m\u001b[0m\n\u001b[0m\u001b[0;32m     89\u001b[0m         \u001b[1;32mif\u001b[0m \u001b[0mevent\u001b[0m \u001b[1;33m==\u001b[0m \u001b[1;34m'call'\u001b[0m\u001b[1;33m:\u001b[0m\u001b[1;33m\u001b[0m\u001b[1;33m\u001b[0m\u001b[0m\n\u001b[0;32m     90\u001b[0m             \u001b[1;32mreturn\u001b[0m \u001b[0mself\u001b[0m\u001b[1;33m.\u001b[0m\u001b[0mdispatch_call\u001b[0m\u001b[1;33m(\u001b[0m\u001b[0mframe\u001b[0m\u001b[1;33m,\u001b[0m \u001b[0marg\u001b[0m\u001b[1;33m)\u001b[0m\u001b[1;33m\u001b[0m\u001b[1;33m\u001b[0m\u001b[0m\n",
      "\u001b[1;32mE:\\Anaconda\\lib\\bdb.py\u001b[0m in \u001b[0;36mdispatch_line\u001b[1;34m(self, frame)\u001b[0m\n\u001b[0;32m    111\u001b[0m         \u001b[1;32mif\u001b[0m \u001b[0mself\u001b[0m\u001b[1;33m.\u001b[0m\u001b[0mstop_here\u001b[0m\u001b[1;33m(\u001b[0m\u001b[0mframe\u001b[0m\u001b[1;33m)\u001b[0m \u001b[1;32mor\u001b[0m \u001b[0mself\u001b[0m\u001b[1;33m.\u001b[0m\u001b[0mbreak_here\u001b[0m\u001b[1;33m(\u001b[0m\u001b[0mframe\u001b[0m\u001b[1;33m)\u001b[0m\u001b[1;33m:\u001b[0m\u001b[1;33m\u001b[0m\u001b[1;33m\u001b[0m\u001b[0m\n\u001b[0;32m    112\u001b[0m             \u001b[0mself\u001b[0m\u001b[1;33m.\u001b[0m\u001b[0muser_line\u001b[0m\u001b[1;33m(\u001b[0m\u001b[0mframe\u001b[0m\u001b[1;33m)\u001b[0m\u001b[1;33m\u001b[0m\u001b[1;33m\u001b[0m\u001b[0m\n\u001b[1;32m--> 113\u001b[1;33m             \u001b[1;32mif\u001b[0m \u001b[0mself\u001b[0m\u001b[1;33m.\u001b[0m\u001b[0mquitting\u001b[0m\u001b[1;33m:\u001b[0m \u001b[1;32mraise\u001b[0m \u001b[0mBdbQuit\u001b[0m\u001b[1;33m\u001b[0m\u001b[1;33m\u001b[0m\u001b[0m\n\u001b[0m\u001b[0;32m    114\u001b[0m         \u001b[1;32mreturn\u001b[0m \u001b[0mself\u001b[0m\u001b[1;33m.\u001b[0m\u001b[0mtrace_dispatch\u001b[0m\u001b[1;33m\u001b[0m\u001b[1;33m\u001b[0m\u001b[0m\n\u001b[0;32m    115\u001b[0m \u001b[1;33m\u001b[0m\u001b[0m\n",
      "\u001b[1;31mBdbQuit\u001b[0m: "
     ]
    }
   ],
   "source": [
    "import pdb\n",
    "\n",
    "#interactive debugging\n",
    "\n",
    "def seq(n):\n",
    "    for i in range(n):\n",
    "        pdb.set_trace() #breakpoint\n",
    "        print(i)\n",
    "    return\n",
    "\n",
    "print(\"c: continue \\n q: quit \\n h:help \\n list \\n p:print \\n p locals() \\n p globals()\")\n",
    "\n",
    "seq(5)\n"
   ]
  },
  {
   "cell_type": "markdown",
   "id": "37f57a64",
   "metadata": {},
   "source": [
    "# Debugger Commands\n",
    "\n",
    "__1. h(elp) [command]__\n",
    "\n",
    "Without argument, print the list of available commands. With a command as argument, print help about that command. help pdb displays the full documentation (the docstring of the pdb module). Since the command argument must be an identifier, help exec must be entered to get help on the ! command.\n",
    "\n",
    "__2. w(here)__\n",
    "\n",
    "Print a stack trace, with the most recent frame at the bottom. An arrow indicates the current frame, which determines the context of most commands.\n",
    "\n",
    "__3. d(own) [count]__\n",
    "\n",
    "Move the current frame count (default one) levels down in the stack trace (to a newer frame).\n",
    "\n",
    "__4.c(ont(inue))__\n",
    "\n",
    "Continue execution, only stop when a breakpoint is encountered.\n",
    "\n",
    "__5. q(uit)__\n",
    "\n",
    "Quit from the debugger. The program being executed is aborted.\n",
    "\n",
    "__Termial/Command prompt based debugging__"
   ]
  },
  {
   "cell_type": "markdown",
   "id": "41bd18dd",
   "metadata": {},
   "source": [
    "# Python - OOPS concepts"
   ]
  },
  {
   "cell_type": "markdown",
   "id": "4f96e908",
   "metadata": {},
   "source": [
    "## Note : Python supports all kinds of programming. Object Oriented Programming, Functional programming and Procedural Oriented Programming.\n",
    "\n",
    "# Object Oriented Programming\n",
    "- Python is a object oriented language.\n",
    "- EVerything in python is an object with its properties and methods.\n",
    "- Class is like a building block for that object constructor.\n",
    "\n",
    "## Points to remember:\n",
    "- Every object will have some attribute and every object will have some behaviour.\n",
    "- When we say attributes, it means data and some properties. for ex - Height,age, name etc.\n",
    "- When we say behaviour, it usually means properties like Talking, Walking, Dancing etc.\n",
    "- Object will have some data which will be stored in variable and the way it behaves is stored in methods.\n",
    "- Methods are nothing but functions, functions in object oriented programming are known as Methods.\n",
    "- Inside the class, we write design of an object. And Object is an instance of a class."
   ]
  },
  {
   "cell_type": "markdown",
   "id": "925e9b6d",
   "metadata": {},
   "source": [
    "### OOPs Concepts"
   ]
  },
  {
   "cell_type": "code",
   "execution_count": 7,
   "id": "84b3b638",
   "metadata": {},
   "outputs": [
    {
     "name": "stdout",
     "output_type": "stream",
     "text": [
      "Python | Data Science | Machine Learning\n"
     ]
    }
   ],
   "source": [
    "class student():                            #Class\n",
    "    \"\"\"\n",
    "    Lets have some attributes of Sudhanshu\n",
    "    \"\"\"\n",
    "    def skills(self):                         #Methods\n",
    "        #Self is the object we are passing\n",
    "        print(\"Python | Data Science | Machine Learning\")\n",
    "        \n",
    "\n",
    "stu = student()\n",
    "student.skills(stu)"
   ]
  },
  {
   "cell_type": "code",
   "execution_count": 8,
   "id": "87801d6e",
   "metadata": {},
   "outputs": [
    {
     "name": "stdout",
     "output_type": "stream",
     "text": [
      "Python | Data Science | Machine Learning\n"
     ]
    }
   ],
   "source": [
    "#We can also directly call it\n",
    "\n",
    "stu.skills()"
   ]
  },
  {
   "cell_type": "code",
   "execution_count": 6,
   "id": "1f7d38ac",
   "metadata": {},
   "outputs": [
    {
     "data": {
      "text/plain": [
       "3"
      ]
     },
     "execution_count": 6,
     "metadata": {},
     "output_type": "execute_result"
    }
   ],
   "source": [
    "a = 5\n",
    "a.bit_length()"
   ]
  },
  {
   "cell_type": "markdown",
   "id": "96072c1d",
   "metadata": {},
   "source": [
    "## __ init __ method in Python\n",
    "- __\"init\"__ is a reserved method in python classes. It is called as a constructor in object oriented terminology. This method is called when an object is created from a class and it allows the class to initialize the attributes of the class."
   ]
  },
  {
   "cell_type": "code",
   "execution_count": 9,
   "id": "a2b87db2",
   "metadata": {},
   "outputs": [
    {
     "name": "stdout",
     "output_type": "stream",
     "text": [
      "This will get initialized.\n",
      "i5 11th gen, 16gb Ram, 4gb Graphics card\n"
     ]
    }
   ],
   "source": [
    "class computer():\n",
    "    \"\"\"\n",
    "    It will have attributes and methods\n",
    "    \"\"\"\n",
    "    \n",
    "    def __init__(self):\n",
    "        print(\"This will get initialized.\")\n",
    "        \n",
    "    def config(self):\n",
    "        print(\"i5 11th gen, 16gb Ram, 4gb Graphics card\")\n",
    "\n",
    "\n",
    "com1 = computer()\n",
    "com1.config()"
   ]
  },
  {
   "cell_type": "code",
   "execution_count": 10,
   "id": "91e2256f",
   "metadata": {},
   "outputs": [
    {
     "name": "stdout",
     "output_type": "stream",
     "text": [
      "Fruits and Vegetables are : apple and banana respectively.\n",
      "Fruits and Vegetables are : Orange and Cabbage respectively.\n"
     ]
    }
   ],
   "source": [
    "class groffers():\n",
    "    \"\"\"\n",
    "    Let's build a class for fruits and vegetables.\n",
    "    \"\"\"\n",
    "    \n",
    "    def __init__(self,fruit,veggies):\n",
    "        self.fruit = fruit\n",
    "        self.veggies = veggies\n",
    "        \n",
    "    def fruveg(self):\n",
    "        print(\"Fruits and Vegetables are : {0} and {1} respectively.\".format(self.fruit,self.veggies))\n",
    "        \n",
    "\n",
    "gro1 = groffers(\"apple\",\"banana\")\n",
    "gro2 = groffers(\"Orange\",\"Cabbage\")\n",
    "\n",
    "gro1.fruveg()\n",
    "gro2.fruveg()"
   ]
  },
  {
   "cell_type": "markdown",
   "id": "17eaa3d7",
   "metadata": {},
   "source": [
    "## Constructor and Self\n",
    "- All Objects are stored in Heap Memory.\n",
    "- Everytime you create an object, It is allocated to a new space."
   ]
  },
  {
   "cell_type": "code",
   "execution_count": 11,
   "id": "a0c9f90f",
   "metadata": {},
   "outputs": [
    {
     "name": "stdout",
     "output_type": "stream",
     "text": [
      "2801662489264\n",
      "2801662488736\n"
     ]
    }
   ],
   "source": [
    "class test():\n",
    "    pass\n",
    "\n",
    "t1 = test()\n",
    "t2 = test()\n",
    "\n",
    "print(id(t1))\n",
    "print(id(t2))"
   ]
  },
  {
   "cell_type": "code",
   "execution_count": 14,
   "id": "97f38d32",
   "metadata": {},
   "outputs": [
    {
     "name": "stdout",
     "output_type": "stream",
     "text": [
      "Java\n",
      "Python\n"
     ]
    }
   ],
   "source": [
    "class computer():\n",
    "    def __init__(self):\n",
    "        self.language = \"Python\"\n",
    "        self.age = 25\n",
    "        \n",
    "c1 = computer()\n",
    "c2 = computer()\n",
    "\n",
    "c1.language = \"Java\"\n",
    "c1.age = 25\n",
    "\n",
    "print(c1.language)\n",
    "print(c2.language)"
   ]
  },
  {
   "cell_type": "code",
   "execution_count": 15,
   "id": "6a840388",
   "metadata": {},
   "outputs": [
    {
     "name": "stdout",
     "output_type": "stream",
     "text": [
      "Java 24\n",
      "Python 25\n"
     ]
    }
   ],
   "source": [
    "class computer():\n",
    "    def __init__(self):\n",
    "        self.language = \"Python\"\n",
    "        self.age = 25\n",
    "        \n",
    "    def update(self):\n",
    "        self.age = 24\n",
    "        \n",
    "c1 = computer()\n",
    "c2 = computer()\n",
    "\n",
    "c1.language = \"Java\"\n",
    "c1.age = 30\n",
    "\n",
    "c1.update()\n",
    "\n",
    "print(c1.language, c1.age)\n",
    "print(c2.language, c2.age)"
   ]
  },
  {
   "cell_type": "code",
   "execution_count": 24,
   "id": "ba88e8c8",
   "metadata": {},
   "outputs": [
    {
     "name": "stdout",
     "output_type": "stream",
     "text": [
      "They are same\n",
      "Ford\n",
      "5\n",
      "Toyata\n"
     ]
    }
   ],
   "source": [
    "class vehicle():\n",
    "    def __init__(self):\n",
    "        self.name = \"Toyata\"\n",
    "        self.gear = 5\n",
    "        \n",
    "    def update(self):\n",
    "        self.gear = 4\n",
    "        \n",
    "    def compare(self,other):\n",
    "        if self.gear == other.gear:\n",
    "            return True\n",
    "        else:\n",
    "            False\n",
    "            \n",
    "c1 = vehicle()\n",
    "c2 = vehicle()\n",
    "\n",
    "c1.name = \"Ford\"\n",
    "c1.gear = 5\n",
    "\n",
    "#c1.update()\n",
    "\n",
    "if c1.compare(c2):\n",
    "    print(\"They are same\")\n",
    "else:\n",
    "    print(\"They are not same\")\n",
    "    \n",
    "print(c1.name)\n",
    "print(c1.gear)\n",
    "print(c2.name)\n"
   ]
  },
  {
   "cell_type": "markdown",
   "id": "6447bd6c",
   "metadata": {},
   "source": [
    "##  Note : compare(who is calling, whom to compare)"
   ]
  },
  {
   "cell_type": "code",
   "execution_count": 21,
   "id": "d843cfda",
   "metadata": {},
   "outputs": [
    {
     "name": "stdout",
     "output_type": "stream",
     "text": [
      "They are not same.\n",
      "Black\n",
      "Red\n",
      "2\n",
      "Red\n"
     ]
    }
   ],
   "source": [
    "class clothes():\n",
    "    \n",
    "    def __init__(self):\n",
    "        self.color = \"Red\"\n",
    "        self.count = 2\n",
    "        \n",
    "    def update(self):\n",
    "        self.color = \"blue\"\n",
    "        self.count = 3\n",
    "        \n",
    "    def compare(self,other):\n",
    "        if self.color == other.color:\n",
    "            return True\n",
    "        else:\n",
    "            return False\n",
    "        \n",
    "c1 = clothes()\n",
    "c2 = clothes()\n",
    "\n",
    "c1.color = \"Black\"\n",
    "c1.count = 2\n",
    "\n",
    "#c1.update()\n",
    "\n",
    "if c1.compare(c2):\n",
    "    print(\"They are same.\")\n",
    "else:\n",
    "    print(\"They are not same.\")\n",
    "    \n",
    "print(c1.color)\n",
    "print(c2.color)\n",
    "print(c1.count)\n",
    "print(c2.color)"
   ]
  },
  {
   "cell_type": "code",
   "execution_count": 23,
   "id": "e27606bf",
   "metadata": {},
   "outputs": [
    {
     "name": "stdout",
     "output_type": "stream",
     "text": [
      "blue\n",
      "Red\n",
      "3\n",
      "2\n"
     ]
    }
   ],
   "source": [
    "c1.update()\n",
    "\n",
    "print(c1.color)\n",
    "print(c2.color)\n",
    "print(c1.count)\n",
    "print(c2.count)"
   ]
  },
  {
   "cell_type": "markdown",
   "id": "f823e2d0",
   "metadata": {},
   "source": [
    "## Types of Variable\n",
    "- If we declare the variable inside the __ init__ it becomes instance variable and if we declare outside the __ init__ then it becomes Class variable or Static variable."
   ]
  },
  {
   "cell_type": "code",
   "execution_count": 25,
   "id": "fad0e3cf",
   "metadata": {},
   "outputs": [
    {
     "name": "stdout",
     "output_type": "stream",
     "text": [
      "Science 42 17\n",
      "English 50 17\n"
     ]
    }
   ],
   "source": [
    "class subjects():\n",
    "    \n",
    "    passing_marks = 20\n",
    "    \n",
    "    def __init__(self):\n",
    "        self.name = \"English\"\n",
    "        self.marks = 50\n",
    "        \n",
    "c1 = subjects()\n",
    "c2 = subjects()\n",
    "\n",
    "c1.name = \"Science\"\n",
    "c1.marks = 42\n",
    "\n",
    "subjects.passing_marks = 17\n",
    "\n",
    "print(c1.name,c1.marks,c1.passing_marks)\n",
    "print(c2.name,c2.marks,c2.passing_marks)"
   ]
  },
  {
   "cell_type": "markdown",
   "id": "f5c1c5ac",
   "metadata": {},
   "source": [
    "## Types of Methods\n",
    "### There are 3 types of methods\n",
    "- Instance Methods\n",
    "- Class Methods\n",
    "- Static Methods\n",
    "\n",
    "In instance methods there are two methods (i)Accessor Methods and (ii) Mutator Methods\n",
    "\n",
    "- Accessor Methods is used when we just want to access the values.\n",
    "- Mutator Methods is used when we want to modify the values.\n",
    "\n",
    "## Instance Methods"
   ]
  },
  {
   "cell_type": "code",
   "execution_count": 2,
   "id": "d193425f",
   "metadata": {},
   "outputs": [
    {
     "name": "stdout",
     "output_type": "stream",
     "text": [
      "36.666666666666664\n",
      "Python Community\n",
      "70.0\n",
      "Python Community\n"
     ]
    }
   ],
   "source": [
    "class marks:\n",
    "    \n",
    "    school = \"Python Community\"\n",
    "    \n",
    "    def __init__(self,m1,m2,m3):\n",
    "        self.m1 = m1\n",
    "        self.m2 = m2\n",
    "        self.m3 = m3\n",
    "    \n",
    "    def average(self):\n",
    "        return (self.m1 + self.m2 + self.m3)/3\n",
    "    \n",
    "m1 = marks(20,40,50)\n",
    "m2 = marks(60,70,80)\n",
    "\n",
    "print(m1.average())\n",
    "print(m1.school)\n",
    "\n",
    "print(m2.average())\n",
    "print(m2.school)"
   ]
  },
  {
   "cell_type": "markdown",
   "id": "42e36149",
   "metadata": {},
   "source": [
    "## Get Methods and Set Methods\n",
    "### Getters get the value and Setters set the value.\n",
    "### Getters will only fetch the value, it will not change the value that's why they are known as ACCESSORS.\n",
    "### Setters have the capability to change the value and hence they are known as MUTATORS."
   ]
  },
  {
   "cell_type": "code",
   "execution_count": 9,
   "id": "9fa59f37",
   "metadata": {},
   "outputs": [
    {
     "name": "stdout",
     "output_type": "stream",
     "text": [
      "(20, 40, 50)\n",
      "36.666666666666664\n",
      "(100, 40, 50)\n"
     ]
    }
   ],
   "source": [
    "class marks:\n",
    "    \n",
    "    school = \"Python Community\"\n",
    "    \n",
    "    def __init__(self,m1,m2,m3):\n",
    "        self.m1 = m1\n",
    "        self.m2 = m2\n",
    "        self.m3 = m3\n",
    "    \n",
    "    def average(self):\n",
    "        return (self.m1 + self.m2 + self.m3)/3\n",
    "    \n",
    "    def get_marks(self):\n",
    "        return self.m1, self.m2, self.m3\n",
    "    \n",
    "    def set_m1(self, value):\n",
    "        self.m1 = value\n",
    "    \n",
    "m1 = marks(20,40,50)\n",
    "m2 = marks(60,70,80)\n",
    "\n",
    "print(m1.get_marks())\n",
    "print(m1.average())\n",
    "\n",
    "m1.set_m1(100)\n",
    "print(m1.get_marks())"
   ]
  },
  {
   "cell_type": "markdown",
   "id": "e12fd28b",
   "metadata": {},
   "source": [
    "## Class Methods\n",
    "- If we want to work with class variables then we will use the Class Methods.\n",
    "- Whenever we work with CLASS VARIABLE, we never use SELF Keyword, instead we use CLS keyword."
   ]
  },
  {
   "cell_type": "code",
   "execution_count": 12,
   "id": "7588404f",
   "metadata": {},
   "outputs": [
    {
     "name": "stdout",
     "output_type": "stream",
     "text": [
      "48.333333333333336\n",
      "XYZ Public School\n"
     ]
    }
   ],
   "source": [
    "class marks:\n",
    "    \n",
    "    school = \"XYZ Public School\"\n",
    "    \n",
    "    def __init__(self,m1,m2,m3):\n",
    "        self.m1 = m1\n",
    "        self.m2 = m2\n",
    "        self.m3 = m3\n",
    "        \n",
    "    def average(self):\n",
    "        return (self.m1 + self.m2 + self.m3)/3\n",
    "    \n",
    "    \n",
    "    @classmethod                         #decorators\n",
    "    def get_school(cls):\n",
    "        return cls.school\n",
    "    \n",
    "\n",
    "m1 = marks(35,45,65)\n",
    "m2 = marks(40,50,70)\n",
    "\n",
    "print(m1.average())\n",
    "print(m1.get_school())"
   ]
  },
  {
   "cell_type": "markdown",
   "id": "7329bc21",
   "metadata": {},
   "source": [
    "## Static Methods\n",
    "- Static Methods are use when we have nothing to do with class variable or instance variable, then we use Static Methods."
   ]
  },
  {
   "cell_type": "code",
   "execution_count": 14,
   "id": "811f365d",
   "metadata": {},
   "outputs": [
    {
     "name": "stdout",
     "output_type": "stream",
     "text": [
      "7.0\n",
      "The Pursuit of Happyness\n",
      "This is a static method which has nothing to do with class variable or instance variable.\n"
     ]
    }
   ],
   "source": [
    "class movies:\n",
    "    \n",
    "    mov_name = \"The Pursuit of Happyness\"\n",
    "    \n",
    "    def __init__(self,r1,r2,r3):\n",
    "        self.r1 = r1\n",
    "        self.r2 = r2\n",
    "        self.r3 = r3\n",
    "        \n",
    "    def avg_rating(self):\n",
    "        return (self.r1 + self.r2 + self.r3)/3\n",
    "    \n",
    "    \n",
    "    @classmethod                   #decorator\n",
    "    def get_mov_name(cls):\n",
    "        return cls.mov_name\n",
    "    \n",
    "    \n",
    "    @staticmethod\n",
    "    def info():\n",
    "        print(\"This is a static method which has nothing to do with class variable or instance variable.\")\n",
    "        \n",
    "        \n",
    "m1 = movies(6,7,8)\n",
    "m2 = movies(5,6,7)\n",
    "\n",
    "print(m1.avg_rating())\n",
    "print(m1.get_mov_name())\n",
    "\n",
    "m1.info()"
   ]
  },
  {
   "cell_type": "markdown",
   "id": "cce9763a",
   "metadata": {},
   "source": [
    "# Example:"
   ]
  },
  {
   "cell_type": "code",
   "execution_count": 12,
   "id": "d412d558",
   "metadata": {},
   "outputs": [
    {
     "name": "stdout",
     "output_type": "stream",
     "text": [
      "23.333333333333332\n",
      "20.0\n",
      "Maruti Suzuki\n",
      "(25, 23, 22)\n",
      "(100, 23, 22)\n",
      "The Cars used in mileage testing is Swift, Alto 800, WagonR \n"
     ]
    }
   ],
   "source": [
    "class cars():\n",
    "    \"\"\"\n",
    "    Testing all Functions\n",
    "    \"\"\"\n",
    "    car_brand = \"Maruti Suzuki\"\n",
    "    \n",
    "    def __init__(self,mil1,mil2,mil3):\n",
    "        self.mil1 = mil1\n",
    "        self.mil2 = mil2\n",
    "        self.mil3 = mil3\n",
    "        \n",
    "    def avg_mil(self):\n",
    "        return (self.mil1 + self.mil2 + self.mil3)/3\n",
    "    \n",
    "    @classmethod\n",
    "    def get_car_brand(cls):\n",
    "        return cls.car_brand\n",
    "    \n",
    "    def set_mil1(self, value):\n",
    "        self.mil1 = value\n",
    "        \n",
    "    def list_mil(self):\n",
    "        return self.mil1, self.mil2, self.mil3\n",
    "    \n",
    "    @staticmethod\n",
    "    def info():\n",
    "        print(\"The Cars used in mileage testing is Swift, Alto 800, WagonR \")\n",
    "        \n",
    "\n",
    "car1 = cars(25,23,22)\n",
    "car2 = cars(21,20,19)\n",
    "\n",
    "print(car1.avg_mil())\n",
    "print(car2.avg_mil())\n",
    "print(car2.get_car_brand())\n",
    "bprint(car1.list_mil())\n",
    "print(car2.list_mil())\n",
    "\n",
    "car1.set_mil1(100)\n",
    "print(car1.list_mil())\n",
    "\n",
    "car1.info()\n",
    "    \n",
    "    "
   ]
  },
  {
   "cell_type": "markdown",
   "id": "558b1873",
   "metadata": {},
   "source": [
    "# Inner Class in Python - (A class inside a class)\n",
    "\n",
    "## Note - You can create object of inner class outside the outer class OR you can create object of inner class outside the outer class provided you use outer class name to call it.\n",
    "\n",
    "### Let's Learn through examples"
   ]
  },
  {
   "cell_type": "code",
   "execution_count": 21,
   "id": "97260287",
   "metadata": {},
   "outputs": [
    {
     "name": "stdout",
     "output_type": "stream",
     "text": [
      "Abc 25 Asus i5 11th gen, 16gb Ram , 4gb 3050 Ti Graphic card\n",
      "Def 30 Asus i5 11th gen, 16gb Ram , 4gb 3050 Ti Graphic card\n",
      "*************************************\n",
      "Asus\n",
      "i5 11th gen, 16gb Ram , 4gb 3050 Ti Graphic card\n",
      "*************************************\n",
      "Asus i5 11th gen, 16gb Ram , 4gb 3050 Ti Graphic card\n"
     ]
    }
   ],
   "source": [
    "class student:\n",
    "    \n",
    "    def __init__(self,name,rollno):\n",
    "        self.name = name\n",
    "        self.rollno = rollno\n",
    "        self.laptop = self.laptop()\n",
    "        \n",
    "    def show(self):\n",
    "        print(self.name, self.rollno, self.laptop.brand, self.laptop.config)\n",
    "        \n",
    "    class laptop:\n",
    "        \n",
    "        def __init__(self):\n",
    "            self.brand = \"Asus\"\n",
    "            self.config = \"i5 11th gen, 16gb Ram , 4gb 3050 Ti Graphic card\"\n",
    "            \n",
    "    \n",
    "    \n",
    "s1 = student(\"Abc\",25)\n",
    "s2 = student(\"Def\", 30)\n",
    "\n",
    "s1.show()\n",
    "s2.show()\n",
    "\n",
    "print(\"*************************************\")\n",
    "\n",
    "print(s1.laptop.brand)\n",
    "print(s2.laptop.config)\n",
    "\n",
    "print(\"*************************************\")\n",
    "\n",
    "lap1 = student.laptop()\n",
    "lap2 = student.laptop()\n",
    "\n",
    "print(lap1.brand,lap2.config)"
   ]
  },
  {
   "cell_type": "code",
   "execution_count": 26,
   "id": "8bc68e12",
   "metadata": {},
   "outputs": [
    {
     "name": "stdout",
     "output_type": "stream",
     "text": [
      "('ABC', 1, 52, 98)\n",
      "('def', 2, 52, 98)\n",
      "****************************\n",
      "52\n",
      "98\n",
      "**********************************\n",
      "98\n",
      "52\n"
     ]
    },
    {
     "data": {
      "text/plain": [
       "('ABC', 1, 52, 98)"
      ]
     },
     "execution_count": 26,
     "metadata": {},
     "output_type": "execute_result"
    }
   ],
   "source": [
    "class student:\n",
    "    \n",
    "    def __init__(self,name,rollno):\n",
    "        self.name = name\n",
    "        self.rollno = rollno\n",
    "        self.marks = self.marks()\n",
    "        \n",
    "    def show(self):\n",
    "        return self.name, self.rollno, self.marks.english, self.marks.maths\n",
    "    \n",
    "    class marks:\n",
    "        \n",
    "        def __init__(self):\n",
    "            self.english = 52\n",
    "            self.maths = 98\n",
    "        \n",
    "        def show(self):\n",
    "            print(self.english, self.maths)\n",
    "            \n",
    "            \n",
    "s1 = student(\"ABC\",1)\n",
    "s2 = student(\"def\",2)\n",
    "\n",
    "print(s1.show())\n",
    "print(s2.show())\n",
    "\n",
    "print(\"****************************\")\n",
    "\n",
    "print(s1.marks.english)\n",
    "print(s2.marks.maths)\n",
    "\n",
    "print(\"**********************************\")\n",
    "\n",
    "mark1 = student.marks()\n",
    "mark2 = student.marks()\n",
    "       \n",
    "print(mark1.maths)\n",
    "print(mark2.english)\n",
    "    \n",
    "s1.show()\n",
    "    "
   ]
  },
  {
   "cell_type": "markdown",
   "id": "45ce515c",
   "metadata": {},
   "source": [
    "# Inheritance in Python"
   ]
  },
  {
   "cell_type": "code",
   "execution_count": 30,
   "id": "4a856075",
   "metadata": {},
   "outputs": [
    {
     "name": "stdout",
     "output_type": "stream",
     "text": [
      "Feature 1 is working\n",
      "Feature 2 is working\n",
      "*********************\n",
      "Feature 1 is working\n",
      "Feature 2 is working\n",
      "Feature 3 is working.\n",
      "Feature 4 is working.\n"
     ]
    }
   ],
   "source": [
    "#SINGLE LEVEL INHERITANCE\n",
    "\n",
    "class A:                     #Super class or Parent\n",
    "    \n",
    "    def feature1(self):\n",
    "        print(\"Feature 1 is working\")\n",
    "        \n",
    "    def feature2(self):\n",
    "        print(\"Feature 2 is working\")\n",
    "\n",
    "class B(A):                  #Sub Class or Child Class\n",
    "    \n",
    "    def feature3(self):\n",
    "        print(\"Feature 3 is working.\")\n",
    "        \n",
    "    def feature4(self):\n",
    "        print(\"Feature 4 is working.\")\n",
    "        \n",
    "a1 = A()\n",
    "b1 = B()\n",
    "\n",
    "a1.feature1()\n",
    "a1.feature2()\n",
    "\n",
    "print(\"*********************\")\n",
    "\n",
    "b1.feature1()\n",
    "b1.feature2()\n",
    "b1.feature3()\n",
    "b1.feature4()"
   ]
  },
  {
   "cell_type": "code",
   "execution_count": 31,
   "id": "20bff266",
   "metadata": {},
   "outputs": [
    {
     "name": "stdout",
     "output_type": "stream",
     "text": [
      "Feature 1 is working\n",
      "Feature 2 is working\n",
      "******************\n",
      "Feature 1 is working\n",
      "Feature 2 is working\n",
      "Feature 3 is working\n",
      "Feature 4 is working\n",
      "******************\n",
      "Feature 1 is working\n",
      "Feature 2 is working\n",
      "Feature 3 is working\n",
      "Feature 4 is working\n",
      "Feature 5 is working\n",
      "Feature 6 is working\n"
     ]
    }
   ],
   "source": [
    "#MULTILEVEL INHERITANCE\n",
    "\n",
    "class A:                                  #Super class or parent\n",
    "    def feature1(self):\n",
    "        print(\"Feature 1 is working\")\n",
    "        \n",
    "    def feature2(self):\n",
    "        print(\"Feature 2 is working\")\n",
    "        \n",
    "class B(A):                               #Sub Class or Child Class\n",
    "    \n",
    "    def feature3(self):\n",
    "        print(\"Feature 3 is working\")\n",
    "        \n",
    "    def feature4(self):\n",
    "        print(\"Feature 4 is working\")\n",
    "    \n",
    "class C(B):\n",
    "    \n",
    "    def feature5(self):\n",
    "        print(\"Feature 5 is working\")\n",
    "        \n",
    "    def feature6(self):\n",
    "        print(\"Feature 6 is working\")\n",
    "        \n",
    "a1 = A()\n",
    "b1 = B()\n",
    "c1 = C()\n",
    "\n",
    "a1.feature1()\n",
    "a1.feature2()\n",
    "\n",
    "print(\"******************\")\n",
    "\n",
    "b1.feature1()\n",
    "b1.feature2()\n",
    "b1.feature3()\n",
    "b1.feature4()\n",
    "\n",
    "print(\"******************\")\n",
    "\n",
    "c1.feature1()\n",
    "c1.feature2()\n",
    "c1.feature3()\n",
    "c1.feature4()\n",
    "c1.feature5()\n",
    "c1.feature6()"
   ]
  },
  {
   "cell_type": "code",
   "execution_count": 33,
   "id": "2040d083",
   "metadata": {},
   "outputs": [
    {
     "name": "stdout",
     "output_type": "stream",
     "text": [
      "Feature 1 is working\n",
      "Feature 2 is working\n",
      "**************\n",
      "Feature 3 is working\n",
      "Feature 4 is working\n",
      "***************\n",
      "Feature 1 is working\n",
      "Feature 2 is working\n",
      "Feature 3 is working\n",
      "Feature 4 is working\n",
      "Feature 5 is working\n",
      "**************\n"
     ]
    },
    {
     "ename": "AttributeError",
     "evalue": "'B' object has no attribute 'feature1'",
     "output_type": "error",
     "traceback": [
      "\u001b[1;31m---------------------------------------------------------------------------\u001b[0m",
      "\u001b[1;31mAttributeError\u001b[0m                            Traceback (most recent call last)",
      "\u001b[1;32m~\\AppData\\Local\\Temp/ipykernel_22372/526837960.py\u001b[0m in \u001b[0;36m<module>\u001b[1;34m\u001b[0m\n\u001b[0;32m     36\u001b[0m \u001b[1;33m\u001b[0m\u001b[0m\n\u001b[0;32m     37\u001b[0m \u001b[0mprint\u001b[0m\u001b[1;33m(\u001b[0m\u001b[1;34m\"**************\"\u001b[0m\u001b[1;33m)\u001b[0m\u001b[1;33m\u001b[0m\u001b[1;33m\u001b[0m\u001b[0m\n\u001b[1;32m---> 38\u001b[1;33m \u001b[0mb1\u001b[0m\u001b[1;33m.\u001b[0m\u001b[0mfeature1\u001b[0m\u001b[1;33m(\u001b[0m\u001b[1;33m)\u001b[0m\u001b[1;33m\u001b[0m\u001b[1;33m\u001b[0m\u001b[0m\n\u001b[0m",
      "\u001b[1;31mAttributeError\u001b[0m: 'B' object has no attribute 'feature1'"
     ]
    }
   ],
   "source": [
    "#Multiple Inheritance\n",
    "\n",
    "class A:\n",
    "    def feature1(self):\n",
    "        print(\"Feature 1 is working\")\n",
    "        \n",
    "    def feature2(self):\n",
    "        print(\"Feature 2 is working\")\n",
    "class B:\n",
    "    def feature3(self):\n",
    "        print(\"Feature 3 is working\")\n",
    "        \n",
    "    def feature4(self):\n",
    "        print(\"Feature 4 is working\")\n",
    "\n",
    "class C(A,B):\n",
    "    def feature5(self):\n",
    "        print(\"Feature 5 is working\")\n",
    "        \n",
    "\n",
    "a1 = A()\n",
    "b1 = B()\n",
    "c1 = C()\n",
    "\n",
    "a1.feature1()\n",
    "a1.feature2()\n",
    "print(\"**************\")\n",
    "b1.feature3()\n",
    "b1.feature4()\n",
    "print(\"***************\")\n",
    "c1.feature1()\n",
    "c1.feature2()\n",
    "c1.feature3()\n",
    "c1.feature4()\n",
    "c1.feature5()\n",
    "\n",
    "print(\"**************\")\n",
    "b1.feature1()"
   ]
  },
  {
   "cell_type": "markdown",
   "id": "4f6e8d94",
   "metadata": {},
   "source": [
    "## Constructor in Inheritance in Python\n",
    "- (i) Constructor in Inheritance.\n",
    "- (ii) Method Resolution Order (MRO)\n",
    "\n",
    "### (i) Constructor in Inheritance"
   ]
  },
  {
   "cell_type": "code",
   "execution_count": 34,
   "id": "bb4f1d78",
   "metadata": {},
   "outputs": [
    {
     "name": "stdout",
     "output_type": "stream",
     "text": [
      "In A init\n"
     ]
    }
   ],
   "source": [
    "class A:                              #Super Class or Parent\n",
    "    \n",
    "    def __init__(self):\n",
    "        print(\"In A init\")\n",
    "        \n",
    "    def feature1(self):\n",
    "        print(\"Feature 1 is working\")\n",
    "        \n",
    "    def feature2(self):\n",
    "        print(\"Feature 2 is working\")\n",
    "        \n",
    "class B(A):                           #Sub class or Child\n",
    "    def feature3(self):\n",
    "        print(\"Feature 3 is working\")\n",
    "        \n",
    "    def feature4(self):\n",
    "        print(\"feature 4 is working\")\n",
    "        \n",
    "b1 = B()"
   ]
  },
  {
   "cell_type": "markdown",
   "id": "e62b7830",
   "metadata": {},
   "source": [
    "# Note - If you create an object of Sub Class then it will first try to find init of Sub Class and if it is not found then it will try to find init of Super Class or Parent."
   ]
  },
  {
   "cell_type": "code",
   "execution_count": 35,
   "id": "4cee56f1",
   "metadata": {},
   "outputs": [
    {
     "name": "stdout",
     "output_type": "stream",
     "text": [
      "IN B init\n"
     ]
    }
   ],
   "source": [
    "class A:\n",
    "    \n",
    "    def __init__(self):\n",
    "        print('In A init')\n",
    "        \n",
    "    def feature1(self):\n",
    "        print('feature 1 is working')\n",
    "        \n",
    "class B(A):\n",
    "    \n",
    "    def __init__(self):\n",
    "        print(\"IN B init\")\n",
    "        \n",
    "    def feature2(self):\n",
    "        print(\"Feature 2 is working\")\n",
    "        \n",
    "b1 = B()"
   ]
  },
  {
   "cell_type": "markdown",
   "id": "da1d5c8e",
   "metadata": {},
   "source": [
    "# Note - When you create object of Sub Class it will call init of Sub Class first. However if you have call *super* then it will first call init of Super Class then call init of Sub class.\n",
    "\n",
    "## To represent Super Class we use Super Method - super()"
   ]
  },
  {
   "cell_type": "code",
   "execution_count": 36,
   "id": "a879070f",
   "metadata": {},
   "outputs": [
    {
     "name": "stdout",
     "output_type": "stream",
     "text": [
      "In A init\n",
      "In B init\n"
     ]
    }
   ],
   "source": [
    "class A:\n",
    "    \n",
    "    def __init__(self):\n",
    "        print(\"In A init\")\n",
    "        \n",
    "    def feature1(self):\n",
    "        print(\"Feature 1 is working\")\n",
    "        \n",
    "    def feature2(self):\n",
    "        print(\"Feature 2 is working\")\n",
    "        \n",
    "class B(A):\n",
    "    \n",
    "    def __init__(self):\n",
    "        super().__init__()           #Calling super()\n",
    "        print(\"In B init\")\n",
    "        \n",
    "    def feature3(self):\n",
    "        print(\"Feature 3 is working\")\n",
    "        \n",
    "    \n",
    "b1 = B()\n",
    "        "
   ]
  },
  {
   "cell_type": "markdown",
   "id": "754c6f22",
   "metadata": {},
   "source": [
    "### (ii) Method Resolution Order (MRO)\n",
    "\n"
   ]
  },
  {
   "cell_type": "code",
   "execution_count": 37,
   "id": "706a14ec",
   "metadata": {},
   "outputs": [
    {
     "name": "stdout",
     "output_type": "stream",
     "text": [
      "In A init\n",
      "In C init\n"
     ]
    }
   ],
   "source": [
    "class A:\n",
    "    \n",
    "    def __init__(self):\n",
    "        print(\"In A init\")\n",
    "        \n",
    "    def feature1(self):\n",
    "        print(\"Feature 1 is working\")\n",
    "        \n",
    "    def feature2(self):\n",
    "        print(\"Feature 2 is working\")\n",
    "        \n",
    "class B:\n",
    "    \n",
    "    def __init__(self):\n",
    "        super().__init__()\n",
    "        print(\"In B init\")\n",
    "        \n",
    "    def feature1(self):\n",
    "        print(\"Feature 3 is working\")\n",
    "        \n",
    "    def feature2(self):\n",
    "        print(\"Feature 4 is working\")\n",
    "        \n",
    "class C(A,B):\n",
    "    \n",
    "    def __init__(self):\n",
    "        super().__init__()\n",
    "        print(\"In C init\")\n",
    "        \n",
    "    def feature1(self):\n",
    "        print(\"Feature 5 is working\")\n",
    "        \n",
    "    def feature2(self):\n",
    "        print(\"Feature 6 is working\")\n",
    "    \n",
    "c1 = C()"
   ]
  },
  {
   "cell_type": "markdown",
   "id": "ac8aac8b",
   "metadata": {},
   "source": [
    "# Note - In Method Resolution Order, it moves from left to right and that is the reason why if there are two super class, it considers the first class from left."
   ]
  },
  {
   "cell_type": "code",
   "execution_count": 40,
   "id": "72eae750",
   "metadata": {},
   "outputs": [
    {
     "name": "stdout",
     "output_type": "stream",
     "text": [
      "In A init\n",
      "In B init\n",
      "In C init\n"
     ]
    }
   ],
   "source": [
    "class A:\n",
    "    \n",
    "    def __init__(self):\n",
    "        print(\"In A init\")\n",
    "        \n",
    "    def feature1(self):\n",
    "        print(\"Feature 1 is working\")\n",
    "        \n",
    "    def feature2(self):\n",
    "        print(\"Feature 2 is working\")\n",
    "        \n",
    "class B:\n",
    "    \n",
    "    def __init__(self):\n",
    "        super().__init__()\n",
    "        print(\"In B init\")\n",
    "        \n",
    "    def feature1(self):\n",
    "        print(\"Feature 3 is working\")\n",
    "        \n",
    "    def feature2(self):\n",
    "        print(\"Feature 4 is working\")\n",
    "        \n",
    "class C(B,A):\n",
    "    \n",
    "    def __init__(self):\n",
    "        super().__init__()\n",
    "        print(\"In C init\")\n",
    "        \n",
    "    def feature1(self):\n",
    "        print(\"Feature 5 is working\")\n",
    "        \n",
    "    def feature2(self):\n",
    "        print(\"Feature 6 is working\")\n",
    "    \n",
    "c1 = C()"
   ]
  },
  {
   "cell_type": "markdown",
   "id": "bb8d31e0",
   "metadata": {},
   "source": [
    "# Introduction to Polymorphism in Python\n",
    "## There are 4 ways to implement polymorphism in Python.\n",
    "- Duck Typing\n",
    "- Operator Overloading\n",
    "- Method Overloading\n",
    "- Method Overriding\n",
    "\n",
    "### (i) Duck Typing\n",
    "\n",
    "- There is famous saying, if there's a bird and it is walking like a duck, quacking like a duck and swimming like a duck then it is probably a duck.\n",
    "- Let's implement this is programming."
   ]
  },
  {
   "cell_type": "code",
   "execution_count": 3,
   "id": "739619d1",
   "metadata": {},
   "outputs": [
    {
     "name": "stdout",
     "output_type": "stream",
     "text": [
      "Compiling\n",
      "executing\n"
     ]
    }
   ],
   "source": [
    "class python:\n",
    "    \n",
    "    def execute(self):\n",
    "        print(\"Compiling\")\n",
    "        print(\"executing\")\n",
    "        \n",
    "class laptop:\n",
    "    def code(self,ide):\n",
    "        ide.execute()\n",
    "        \n",
    "ide = python()\n",
    "\n",
    "lap1 = laptop()\n",
    "lap1.code(ide)"
   ]
  },
  {
   "cell_type": "code",
   "execution_count": 7,
   "id": "048baa5b",
   "metadata": {},
   "outputs": [
    {
     "name": "stdout",
     "output_type": "stream",
     "text": [
      "Spell Check\n",
      "Convention Check\n",
      "Compiling\n",
      "running\n"
     ]
    }
   ],
   "source": [
    "class python:\n",
    "    def execute(self):                  #Duck Typing\n",
    "        print(\"Compiling\")\n",
    "        print(\"Executing\")\n",
    "        \n",
    "class my_editor:                        #Duck Typing\n",
    "    def execute(self):\n",
    "        print(\"Spell Check\")\n",
    "        print(\"Convention Check\")\n",
    "        print(\"Compiling\")\n",
    "        print(\"running\")\n",
    "        \n",
    "class laptop:\n",
    "    def code(self,ide):\n",
    "        ide.execute()\n",
    "        \n",
    "\n",
    "#ide = python()\n",
    "ide = my_editor()\n",
    "\n",
    "lap1 = laptop()\n",
    "lap1.code(ide)"
   ]
  },
  {
   "cell_type": "markdown",
   "id": "b85b5afe",
   "metadata": {},
   "source": [
    "### (ii) Operator Overloading in Python"
   ]
  },
  {
   "cell_type": "code",
   "execution_count": 14,
   "id": "f860567e",
   "metadata": {},
   "outputs": [
    {
     "name": "stdout",
     "output_type": "stream",
     "text": [
      "60\n",
      "70\n",
      "S2 is higher\n",
      "25 30\n"
     ]
    }
   ],
   "source": [
    "class student:\n",
    "    \n",
    "    def __init__(self,m1,m2):\n",
    "        self.m1 = m1\n",
    "        self.m2 = m2\n",
    "        \n",
    "    def __add__(self,other):\n",
    "        m1 = self.m1 + other.m1\n",
    "        m2 = self.m2 + other.m2\n",
    "        s3 = student(m1,m2)\n",
    "        \n",
    "        return s3\n",
    "    \n",
    "    def __gt__(self,other):\n",
    "        stu_marks1 = self.m1 + self.m2\n",
    "        stu_marks2 = other.m1 + other.m2\n",
    "        \n",
    "        if stu_marks1 > stu_marks2:\n",
    "            return True\n",
    "        \n",
    "        else:\n",
    "            return False\n",
    "        \n",
    "    def __str__(self):\n",
    "        return \"{} {}\".format(self.m1,self.m2)\n",
    "    \n",
    "    \n",
    "    \n",
    "s1 = student(25,30)\n",
    "s2 = student(35,40)\n",
    "\n",
    "s3 = s1 + s2\n",
    "\n",
    "print(s3.m1)\n",
    "print(s3.m2)\n",
    "        \n",
    "if s1 > s2:\n",
    "    print(\"S1 is higher\")\n",
    "else:\n",
    "    print(\"S2 is higher\")\n",
    "    \n",
    "print(s1)"
   ]
  },
  {
   "cell_type": "markdown",
   "id": "2f7b9397",
   "metadata": {},
   "source": [
    "### (iii) Method Overloading and Method Overriding\n",
    "- In Method Overloading, We have different methods with same name where one take two parameters and other takes three parameters. In Python, we do not have method Overloading, we cannot create two methods with same name in Python therefore method overloading is usually applicable in Java, C#, C++"
   ]
  },
  {
   "cell_type": "code",
   "execution_count": 17,
   "id": "3584f5d0",
   "metadata": {},
   "outputs": [
    {
     "name": "stdout",
     "output_type": "stream",
     "text": [
      "12\n"
     ]
    }
   ],
   "source": [
    "#method overloading\n",
    "\n",
    "class student:\n",
    "    \n",
    "    def __init__(self,m1,m2):\n",
    "        self.m1 = m1\n",
    "        self.m2 = m2\n",
    "        \n",
    "    def sum(self,a,b):\n",
    "        s = a + b\n",
    "        return s\n",
    "    \n",
    "s1 = student(75,50)\n",
    "\n",
    "print(s1.sum(5,7))\n",
    "\n",
    "#Since python doesn't support method overloading and if we want to pass third parameter in sum(),\n",
    "#We cannot create another method with same name (sum) and therefore here we will passing another\n",
    "#parameter c in the sum() method. Check the next cell."
   ]
  },
  {
   "cell_type": "code",
   "execution_count": 18,
   "id": "e58f33b5",
   "metadata": {},
   "outputs": [
    {
     "name": "stdout",
     "output_type": "stream",
     "text": [
      "33\n"
     ]
    }
   ],
   "source": [
    "class student:\n",
    "    \n",
    "    def __init__(self,m1,m2):\n",
    "        self.m1 = m1\n",
    "        self.m2 = m2\n",
    "        \n",
    "    def sum(self,a,b,c):\n",
    "        s = a+b+c\n",
    "        return s\n",
    "    \n",
    "s1 = student(100,40)\n",
    "\n",
    "print(s1.sum(10,11,12))"
   ]
  },
  {
   "cell_type": "code",
   "execution_count": 19,
   "id": "52c08c28",
   "metadata": {},
   "outputs": [
    {
     "name": "stdout",
     "output_type": "stream",
     "text": [
      "12\n",
      "6\n",
      "1\n"
     ]
    }
   ],
   "source": [
    "class student:\n",
    "    \n",
    "    def __init__(self,m1,m2):\n",
    "        self.m1 = m1\n",
    "        self.m2 = m2\n",
    "        \n",
    "    def sum(self, a = None, b = None, c = None):\n",
    "        s = 0\n",
    "        if a!=None and b!=None and c!=None:\n",
    "            s = a + b + c\n",
    "        elif a!=None and b!=None:\n",
    "            s = a + b\n",
    "        else:\n",
    "            s = a\n",
    "        \n",
    "        return s\n",
    "    \n",
    "s1 = student(100,50)\n",
    "\n",
    "print(s1.sum(10,2))\n",
    "print(s1.sum(1,2,3))\n",
    "print(s1.sum(1))\n",
    "            "
   ]
  },
  {
   "cell_type": "code",
   "execution_count": 21,
   "id": "b48ad11a",
   "metadata": {},
   "outputs": [
    {
     "name": "stdout",
     "output_type": "stream",
     "text": [
      "In A Show\n"
     ]
    }
   ],
   "source": [
    "#method overiding\n",
    "\n",
    "class A:\n",
    "    def show(self):\n",
    "        print(\"In A Show\")\n",
    "        \n",
    "class B(A):\n",
    "    pass\n",
    "\n",
    "a1 = B()\n",
    "a1.show()"
   ]
  },
  {
   "cell_type": "code",
   "execution_count": 26,
   "id": "56a27d9c",
   "metadata": {},
   "outputs": [
    {
     "name": "stdout",
     "output_type": "stream",
     "text": [
      "In A Show\n",
      "IN B Show\n"
     ]
    }
   ],
   "source": [
    "#method overriding \n",
    "\n",
    "class A:\n",
    "    def show(self):\n",
    "        print(\"In A Show\")\n",
    "        \n",
    "class B:\n",
    "    def show(self):\n",
    "        print(\"IN B Show\")\n",
    "        \n",
    "a1 = A()\n",
    "b1 = B()\n",
    "\n",
    "\n",
    "a1.show()\n",
    "b1.show()"
   ]
  },
  {
   "cell_type": "code",
   "execution_count": null,
   "id": "0cc3ce2e",
   "metadata": {},
   "outputs": [],
   "source": []
  }
 ],
 "metadata": {
  "kernelspec": {
   "display_name": "Python 3 (ipykernel)",
   "language": "python",
   "name": "python3"
  },
  "language_info": {
   "codemirror_mode": {
    "name": "ipython",
    "version": 3
   },
   "file_extension": ".py",
   "mimetype": "text/x-python",
   "name": "python",
   "nbconvert_exporter": "python",
   "pygments_lexer": "ipython3",
   "version": "3.9.7"
  }
 },
 "nbformat": 4,
 "nbformat_minor": 5
}
