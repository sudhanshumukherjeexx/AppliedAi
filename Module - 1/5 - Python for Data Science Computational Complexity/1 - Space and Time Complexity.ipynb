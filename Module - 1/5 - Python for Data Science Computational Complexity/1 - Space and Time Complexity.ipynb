{
 "cells": [
  {
   "cell_type": "code",
   "execution_count": 3,
   "id": "815a9311",
   "metadata": {},
   "outputs": [],
   "source": [
    "import numpy as np\n",
    "import random"
   ]
  },
  {
   "cell_type": "code",
   "execution_count": 39,
   "id": "8e2b3d49",
   "metadata": {},
   "outputs": [
    {
     "data": {
      "text/plain": [
       "[65,\n",
       " 76,\n",
       " 43,\n",
       " 39,\n",
       " 14,\n",
       " 71,\n",
       " 7,\n",
       " 30,\n",
       " 86,\n",
       " 32,\n",
       " 22,\n",
       " 24,\n",
       " 71,\n",
       " 79,\n",
       " 67,\n",
       " 0,\n",
       " 16,\n",
       " 20,\n",
       " 25,\n",
       " 13,\n",
       " 39,\n",
       " 51,\n",
       " 10,\n",
       " 53,\n",
       " 37,\n",
       " 93,\n",
       " 16,\n",
       " 87,\n",
       " 43,\n",
       " 62,\n",
       " 94,\n",
       " 79,\n",
       " 35,\n",
       " 8,\n",
       " 98,\n",
       " 33,\n",
       " 68,\n",
       " 28,\n",
       " 54,\n",
       " 51,\n",
       " 26,\n",
       " 73,\n",
       " 72,\n",
       " 27,\n",
       " 79,\n",
       " 15,\n",
       " 5,\n",
       " 27,\n",
       " 69,\n",
       " 48]"
      ]
     },
     "execution_count": 39,
     "metadata": {},
     "output_type": "execute_result"
    }
   ],
   "source": [
    "abc = list(np.random.randint(0,100,50))\n",
    "\n",
    "abc"
   ]
  },
  {
   "cell_type": "code",
   "execution_count": 40,
   "id": "f70ee062",
   "metadata": {},
   "outputs": [
    {
     "name": "stdout",
     "output_type": "stream",
     "text": [
      "Found\n"
     ]
    }
   ],
   "source": [
    "# search for an elemnt q in the list: O(n) where n is the length of the list\n",
    "\n",
    "q = 31\n",
    "isFound = False\n",
    "\n",
    "for ele in l:\n",
    "    if ele == 31:\n",
    "        print(\"Found\")\n",
    "        isFound = True\n",
    "        break;\n",
    "        \n",
    "if isFound == False:\n",
    "    print(\"Not Found\")"
   ]
  },
  {
   "cell_type": "markdown",
   "id": "dba9d1cf",
   "metadata": {},
   "source": [
    "### Implementation of Binary Search"
   ]
  },
  {
   "cell_type": "code",
   "execution_count": 41,
   "id": "65c04e07",
   "metadata": {},
   "outputs": [],
   "source": [
    "def binary_search(mylist, item):\n",
    "    \"\"\"\n",
    "    This is an implementation of Binary Search.\n",
    "    \"\"\"\n",
    "    #low and high will keep track of which part of the list you will search in \n",
    "    low = 0\n",
    "    high = len(mylist) - 1\n",
    "    \n",
    "    #While we haven't narrowed it down to one element\n",
    "    while low <= high:\n",
    "        #Lets check the middle element first\n",
    "        mid = low + high\n",
    "        guess = mylist[mid]\n",
    "        \n",
    "        if guess == item:\n",
    "            #if we found the element\n",
    "            print(\"item found at index\")\n",
    "            return mid\n",
    "        elif guess > item:\n",
    "            #if the guess was too high\n",
    "            high = mid - 1\n",
    "        else:\n",
    "            #if the guess was too low\n",
    "            low = mid + 1\n",
    "    return None"
   ]
  },
  {
   "cell_type": "code",
   "execution_count": 42,
   "id": "abb2749d",
   "metadata": {},
   "outputs": [
    {
     "name": "stdout",
     "output_type": "stream",
     "text": [
      "item found at index\n"
     ]
    },
    {
     "data": {
      "text/plain": [
       "13"
      ]
     },
     "execution_count": 42,
     "metadata": {},
     "output_type": "execute_result"
    }
   ],
   "source": [
    "abc.sort()\n",
    "binary_search(abc, 25)"
   ]
  },
  {
   "cell_type": "markdown",
   "id": "3f248703",
   "metadata": {},
   "source": [
    "# Find elements common in two Lists:"
   ]
  },
  {
   "cell_type": "code",
   "execution_count": 47,
   "id": "183e93cd",
   "metadata": {},
   "outputs": [
    {
     "name": "stdout",
     "output_type": "stream",
     "text": [
      "1\n",
      "23\n",
      "14\n",
      "5\n",
      "4\n",
      "24\n",
      "16\n",
      "8\n",
      "19\n",
      "0\n",
      "2\n",
      "7\n",
      "9\n",
      "22\n",
      "3\n",
      "20\n",
      "15\n",
      "18\n",
      "12\n",
      "17\n",
      "21\n",
      "10\n",
      "13\n",
      "6\n",
      "11\n",
      "Number of common elements :  25\n"
     ]
    }
   ],
   "source": [
    "l1 = list(range(100))\n",
    "random.shuffle(l1)\n",
    "\n",
    "l2 = list(range(25))\n",
    "random.shuffle(l2)\n",
    "\n",
    "#find common elements : o(n*m)\n",
    "\n",
    "count = 0;\n",
    "\n",
    "for i in l1:\n",
    "    for j in l2:\n",
    "        if i==j:\n",
    "            print(i)\n",
    "            count += 1;\n",
    "        \n",
    "print(\"Number of common elements : \",count)"
   ]
  },
  {
   "cell_type": "markdown",
   "id": "dff7a697",
   "metadata": {},
   "source": [
    "# Find Elements common in two lists using a HashtableDict"
   ]
  },
  {
   "cell_type": "code",
   "execution_count": 50,
   "id": "e279364a",
   "metadata": {},
   "outputs": [
    {
     "name": "stdout",
     "output_type": "stream",
     "text": [
      "2\n",
      "22\n",
      "24\n",
      "7\n",
      "15\n",
      "3\n",
      "8\n",
      "6\n",
      "21\n",
      "4\n",
      "10\n",
      "11\n",
      "0\n",
      "23\n",
      "17\n",
      "20\n",
      "19\n",
      "16\n",
      "9\n",
      "12\n",
      "1\n",
      "5\n",
      "13\n",
      "18\n",
      "14\n",
      "The number of common elements : 25\n"
     ]
    }
   ],
   "source": [
    "l1 = list(range(100))\n",
    "random.shuffle(l1)\n",
    "\n",
    "l2 = list(range(25))\n",
    "random.shuffle(l2)\n",
    "\n",
    "#find common elements in lists if m < n\n",
    "\n",
    "#add all elements in the smallest list into a hashable/dict: O(m)\n",
    "\n",
    "small_list = {}\n",
    "\n",
    "for ele in l2:\n",
    "    small_list[ele] = 1 ; #Any value is Ok, Key is important\n",
    "    \n",
    "#Now find common element\n",
    "\n",
    "count = 0\n",
    "for i in l1:\n",
    "    if small_list.get(i) != None:   #search happens in contant time.\n",
    "        print(i);\n",
    "        count += 1;\n",
    "print(\"The number of common elements :\",count)"
   ]
  },
  {
   "cell_type": "code",
   "execution_count": 51,
   "id": "2ef539f0",
   "metadata": {},
   "outputs": [
    {
     "name": "stdout",
     "output_type": "stream",
     "text": [
      "19\n",
      "21\n",
      "36\n",
      "45\n",
      "38\n",
      "7\n",
      "28\n",
      "4\n",
      "4\n",
      "36\n",
      "11\n",
      "16\n",
      "3\n",
      "20\n",
      "16\n",
      "24\n",
      "35\n",
      "35\n",
      "41\n",
      "47\n",
      "20\n",
      "37\n",
      "24\n",
      "19\n",
      "44\n",
      "the number of common elements : 25\n"
     ]
    }
   ],
   "source": [
    "l1 = list(np.random.randint(1,50,25))\n",
    "\n",
    "l2 = list(np.random.randint(20,50,25))\n",
    "\n",
    "small_list = {}\n",
    "\n",
    "for ele in l2:\n",
    "    small_list[ele] = 1;\n",
    "   \n",
    "#now lets  find common element\n",
    "count = 0;\n",
    "for i in l1:\n",
    "    small_list.get(i) != None;\n",
    "    print(i)\n",
    "    count += 1\n",
    "    \n",
    "print(\"the number of common elements :\", count)"
   ]
  },
  {
   "cell_type": "code",
   "execution_count": null,
   "id": "f7e0bb19",
   "metadata": {},
   "outputs": [],
   "source": []
  },
  {
   "cell_type": "code",
   "execution_count": null,
   "id": "9cab6123",
   "metadata": {},
   "outputs": [],
   "source": []
  },
  {
   "cell_type": "code",
   "execution_count": null,
   "id": "ca3262ee",
   "metadata": {},
   "outputs": [],
   "source": []
  },
  {
   "cell_type": "code",
   "execution_count": null,
   "id": "a8c38158",
   "metadata": {},
   "outputs": [],
   "source": []
  },
  {
   "cell_type": "code",
   "execution_count": null,
   "id": "d263e811",
   "metadata": {},
   "outputs": [],
   "source": []
  },
  {
   "cell_type": "code",
   "execution_count": null,
   "id": "a77c3ae2",
   "metadata": {},
   "outputs": [],
   "source": []
  },
  {
   "cell_type": "code",
   "execution_count": null,
   "id": "45156ba4",
   "metadata": {},
   "outputs": [],
   "source": []
  }
 ],
 "metadata": {
  "kernelspec": {
   "display_name": "Python 3 (ipykernel)",
   "language": "python",
   "name": "python3"
  },
  "language_info": {
   "codemirror_mode": {
    "name": "ipython",
    "version": 3
   },
   "file_extension": ".py",
   "mimetype": "text/x-python",
   "name": "python",
   "nbconvert_exporter": "python",
   "pygments_lexer": "ipython3",
   "version": "3.9.7"
  }
 },
 "nbformat": 4,
 "nbformat_minor": 5
}
