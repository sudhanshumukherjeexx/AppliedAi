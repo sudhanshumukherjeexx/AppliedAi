{
 "cells": [
  {
   "cell_type": "markdown",
   "id": "ef90d253",
   "metadata": {},
   "source": [
    "# Plotting for Exploratory Data Analysis (EDA)"
   ]
  },
  {
   "cell_type": "markdown",
   "id": "567a7f97",
   "metadata": {},
   "source": [
    "## Basic Terminology\n",
    "- What is EDA?\n",
    "- Data Point/Vector/Observation\n",
    "- Data-set\n",
    "- Feature/Variable/input-variable/Dependent-Variable\n",
    "- Label/Independent-variable/Output-variable/Class/Class-label/Response Label\n",
    "- Vector: 2-D,3-D, 4-D.....n-D"
   ]
  },
  {
   "cell_type": "markdown",
   "id": "c4d35fd1",
   "metadata": {},
   "source": [
    "Q.1 - What is a 1-D Vector Scalar "
   ]
  },
  {
   "cell_type": "markdown",
   "id": "ffe92be0",
   "metadata": {},
   "source": [
    "# Iris Flower Dataset"
   ]
  },
  {
   "cell_type": "markdown",
   "id": "c1ffbecd",
   "metadata": {},
   "source": [
    "Toy Dataset: Iris Dataset:\n",
    "https://en.wikipedia.org/wiki/Iris_flower_data_set\n",
    "* A simple dataset to learn the basics.\n",
    "* 3 Flowers of Iris species.\n",
    "* 1936 by Ronald Fisher.\n",
    "* Petal and Sepal:\n",
    "* Objective: Classify a new flower as belonging to one of the 3 Classes given the 4 features.\n",
    "* Importance of domain knowledge\n",
    "* Why use petal and sepal dimensions as features?\n",
    "* Why do we not use 'color' as a feature?\n"
   ]
  },
  {
   "cell_type": "code",
   "execution_count": 1,
   "id": "76b7bb4a",
   "metadata": {},
   "outputs": [],
   "source": [
    "import pandas as pd\n",
    "import numpy as np\n",
    "import seaborn as sns\n",
    "import matplotlib.pyplot as plt"
   ]
  },
  {
   "cell_type": "code",
   "execution_count": null,
   "id": "9afb974b",
   "metadata": {},
   "outputs": [],
   "source": []
  }
 ],
 "metadata": {
  "kernelspec": {
   "display_name": "Python 3 (ipykernel)",
   "language": "python",
   "name": "python3"
  },
  "language_info": {
   "codemirror_mode": {
    "name": "ipython",
    "version": 3
   },
   "file_extension": ".py",
   "mimetype": "text/x-python",
   "name": "python",
   "nbconvert_exporter": "python",
   "pygments_lexer": "ipython3",
   "version": "3.9.7"
  }
 },
 "nbformat": 4,
 "nbformat_minor": 5
}
